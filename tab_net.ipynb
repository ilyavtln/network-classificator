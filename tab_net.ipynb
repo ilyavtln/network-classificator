{
 "cells": [
  {
   "cell_type": "code",
   "id": "initial_id",
   "metadata": {
    "collapsed": true,
    "jupyter": {
     "outputs_hidden": true
    },
    "ExecuteTime": {
     "end_time": "2025-06-17T21:04:46.670746Z",
     "start_time": "2025-06-17T21:04:43.947273Z"
    }
   },
   "source": [
    "import torch\n",
    "import torch.nn as nn\n",
    "import torch.nn.functional as F\n",
    "from sklearn.preprocessing import StandardScaler, LabelEncoder\n",
    "from torch.utils.data import DataLoader, TensorDataset\n",
    "from sklearn.model_selection import train_test_split\n",
    "from sklearn.utils.class_weight import compute_class_weight\n",
    "from sklearn.metrics import accuracy_score, precision_recall_fscore_support, confusion_matrix, roc_curve, auc\n",
    "from imblearn.over_sampling import SMOTE"
   ],
   "outputs": [],
   "execution_count": 1
  },
  {
   "cell_type": "code",
   "id": "bd5e060b3810cfe4",
   "metadata": {
    "ExecuteTime": {
     "end_time": "2025-06-17T21:04:46.790851Z",
     "start_time": "2025-06-17T21:04:46.784760Z"
    }
   },
   "source": [
    "import numpy as np\n",
    "import pandas as pd\n",
    "import matplotlib.pyplot as plt\n",
    "import os\n",
    "import seaborn as sns\n",
    "from config import constants"
   ],
   "outputs": [],
   "execution_count": 2
  },
  {
   "metadata": {
    "ExecuteTime": {
     "end_time": "2025-06-17T21:04:46.828137Z",
     "start_time": "2025-06-17T21:04:46.808709Z"
    }
   },
   "cell_type": "code",
   "source": [
    "device = torch.device(\"cuda\" if torch.cuda.is_available() else \"cpu\")\n",
    "print(device)"
   ],
   "id": "4251fa12be41df7d",
   "outputs": [
    {
     "name": "stdout",
     "output_type": "stream",
     "text": [
      "cuda\n"
     ]
    }
   ],
   "execution_count": 3
  },
  {
   "cell_type": "code",
   "id": "d955140a38cf0d26",
   "metadata": {
    "ExecuteTime": {
     "end_time": "2025-06-17T21:04:46.841935Z",
     "start_time": "2025-06-17T21:04:46.837736Z"
    }
   },
   "source": [
    "IS_BINARY = False\n",
    "\n",
    "CATEGORIES = constants.CATEGORIES\n",
    "TYPE = 'binary' if IS_BINARY else 'multy'\n",
    "PLOTS_DIR = './images'\n",
    "MODEL_PATH = './models'\n",
    "if IS_BINARY:\n",
    "    TYPE = 'binary'\n",
    "    DATASET_PATH = 'datasets/data/benign_or_attack_merged/benign_or_attack.csv'\n",
    "    params = {\n",
    "        'batch_size': 128,\n",
    "        'n_d': 24,\n",
    "        'n_a': 24,\n",
    "        'n_steps': 3,\n",
    "        'gamma': 1.2,\n",
    "        'n_independent': 2,\n",
    "        'n_shared': 2,\n",
    "        'learning_rate': 0.001,\n",
    "        'weight_decay': 1e-5\n",
    "    }\n",
    "else:\n",
    "    TYPE = 'multy'\n",
    "    DATASET_PATH = 'datasets/data/different_features/traffic_features.csv'\n",
    "    params = {\n",
    "        'batch_size': 64,\n",
    "        'n_d': 32,\n",
    "        'n_a': 32,\n",
    "        'n_steps': 4,\n",
    "        'gamma': 1.3,\n",
    "        'n_independent': 2,\n",
    "        'n_shared': 2,\n",
    "        'learning_rate': 0.001,\n",
    "        'weight_decay': 1e-5\n",
    "    }\n",
    "\n",
    "print(f'DATASET_PATH: {DATASET_PATH}')"
   ],
   "outputs": [
    {
     "name": "stdout",
     "output_type": "stream",
     "text": [
      "DATASET_PATH: datasets/data/different_features/traffic_features.csv\n"
     ]
    }
   ],
   "execution_count": 4
  },
  {
   "cell_type": "code",
   "id": "18f214fb34eb5811",
   "metadata": {
    "ExecuteTime": {
     "end_time": "2025-06-17T21:04:46.871558Z",
     "start_time": "2025-06-17T21:04:46.856337Z"
    }
   },
   "source": [
    "data = pd.read_csv(DATASET_PATH, delimiter=',')\n",
    "print(f\"Размер: {data.shape[0]} строк, {data.shape[1]} столбцов\")"
   ],
   "outputs": [
    {
     "name": "stdout",
     "output_type": "stream",
     "text": [
      "Размер: 1298 строк, 78 столбцов\n"
     ]
    }
   ],
   "execution_count": 5
  },
  {
   "cell_type": "code",
   "id": "7e4d3e22f5efb547",
   "metadata": {
    "ExecuteTime": {
     "end_time": "2025-06-17T21:04:46.890758Z",
     "start_time": "2025-06-17T21:04:46.885809Z"
    }
   },
   "source": "data['Label'].unique()",
   "outputs": [
    {
     "data": {
      "text/plain": [
       "array(['cloud_service', 'e-mail', 'games', 'information', 'music',\n",
       "       'social_network', 'video_hosting'], dtype=object)"
      ]
     },
     "execution_count": 6,
     "metadata": {},
     "output_type": "execute_result"
    }
   ],
   "execution_count": 6
  },
  {
   "cell_type": "code",
   "id": "5352159ad13826d3",
   "metadata": {
    "ExecuteTime": {
     "end_time": "2025-06-17T21:04:46.911897Z",
     "start_time": "2025-06-17T21:04:46.905082Z"
    }
   },
   "source": [
    "class_counts = pd.Series(data['Label']).value_counts()\n",
    "class_percentages = pd.Series(data['Label']).value_counts(normalize=True) * 100\n",
    "distribution_df = pd.DataFrame({\n",
    "    'Количество': class_counts,\n",
    "    'Процент': class_percentages.round(2)\n",
    "}).sort_index()\n",
    "\n",
    "print(distribution_df)"
   ],
   "outputs": [
    {
     "name": "stdout",
     "output_type": "stream",
     "text": [
      "                Количество  Процент\n",
      "Label                              \n",
      "cloud_service          120     9.24\n",
      "e-mail                 120     9.24\n",
      "games                  432    33.28\n",
      "information            170    13.10\n",
      "music                  161    12.40\n",
      "social_network         172    13.25\n",
      "video_hosting          123     9.48\n"
     ]
    }
   ],
   "execution_count": 7
  },
  {
   "cell_type": "code",
   "id": "fbc20005b024954a",
   "metadata": {
    "ExecuteTime": {
     "end_time": "2025-06-17T21:04:46.932201Z",
     "start_time": "2025-06-17T21:04:46.927364Z"
    }
   },
   "source": [
    "X = data.drop('Label', axis=1)\n",
    "\n",
    "label_encoder = LabelEncoder()\n",
    "y = label_encoder.fit_transform(data['Label'])\n",
    "class_names = label_encoder.classes_\n",
    "\n",
    "for i in range(0, len(class_names)):\n",
    "    print(f\"{np.unique(y)[i]}: {class_names[i]}\")"
   ],
   "outputs": [
    {
     "name": "stdout",
     "output_type": "stream",
     "text": [
      "0: cloud_service\n",
      "1: e-mail\n",
      "2: games\n",
      "3: information\n",
      "4: music\n",
      "5: social_network\n",
      "6: video_hosting\n"
     ]
    }
   ],
   "execution_count": 8
  },
  {
   "metadata": {
    "ExecuteTime": {
     "end_time": "2025-06-17T21:04:50.179834Z",
     "start_time": "2025-06-17T21:04:50.175919Z"
    }
   },
   "cell_type": "code",
   "source": [
    "feature_names = X.columns\n",
    "print(feature_names)"
   ],
   "id": "22c35c772ea8abc8",
   "outputs": [
    {
     "name": "stdout",
     "output_type": "stream",
     "text": [
      "Index(['Destination Port', 'Flow Duration', 'Total Fwd Packets',\n",
      "       'Total Backward Packets', 'Total Length of Fwd Packets',\n",
      "       'Total Length of Bwd Packets', 'Fwd Packet Length Max',\n",
      "       'Fwd Packet Length Min', 'Fwd Packet Length Mean',\n",
      "       'Fwd Packet Length Std', 'Bwd Packet Length Max',\n",
      "       'Bwd Packet Length Min', 'Bwd Packet Length Mean',\n",
      "       'Bwd Packet Length Std', 'Flow Bytes/s', 'Flow Packets/s',\n",
      "       'Flow IAT Mean', 'Flow IAT Std', 'Flow IAT Max', 'Flow IAT Min',\n",
      "       'Fwd IAT Total', 'Fwd IAT Mean', 'Fwd IAT Std', 'Fwd IAT Max',\n",
      "       'Fwd IAT Min', 'Bwd IAT Total', 'Bwd IAT Mean', 'Bwd IAT Std',\n",
      "       'Bwd IAT Max', 'Bwd IAT Min', 'Fwd PSH Flags', 'Bwd PSH Flags',\n",
      "       'Fwd URG Flags', 'Bwd URG Flags', 'Fwd Header Length',\n",
      "       'Bwd Header Length', 'Fwd Packets/s', 'Bwd Packets/s',\n",
      "       'Min Packet Length', 'Max Packet Length', 'Packet Length Mean',\n",
      "       'Packet Length Std', 'Packet Length Variance', 'FIN Flag Count',\n",
      "       'SYN Flag Count', 'RST Flag Count', 'PSH Flag Count', 'ACK Flag Count',\n",
      "       'URG Flag Count', 'CWE Flag Count', 'ECE Flag Count', 'Down/Up Ratio',\n",
      "       'Average Packet Size', 'Avg Fwd Segment Size', 'Avg Bwd Segment Size',\n",
      "       'Fwd Avg Bytes/Bulk', 'Fwd Avg Packets/Bulk', 'Fwd Avg Bulk Rate',\n",
      "       'Bwd Avg Bytes/Bulk', 'Bwd Avg Packets/Bulk', 'Bwd Avg Bulk Rate',\n",
      "       'Subflow Fwd Packets', 'Subflow Fwd Bytes', 'Subflow Bwd Packets',\n",
      "       'Subflow Bwd Bytes', 'Init_Win_bytes_forward',\n",
      "       'Init_Win_bytes_backward', 'act_data_pkt_fwd', 'min_seg_size_forward',\n",
      "       'Active Mean', 'Active Std', 'Active Max', 'Active Min', 'Idle Mean',\n",
      "       'Idle Std', 'Idle Max', 'Idle Min'],\n",
      "      dtype='object')\n"
     ]
    }
   ],
   "execution_count": 9
  },
  {
   "metadata": {
    "ExecuteTime": {
     "end_time": "2025-06-17T21:04:50.884839Z",
     "start_time": "2025-06-17T21:04:50.711456Z"
    }
   },
   "cell_type": "code",
   "source": [
    "if not IS_BINARY:\n",
    "    smote = SMOTE()\n",
    "    X, y = smote.fit_resample(X, y)\n",
    "\n",
    "print(X.shape, y.shape)"
   ],
   "id": "8e9952e81663ef63",
   "outputs": [
    {
     "name": "stdout",
     "output_type": "stream",
     "text": [
      "(3024, 77) (3024,)\n"
     ]
    }
   ],
   "execution_count": 10
  },
  {
   "cell_type": "code",
   "id": "ff5663e86d4d33e9",
   "metadata": {
    "ExecuteTime": {
     "end_time": "2025-06-17T21:04:51.342028Z",
     "start_time": "2025-06-17T21:04:51.331010Z"
    }
   },
   "source": [
    "scaler = StandardScaler()\n",
    "X = scaler.fit_transform(X)"
   ],
   "outputs": [],
   "execution_count": 11
  },
  {
   "metadata": {
    "ExecuteTime": {
     "end_time": "2025-06-17T21:04:51.804153Z",
     "start_time": "2025-06-17T21:04:51.711077Z"
    }
   },
   "cell_type": "code",
   "source": [
    "classes = np.unique(y)\n",
    "weights = compute_class_weight('balanced', classes=classes, y=y)\n",
    "class_weights = torch.tensor(weights, dtype=torch.float32).to(device)"
   ],
   "id": "51ec8c14920eed66",
   "outputs": [],
   "execution_count": 12
  },
  {
   "cell_type": "code",
   "id": "5b2328ed4ae2258f",
   "metadata": {
    "ExecuteTime": {
     "end_time": "2025-06-17T21:04:53.521848Z",
     "start_time": "2025-06-17T21:04:53.515927Z"
    }
   },
   "source": [
    "X_train, X_test, y_train, y_test = train_test_split(\n",
    "    X, y, test_size=0.15, stratify=y, random_state=42\n",
    ")"
   ],
   "outputs": [],
   "execution_count": 13
  },
  {
   "cell_type": "code",
   "id": "6705cdc6d5539818",
   "metadata": {
    "ExecuteTime": {
     "end_time": "2025-06-17T21:04:56.310102Z",
     "start_time": "2025-06-17T21:04:56.302866Z"
    }
   },
   "source": [
    "X_train_tensor = torch.FloatTensor(X_train)\n",
    "y_train_tensor = torch.LongTensor(y_train)\n",
    "X_test_tensor = torch.FloatTensor(X_test)\n",
    "y_test_tensor = torch.LongTensor(y_test)"
   ],
   "outputs": [],
   "execution_count": 14
  },
  {
   "cell_type": "code",
   "id": "fae343340b420ee2",
   "metadata": {
    "ExecuteTime": {
     "end_time": "2025-06-17T21:04:56.735992Z",
     "start_time": "2025-06-17T21:04:56.731409Z"
    }
   },
   "source": [
    "train_dataset = TensorDataset(X_train_tensor, y_train_tensor)\n",
    "test_dataset = TensorDataset(X_test_tensor, y_test_tensor)\n",
    "train_loader = DataLoader(train_dataset, batch_size=params.get('batch_size'), shuffle=True, drop_last=True)\n",
    "test_loader = DataLoader(test_dataset, batch_size=params.get('batch_size'), shuffle=False)"
   ],
   "outputs": [],
   "execution_count": 15
  },
  {
   "cell_type": "code",
   "id": "d44f60e455d831f4",
   "metadata": {
    "ExecuteTime": {
     "end_time": "2025-06-17T21:04:57.038789Z",
     "start_time": "2025-06-17T21:04:57.032029Z"
    }
   },
   "source": [
    "class TabNet(nn.Module):\n",
    "    def __init__(self, input_dim, output_dim, n_d=32, n_a=32, n_steps=3, gamma=1.3,\n",
    "                 n_independent=2, n_shared=2, momentum=0.02):\n",
    "        super(TabNet, self).__init__()\n",
    "        self.input_dim = input_dim\n",
    "        self.output_dim = output_dim\n",
    "        self.n_d = n_d\n",
    "        self.n_a = n_a\n",
    "        self.n_steps = n_steps\n",
    "        self.gamma = gamma\n",
    "        self.momentum = momentum\n",
    "\n",
    "        self.initial_bn = nn.BatchNorm1d(input_dim, momentum=momentum)\n",
    "        self.initial_splitter = FeatureTransformer(input_dim, n_d + n_a, n_independent, n_shared, momentum)\n",
    "        self.attentive_transformers = nn.ModuleList([\n",
    "            AttentiveTransformer(input_dim, n_a, momentum) for _ in range(n_steps)\n",
    "        ])\n",
    "        self.feature_transformers = nn.ModuleList([\n",
    "            FeatureTransformer(input_dim, n_d + n_a, n_independent, n_shared, momentum)\n",
    "            for _ in range(n_steps)\n",
    "        ])\n",
    "        self.final_linear = nn.Linear(n_d, output_dim)\n",
    "\n",
    "    def forward(self, x):\n",
    "        batch_size = x.size(0)\n",
    "        x = self.initial_bn(x)\n",
    "        prior = torch.ones(batch_size, self.input_dim, device=x.device)\n",
    "        M_loss = 0\n",
    "        outputs = []\n",
    "        M = []\n",
    "\n",
    "        features = self.initial_splitter(x)\n",
    "        d, a = features[:, :self.n_d], features[:, self.n_d:]\n",
    "\n",
    "        for step in range(self.n_steps):\n",
    "            M_i = self.attentive_transformers[step](a, prior)\n",
    "            M.append(M_i)\n",
    "            M_loss += torch.mean(torch.sum(-M_i * torch.log(M_i + 1e-15), dim=1))\n",
    "            prior = self.gamma - M_i\n",
    "            prior = torch.cumprod(prior, dim=0)\n",
    "            masked_x = M_i * x\n",
    "            features = self.feature_transformers[step](masked_x)\n",
    "            d, a = features[:, :self.n_d], features[:, self.n_d:]\n",
    "            outputs.append(d)\n",
    "\n",
    "        out = torch.stack(outputs, dim=1).sum(dim=1)\n",
    "        out = self.final_linear(out)\n",
    "        return out, tuple(M), M_loss / self.n_steps"
   ],
   "outputs": [],
   "execution_count": 16
  },
  {
   "cell_type": "code",
   "id": "6f8f5394b0004f5a",
   "metadata": {
    "ExecuteTime": {
     "end_time": "2025-06-17T21:04:57.288368Z",
     "start_time": "2025-06-17T21:04:57.282910Z"
    }
   },
   "source": [
    "class FeatureTransformer(nn.Module):\n",
    "    def __init__(self, input_dim, output_dim, n_independent, n_shared, momentum):\n",
    "        super(FeatureTransformer, self).__init__()\n",
    "        self.shared = nn.ModuleList()\n",
    "        for i in range(n_shared):\n",
    "            in_features = input_dim if i == 0 else output_dim\n",
    "            self.shared.append(nn.Sequential(\n",
    "                nn.Linear(in_features, output_dim * 2),\n",
    "                nn.BatchNorm1d(output_dim * 2, momentum=momentum),\n",
    "                nn.GLU(),\n",
    "                nn.Dropout(0.1)\n",
    "            ))\n",
    "        self.independent = nn.ModuleList()\n",
    "        for _ in range(n_independent):\n",
    "            self.independent.append(nn.Sequential(\n",
    "                nn.Linear(output_dim, output_dim * 2),\n",
    "                nn.BatchNorm1d(output_dim * 2, momentum=momentum),\n",
    "                nn.GLU(),\n",
    "                nn.Dropout(0.1)\n",
    "            ))\n",
    "\n",
    "    def forward(self, x):\n",
    "        shared_out = x\n",
    "        for layer in self.shared:\n",
    "            shared_out = layer(shared_out)\n",
    "        out = shared_out\n",
    "        for layer in self.independent:\n",
    "            out = layer(out)\n",
    "        return out"
   ],
   "outputs": [],
   "execution_count": 17
  },
  {
   "cell_type": "code",
   "id": "cc71668c85adabdd",
   "metadata": {
    "ExecuteTime": {
     "end_time": "2025-06-17T21:04:57.510443Z",
     "start_time": "2025-06-17T21:04:57.506298Z"
    }
   },
   "source": [
    "class AttentiveTransformer(nn.Module):\n",
    "    def __init__(self, input_dim, n_a, momentum):\n",
    "        super(AttentiveTransformer, self).__init__()\n",
    "        self.fc = nn.Linear(n_a, input_dim)\n",
    "        self.bn = nn.BatchNorm1d(input_dim, momentum=momentum)\n",
    "\n",
    "    def forward(self, a, prior):\n",
    "        a = self.fc(a)\n",
    "        a = self.bn(a)\n",
    "        a = a * prior\n",
    "        return sparsemax(a)"
   ],
   "outputs": [],
   "execution_count": 18
  },
  {
   "cell_type": "code",
   "id": "4d229320a1c83ee9",
   "metadata": {
    "ExecuteTime": {
     "end_time": "2025-06-17T21:04:57.648109Z",
     "start_time": "2025-06-17T21:04:57.644587Z"
    }
   },
   "source": [
    "def sparsemax(x):\n",
    "    sorted_x, _ = torch.sort(x, dim=1, descending=True)\n",
    "    cumsum = torch.cumsum(F.softmax(sorted_x, dim=1), dim=1)\n",
    "    rho = (cumsum <= 1).sum(dim=1, keepdim=True)\n",
    "    tau = (cumsum.gather(1, rho - 1) - 1) / rho\n",
    "    out = F.relu(x - tau)\n",
    "    return out / (out.sum(dim=1, keepdim=True) + 1e-15)"
   ],
   "outputs": [],
   "execution_count": 19
  },
  {
   "metadata": {
    "ExecuteTime": {
     "end_time": "2025-06-17T21:04:57.841285Z",
     "start_time": "2025-06-17T21:04:57.836175Z"
    }
   },
   "cell_type": "code",
   "source": [
    "def evaluate_tabnet(model, test_loader, criterion, device, is_binary=True):\n",
    "    model.eval()\n",
    "    total_test_loss = 0\n",
    "    total_test_correct = 0\n",
    "    total_test_samples = 0\n",
    "    y_pred = []\n",
    "    y_true = []\n",
    "\n",
    "    with torch.no_grad():\n",
    "        for data, target in test_loader:\n",
    "            data, target = data.to(device), target.to(device)\n",
    "            output, _, M_loss = model(data)\n",
    "            test_loss = criterion(output, target) + 0.01 * M_loss\n",
    "            total_test_loss += test_loss.item()\n",
    "            pred = output.argmax(dim=1)\n",
    "            total_test_correct += pred.eq(target).sum().item()\n",
    "            total_test_samples += target.size(0)\n",
    "            y_pred.extend(pred.cpu().numpy())\n",
    "            y_true.extend(target.cpu().numpy())\n",
    "\n",
    "    test_loss = total_test_loss / len(test_loader)\n",
    "    test_accuracy = 100. * total_test_correct / total_test_samples\n",
    "    precision, recall, f1, _ = precision_recall_fscore_support(\n",
    "        y_true, y_pred, average='binary' if is_binary else 'weighted', zero_division=0\n",
    "    )\n",
    "\n",
    "    return test_loss, test_accuracy, precision, recall, f1, y_true, y_pred"
   ],
   "id": "eb5f2207a468fd4c",
   "outputs": [],
   "execution_count": 20
  },
  {
   "cell_type": "code",
   "id": "74f7f856ad0f2875",
   "metadata": {
    "ExecuteTime": {
     "end_time": "2025-06-17T21:04:57.987958Z",
     "start_time": "2025-06-17T21:04:57.979792Z"
    }
   },
   "source": [
    "def train_tabnet(model, train_loader, test_loader, optimizer, epochs, device, class_weights):\n",
    "    criterion = nn.CrossEntropyLoss(weight=class_weights)\n",
    "    scheduler = torch.optim.lr_scheduler.ReduceLROnPlateau(optimizer, mode='min', factor=0.5, patience=1)\n",
    "\n",
    "    train_losses = []\n",
    "    test_losses = []\n",
    "    test_accuracies = []\n",
    "\n",
    "    best_val_loss = float('inf')\n",
    "    patience = 5\n",
    "    counter = 0\n",
    "    best_model_path = './models/best_model.pth'\n",
    "\n",
    "    for epoch in range(epochs):\n",
    "        total_train_loss = 0\n",
    "        total_train_correct = 0\n",
    "        total_train_samples = 0\n",
    "        model.train()\n",
    "\n",
    "        for batch_idx, (data, target) in enumerate(train_loader):\n",
    "            data, target = data.to(device), target.to(device)\n",
    "            optimizer.zero_grad()\n",
    "            output, M, M_loss = model(data)\n",
    "            loss = criterion(output, target) + 0.01 * M_loss\n",
    "            loss.backward()\n",
    "            optimizer.step()\n",
    "\n",
    "            total_train_loss += loss.item()\n",
    "            pred = output.argmax(dim=1)\n",
    "            total_train_correct += pred.eq(target).sum().item()\n",
    "            total_train_samples += target.size(0)\n",
    "\n",
    "        train_loss = total_train_loss / len(train_loader)\n",
    "        train_accuracy = 100. * total_train_correct / total_train_samples\n",
    "        train_losses.append(train_loss)\n",
    "\n",
    "        test_loss, test_accuracy, precision, recall, f1, y_true, y_pred = evaluate_tabnet(\n",
    "            model, test_loader, criterion, device, is_binary=IS_BINARY\n",
    "        )\n",
    "        test_losses.append(test_loss)\n",
    "        test_accuracies.append(test_accuracy)\n",
    "\n",
    "        scheduler.step(test_loss)\n",
    "\n",
    "        print(f'\\nЭпоха {epoch+1}/{epochs}:')\n",
    "        print(f'  Тренировочные потери: {train_loss:.4f}, Тренировочная точность: {train_accuracy:.2f}%')\n",
    "        print(f'  Тестовые потери: {test_loss:.4f}, Тестовая точность: {test_accuracy:.2f}%')\n",
    "        print(f'  Precision: {precision:.4f}, Recall: {recall:.4f}, F1: {f1:.4f}\\n')\n",
    "\n",
    "        # Механизм ранней остановки\n",
    "        if test_loss < best_val_loss:\n",
    "            best_val_loss = test_loss\n",
    "            counter = 0\n",
    "            torch.save(model.state_dict(), best_model_path)\n",
    "            print(f\"Найдена лучшая модель с потерями: {best_val_loss:.4f}\")\n",
    "        else:\n",
    "            counter += 1\n",
    "            print(f\"Потери не улучшились ({counter}/{patience})\")\n",
    "            if counter >= patience:\n",
    "                print(f\"Ранняя остановка на эпохе {epoch+1}\")\n",
    "                model.load_state_dict(torch.load(best_model_path))\n",
    "                break\n",
    "\n",
    "    return train_losses, test_losses, test_accuracies"
   ],
   "outputs": [],
   "execution_count": 21
  },
  {
   "cell_type": "code",
   "id": "f304e1698b7cfd34",
   "metadata": {
    "ExecuteTime": {
     "end_time": "2025-06-17T21:04:58.949400Z",
     "start_time": "2025-06-17T21:04:58.118640Z"
    }
   },
   "source": [
    "input_dim = X.shape[1]\n",
    "output_dim = len(np.unique(y))\n",
    "\n",
    "model = TabNet(input_dim=input_dim,\n",
    "               output_dim=output_dim,\n",
    "               n_d=params.get(\"n_d\"),\n",
    "               n_a=params.get(\"n_a\"),\n",
    "               n_steps=params.get(\"n_steps\"),\n",
    "               gamma=params.get(\"gamma\"),\n",
    "               n_independent=params.get(\"n_independent\"),\n",
    "               n_shared=params.get(\"n_shared\"),\n",
    "               momentum=params.get(\"momentum\")\n",
    ").to(device)\n",
    "\n",
    "optimizer = torch.optim.Adam(model.parameters(), lr=params.get(\"learning_rate\"), weight_decay=params.get(\"weight_decay\"))"
   ],
   "outputs": [],
   "execution_count": 22
  },
  {
   "cell_type": "code",
   "id": "a2ff19de0a9eec36",
   "metadata": {
    "ExecuteTime": {
     "end_time": "2025-06-17T21:05:44.821942Z",
     "start_time": "2025-06-17T21:04:58.982131Z"
    }
   },
   "source": [
    "epochs = 100\n",
    "train_losses, test_losses, test_accuracies = train_tabnet(model,\n",
    "                                                          train_loader,\n",
    "                                                          test_loader,\n",
    "                                                          optimizer,\n",
    "                                                          epochs,\n",
    "                                                          device,\n",
    "                                                          class_weights)"
   ],
   "outputs": [
    {
     "name": "stdout",
     "output_type": "stream",
     "text": [
      "\n",
      "Эпоха 1/100:\n",
      "  Тренировочные потери: 1.7856, Тренировочная точность: 34.18%\n",
      "  Тестовые потери: 1.6902, Тестовая точность: 34.58%\n",
      "  Precision: 0.4800, Recall: 0.3458, F1: 0.3218\n",
      "\n",
      "Найдена лучшая модель с потерями: 1.6902\n",
      "\n",
      "Эпоха 2/100:\n",
      "  Тренировочные потери: 1.3855, Тренировочная точность: 52.46%\n",
      "  Тестовые потери: 1.7592, Тестовая точность: 38.77%\n",
      "  Precision: 0.6641, Recall: 0.3877, F1: 0.3500\n",
      "\n",
      "Потери не улучшились (1/5)\n",
      "\n",
      "Эпоха 3/100:\n",
      "  Тренировочные потери: 1.1675, Тренировочная точность: 60.00%\n",
      "  Тестовые потери: 1.6203, Тестовая точность: 41.63%\n",
      "  Precision: 0.6756, Recall: 0.4163, F1: 0.3771\n",
      "\n",
      "Найдена лучшая модель с потерями: 1.6203\n",
      "\n",
      "Эпоха 4/100:\n",
      "  Тренировочные потери: 1.0452, Тренировочная точность: 65.47%\n",
      "  Тестовые потери: 1.5128, Тестовая точность: 50.00%\n",
      "  Precision: 0.6015, Recall: 0.5000, F1: 0.4510\n",
      "\n",
      "Найдена лучшая модель с потерями: 1.5128\n",
      "\n",
      "Эпоха 5/100:\n",
      "  Тренировочные потери: 0.9551, Тренировочная точность: 68.01%\n",
      "  Тестовые потери: 1.4538, Тестовая точность: 51.10%\n",
      "  Precision: 0.5894, Recall: 0.5110, F1: 0.4793\n",
      "\n",
      "Найдена лучшая модель с потерями: 1.4538\n",
      "\n",
      "Эпоха 6/100:\n",
      "  Тренировочные потери: 0.8947, Тренировочная точность: 68.98%\n",
      "  Тестовые потери: 1.2976, Тестовая точность: 57.49%\n",
      "  Precision: 0.6279, Recall: 0.5749, F1: 0.5485\n",
      "\n",
      "Найдена лучшая модель с потерями: 1.2976\n",
      "\n",
      "Эпоха 7/100:\n",
      "  Тренировочные потери: 0.8284, Тренировочная точность: 72.81%\n",
      "  Тестовые потери: 1.2075, Тестовая точность: 61.01%\n",
      "  Precision: 0.6561, Recall: 0.6101, F1: 0.5936\n",
      "\n",
      "Найдена лучшая модель с потерями: 1.2075\n",
      "\n",
      "Эпоха 8/100:\n",
      "  Тренировочные потери: 0.7755, Тренировочная точность: 74.14%\n",
      "  Тестовые потери: 1.1102, Тестовая точность: 64.10%\n",
      "  Precision: 0.6546, Recall: 0.6410, F1: 0.6320\n",
      "\n",
      "Найдена лучшая модель с потерями: 1.1102\n",
      "\n",
      "Эпоха 9/100:\n",
      "  Тренировочные потери: 0.7644, Тренировочная точность: 75.47%\n",
      "  Тестовые потери: 1.0008, Тестовая точность: 66.74%\n",
      "  Precision: 0.6855, Recall: 0.6674, F1: 0.6565\n",
      "\n",
      "Найдена лучшая модель с потерями: 1.0008\n",
      "\n",
      "Эпоха 10/100:\n",
      "  Тренировочные потери: 0.7040, Тренировочная точность: 76.91%\n",
      "  Тестовые потери: 0.9399, Тестовая точность: 68.28%\n",
      "  Precision: 0.7107, Recall: 0.6828, F1: 0.6725\n",
      "\n",
      "Найдена лучшая модель с потерями: 0.9399\n",
      "\n",
      "Эпоха 11/100:\n",
      "  Тренировочные потери: 0.6557, Тренировочная точность: 78.79%\n",
      "  Тестовые потери: 0.8007, Тестовая точность: 73.35%\n",
      "  Precision: 0.7610, Recall: 0.7335, F1: 0.7307\n",
      "\n",
      "Найдена лучшая модель с потерями: 0.8007\n",
      "\n",
      "Эпоха 12/100:\n",
      "  Тренировочные потери: 0.6386, Тренировочная точность: 79.06%\n",
      "  Тестовые потери: 0.7949, Тестовая точность: 73.35%\n",
      "  Precision: 0.7418, Recall: 0.7335, F1: 0.7250\n",
      "\n",
      "Найдена лучшая модель с потерями: 0.7949\n",
      "\n",
      "Эпоха 13/100:\n",
      "  Тренировочные потери: 0.5820, Тренировочная точность: 81.56%\n",
      "  Тестовые потери: 0.7190, Тестовая точность: 75.11%\n",
      "  Precision: 0.7580, Recall: 0.7511, F1: 0.7477\n",
      "\n",
      "Найдена лучшая модель с потерями: 0.7190\n",
      "\n",
      "Эпоха 14/100:\n",
      "  Тренировочные потери: 0.5855, Тренировочная точность: 80.66%\n",
      "  Тестовые потери: 0.7129, Тестовая точность: 75.55%\n",
      "  Precision: 0.7569, Recall: 0.7555, F1: 0.7514\n",
      "\n",
      "Найдена лучшая модель с потерями: 0.7129\n",
      "\n",
      "Эпоха 15/100:\n",
      "  Тренировочные потери: 0.5402, Тренировочная точность: 82.97%\n",
      "  Тестовые потери: 0.7261, Тестовая точность: 76.87%\n",
      "  Precision: 0.7777, Recall: 0.7687, F1: 0.7675\n",
      "\n",
      "Потери не улучшились (1/5)\n",
      "\n",
      "Эпоха 16/100:\n",
      "  Тренировочные потери: 0.5487, Тренировочная точность: 82.30%\n",
      "  Тестовые потери: 0.7430, Тестовая точность: 76.21%\n",
      "  Precision: 0.7756, Recall: 0.7621, F1: 0.7596\n",
      "\n",
      "Потери не улучшились (2/5)\n",
      "\n",
      "Эпоха 17/100:\n",
      "  Тренировочные потери: 0.5147, Тренировочная точность: 83.91%\n",
      "  Тестовые потери: 0.6352, Тестовая точность: 78.85%\n",
      "  Precision: 0.7970, Recall: 0.7885, F1: 0.7854\n",
      "\n",
      "Найдена лучшая модель с потерями: 0.6352\n",
      "\n",
      "Эпоха 18/100:\n",
      "  Тренировочные потери: 0.4718, Тренировочная точность: 84.88%\n",
      "  Тестовые потери: 0.5816, Тестовая точность: 79.30%\n",
      "  Precision: 0.7994, Recall: 0.7930, F1: 0.7898\n",
      "\n",
      "Найдена лучшая модель с потерями: 0.5816\n",
      "\n",
      "Эпоха 19/100:\n",
      "  Тренировочные потери: 0.4886, Тренировочная точность: 83.83%\n",
      "  Тестовые потери: 0.6236, Тестовая точность: 79.07%\n",
      "  Precision: 0.7943, Recall: 0.7907, F1: 0.7865\n",
      "\n",
      "Потери не улучшились (1/5)\n",
      "\n",
      "Эпоха 20/100:\n",
      "  Тренировочные потери: 0.4851, Тренировочная точность: 84.84%\n",
      "  Тестовые потери: 0.5304, Тестовая точность: 82.38%\n",
      "  Precision: 0.8239, Recall: 0.8238, F1: 0.8219\n",
      "\n",
      "Найдена лучшая модель с потерями: 0.5304\n",
      "\n",
      "Эпоха 21/100:\n",
      "  Тренировочные потери: 0.4351, Тренировочная точность: 86.88%\n",
      "  Тестовые потери: 0.5358, Тестовая точность: 80.84%\n",
      "  Precision: 0.8124, Recall: 0.8084, F1: 0.8064\n",
      "\n",
      "Потери не улучшились (1/5)\n",
      "\n",
      "Эпоха 22/100:\n",
      "  Тренировочные потери: 0.4487, Тренировочная точность: 85.35%\n",
      "  Тестовые потери: 0.4904, Тестовая точность: 83.04%\n",
      "  Precision: 0.8325, Recall: 0.8304, F1: 0.8284\n",
      "\n",
      "Найдена лучшая модель с потерями: 0.4904\n",
      "\n",
      "Эпоха 23/100:\n",
      "  Тренировочные потери: 0.4176, Тренировочная точность: 86.64%\n",
      "  Тестовые потери: 0.4853, Тестовая точность: 84.36%\n",
      "  Precision: 0.8463, Recall: 0.8436, F1: 0.8420\n",
      "\n",
      "Найдена лучшая модель с потерями: 0.4853\n",
      "\n",
      "Эпоха 24/100:\n",
      "  Тренировочные потери: 0.4201, Тренировочная точность: 86.84%\n",
      "  Тестовые потери: 0.4630, Тестовая точность: 83.48%\n",
      "  Precision: 0.8376, Recall: 0.8348, F1: 0.8329\n",
      "\n",
      "Найдена лучшая модель с потерями: 0.4630\n",
      "\n",
      "Эпоха 25/100:\n",
      "  Тренировочные потери: 0.4197, Тренировочная точность: 86.88%\n",
      "  Тестовые потери: 0.4508, Тестовая точность: 85.02%\n",
      "  Precision: 0.8515, Recall: 0.8502, F1: 0.8487\n",
      "\n",
      "Найдена лучшая модель с потерями: 0.4508\n",
      "\n",
      "Эпоха 26/100:\n",
      "  Тренировочные потери: 0.3973, Тренировочная точность: 88.16%\n",
      "  Тестовые потери: 0.4255, Тестовая точность: 85.68%\n",
      "  Precision: 0.8577, Recall: 0.8568, F1: 0.8558\n",
      "\n",
      "Найдена лучшая модель с потерями: 0.4255\n",
      "\n",
      "Эпоха 27/100:\n",
      "  Тренировочные потери: 0.3892, Тренировочная точность: 87.03%\n",
      "  Тестовые потери: 0.4349, Тестовая точность: 84.80%\n",
      "  Precision: 0.8508, Recall: 0.8480, F1: 0.8468\n",
      "\n",
      "Потери не улучшились (1/5)\n",
      "\n",
      "Эпоха 28/100:\n",
      "  Тренировочные потери: 0.4258, Тренировочная точность: 86.17%\n",
      "  Тестовые потери: 0.4190, Тестовая точность: 86.12%\n",
      "  Precision: 0.8624, Recall: 0.8612, F1: 0.8607\n",
      "\n",
      "Найдена лучшая модель с потерями: 0.4190\n",
      "\n",
      "Эпоха 29/100:\n",
      "  Тренировочные потери: 0.3897, Тренировочная точность: 87.54%\n",
      "  Тестовые потери: 0.4689, Тестовая точность: 84.36%\n",
      "  Precision: 0.8463, Recall: 0.8436, F1: 0.8419\n",
      "\n",
      "Потери не улучшились (1/5)\n",
      "\n",
      "Эпоха 30/100:\n",
      "  Тренировочные потери: 0.3898, Тренировочная точность: 87.85%\n",
      "  Тестовые потери: 0.4004, Тестовая точность: 86.56%\n",
      "  Precision: 0.8672, Recall: 0.8656, F1: 0.8648\n",
      "\n",
      "Найдена лучшая модель с потерями: 0.4004\n",
      "\n",
      "Эпоха 31/100:\n",
      "  Тренировочные потери: 0.3897, Тренировочная точность: 87.81%\n",
      "  Тестовые потери: 0.4277, Тестовая точность: 85.90%\n",
      "  Precision: 0.8606, Recall: 0.8590, F1: 0.8579\n",
      "\n",
      "Потери не улучшились (1/5)\n",
      "\n",
      "Эпоха 32/100:\n",
      "  Тренировочные потери: 0.3852, Тренировочная точность: 87.93%\n",
      "  Тестовые потери: 0.4010, Тестовая точность: 86.56%\n",
      "  Precision: 0.8674, Recall: 0.8656, F1: 0.8647\n",
      "\n",
      "Потери не улучшились (2/5)\n",
      "\n",
      "Эпоха 33/100:\n",
      "  Тренировочные потери: 0.3437, Тренировочная точность: 89.30%\n",
      "  Тестовые потери: 0.3953, Тестовая точность: 86.78%\n",
      "  Precision: 0.8718, Recall: 0.8678, F1: 0.8674\n",
      "\n",
      "Найдена лучшая модель с потерями: 0.3953\n",
      "\n",
      "Эпоха 34/100:\n",
      "  Тренировочные потери: 0.3463, Тренировочная точность: 88.87%\n",
      "  Тестовые потери: 0.3954, Тестовая точность: 86.12%\n",
      "  Precision: 0.8642, Recall: 0.8612, F1: 0.8601\n",
      "\n",
      "Потери не улучшились (1/5)\n",
      "\n",
      "Эпоха 35/100:\n",
      "  Тренировочные потери: 0.3704, Тренировочная точность: 88.20%\n",
      "  Тестовые потери: 0.3815, Тестовая точность: 87.22%\n",
      "  Precision: 0.8753, Recall: 0.8722, F1: 0.8715\n",
      "\n",
      "Найдена лучшая модель с потерями: 0.3815\n",
      "\n",
      "Эпоха 36/100:\n",
      "  Тренировочные потери: 0.3380, Тренировочная точность: 89.10%\n",
      "  Тестовые потери: 0.3688, Тестовая точность: 87.67%\n",
      "  Precision: 0.8786, Recall: 0.8767, F1: 0.8762\n",
      "\n",
      "Найдена лучшая модель с потерями: 0.3688\n",
      "\n",
      "Эпоха 37/100:\n",
      "  Тренировочные потери: 0.3304, Тренировочная точность: 89.53%\n",
      "  Тестовые потери: 0.3757, Тестовая точность: 87.22%\n",
      "  Precision: 0.8734, Recall: 0.8722, F1: 0.8705\n",
      "\n",
      "Потери не улучшились (1/5)\n",
      "\n",
      "Эпоха 38/100:\n",
      "  Тренировочные потери: 0.3223, Тренировочная точность: 89.88%\n",
      "  Тестовые потери: 0.3513, Тестовая точность: 88.55%\n",
      "  Precision: 0.8859, Recall: 0.8855, F1: 0.8843\n",
      "\n",
      "Найдена лучшая модель с потерями: 0.3513\n",
      "\n",
      "Эпоха 39/100:\n",
      "  Тренировочные потери: 0.3459, Тренировочная точность: 88.91%\n",
      "  Тестовые потери: 0.3419, Тестовая точность: 89.43%\n",
      "  Precision: 0.8948, Recall: 0.8943, F1: 0.8935\n",
      "\n",
      "Найдена лучшая модель с потерями: 0.3419\n",
      "\n",
      "Эпоха 40/100:\n",
      "  Тренировочные потери: 0.3227, Тренировочная точность: 90.55%\n",
      "  Тестовые потери: 0.3493, Тестовая точность: 88.11%\n",
      "  Precision: 0.8806, Recall: 0.8811, F1: 0.8801\n",
      "\n",
      "Потери не улучшились (1/5)\n",
      "\n",
      "Эпоха 41/100:\n",
      "  Тренировочные потери: 0.3210, Тренировочная точность: 90.00%\n",
      "  Тестовые потери: 0.3363, Тестовая точность: 90.09%\n",
      "  Precision: 0.9014, Recall: 0.9009, F1: 0.9006\n",
      "\n",
      "Найдена лучшая модель с потерями: 0.3363\n",
      "\n",
      "Эпоха 42/100:\n",
      "  Тренировочные потери: 0.3199, Тренировочная точность: 89.73%\n",
      "  Тестовые потери: 0.3498, Тестовая точность: 88.77%\n",
      "  Precision: 0.8878, Recall: 0.8877, F1: 0.8871\n",
      "\n",
      "Потери не улучшились (1/5)\n",
      "\n",
      "Эпоха 43/100:\n",
      "  Тренировочные потери: 0.3195, Тренировочная точность: 89.41%\n",
      "  Тестовые потери: 0.3378, Тестовая точность: 90.53%\n",
      "  Precision: 0.9052, Recall: 0.9053, F1: 0.9049\n",
      "\n",
      "Потери не улучшились (2/5)\n",
      "\n",
      "Эпоха 44/100:\n",
      "  Тренировочные потери: 0.3215, Тренировочная точность: 90.20%\n",
      "  Тестовые потери: 0.3358, Тестовая точность: 90.31%\n",
      "  Precision: 0.9032, Recall: 0.9031, F1: 0.9030\n",
      "\n",
      "Найдена лучшая модель с потерями: 0.3358\n",
      "\n",
      "Эпоха 45/100:\n",
      "  Тренировочные потери: 0.3034, Тренировочная точность: 90.86%\n",
      "  Тестовые потери: 0.3366, Тестовая точность: 89.87%\n",
      "  Precision: 0.8988, Recall: 0.8987, F1: 0.8985\n",
      "\n",
      "Потери не улучшились (1/5)\n",
      "\n",
      "Эпоха 46/100:\n",
      "  Тренировочные потери: 0.3156, Тренировочная точность: 90.20%\n",
      "  Тестовые потери: 0.3307, Тестовая точность: 90.53%\n",
      "  Precision: 0.9053, Recall: 0.9053, F1: 0.9051\n",
      "\n",
      "Найдена лучшая модель с потерями: 0.3307\n",
      "\n",
      "Эпоха 47/100:\n",
      "  Тренировочные потери: 0.2924, Тренировочная точность: 91.17%\n",
      "  Тестовые потери: 0.3362, Тестовая точность: 89.65%\n",
      "  Precision: 0.8964, Recall: 0.8965, F1: 0.8962\n",
      "\n",
      "Потери не улучшились (1/5)\n",
      "\n",
      "Эпоха 48/100:\n",
      "  Тренировочные потери: 0.2940, Тренировочная точность: 90.70%\n",
      "  Тестовые потери: 0.3338, Тестовая точность: 90.53%\n",
      "  Precision: 0.9051, Recall: 0.9053, F1: 0.9050\n",
      "\n",
      "Потери не улучшились (2/5)\n",
      "\n",
      "Эпоха 49/100:\n",
      "  Тренировочные потери: 0.3037, Тренировочная точность: 90.27%\n",
      "  Тестовые потери: 0.3341, Тестовая точность: 90.31%\n",
      "  Precision: 0.9030, Recall: 0.9031, F1: 0.9029\n",
      "\n",
      "Потери не улучшились (3/5)\n",
      "\n",
      "Эпоха 50/100:\n",
      "  Тренировочные потери: 0.2917, Тренировочная точность: 91.41%\n",
      "  Тестовые потери: 0.3368, Тестовая точность: 90.53%\n",
      "  Precision: 0.9053, Recall: 0.9053, F1: 0.9051\n",
      "\n",
      "Потери не улучшились (4/5)\n",
      "\n",
      "Эпоха 51/100:\n",
      "  Тренировочные потери: 0.2923, Тренировочная точность: 90.90%\n",
      "  Тестовые потери: 0.3353, Тестовая точность: 90.53%\n",
      "  Precision: 0.9053, Recall: 0.9053, F1: 0.9051\n",
      "\n",
      "Потери не улучшились (5/5)\n",
      "Ранняя остановка на эпохе 51\n"
     ]
    }
   ],
   "execution_count": 23
  },
  {
   "cell_type": "code",
   "id": "d245abf01ad3031b",
   "metadata": {
    "ExecuteTime": {
     "end_time": "2025-06-17T21:05:55.827112Z",
     "start_time": "2025-06-17T21:05:55.516608Z"
    }
   },
   "source": [
    "all_dataset = TensorDataset(torch.FloatTensor(X), torch.LongTensor(y))\n",
    "all_loader = DataLoader(all_dataset, batch_size=16, shuffle=False)\n",
    "model.eval()\n",
    "y_pred_all = []\n",
    "y_true_all = []\n",
    "\n",
    "with torch.no_grad():\n",
    "    for data, target in all_loader:\n",
    "        data, target = data.to(device), target.to(device)\n",
    "        output, _, _ = model(data)\n",
    "        pred = output.argmax(dim=1)\n",
    "        y_pred_all.extend(pred.cpu().numpy())\n",
    "        y_true_all.extend(target.cpu().numpy())\n",
    "\n",
    "# Вычисление метрик на всём датасете\n",
    "overall_accuracy = 100. * np.mean(np.array(y_pred_all) == y_true_all)\n",
    "precision, recall, f1, _ = precision_recall_fscore_support(y_true_all, y_pred_all, average='weighted', zero_division=0)\n",
    "\n",
    "# Вывод результатов\n",
    "print(f\"\\nМетрики на всём датасете:\")\n",
    "print(f\"Общая точность (Accuracy): {overall_accuracy:.3f}%\")\n",
    "print(f\"Precision: {precision:.3f}\")\n",
    "print(f\"Recall: {recall:.3f}\")\n",
    "print(f\"F1-Score: {f1:.3f}\")\n",
    "\n",
    "# Детализация по классам (опционально)\n",
    "precision_per_class, recall_per_class, f1_per_class, _ = precision_recall_fscore_support(y_true_all, y_pred_all, average=None, zero_division=0)\n",
    "for i, class_name in enumerate(class_names):\n",
    "    print(f\"Класс {class_name} (индекс {i}): Precision = {precision_per_class[i]:.2f}, Recall = {recall_per_class[i]:.2f}, F1 = {f1_per_class[i]:.2f}\")\n",
    "\n",
    "# Визуализация метрик\n",
    "metrics = {\n",
    "    'Metric': ['Accuracy', 'Precision', 'Recall', 'F1-Score'],\n",
    "    'Value (%)': [overall_accuracy, precision * 100, recall * 100, f1 * 100]\n",
    "}\n",
    "metrics_df = pd.DataFrame(metrics)\n",
    "\n",
    "plt.figure(figsize=(8, 8))\n",
    "sns.barplot(x='Metric', y='Value (%)', data=metrics_df, palette='viridis')\n",
    "plt.title('Общие метрики на всём датасете')\n",
    "plt.ylabel('Значение (%)')\n",
    "plt.ylim(0, 100)\n",
    "for i, v in enumerate(metrics_df['Value (%)']):\n",
    "    plt.text(i, v + 1, f'{v:.3f}', ha='center')\n",
    "plt.savefig(os.path.join(PLOTS_DIR, 'overall_metrics.png'))\n",
    "plt.close()\n",
    "\n",
    "# Матрица ошибок для всего датасета\n",
    "conf_matrix = confusion_matrix(y_true_all, y_pred_all)\n",
    "plt.figure(figsize=(10, 8))\n",
    "sns.heatmap(conf_matrix, annot=True, fmt='d', cmap='Blues', xticklabels=class_names, yticklabels=class_names)\n",
    "plt.xlabel('Предсказанный класс')\n",
    "plt.ylabel('Истинный класс')\n",
    "plt.title('Матрица ошибок на всём датасете')\n",
    "plt.tight_layout()\n",
    "plt.savefig(os.path.join(PLOTS_DIR, 'confusion_matrix_all.png'))\n",
    "plt.close()"
   ],
   "outputs": [
    {
     "ename": "RuntimeError",
     "evalue": "Expected all tensors to be on the same device, but found at least two devices, cuda:0 and cpu! (when checking argument for argument weight in method wrapper_CUDA__native_batch_norm)",
     "output_type": "error",
     "traceback": [
      "\u001B[31m---------------------------------------------------------------------------\u001B[39m",
      "\u001B[31mRuntimeError\u001B[39m                              Traceback (most recent call last)",
      "\u001B[36mCell\u001B[39m\u001B[36m \u001B[39m\u001B[32mIn[31]\u001B[39m\u001B[32m, line 10\u001B[39m\n\u001B[32m      8\u001B[39m \u001B[38;5;28;01mfor\u001B[39;00m data, target \u001B[38;5;129;01min\u001B[39;00m all_loader:\n\u001B[32m      9\u001B[39m     data, target = data.to(device), target.to(device)\n\u001B[32m---> \u001B[39m\u001B[32m10\u001B[39m     output, _, _ = \u001B[43mmodel\u001B[49m\u001B[43m(\u001B[49m\u001B[43mdata\u001B[49m\u001B[43m)\u001B[49m\n\u001B[32m     11\u001B[39m     pred = output.argmax(dim=\u001B[32m1\u001B[39m)\n\u001B[32m     12\u001B[39m     y_pred_all.extend(pred.cpu().numpy())\n",
      "\u001B[36mFile \u001B[39m\u001B[32mE:\\JetBrains Projects\\PycharmProjects\\network-classificator\\.venv\\Lib\\site-packages\\torch\\nn\\modules\\module.py:1739\u001B[39m, in \u001B[36mModule._wrapped_call_impl\u001B[39m\u001B[34m(self, *args, **kwargs)\u001B[39m\n\u001B[32m   1737\u001B[39m     \u001B[38;5;28;01mreturn\u001B[39;00m \u001B[38;5;28mself\u001B[39m._compiled_call_impl(*args, **kwargs)  \u001B[38;5;66;03m# type: ignore[misc]\u001B[39;00m\n\u001B[32m   1738\u001B[39m \u001B[38;5;28;01melse\u001B[39;00m:\n\u001B[32m-> \u001B[39m\u001B[32m1739\u001B[39m     \u001B[38;5;28;01mreturn\u001B[39;00m \u001B[38;5;28;43mself\u001B[39;49m\u001B[43m.\u001B[49m\u001B[43m_call_impl\u001B[49m\u001B[43m(\u001B[49m\u001B[43m*\u001B[49m\u001B[43margs\u001B[49m\u001B[43m,\u001B[49m\u001B[43m \u001B[49m\u001B[43m*\u001B[49m\u001B[43m*\u001B[49m\u001B[43mkwargs\u001B[49m\u001B[43m)\u001B[49m\n",
      "\u001B[36mFile \u001B[39m\u001B[32mE:\\JetBrains Projects\\PycharmProjects\\network-classificator\\.venv\\Lib\\site-packages\\torch\\nn\\modules\\module.py:1750\u001B[39m, in \u001B[36mModule._call_impl\u001B[39m\u001B[34m(self, *args, **kwargs)\u001B[39m\n\u001B[32m   1745\u001B[39m \u001B[38;5;66;03m# If we don't have any hooks, we want to skip the rest of the logic in\u001B[39;00m\n\u001B[32m   1746\u001B[39m \u001B[38;5;66;03m# this function, and just call forward.\u001B[39;00m\n\u001B[32m   1747\u001B[39m \u001B[38;5;28;01mif\u001B[39;00m \u001B[38;5;129;01mnot\u001B[39;00m (\u001B[38;5;28mself\u001B[39m._backward_hooks \u001B[38;5;129;01mor\u001B[39;00m \u001B[38;5;28mself\u001B[39m._backward_pre_hooks \u001B[38;5;129;01mor\u001B[39;00m \u001B[38;5;28mself\u001B[39m._forward_hooks \u001B[38;5;129;01mor\u001B[39;00m \u001B[38;5;28mself\u001B[39m._forward_pre_hooks\n\u001B[32m   1748\u001B[39m         \u001B[38;5;129;01mor\u001B[39;00m _global_backward_pre_hooks \u001B[38;5;129;01mor\u001B[39;00m _global_backward_hooks\n\u001B[32m   1749\u001B[39m         \u001B[38;5;129;01mor\u001B[39;00m _global_forward_hooks \u001B[38;5;129;01mor\u001B[39;00m _global_forward_pre_hooks):\n\u001B[32m-> \u001B[39m\u001B[32m1750\u001B[39m     \u001B[38;5;28;01mreturn\u001B[39;00m \u001B[43mforward_call\u001B[49m\u001B[43m(\u001B[49m\u001B[43m*\u001B[49m\u001B[43margs\u001B[49m\u001B[43m,\u001B[49m\u001B[43m \u001B[49m\u001B[43m*\u001B[49m\u001B[43m*\u001B[49m\u001B[43mkwargs\u001B[49m\u001B[43m)\u001B[49m\n\u001B[32m   1752\u001B[39m result = \u001B[38;5;28;01mNone\u001B[39;00m\n\u001B[32m   1753\u001B[39m called_always_called_hooks = \u001B[38;5;28mset\u001B[39m()\n",
      "\u001B[36mCell\u001B[39m\u001B[36m \u001B[39m\u001B[32mIn[16]\u001B[39m\u001B[32m, line 26\u001B[39m, in \u001B[36mTabNet.forward\u001B[39m\u001B[34m(self, x)\u001B[39m\n\u001B[32m     24\u001B[39m \u001B[38;5;28;01mdef\u001B[39;00m\u001B[38;5;250m \u001B[39m\u001B[34mforward\u001B[39m(\u001B[38;5;28mself\u001B[39m, x):\n\u001B[32m     25\u001B[39m     batch_size = x.size(\u001B[32m0\u001B[39m)\n\u001B[32m---> \u001B[39m\u001B[32m26\u001B[39m     x = \u001B[38;5;28;43mself\u001B[39;49m\u001B[43m.\u001B[49m\u001B[43minitial_bn\u001B[49m\u001B[43m(\u001B[49m\u001B[43mx\u001B[49m\u001B[43m)\u001B[49m\n\u001B[32m     27\u001B[39m     prior = torch.ones(batch_size, \u001B[38;5;28mself\u001B[39m.input_dim, device=x.device)\n\u001B[32m     28\u001B[39m     M_loss = \u001B[32m0\u001B[39m\n",
      "\u001B[36mFile \u001B[39m\u001B[32mE:\\JetBrains Projects\\PycharmProjects\\network-classificator\\.venv\\Lib\\site-packages\\torch\\nn\\modules\\module.py:1739\u001B[39m, in \u001B[36mModule._wrapped_call_impl\u001B[39m\u001B[34m(self, *args, **kwargs)\u001B[39m\n\u001B[32m   1737\u001B[39m     \u001B[38;5;28;01mreturn\u001B[39;00m \u001B[38;5;28mself\u001B[39m._compiled_call_impl(*args, **kwargs)  \u001B[38;5;66;03m# type: ignore[misc]\u001B[39;00m\n\u001B[32m   1738\u001B[39m \u001B[38;5;28;01melse\u001B[39;00m:\n\u001B[32m-> \u001B[39m\u001B[32m1739\u001B[39m     \u001B[38;5;28;01mreturn\u001B[39;00m \u001B[38;5;28;43mself\u001B[39;49m\u001B[43m.\u001B[49m\u001B[43m_call_impl\u001B[49m\u001B[43m(\u001B[49m\u001B[43m*\u001B[49m\u001B[43margs\u001B[49m\u001B[43m,\u001B[49m\u001B[43m \u001B[49m\u001B[43m*\u001B[49m\u001B[43m*\u001B[49m\u001B[43mkwargs\u001B[49m\u001B[43m)\u001B[49m\n",
      "\u001B[36mFile \u001B[39m\u001B[32mE:\\JetBrains Projects\\PycharmProjects\\network-classificator\\.venv\\Lib\\site-packages\\torch\\nn\\modules\\module.py:1750\u001B[39m, in \u001B[36mModule._call_impl\u001B[39m\u001B[34m(self, *args, **kwargs)\u001B[39m\n\u001B[32m   1745\u001B[39m \u001B[38;5;66;03m# If we don't have any hooks, we want to skip the rest of the logic in\u001B[39;00m\n\u001B[32m   1746\u001B[39m \u001B[38;5;66;03m# this function, and just call forward.\u001B[39;00m\n\u001B[32m   1747\u001B[39m \u001B[38;5;28;01mif\u001B[39;00m \u001B[38;5;129;01mnot\u001B[39;00m (\u001B[38;5;28mself\u001B[39m._backward_hooks \u001B[38;5;129;01mor\u001B[39;00m \u001B[38;5;28mself\u001B[39m._backward_pre_hooks \u001B[38;5;129;01mor\u001B[39;00m \u001B[38;5;28mself\u001B[39m._forward_hooks \u001B[38;5;129;01mor\u001B[39;00m \u001B[38;5;28mself\u001B[39m._forward_pre_hooks\n\u001B[32m   1748\u001B[39m         \u001B[38;5;129;01mor\u001B[39;00m _global_backward_pre_hooks \u001B[38;5;129;01mor\u001B[39;00m _global_backward_hooks\n\u001B[32m   1749\u001B[39m         \u001B[38;5;129;01mor\u001B[39;00m _global_forward_hooks \u001B[38;5;129;01mor\u001B[39;00m _global_forward_pre_hooks):\n\u001B[32m-> \u001B[39m\u001B[32m1750\u001B[39m     \u001B[38;5;28;01mreturn\u001B[39;00m \u001B[43mforward_call\u001B[49m\u001B[43m(\u001B[49m\u001B[43m*\u001B[49m\u001B[43margs\u001B[49m\u001B[43m,\u001B[49m\u001B[43m \u001B[49m\u001B[43m*\u001B[49m\u001B[43m*\u001B[49m\u001B[43mkwargs\u001B[49m\u001B[43m)\u001B[49m\n\u001B[32m   1752\u001B[39m result = \u001B[38;5;28;01mNone\u001B[39;00m\n\u001B[32m   1753\u001B[39m called_always_called_hooks = \u001B[38;5;28mset\u001B[39m()\n",
      "\u001B[36mFile \u001B[39m\u001B[32mE:\\JetBrains Projects\\PycharmProjects\\network-classificator\\.venv\\Lib\\site-packages\\torch\\nn\\modules\\batchnorm.py:193\u001B[39m, in \u001B[36m_BatchNorm.forward\u001B[39m\u001B[34m(self, input)\u001B[39m\n\u001B[32m    186\u001B[39m     bn_training = (\u001B[38;5;28mself\u001B[39m.running_mean \u001B[38;5;129;01mis\u001B[39;00m \u001B[38;5;28;01mNone\u001B[39;00m) \u001B[38;5;129;01mand\u001B[39;00m (\u001B[38;5;28mself\u001B[39m.running_var \u001B[38;5;129;01mis\u001B[39;00m \u001B[38;5;28;01mNone\u001B[39;00m)\n\u001B[32m    188\u001B[39m \u001B[38;5;250m\u001B[39m\u001B[33mr\u001B[39m\u001B[33;03m\"\"\"\u001B[39;00m\n\u001B[32m    189\u001B[39m \u001B[33;03mBuffers are only updated if they are to be tracked and we are in training mode. Thus they only need to be\u001B[39;00m\n\u001B[32m    190\u001B[39m \u001B[33;03mpassed when the update should occur (i.e. in training mode when they are tracked), or when buffer stats are\u001B[39;00m\n\u001B[32m    191\u001B[39m \u001B[33;03mused for normalization (i.e. in eval mode when buffers are not None).\u001B[39;00m\n\u001B[32m    192\u001B[39m \u001B[33;03m\"\"\"\u001B[39;00m\n\u001B[32m--> \u001B[39m\u001B[32m193\u001B[39m \u001B[38;5;28;01mreturn\u001B[39;00m \u001B[43mF\u001B[49m\u001B[43m.\u001B[49m\u001B[43mbatch_norm\u001B[49m\u001B[43m(\u001B[49m\n\u001B[32m    194\u001B[39m \u001B[43m    \u001B[49m\u001B[38;5;28;43minput\u001B[39;49m\u001B[43m,\u001B[49m\n\u001B[32m    195\u001B[39m \u001B[43m    \u001B[49m\u001B[38;5;66;43;03m# If buffers are not to be tracked, ensure that they won't be updated\u001B[39;49;00m\n\u001B[32m    196\u001B[39m \u001B[43m    \u001B[49m\u001B[38;5;28;43mself\u001B[39;49m\u001B[43m.\u001B[49m\u001B[43mrunning_mean\u001B[49m\n\u001B[32m    197\u001B[39m \u001B[43m    \u001B[49m\u001B[38;5;28;43;01mif\u001B[39;49;00m\u001B[43m \u001B[49m\u001B[38;5;129;43;01mnot\u001B[39;49;00m\u001B[43m \u001B[49m\u001B[38;5;28;43mself\u001B[39;49m\u001B[43m.\u001B[49m\u001B[43mtraining\u001B[49m\u001B[43m \u001B[49m\u001B[38;5;129;43;01mor\u001B[39;49;00m\u001B[43m \u001B[49m\u001B[38;5;28;43mself\u001B[39;49m\u001B[43m.\u001B[49m\u001B[43mtrack_running_stats\u001B[49m\n\u001B[32m    198\u001B[39m \u001B[43m    \u001B[49m\u001B[38;5;28;43;01melse\u001B[39;49;00m\u001B[43m \u001B[49m\u001B[38;5;28;43;01mNone\u001B[39;49;00m\u001B[43m,\u001B[49m\n\u001B[32m    199\u001B[39m \u001B[43m    \u001B[49m\u001B[38;5;28;43mself\u001B[39;49m\u001B[43m.\u001B[49m\u001B[43mrunning_var\u001B[49m\u001B[43m \u001B[49m\u001B[38;5;28;43;01mif\u001B[39;49;00m\u001B[43m \u001B[49m\u001B[38;5;129;43;01mnot\u001B[39;49;00m\u001B[43m \u001B[49m\u001B[38;5;28;43mself\u001B[39;49m\u001B[43m.\u001B[49m\u001B[43mtraining\u001B[49m\u001B[43m \u001B[49m\u001B[38;5;129;43;01mor\u001B[39;49;00m\u001B[43m \u001B[49m\u001B[38;5;28;43mself\u001B[39;49m\u001B[43m.\u001B[49m\u001B[43mtrack_running_stats\u001B[49m\u001B[43m \u001B[49m\u001B[38;5;28;43;01melse\u001B[39;49;00m\u001B[43m \u001B[49m\u001B[38;5;28;43;01mNone\u001B[39;49;00m\u001B[43m,\u001B[49m\n\u001B[32m    200\u001B[39m \u001B[43m    \u001B[49m\u001B[38;5;28;43mself\u001B[39;49m\u001B[43m.\u001B[49m\u001B[43mweight\u001B[49m\u001B[43m,\u001B[49m\n\u001B[32m    201\u001B[39m \u001B[43m    \u001B[49m\u001B[38;5;28;43mself\u001B[39;49m\u001B[43m.\u001B[49m\u001B[43mbias\u001B[49m\u001B[43m,\u001B[49m\n\u001B[32m    202\u001B[39m \u001B[43m    \u001B[49m\u001B[43mbn_training\u001B[49m\u001B[43m,\u001B[49m\n\u001B[32m    203\u001B[39m \u001B[43m    \u001B[49m\u001B[43mexponential_average_factor\u001B[49m\u001B[43m,\u001B[49m\n\u001B[32m    204\u001B[39m \u001B[43m    \u001B[49m\u001B[38;5;28;43mself\u001B[39;49m\u001B[43m.\u001B[49m\u001B[43meps\u001B[49m\u001B[43m,\u001B[49m\n\u001B[32m    205\u001B[39m \u001B[43m\u001B[49m\u001B[43m)\u001B[49m\n",
      "\u001B[36mFile \u001B[39m\u001B[32mE:\\JetBrains Projects\\PycharmProjects\\network-classificator\\.venv\\Lib\\site-packages\\torch\\nn\\functional.py:2822\u001B[39m, in \u001B[36mbatch_norm\u001B[39m\u001B[34m(input, running_mean, running_var, weight, bias, training, momentum, eps)\u001B[39m\n\u001B[32m   2819\u001B[39m \u001B[38;5;28;01mif\u001B[39;00m training:\n\u001B[32m   2820\u001B[39m     _verify_batch_size(\u001B[38;5;28minput\u001B[39m.size())\n\u001B[32m-> \u001B[39m\u001B[32m2822\u001B[39m \u001B[38;5;28;01mreturn\u001B[39;00m \u001B[43mtorch\u001B[49m\u001B[43m.\u001B[49m\u001B[43mbatch_norm\u001B[49m\u001B[43m(\u001B[49m\n\u001B[32m   2823\u001B[39m \u001B[43m    \u001B[49m\u001B[38;5;28;43minput\u001B[39;49m\u001B[43m,\u001B[49m\n\u001B[32m   2824\u001B[39m \u001B[43m    \u001B[49m\u001B[43mweight\u001B[49m\u001B[43m,\u001B[49m\n\u001B[32m   2825\u001B[39m \u001B[43m    \u001B[49m\u001B[43mbias\u001B[49m\u001B[43m,\u001B[49m\n\u001B[32m   2826\u001B[39m \u001B[43m    \u001B[49m\u001B[43mrunning_mean\u001B[49m\u001B[43m,\u001B[49m\n\u001B[32m   2827\u001B[39m \u001B[43m    \u001B[49m\u001B[43mrunning_var\u001B[49m\u001B[43m,\u001B[49m\n\u001B[32m   2828\u001B[39m \u001B[43m    \u001B[49m\u001B[43mtraining\u001B[49m\u001B[43m,\u001B[49m\n\u001B[32m   2829\u001B[39m \u001B[43m    \u001B[49m\u001B[43mmomentum\u001B[49m\u001B[43m,\u001B[49m\n\u001B[32m   2830\u001B[39m \u001B[43m    \u001B[49m\u001B[43meps\u001B[49m\u001B[43m,\u001B[49m\n\u001B[32m   2831\u001B[39m \u001B[43m    \u001B[49m\u001B[43mtorch\u001B[49m\u001B[43m.\u001B[49m\u001B[43mbackends\u001B[49m\u001B[43m.\u001B[49m\u001B[43mcudnn\u001B[49m\u001B[43m.\u001B[49m\u001B[43menabled\u001B[49m\u001B[43m,\u001B[49m\n\u001B[32m   2832\u001B[39m \u001B[43m\u001B[49m\u001B[43m)\u001B[49m\n",
      "\u001B[31mRuntimeError\u001B[39m: Expected all tensors to be on the same device, but found at least two devices, cuda:0 and cpu! (when checking argument for argument weight in method wrapper_CUDA__native_batch_norm)"
     ]
    }
   ],
   "execution_count": 31
  },
  {
   "metadata": {
    "ExecuteTime": {
     "end_time": "2025-06-17T21:05:56.178771Z",
     "start_time": "2025-06-17T21:05:56.173843Z"
    }
   },
   "cell_type": "code",
   "source": [
    "def get_feature_importance(model, data_loader, device, feature_names):\n",
    "    model.eval()\n",
    "    feature_importance = torch.zeros(model.input_dim).to(device)\n",
    "    total_samples = 0\n",
    "    with torch.no_grad():\n",
    "        for data, _ in data_loader:\n",
    "            data = data.to(device)\n",
    "            _, masks, _ = model(data)\n",
    "            for mask in masks:\n",
    "                feature_importance += mask.sum(dim=0)\n",
    "            total_samples += data.size(0)\n",
    "    importance = feature_importance.cpu().numpy() / total_samples\n",
    "\n",
    "    return pd.Series(importance, index=feature_names)"
   ],
   "id": "fcdddb244605d95b",
   "outputs": [],
   "execution_count": 32
  },
  {
   "metadata": {
    "ExecuteTime": {
     "end_time": "2025-06-17T21:05:57.185237Z",
     "start_time": "2025-06-17T21:05:57.179404Z"
    }
   },
   "cell_type": "code",
   "source": [
    "def evaluate_model(model, test_loader, device, is_binary):\n",
    "    model.eval()\n",
    "    criterion = nn.CrossEntropyLoss()\n",
    "    total_loss = 0\n",
    "    y_pred = []\n",
    "    y_true = []\n",
    "    y_scores = []\n",
    "\n",
    "    with torch.no_grad():\n",
    "        for data, target in test_loader:\n",
    "            data, target = data.to(device), target.to(device)\n",
    "            output, _, M_loss = model(data)\n",
    "            loss = criterion(output, target) + 0.01 * M_loss\n",
    "            total_loss += loss.item()\n",
    "            pred = output.argmax(dim=1)\n",
    "            y_pred.extend(pred.cpu().numpy())\n",
    "            y_true.extend(target.cpu().numpy())\n",
    "            if is_binary:\n",
    "                scores = torch.softmax(output, dim=1)[:, 1]\n",
    "                y_scores.extend(scores.cpu().numpy())\n",
    "\n",
    "    test_loss = total_loss / len(test_loader)\n",
    "    accuracy = accuracy_score(y_true, y_pred) * 100\n",
    "    precision, recall, f1, _ = precision_recall_fscore_support(y_true, y_pred,\n",
    "                                                               average='binary' if is_binary else 'weighted')\n",
    "    cm = confusion_matrix(y_true, y_pred)\n",
    "\n",
    "    # ROC-кривая (только для бинарной классификации)\n",
    "    roc_data = None\n",
    "    if is_binary and y_scores:\n",
    "        fpr, tpr, _ = roc_curve(y_true, y_scores)\n",
    "        roc_auc = auc(fpr, tpr)\n",
    "        roc_data = (fpr, tpr, roc_auc)\n",
    "\n",
    "    return {\n",
    "        'test_loss': test_loss,\n",
    "        'accuracy': accuracy,\n",
    "        'precision': precision,\n",
    "        'recall': recall,\n",
    "        'f1': f1,\n",
    "        'confusion_matrix': cm,\n",
    "        'roc_data': roc_data\n",
    "    }"
   ],
   "id": "41b41fa59c36fbe4",
   "outputs": [],
   "execution_count": 33
  },
  {
   "metadata": {
    "ExecuteTime": {
     "end_time": "2025-06-17T21:05:57.714348Z",
     "start_time": "2025-06-17T21:05:57.707295Z"
    }
   },
   "cell_type": "code",
   "source": [
    "def plot_results(train_losses, test_losses, test_accuracies, eval_results, class_names, is_binary):\n",
    "    # График потерь\n",
    "    plt.figure(figsize=(10, 6))\n",
    "    plt.plot(range(1, len(train_losses) + 1), train_losses, label='Тренировочные потери')\n",
    "    plt.plot(range(1, len(test_losses) + 1), test_losses, label='Тестовые потери')\n",
    "    plt.xlabel('Эпоха')\n",
    "    plt.ylabel('Потери')\n",
    "    plt.title('Тренировочные и тестовые потери по эпохам')\n",
    "    plt.legend()\n",
    "    plt.grid()\n",
    "    plt.savefig(os.path.join(PLOTS_DIR, f'loss_plot_{TYPE}.png'))\n",
    "    plt.close()\n",
    "\n",
    "    # График точности\n",
    "    plt.figure(figsize=(10, 6))\n",
    "    plt.plot(range(1, len(test_accuracies) + 1), test_accuracies, label='Тестовая точность')\n",
    "    plt.xlabel('Эпоха')\n",
    "    plt.ylabel('Точность (%)')\n",
    "    plt.title('Тестовая точность по эпохам')\n",
    "    plt.legend()\n",
    "    plt.grid()\n",
    "    plt.savefig(os.path.join(PLOTS_DIR, f'accuracy_plot_{TYPE}.png'))\n",
    "    plt.close()\n",
    "\n",
    "    # Матрица ошибок\n",
    "    plt.figure(figsize=(8, 6))\n",
    "    sns.heatmap(eval_results['confusion_matrix'], annot=True, fmt='d', cmap='Blues',\n",
    "                xticklabels=class_names, yticklabels=class_names)\n",
    "    plt.xlabel('Предсказанный класс')\n",
    "    plt.ylabel('Истинный класс')\n",
    "    plt.title('Матрица ошибок')\n",
    "    plt.savefig(os.path.join(PLOTS_DIR, f'confusion_matrix_{TYPE}.png'))\n",
    "    plt.close()\n",
    "\n",
    "    # ROC-кривая (только для бинарной классификации)\n",
    "    if is_binary and eval_results['roc_data']:\n",
    "        fpr, tpr, roc_auc = eval_results['roc_data']\n",
    "        plt.figure(figsize=(8, 6))\n",
    "        plt.plot(fpr, tpr, label=f'ROC-кривая (AUC = {roc_auc:.2f})')\n",
    "        plt.plot([0, 1], [0, 1], 'k--')\n",
    "        plt.xlabel('False Positive Rate')\n",
    "        plt.ylabel('True Positive Rate')\n",
    "        plt.title('ROC-кривая')\n",
    "        plt.legend()\n",
    "        plt.grid()\n",
    "        plt.savefig(os.path.join(PLOTS_DIR, f'roc_curve_{TYPE}.png'))\n",
    "        plt.close()"
   ],
   "id": "b78d94f675bb3f60",
   "outputs": [],
   "execution_count": 34
  },
  {
   "cell_type": "code",
   "id": "bb522e67d15bcbdb",
   "metadata": {
    "ExecuteTime": {
     "end_time": "2025-06-17T21:05:58.657863Z",
     "start_time": "2025-06-17T21:05:58.503255Z"
    }
   },
   "source": [
    "eval_results = evaluate_model(model, test_loader, device, IS_BINARY)\n",
    "\n",
    "print(eval_results)\n",
    "\n",
    "# Визуализация\n",
    "plot_results(train_losses, test_losses, test_accuracies, eval_results, class_names, IS_BINARY)"
   ],
   "outputs": [
    {
     "ename": "RuntimeError",
     "evalue": "Expected all tensors to be on the same device, but found at least two devices, cuda:0 and cpu! (when checking argument for argument weight in method wrapper_CUDA__native_batch_norm)",
     "output_type": "error",
     "traceback": [
      "\u001B[31m---------------------------------------------------------------------------\u001B[39m",
      "\u001B[31mRuntimeError\u001B[39m                              Traceback (most recent call last)",
      "\u001B[36mCell\u001B[39m\u001B[36m \u001B[39m\u001B[32mIn[35]\u001B[39m\u001B[32m, line 1\u001B[39m\n\u001B[32m----> \u001B[39m\u001B[32m1\u001B[39m eval_results = \u001B[43mevaluate_model\u001B[49m\u001B[43m(\u001B[49m\u001B[43mmodel\u001B[49m\u001B[43m,\u001B[49m\u001B[43m \u001B[49m\u001B[43mtest_loader\u001B[49m\u001B[43m,\u001B[49m\u001B[43m \u001B[49m\u001B[43mdevice\u001B[49m\u001B[43m,\u001B[49m\u001B[43m \u001B[49m\u001B[43mIS_BINARY\u001B[49m\u001B[43m)\u001B[49m\n\u001B[32m      3\u001B[39m \u001B[38;5;28mprint\u001B[39m(eval_results)\n\u001B[32m      5\u001B[39m \u001B[38;5;66;03m# Визуализация\u001B[39;00m\n",
      "\u001B[36mCell\u001B[39m\u001B[36m \u001B[39m\u001B[32mIn[33]\u001B[39m\u001B[32m, line 12\u001B[39m, in \u001B[36mevaluate_model\u001B[39m\u001B[34m(model, test_loader, device, is_binary)\u001B[39m\n\u001B[32m     10\u001B[39m \u001B[38;5;28;01mfor\u001B[39;00m data, target \u001B[38;5;129;01min\u001B[39;00m test_loader:\n\u001B[32m     11\u001B[39m     data, target = data.to(device), target.to(device)\n\u001B[32m---> \u001B[39m\u001B[32m12\u001B[39m     output, _, M_loss = \u001B[43mmodel\u001B[49m\u001B[43m(\u001B[49m\u001B[43mdata\u001B[49m\u001B[43m)\u001B[49m\n\u001B[32m     13\u001B[39m     loss = criterion(output, target) + \u001B[32m0.01\u001B[39m * M_loss\n\u001B[32m     14\u001B[39m     total_loss += loss.item()\n",
      "\u001B[36mFile \u001B[39m\u001B[32mE:\\JetBrains Projects\\PycharmProjects\\network-classificator\\.venv\\Lib\\site-packages\\torch\\nn\\modules\\module.py:1739\u001B[39m, in \u001B[36mModule._wrapped_call_impl\u001B[39m\u001B[34m(self, *args, **kwargs)\u001B[39m\n\u001B[32m   1737\u001B[39m     \u001B[38;5;28;01mreturn\u001B[39;00m \u001B[38;5;28mself\u001B[39m._compiled_call_impl(*args, **kwargs)  \u001B[38;5;66;03m# type: ignore[misc]\u001B[39;00m\n\u001B[32m   1738\u001B[39m \u001B[38;5;28;01melse\u001B[39;00m:\n\u001B[32m-> \u001B[39m\u001B[32m1739\u001B[39m     \u001B[38;5;28;01mreturn\u001B[39;00m \u001B[38;5;28;43mself\u001B[39;49m\u001B[43m.\u001B[49m\u001B[43m_call_impl\u001B[49m\u001B[43m(\u001B[49m\u001B[43m*\u001B[49m\u001B[43margs\u001B[49m\u001B[43m,\u001B[49m\u001B[43m \u001B[49m\u001B[43m*\u001B[49m\u001B[43m*\u001B[49m\u001B[43mkwargs\u001B[49m\u001B[43m)\u001B[49m\n",
      "\u001B[36mFile \u001B[39m\u001B[32mE:\\JetBrains Projects\\PycharmProjects\\network-classificator\\.venv\\Lib\\site-packages\\torch\\nn\\modules\\module.py:1750\u001B[39m, in \u001B[36mModule._call_impl\u001B[39m\u001B[34m(self, *args, **kwargs)\u001B[39m\n\u001B[32m   1745\u001B[39m \u001B[38;5;66;03m# If we don't have any hooks, we want to skip the rest of the logic in\u001B[39;00m\n\u001B[32m   1746\u001B[39m \u001B[38;5;66;03m# this function, and just call forward.\u001B[39;00m\n\u001B[32m   1747\u001B[39m \u001B[38;5;28;01mif\u001B[39;00m \u001B[38;5;129;01mnot\u001B[39;00m (\u001B[38;5;28mself\u001B[39m._backward_hooks \u001B[38;5;129;01mor\u001B[39;00m \u001B[38;5;28mself\u001B[39m._backward_pre_hooks \u001B[38;5;129;01mor\u001B[39;00m \u001B[38;5;28mself\u001B[39m._forward_hooks \u001B[38;5;129;01mor\u001B[39;00m \u001B[38;5;28mself\u001B[39m._forward_pre_hooks\n\u001B[32m   1748\u001B[39m         \u001B[38;5;129;01mor\u001B[39;00m _global_backward_pre_hooks \u001B[38;5;129;01mor\u001B[39;00m _global_backward_hooks\n\u001B[32m   1749\u001B[39m         \u001B[38;5;129;01mor\u001B[39;00m _global_forward_hooks \u001B[38;5;129;01mor\u001B[39;00m _global_forward_pre_hooks):\n\u001B[32m-> \u001B[39m\u001B[32m1750\u001B[39m     \u001B[38;5;28;01mreturn\u001B[39;00m \u001B[43mforward_call\u001B[49m\u001B[43m(\u001B[49m\u001B[43m*\u001B[49m\u001B[43margs\u001B[49m\u001B[43m,\u001B[49m\u001B[43m \u001B[49m\u001B[43m*\u001B[49m\u001B[43m*\u001B[49m\u001B[43mkwargs\u001B[49m\u001B[43m)\u001B[49m\n\u001B[32m   1752\u001B[39m result = \u001B[38;5;28;01mNone\u001B[39;00m\n\u001B[32m   1753\u001B[39m called_always_called_hooks = \u001B[38;5;28mset\u001B[39m()\n",
      "\u001B[36mCell\u001B[39m\u001B[36m \u001B[39m\u001B[32mIn[16]\u001B[39m\u001B[32m, line 26\u001B[39m, in \u001B[36mTabNet.forward\u001B[39m\u001B[34m(self, x)\u001B[39m\n\u001B[32m     24\u001B[39m \u001B[38;5;28;01mdef\u001B[39;00m\u001B[38;5;250m \u001B[39m\u001B[34mforward\u001B[39m(\u001B[38;5;28mself\u001B[39m, x):\n\u001B[32m     25\u001B[39m     batch_size = x.size(\u001B[32m0\u001B[39m)\n\u001B[32m---> \u001B[39m\u001B[32m26\u001B[39m     x = \u001B[38;5;28;43mself\u001B[39;49m\u001B[43m.\u001B[49m\u001B[43minitial_bn\u001B[49m\u001B[43m(\u001B[49m\u001B[43mx\u001B[49m\u001B[43m)\u001B[49m\n\u001B[32m     27\u001B[39m     prior = torch.ones(batch_size, \u001B[38;5;28mself\u001B[39m.input_dim, device=x.device)\n\u001B[32m     28\u001B[39m     M_loss = \u001B[32m0\u001B[39m\n",
      "\u001B[36mFile \u001B[39m\u001B[32mE:\\JetBrains Projects\\PycharmProjects\\network-classificator\\.venv\\Lib\\site-packages\\torch\\nn\\modules\\module.py:1739\u001B[39m, in \u001B[36mModule._wrapped_call_impl\u001B[39m\u001B[34m(self, *args, **kwargs)\u001B[39m\n\u001B[32m   1737\u001B[39m     \u001B[38;5;28;01mreturn\u001B[39;00m \u001B[38;5;28mself\u001B[39m._compiled_call_impl(*args, **kwargs)  \u001B[38;5;66;03m# type: ignore[misc]\u001B[39;00m\n\u001B[32m   1738\u001B[39m \u001B[38;5;28;01melse\u001B[39;00m:\n\u001B[32m-> \u001B[39m\u001B[32m1739\u001B[39m     \u001B[38;5;28;01mreturn\u001B[39;00m \u001B[38;5;28;43mself\u001B[39;49m\u001B[43m.\u001B[49m\u001B[43m_call_impl\u001B[49m\u001B[43m(\u001B[49m\u001B[43m*\u001B[49m\u001B[43margs\u001B[49m\u001B[43m,\u001B[49m\u001B[43m \u001B[49m\u001B[43m*\u001B[49m\u001B[43m*\u001B[49m\u001B[43mkwargs\u001B[49m\u001B[43m)\u001B[49m\n",
      "\u001B[36mFile \u001B[39m\u001B[32mE:\\JetBrains Projects\\PycharmProjects\\network-classificator\\.venv\\Lib\\site-packages\\torch\\nn\\modules\\module.py:1750\u001B[39m, in \u001B[36mModule._call_impl\u001B[39m\u001B[34m(self, *args, **kwargs)\u001B[39m\n\u001B[32m   1745\u001B[39m \u001B[38;5;66;03m# If we don't have any hooks, we want to skip the rest of the logic in\u001B[39;00m\n\u001B[32m   1746\u001B[39m \u001B[38;5;66;03m# this function, and just call forward.\u001B[39;00m\n\u001B[32m   1747\u001B[39m \u001B[38;5;28;01mif\u001B[39;00m \u001B[38;5;129;01mnot\u001B[39;00m (\u001B[38;5;28mself\u001B[39m._backward_hooks \u001B[38;5;129;01mor\u001B[39;00m \u001B[38;5;28mself\u001B[39m._backward_pre_hooks \u001B[38;5;129;01mor\u001B[39;00m \u001B[38;5;28mself\u001B[39m._forward_hooks \u001B[38;5;129;01mor\u001B[39;00m \u001B[38;5;28mself\u001B[39m._forward_pre_hooks\n\u001B[32m   1748\u001B[39m         \u001B[38;5;129;01mor\u001B[39;00m _global_backward_pre_hooks \u001B[38;5;129;01mor\u001B[39;00m _global_backward_hooks\n\u001B[32m   1749\u001B[39m         \u001B[38;5;129;01mor\u001B[39;00m _global_forward_hooks \u001B[38;5;129;01mor\u001B[39;00m _global_forward_pre_hooks):\n\u001B[32m-> \u001B[39m\u001B[32m1750\u001B[39m     \u001B[38;5;28;01mreturn\u001B[39;00m \u001B[43mforward_call\u001B[49m\u001B[43m(\u001B[49m\u001B[43m*\u001B[49m\u001B[43margs\u001B[49m\u001B[43m,\u001B[49m\u001B[43m \u001B[49m\u001B[43m*\u001B[49m\u001B[43m*\u001B[49m\u001B[43mkwargs\u001B[49m\u001B[43m)\u001B[49m\n\u001B[32m   1752\u001B[39m result = \u001B[38;5;28;01mNone\u001B[39;00m\n\u001B[32m   1753\u001B[39m called_always_called_hooks = \u001B[38;5;28mset\u001B[39m()\n",
      "\u001B[36mFile \u001B[39m\u001B[32mE:\\JetBrains Projects\\PycharmProjects\\network-classificator\\.venv\\Lib\\site-packages\\torch\\nn\\modules\\batchnorm.py:193\u001B[39m, in \u001B[36m_BatchNorm.forward\u001B[39m\u001B[34m(self, input)\u001B[39m\n\u001B[32m    186\u001B[39m     bn_training = (\u001B[38;5;28mself\u001B[39m.running_mean \u001B[38;5;129;01mis\u001B[39;00m \u001B[38;5;28;01mNone\u001B[39;00m) \u001B[38;5;129;01mand\u001B[39;00m (\u001B[38;5;28mself\u001B[39m.running_var \u001B[38;5;129;01mis\u001B[39;00m \u001B[38;5;28;01mNone\u001B[39;00m)\n\u001B[32m    188\u001B[39m \u001B[38;5;250m\u001B[39m\u001B[33mr\u001B[39m\u001B[33;03m\"\"\"\u001B[39;00m\n\u001B[32m    189\u001B[39m \u001B[33;03mBuffers are only updated if they are to be tracked and we are in training mode. Thus they only need to be\u001B[39;00m\n\u001B[32m    190\u001B[39m \u001B[33;03mpassed when the update should occur (i.e. in training mode when they are tracked), or when buffer stats are\u001B[39;00m\n\u001B[32m    191\u001B[39m \u001B[33;03mused for normalization (i.e. in eval mode when buffers are not None).\u001B[39;00m\n\u001B[32m    192\u001B[39m \u001B[33;03m\"\"\"\u001B[39;00m\n\u001B[32m--> \u001B[39m\u001B[32m193\u001B[39m \u001B[38;5;28;01mreturn\u001B[39;00m \u001B[43mF\u001B[49m\u001B[43m.\u001B[49m\u001B[43mbatch_norm\u001B[49m\u001B[43m(\u001B[49m\n\u001B[32m    194\u001B[39m \u001B[43m    \u001B[49m\u001B[38;5;28;43minput\u001B[39;49m\u001B[43m,\u001B[49m\n\u001B[32m    195\u001B[39m \u001B[43m    \u001B[49m\u001B[38;5;66;43;03m# If buffers are not to be tracked, ensure that they won't be updated\u001B[39;49;00m\n\u001B[32m    196\u001B[39m \u001B[43m    \u001B[49m\u001B[38;5;28;43mself\u001B[39;49m\u001B[43m.\u001B[49m\u001B[43mrunning_mean\u001B[49m\n\u001B[32m    197\u001B[39m \u001B[43m    \u001B[49m\u001B[38;5;28;43;01mif\u001B[39;49;00m\u001B[43m \u001B[49m\u001B[38;5;129;43;01mnot\u001B[39;49;00m\u001B[43m \u001B[49m\u001B[38;5;28;43mself\u001B[39;49m\u001B[43m.\u001B[49m\u001B[43mtraining\u001B[49m\u001B[43m \u001B[49m\u001B[38;5;129;43;01mor\u001B[39;49;00m\u001B[43m \u001B[49m\u001B[38;5;28;43mself\u001B[39;49m\u001B[43m.\u001B[49m\u001B[43mtrack_running_stats\u001B[49m\n\u001B[32m    198\u001B[39m \u001B[43m    \u001B[49m\u001B[38;5;28;43;01melse\u001B[39;49;00m\u001B[43m \u001B[49m\u001B[38;5;28;43;01mNone\u001B[39;49;00m\u001B[43m,\u001B[49m\n\u001B[32m    199\u001B[39m \u001B[43m    \u001B[49m\u001B[38;5;28;43mself\u001B[39;49m\u001B[43m.\u001B[49m\u001B[43mrunning_var\u001B[49m\u001B[43m \u001B[49m\u001B[38;5;28;43;01mif\u001B[39;49;00m\u001B[43m \u001B[49m\u001B[38;5;129;43;01mnot\u001B[39;49;00m\u001B[43m \u001B[49m\u001B[38;5;28;43mself\u001B[39;49m\u001B[43m.\u001B[49m\u001B[43mtraining\u001B[49m\u001B[43m \u001B[49m\u001B[38;5;129;43;01mor\u001B[39;49;00m\u001B[43m \u001B[49m\u001B[38;5;28;43mself\u001B[39;49m\u001B[43m.\u001B[49m\u001B[43mtrack_running_stats\u001B[49m\u001B[43m \u001B[49m\u001B[38;5;28;43;01melse\u001B[39;49;00m\u001B[43m \u001B[49m\u001B[38;5;28;43;01mNone\u001B[39;49;00m\u001B[43m,\u001B[49m\n\u001B[32m    200\u001B[39m \u001B[43m    \u001B[49m\u001B[38;5;28;43mself\u001B[39;49m\u001B[43m.\u001B[49m\u001B[43mweight\u001B[49m\u001B[43m,\u001B[49m\n\u001B[32m    201\u001B[39m \u001B[43m    \u001B[49m\u001B[38;5;28;43mself\u001B[39;49m\u001B[43m.\u001B[49m\u001B[43mbias\u001B[49m\u001B[43m,\u001B[49m\n\u001B[32m    202\u001B[39m \u001B[43m    \u001B[49m\u001B[43mbn_training\u001B[49m\u001B[43m,\u001B[49m\n\u001B[32m    203\u001B[39m \u001B[43m    \u001B[49m\u001B[43mexponential_average_factor\u001B[49m\u001B[43m,\u001B[49m\n\u001B[32m    204\u001B[39m \u001B[43m    \u001B[49m\u001B[38;5;28;43mself\u001B[39;49m\u001B[43m.\u001B[49m\u001B[43meps\u001B[49m\u001B[43m,\u001B[49m\n\u001B[32m    205\u001B[39m \u001B[43m\u001B[49m\u001B[43m)\u001B[49m\n",
      "\u001B[36mFile \u001B[39m\u001B[32mE:\\JetBrains Projects\\PycharmProjects\\network-classificator\\.venv\\Lib\\site-packages\\torch\\nn\\functional.py:2822\u001B[39m, in \u001B[36mbatch_norm\u001B[39m\u001B[34m(input, running_mean, running_var, weight, bias, training, momentum, eps)\u001B[39m\n\u001B[32m   2819\u001B[39m \u001B[38;5;28;01mif\u001B[39;00m training:\n\u001B[32m   2820\u001B[39m     _verify_batch_size(\u001B[38;5;28minput\u001B[39m.size())\n\u001B[32m-> \u001B[39m\u001B[32m2822\u001B[39m \u001B[38;5;28;01mreturn\u001B[39;00m \u001B[43mtorch\u001B[49m\u001B[43m.\u001B[49m\u001B[43mbatch_norm\u001B[49m\u001B[43m(\u001B[49m\n\u001B[32m   2823\u001B[39m \u001B[43m    \u001B[49m\u001B[38;5;28;43minput\u001B[39;49m\u001B[43m,\u001B[49m\n\u001B[32m   2824\u001B[39m \u001B[43m    \u001B[49m\u001B[43mweight\u001B[49m\u001B[43m,\u001B[49m\n\u001B[32m   2825\u001B[39m \u001B[43m    \u001B[49m\u001B[43mbias\u001B[49m\u001B[43m,\u001B[49m\n\u001B[32m   2826\u001B[39m \u001B[43m    \u001B[49m\u001B[43mrunning_mean\u001B[49m\u001B[43m,\u001B[49m\n\u001B[32m   2827\u001B[39m \u001B[43m    \u001B[49m\u001B[43mrunning_var\u001B[49m\u001B[43m,\u001B[49m\n\u001B[32m   2828\u001B[39m \u001B[43m    \u001B[49m\u001B[43mtraining\u001B[49m\u001B[43m,\u001B[49m\n\u001B[32m   2829\u001B[39m \u001B[43m    \u001B[49m\u001B[43mmomentum\u001B[49m\u001B[43m,\u001B[49m\n\u001B[32m   2830\u001B[39m \u001B[43m    \u001B[49m\u001B[43meps\u001B[49m\u001B[43m,\u001B[49m\n\u001B[32m   2831\u001B[39m \u001B[43m    \u001B[49m\u001B[43mtorch\u001B[49m\u001B[43m.\u001B[49m\u001B[43mbackends\u001B[49m\u001B[43m.\u001B[49m\u001B[43mcudnn\u001B[49m\u001B[43m.\u001B[49m\u001B[43menabled\u001B[49m\u001B[43m,\u001B[49m\n\u001B[32m   2832\u001B[39m \u001B[43m\u001B[49m\u001B[43m)\u001B[49m\n",
      "\u001B[31mRuntimeError\u001B[39m: Expected all tensors to be on the same device, but found at least two devices, cuda:0 and cpu! (when checking argument for argument weight in method wrapper_CUDA__native_batch_norm)"
     ]
    }
   ],
   "execution_count": 35
  },
  {
   "cell_type": "code",
   "id": "28cc290b65ea8c3f",
   "metadata": {
    "ExecuteTime": {
     "end_time": "2025-06-17T21:05:47.424817Z",
     "start_time": "2025-06-17T21:05:47.243792Z"
    }
   },
   "source": [
    "# Анализ важности признаков\n",
    "importance = get_feature_importance(model, test_loader, device, feature_names)\n",
    "print(\"\\nВажность признаков (топ-10):\")\n",
    "print(importance.sort_values(ascending=False).head(10))\n",
    "\n",
    "# Визуализация важности признаков\n",
    "plt.figure(figsize=(10, 6))\n",
    "importance.sort_values(ascending=False)[:10].plot(kind='bar')\n",
    "plt.title('Топ-10 наиболее важных признаков')\n",
    "plt.ylabel('Важность')\n",
    "plt.xticks(rotation=45, ha='right')\n",
    "plt.tight_layout()\n",
    "plt.show()"
   ],
   "outputs": [
    {
     "name": "stdout",
     "output_type": "stream",
     "text": [
      "\n",
      "Важность признаков (топ-10):\n",
      "FIN Flag Count             0.086989\n",
      "Destination Port           0.076842\n",
      "Bwd Avg Packets/Bulk       0.075988\n",
      "Init_Win_bytes_backward    0.071411\n",
      "Bwd Avg Bytes/Bulk         0.070035\n",
      "Down/Up Ratio              0.069832\n",
      "Fwd Avg Packets/Bulk       0.069148\n",
      "Fwd IAT Std                0.067198\n",
      "Fwd IAT Max                0.066650\n",
      "Fwd Packet Length Std      0.065658\n",
      "dtype: float32\n"
     ]
    },
    {
     "data": {
      "text/plain": [
       "<Figure size 1000x600 with 1 Axes>"
      ],
      "image/png": "[encoded data removed]"
     },
     "metadata": {},
     "output_type": "display_data"
    }
   ],
   "execution_count": 29
  },
  {
   "cell_type": "code",
   "id": "11a081928ea0dc7e",
   "metadata": {
    "ExecuteTime": {
     "end_time": "2025-06-17T21:06:16.388198Z",
     "start_time": "2025-06-17T21:06:15.773542Z"
    }
   },
   "source": [
    "model.eval()\n",
    "model.to(\"cpu\")\n",
    "example_input = torch.randn(1, input_dim).to(\"cpu\")\n",
    "traced_model = torch.jit.trace(model, example_input)\n",
    "file_path = f'./models/tabnet_{TYPE}_{epochs}_traced.pt'\n",
    "traced_model.save(file_path)\n",
    "print(f\"Модель сохранена в {file_path}\")"
   ],
   "outputs": [
    {
     "name": "stdout",
     "output_type": "stream",
     "text": [
      "Модель сохранена в ./models/tabnet_multy_100_traced.pt\n"
     ]
    }
   ],
   "execution_count": 36
  },
  {
   "cell_type": "code",
   "execution_count": null,
   "id": "3173943d04e4bf63",
   "metadata": {
    "ExecuteTime": {
     "end_time": "2025-06-15T06:28:25.804735Z",
     "start_time": "2025-06-15T06:28:25.801375Z"
    }
   },
   "outputs": [],
   "source": []
  },
  {
   "cell_type": "code",
   "execution_count": null,
   "id": "70f636163844236a",
   "metadata": {
    "ExecuteTime": {
     "end_time": "2025-06-14T19:38:59.533251100Z",
     "start_time": "2025-06-10T20:45:36.732678Z"
    }
   },
   "outputs": [],
   "source": []
  },
  {
   "cell_type": "code",
   "execution_count": null,
   "id": "d7f21202854caefb",
   "metadata": {
    "ExecuteTime": {
     "end_time": "2025-06-14T19:39:01.703879600Z",
     "start_time": "2025-06-10T20:45:36.783055Z"
    }
   },
   "outputs": [],
   "source": []
  },
  {
   "cell_type": "code",
   "execution_count": null,
   "id": "b9c8a05eebaedb6e",
   "metadata": {},
   "outputs": [],
   "source": []
  },
  {
   "cell_type": "code",
   "execution_count": null,
   "id": "3b9f727650fbe4b2",
   "metadata": {},
   "outputs": [],
   "source": []
  }
 ],
 "metadata": {
  "kernelspec": {
   "display_name": "Python 3 (ipykernel)",
   "language": "python",
   "name": "python3"
  },
  "language_info": {
   "codemirror_mode": {
    "name": "ipython",
    "version": 3
   },
   "file_extension": ".py",
   "mimetype": "text/x-python",
   "name": "python",
   "nbconvert_exporter": "python",
   "pygments_lexer": "ipython3",
   "version": "3.12.10"
  }
 },
 "nbformat": 4,
 "nbformat_minor": 5
}
