{
 "cells": [
  {
   "metadata": {
    "collapsed": true,
    "ExecuteTime": {
     "end_time": "2025-06-08T15:33:24.517462Z",
     "start_time": "2025-06-08T15:33:21.820132Z"
    }
   },
   "cell_type": "code",
   "source": [
    "import torch\n",
    "import torch.nn as nn\n",
    "import torch.nn.functional as F\n",
    "from sklearn.preprocessing import StandardScaler, LabelEncoder\n",
    "from torch.utils.data import DataLoader, TensorDataset\n",
    "from sklearn.model_selection import train_test_split"
   ],
   "id": "initial_id",
   "outputs": [],
   "execution_count": 1
  },
  {
   "metadata": {
    "ExecuteTime": {
     "end_time": "2025-06-08T15:33:25.048131Z",
     "start_time": "2025-06-08T15:33:24.646840Z"
    }
   },
   "cell_type": "code",
   "source": [
    "import numpy as np\n",
    "import pandas as pd\n",
    "import matplotlib.pyplot as plt\n",
    "import os\n",
    "from glob import glob"
   ],
   "id": "bd5e060b3810cfe4",
   "outputs": [],
   "execution_count": 2
  },
  {
   "metadata": {
    "ExecuteTime": {
     "end_time": "2025-06-08T15:33:25.063023Z",
     "start_time": "2025-06-08T15:33:25.058556Z"
    }
   },
   "cell_type": "code",
   "source": [
    "COUNT_CLASSES = 2\n",
    "DATASET_PATH = 'datasets/data/benign_or_attack'"
   ],
   "id": "5380f0702e199f72",
   "outputs": [],
   "execution_count": 3
  },
  {
   "metadata": {
    "ExecuteTime": {
     "end_time": "2025-06-08T15:33:25.104075Z",
     "start_time": "2025-06-08T15:33:25.099281Z"
    }
   },
   "cell_type": "code",
   "source": [
    "csv_files = glob(os.path.join(DATASET_PATH, \"*.csv\"))\n",
    "print(csv_files)"
   ],
   "id": "18f214fb34eb5811",
   "outputs": [
    {
     "name": "stdout",
     "output_type": "stream",
     "text": [
      "['datasets/data/benign_or_attack\\\\BENIGN_Bot.csv', 'datasets/data/benign_or_attack\\\\BENIGN_PortScan.csv', 'datasets/data/benign_or_attack\\\\DDoS_BENIGN.csv', 'datasets/data/benign_or_attack\\\\DoS_BENIGN.csv', 'datasets/data/benign_or_attack\\\\WebAttacks.csv']\n"
     ]
    }
   ],
   "execution_count": 4
  },
  {
   "metadata": {
    "ExecuteTime": {
     "end_time": "2025-06-08T15:33:30.869979Z",
     "start_time": "2025-06-08T15:33:25.137647Z"
    }
   },
   "cell_type": "code",
   "source": [
    "data_frames = []\n",
    "for csv_file in csv_files:\n",
    "    try:\n",
    "        df = pd.read_csv(csv_file, delimiter=',')\n",
    "        print(f\"Файл {csv_file}: {df.shape[0]} строк, {df.shape[1]} столбцов\")\n",
    "        data_frames.append(df)\n",
    "    except Exception as e:\n",
    "        print(f\"Ошибка при чтении {csv_file}: {e}\")\n",
    "\n",
    "if not data_frames:\n",
    "    raise ValueError(\"Не удалось прочитать ни один CSV-файл.\")"
   ],
   "id": "b16dd24f57cb3d4",
   "outputs": [
    {
     "name": "stdout",
     "output_type": "stream",
     "text": [
      "Файл datasets/data/benign_or_attack\\BENIGN_Bot.csv: 191033 строк, 79 столбцов\n",
      "Файл datasets/data/benign_or_attack\\BENIGN_PortScan.csv: 286467 строк, 79 столбцов\n",
      "Файл datasets/data/benign_or_attack\\DDoS_BENIGN.csv: 225745 строк, 79 столбцов\n",
      "Файл datasets/data/benign_or_attack\\DoS_BENIGN.csv: 692703 строк, 79 столбцов\n",
      "Файл datasets/data/benign_or_attack\\WebAttacks.csv: 170366 строк, 79 столбцов\n"
     ]
    }
   ],
   "execution_count": 5
  },
  {
   "metadata": {
    "ExecuteTime": {
     "end_time": "2025-06-08T15:33:31.052309Z",
     "start_time": "2025-06-08T15:33:30.890787Z"
    }
   },
   "cell_type": "code",
   "source": [
    "data = pd.concat(data_frames, ignore_index=True)\n",
    "print(f\"Объединённый DataFrame из {len(csv_files)} файла: {data.shape[0]} строк, {data.shape[1]} столбцов\")"
   ],
   "id": "b384142b89512595",
   "outputs": [
    {
     "name": "stdout",
     "output_type": "stream",
     "text": [
      "Объединённый DataFrame из 5 файла: 1566314 строк, 79 столбцов\n"
     ]
    }
   ],
   "execution_count": 6
  },
  {
   "metadata": {
    "ExecuteTime": {
     "end_time": "2025-06-08T15:33:32.719515Z",
     "start_time": "2025-06-08T15:33:31.074777Z"
    }
   },
   "cell_type": "code",
   "source": [
    "data = data.dropna()\n",
    "data = data.fillna(0).replace([np.inf, -np.inf], 0)\n",
    "data.columns = data.columns.str.strip()"
   ],
   "id": "b0f3c7dc07476a8a",
   "outputs": [],
   "execution_count": 7
  },
  {
   "metadata": {
    "ExecuteTime": {
     "end_time": "2025-06-08T15:33:32.745504Z",
     "start_time": "2025-06-08T15:33:32.741003Z"
    }
   },
   "cell_type": "code",
   "source": "print(data.shape)",
   "id": "bac57510db51d41b",
   "outputs": [
    {
     "name": "stdout",
     "output_type": "stream",
     "text": [
      "(1565239, 79)\n"
     ]
    }
   ],
   "execution_count": 8
  },
  {
   "metadata": {
    "ExecuteTime": {
     "end_time": "2025-06-08T15:33:32.837972Z",
     "start_time": "2025-06-08T15:33:32.775169Z"
    }
   },
   "cell_type": "code",
   "source": "data['Label'].unique()",
   "id": "7e4d3e22f5efb547",
   "outputs": [
    {
     "data": {
      "text/plain": [
       "array(['BENIGN', 'Bot', 'PortScan', 'DDoS', 'DoS slowloris',\n",
       "       'DoS Slowhttptest', 'DoS Hulk', 'DoS GoldenEye', 'Heartbleed',\n",
       "       'Web Attack � Brute Force', 'Web Attack � XSS',\n",
       "       'Web Attack � Sql Injection'], dtype=object)"
      ]
     },
     "execution_count": 9,
     "metadata": {},
     "output_type": "execute_result"
    }
   ],
   "execution_count": 9
  },
  {
   "metadata": {
    "ExecuteTime": {
     "end_time": "2025-06-08T15:33:33.104713Z",
     "start_time": "2025-06-08T15:33:32.863727Z"
    }
   },
   "cell_type": "code",
   "source": [
    "X = data.drop('Label', axis=1)\n",
    "y = np.where(data['Label'] == 'BENIGN', 0, 1)"
   ],
   "id": "fbc20005b024954a",
   "outputs": [],
   "execution_count": 10
  },
  {
   "metadata": {
    "ExecuteTime": {
     "end_time": "2025-06-08T15:33:33.138363Z",
     "start_time": "2025-06-08T15:33:33.134143Z"
    }
   },
   "cell_type": "code",
   "source": [
    "feature_names = X.columns\n",
    "print(feature_names)"
   ],
   "id": "2e5fdfe92779d06c",
   "outputs": [
    {
     "name": "stdout",
     "output_type": "stream",
     "text": [
      "Index(['Destination Port', 'Flow Duration', 'Total Fwd Packets',\n",
      "       'Total Backward Packets', 'Total Length of Fwd Packets',\n",
      "       'Total Length of Bwd Packets', 'Fwd Packet Length Max',\n",
      "       'Fwd Packet Length Min', 'Fwd Packet Length Mean',\n",
      "       'Fwd Packet Length Std', 'Bwd Packet Length Max',\n",
      "       'Bwd Packet Length Min', 'Bwd Packet Length Mean',\n",
      "       'Bwd Packet Length Std', 'Flow Bytes/s', 'Flow Packets/s',\n",
      "       'Flow IAT Mean', 'Flow IAT Std', 'Flow IAT Max', 'Flow IAT Min',\n",
      "       'Fwd IAT Total', 'Fwd IAT Mean', 'Fwd IAT Std', 'Fwd IAT Max',\n",
      "       'Fwd IAT Min', 'Bwd IAT Total', 'Bwd IAT Mean', 'Bwd IAT Std',\n",
      "       'Bwd IAT Max', 'Bwd IAT Min', 'Fwd PSH Flags', 'Bwd PSH Flags',\n",
      "       'Fwd URG Flags', 'Bwd URG Flags', 'Fwd Header Length',\n",
      "       'Bwd Header Length', 'Fwd Packets/s', 'Bwd Packets/s',\n",
      "       'Min Packet Length', 'Max Packet Length', 'Packet Length Mean',\n",
      "       'Packet Length Std', 'Packet Length Variance', 'FIN Flag Count',\n",
      "       'SYN Flag Count', 'RST Flag Count', 'PSH Flag Count', 'ACK Flag Count',\n",
      "       'URG Flag Count', 'CWE Flag Count', 'ECE Flag Count', 'Down/Up Ratio',\n",
      "       'Average Packet Size', 'Avg Fwd Segment Size', 'Avg Bwd Segment Size',\n",
      "       'Fwd Header Length.1', 'Fwd Avg Bytes/Bulk', 'Fwd Avg Packets/Bulk',\n",
      "       'Fwd Avg Bulk Rate', 'Bwd Avg Bytes/Bulk', 'Bwd Avg Packets/Bulk',\n",
      "       'Bwd Avg Bulk Rate', 'Subflow Fwd Packets', 'Subflow Fwd Bytes',\n",
      "       'Subflow Bwd Packets', 'Subflow Bwd Bytes', 'Init_Win_bytes_forward',\n",
      "       'Init_Win_bytes_backward', 'act_data_pkt_fwd', 'min_seg_size_forward',\n",
      "       'Active Mean', 'Active Std', 'Active Max', 'Active Min', 'Idle Mean',\n",
      "       'Idle Std', 'Idle Max', 'Idle Min'],\n",
      "      dtype='object')\n"
     ]
    }
   ],
   "execution_count": 11
  },
  {
   "metadata": {
    "ExecuteTime": {
     "end_time": "2025-06-08T15:33:35.110153Z",
     "start_time": "2025-06-08T15:33:33.167878Z"
    }
   },
   "cell_type": "code",
   "source": [
    "scaler = StandardScaler()\n",
    "X = scaler.fit_transform(X)"
   ],
   "id": "ff5663e86d4d33e9",
   "outputs": [],
   "execution_count": 12
  },
  {
   "metadata": {
    "ExecuteTime": {
     "end_time": "2025-06-08T15:33:37.536713Z",
     "start_time": "2025-06-08T15:33:35.257873Z"
    }
   },
   "cell_type": "code",
   "source": [
    "X_train, X_test, y_train, y_test = train_test_split(\n",
    "    X, y, test_size=0.2, random_state=42, stratify=y\n",
    ")"
   ],
   "id": "5b2328ed4ae2258f",
   "outputs": [],
   "execution_count": 13
  },
  {
   "metadata": {
    "ExecuteTime": {
     "end_time": "2025-06-08T15:33:37.680722Z",
     "start_time": "2025-06-08T15:33:37.609251Z"
    }
   },
   "cell_type": "code",
   "source": [
    "X_train_tensor = torch.FloatTensor(X_train)\n",
    "y_train_tensor = torch.LongTensor(y_train)\n",
    "X_test_tensor = torch.FloatTensor(X_test)\n",
    "y_test_tensor = torch.LongTensor(y_test)"
   ],
   "id": "6705cdc6d5539818",
   "outputs": [],
   "execution_count": 14
  },
  {
   "metadata": {
    "ExecuteTime": {
     "end_time": "2025-06-08T15:33:37.715689Z",
     "start_time": "2025-06-08T15:33:37.711746Z"
    }
   },
   "cell_type": "code",
   "source": [
    "train_dataset = TensorDataset(X_train_tensor, y_train_tensor)\n",
    "test_dataset = TensorDataset(X_test_tensor, y_test_tensor)\n",
    "train_loader = DataLoader(train_dataset, batch_size=256, shuffle=True)\n",
    "test_loader = DataLoader(test_dataset, batch_size=256, shuffle=False)"
   ],
   "id": "fae343340b420ee2",
   "outputs": [],
   "execution_count": 15
  },
  {
   "metadata": {
    "ExecuteTime": {
     "end_time": "2025-06-08T15:33:37.776698Z",
     "start_time": "2025-06-08T15:33:37.749691Z"
    }
   },
   "cell_type": "code",
   "source": [
    "device = torch.device(\"cuda\" if torch.cuda.is_available() else \"cpu\")\n",
    "print(device)"
   ],
   "id": "2ce2b23f755dc955",
   "outputs": [
    {
     "name": "stdout",
     "output_type": "stream",
     "text": [
      "cuda\n"
     ]
    }
   ],
   "execution_count": 16
  },
  {
   "metadata": {
    "ExecuteTime": {
     "end_time": "2025-06-08T15:33:37.823225Z",
     "start_time": "2025-06-08T15:33:37.812703Z"
    }
   },
   "cell_type": "code",
   "source": [
    "class TabNet(nn.Module):\n",
    "    def __init__(self, input_dim, output_dim, n_d=32, n_a=32, n_steps=3, gamma=1.3,\n",
    "                 n_independent=2, n_shared=2, epsilon=1e-15, momentum=0.02):\n",
    "        super(TabNet, self).__init__()\n",
    "        self.input_dim = input_dim\n",
    "        self.output_dim = output_dim\n",
    "        self.n_d = n_d\n",
    "        self.n_a = n_a\n",
    "        self.n_steps = n_steps\n",
    "        self.gamma = gamma\n",
    "        self.epsilon = epsilon\n",
    "        self.momentum = momentum\n",
    "\n",
    "        self.initial_bn = nn.BatchNorm1d(input_dim, momentum=momentum)\n",
    "        self.initial_splitter = FeatureTransformer(input_dim, n_d + n_a, n_independent, n_shared, momentum)\n",
    "        self.attentive_transformers = nn.ModuleList([\n",
    "            AttentiveTransformer(input_dim, n_a, momentum) for _ in range(n_steps)  # Используем n_a вместо n_d + n_a\n",
    "        ])\n",
    "        self.feature_transformers = nn.ModuleList([\n",
    "            FeatureTransformer(input_dim, n_d + n_a, n_independent, n_shared, momentum)\n",
    "            for _ in range(n_steps)\n",
    "        ])\n",
    "        self.final_linear = nn.Linear(n_d, output_dim)\n",
    "\n",
    "    def forward(self, x):\n",
    "        batch_size = x.size(0)\n",
    "        x = self.initial_bn(x)\n",
    "        prior = torch.ones(batch_size, self.input_dim, device=x.device)\n",
    "        M_loss = 0\n",
    "        outputs = []\n",
    "        M = []\n",
    "\n",
    "        features = self.initial_splitter(x)\n",
    "        d, a = features[:, :self.n_d], features[:, self.n_d:]\n",
    "\n",
    "        for step in range(self.n_steps):\n",
    "            M_i = self.attentive_transformers[step](a, prior)\n",
    "            M.append(M_i)\n",
    "            M_loss += torch.mean(torch.sum(-M_i * torch.log(M_i + self.epsilon), dim=1))\n",
    "            prior = self.gamma - M_i\n",
    "            prior = torch.cumprod(prior, dim=0)\n",
    "            masked_x = M_i * x\n",
    "            features = self.feature_transformers[step](masked_x)\n",
    "            d, a = features[:, :self.n_d], features[:, self.n_d:]\n",
    "            outputs.append(d)\n",
    "\n",
    "        out = torch.stack(outputs, dim=1).sum(dim=1)\n",
    "        out = self.final_linear(out)\n",
    "        return out, M, M_loss / self.n_steps"
   ],
   "id": "d44f60e455d831f4",
   "outputs": [],
   "execution_count": 17
  },
  {
   "metadata": {
    "ExecuteTime": {
     "end_time": "2025-06-08T15:33:37.897399Z",
     "start_time": "2025-06-08T15:33:37.889184Z"
    }
   },
   "cell_type": "code",
   "source": [
    "class FeatureTransformer(nn.Module):\n",
    "    def __init__(self, input_dim, output_dim, n_independent, n_shared, momentum):\n",
    "        super(FeatureTransformer, self).__init__()\n",
    "        self.shared = nn.ModuleList()\n",
    "        for i in range(n_shared):\n",
    "            in_features = input_dim if i == 0 else output_dim\n",
    "            self.shared.append(nn.Sequential(\n",
    "                nn.Linear(in_features, output_dim * 2),\n",
    "                nn.BatchNorm1d(output_dim * 2, momentum=momentum),\n",
    "                nn.GLU()\n",
    "            ))\n",
    "        self.independent = nn.ModuleList()\n",
    "        for _ in range(n_independent):\n",
    "            self.independent.append(nn.Sequential(\n",
    "                nn.Linear(output_dim, output_dim * 2),\n",
    "                nn.BatchNorm1d(output_dim * 2, momentum=momentum),\n",
    "                nn.GLU()\n",
    "            ))\n",
    "\n",
    "    def forward(self, x):\n",
    "        shared_out = x\n",
    "        for layer in self.shared:\n",
    "            shared_out = layer(shared_out)\n",
    "        out = shared_out\n",
    "        for layer in self.independent:\n",
    "            out = layer(out)\n",
    "        return out"
   ],
   "id": "6f8f5394b0004f5a",
   "outputs": [],
   "execution_count": 18
  },
  {
   "metadata": {
    "ExecuteTime": {
     "end_time": "2025-06-08T15:33:38.002075Z",
     "start_time": "2025-06-08T15:33:37.996375Z"
    }
   },
   "cell_type": "code",
   "source": [
    "class AttentiveTransformer(nn.Module):\n",
    "    def __init__(self, input_dim, n_a, momentum):  # Изменено: используем n_a вместо output_dim\n",
    "        super(AttentiveTransformer, self).__init__()\n",
    "        self.fc = nn.Linear(n_a, input_dim)  # Вход: n_a, выход: input_dim\n",
    "        self.bn = nn.BatchNorm1d(input_dim, momentum=momentum)\n",
    "\n",
    "    def forward(self, a, prior):\n",
    "        a = self.fc(a)\n",
    "        a = self.bn(a)\n",
    "        a = a * prior\n",
    "        return sparsemax(a)"
   ],
   "id": "cc71668c85adabdd",
   "outputs": [],
   "execution_count": 19
  },
  {
   "metadata": {
    "ExecuteTime": {
     "end_time": "2025-06-08T15:33:38.091153Z",
     "start_time": "2025-06-08T15:33:38.086836Z"
    }
   },
   "cell_type": "code",
   "source": [
    "def sparsemax(x):\n",
    "    \"\"\"Sparsemax function for attention mechanism\"\"\"\n",
    "    sorted_x, _ = torch.sort(x, dim=1, descending=True)\n",
    "    cumsum = torch.cumsum(F.softmax(sorted_x, dim=1), dim=1)\n",
    "    rho = (cumsum <= 1).sum(dim=1, keepdim=True)\n",
    "    tau = (cumsum.gather(1, rho - 1) - 1) / rho\n",
    "    out = F.relu(x - tau)\n",
    "    return out / (out.sum(dim=1, keepdim=True) + 1e-15)"
   ],
   "id": "4d229320a1c83ee9",
   "outputs": [],
   "execution_count": 20
  },
  {
   "metadata": {
    "ExecuteTime": {
     "end_time": "2025-06-08T15:33:38.165022Z",
     "start_time": "2025-06-08T15:33:38.157596Z"
    }
   },
   "cell_type": "code",
   "source": [
    "def train_tabnet(model, train_loader, test_loader, optimizer, epochs, device):\n",
    "    model.train()\n",
    "    for epoch in range(epochs):\n",
    "        total_train_loss = 0\n",
    "        for batch_idx, (data, target) in enumerate(train_loader):\n",
    "            data, target = data.to(device), target.to(device)\n",
    "            optimizer.zero_grad()\n",
    "            output, M, M_loss = model(data)\n",
    "            loss = F.cross_entropy(output, target) + 0.01 * M_loss\n",
    "            loss.backward()\n",
    "            optimizer.step()\n",
    "            total_train_loss += loss.item()\n",
    "\n",
    "        # Оценка на тестовом наборе\n",
    "        model.eval()\n",
    "        total_test_loss = 0\n",
    "        correct = 0\n",
    "        total = 0\n",
    "        with torch.no_grad():\n",
    "            for data, target in test_loader:\n",
    "                data, target = data.to(device), target.to(device)\n",
    "                output, _, M_loss = model(data)\n",
    "                test_loss = F.cross_entropy(output, target) + 0.01 * M_loss\n",
    "                total_test_loss += test_loss.item()\n",
    "                pred = output.argmax(dim=1)\n",
    "                correct += pred.eq(target).sum().item()\n",
    "                total += target.size(0)\n",
    "\n",
    "        train_loss = total_train_loss / len(train_loader)\n",
    "        test_loss = total_test_loss / len(test_loader)\n",
    "        test_accuracy = 100. * correct / total\n",
    "        print(f'Эпоха {epoch+1}, Тренировочные потери: {train_loss:.4f}, '\n",
    "              f'Тестовые потери: {test_loss:.4f}, Тестовая точность: {test_accuracy:.2f}%')"
   ],
   "id": "74f7f856ad0f2875",
   "outputs": [],
   "execution_count": 21
  },
  {
   "metadata": {
    "ExecuteTime": {
     "end_time": "2025-06-08T15:34:51.730588Z",
     "start_time": "2025-06-08T15:34:51.722676Z"
    }
   },
   "cell_type": "code",
   "source": [
    "def get_feature_importance(model, data_loader, device, feature_names):\n",
    "    model.eval()\n",
    "    feature_importance = torch.zeros(model.input_dim).to(device)\n",
    "    total_samples = 0\n",
    "    with torch.no_grad():\n",
    "        for data, _ in data_loader:\n",
    "            data = data.to(device)\n",
    "            _, masks, _ = model(data)\n",
    "            for mask in masks:\n",
    "                feature_importance += mask.sum(dim=0)\n",
    "            total_samples += data.size(0)\n",
    "    importance = feature_importance.cpu().numpy() / total_samples\n",
    "\n",
    "    return pd.Series(importance, index=feature_names)"
   ],
   "id": "a5d80445c73b6e9",
   "outputs": [],
   "execution_count": 24
  },
  {
   "metadata": {
    "ExecuteTime": {
     "end_time": "2025-06-08T15:41:27.734040Z",
     "start_time": "2025-06-08T15:34:53.390061Z"
    }
   },
   "cell_type": "code",
   "source": [
    "# Инициализация модели\n",
    "input_dim = X.shape[1]\n",
    "output_dim = 2\n",
    "model = TabNet(input_dim=input_dim, output_dim=output_dim, n_d=32, n_a=32).to(device)\n",
    "\n",
    "# Настройка оптимизатора\n",
    "optimizer = torch.optim.Adam(model.parameters(), lr=0.02)\n",
    "\n",
    "# Обучение модели\n",
    "epochs = 5\n",
    "train_tabnet(model, train_loader, test_loader, optimizer, epochs, device)"
   ],
   "id": "a2ff19de0a9eec36",
   "outputs": [
    {
     "name": "stdout",
     "output_type": "stream",
     "text": [
      "Эпоха 1, Тренировочные потери: 0.0567, Тестовые потери: 0.2880, Тестовая точность: 89.23%\n",
      "Эпоха 2, Тренировочные потери: 0.0845, Тестовые потери: 0.0390, Тестовая точность: 98.79%\n",
      "Эпоха 3, Тренировочные потери: 0.0544, Тестовые потери: 0.0584, Тестовая точность: 98.23%\n",
      "Эпоха 4, Тренировочные потери: 0.0543, Тестовые потери: 0.0399, Тестовая точность: 98.95%\n",
      "Эпоха 5, Тренировочные потери: 0.0575, Тестовые потери: 0.0542, Тестовая точность: 98.78%\n"
     ]
    }
   ],
   "execution_count": 25
  },
  {
   "metadata": {
    "ExecuteTime": {
     "end_time": "2025-06-08T15:41:35.486996Z",
     "start_time": "2025-06-08T15:41:27.776685Z"
    }
   },
   "cell_type": "code",
   "source": [
    "# Анализ важности признаков\n",
    "importance = get_feature_importance(model, test_loader, device, feature_names)\n",
    "print(\"\\nВажность признаков (топ-10):\")\n",
    "print(importance.sort_values(ascending=False).head(10))\n",
    "\n",
    "# Визуализация важности признаков\n",
    "plt.figure(figsize=(10, 6))\n",
    "importance.sort_values(ascending=False)[:10].plot(kind='bar')\n",
    "plt.title('Топ-10 наиболее важных признаков')\n",
    "plt.ylabel('Важность')\n",
    "plt.xticks(rotation=45, ha='right')\n",
    "plt.tight_layout()\n",
    "plt.show()"
   ],
   "id": "3173943d04e4bf63",
   "outputs": [
    {
     "name": "stdout",
     "output_type": "stream",
     "text": [
      "\n",
      "Важность признаков (топ-10):\n",
      "Fwd Header Length.1      0.999965\n",
      "Destination Port         0.541900\n",
      "Fwd IAT Std              0.473881\n",
      "Bwd Packet Length Std    0.162147\n",
      "Bwd IAT Mean             0.115150\n",
      "Bwd Avg Bulk Rate        0.075121\n",
      "Fwd IAT Mean             0.059912\n",
      "Avg Fwd Segment Size     0.058237\n",
      "Fwd IAT Min              0.044317\n",
      "RST Flag Count           0.032929\n",
      "dtype: float32\n"
     ]
    },
    {
     "data": {
      "text/plain": [
       "<Figure size 1000x600 with 1 Axes>"
      ],
      "image/png": "[encoded data removed]"
     },
     "metadata": {},
     "output_type": "display_data"
    }
   ],
   "execution_count": 26
  },
  {
   "metadata": {
    "ExecuteTime": {
     "end_time": "2025-06-08T08:43:41.867343Z",
     "start_time": "2025-06-08T08:43:41.864551Z"
    }
   },
   "cell_type": "code",
   "source": "",
   "id": "a71f3c88733cb5c9",
   "outputs": [],
   "execution_count": null
  },
  {
   "metadata": {},
   "cell_type": "code",
   "outputs": [],
   "execution_count": null,
   "source": "",
   "id": "564dcb0bafa0d228"
  },
  {
   "metadata": {},
   "cell_type": "code",
   "outputs": [],
   "execution_count": null,
   "source": "",
   "id": "bfee5db8dc718bbb"
  }
 ],
 "metadata": {
  "kernelspec": {
   "display_name": "Python 3",
   "language": "python",
   "name": "python3"
  },
  "language_info": {
   "codemirror_mode": {
    "name": "ipython",
    "version": 2
   },
   "file_extension": ".py",
   "mimetype": "text/x-python",
   "name": "python",
   "nbconvert_exporter": "python",
   "pygments_lexer": "ipython2",
   "version": "2.7.6"
  }
 },
 "nbformat": 4,
 "nbformat_minor": 5
}
