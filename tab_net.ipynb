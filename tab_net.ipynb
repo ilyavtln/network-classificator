{
 "cells": [
  {
   "metadata": {
    "collapsed": true,
    "ExecuteTime": {
     "end_time": "2025-06-15T04:58:37.707530Z",
     "start_time": "2025-06-15T04:58:35.781338Z"
    }
   },
   "cell_type": "code",
   "source": [
    "import torch\n",
    "import torch.nn as nn\n",
    "import torch.nn.functional as F\n",
    "from sklearn.preprocessing import StandardScaler, LabelEncoder\n",
    "from torch.utils.data import DataLoader, TensorDataset\n",
    "from sklearn.model_selection import train_test_split\n",
    "from sklearn.utils.class_weight import compute_class_weight\n",
    "from sklearn.metrics import accuracy_score, precision_recall_fscore_support, confusion_matrix, roc_curve, auc"
   ],
   "id": "initial_id",
   "outputs": [],
   "execution_count": 1
  },
  {
   "metadata": {
    "ExecuteTime": {
     "end_time": "2025-06-15T04:58:37.727915Z",
     "start_time": "2025-06-15T04:58:37.720928Z"
    }
   },
   "cell_type": "code",
   "source": [
    "import numpy as np\n",
    "import pandas as pd\n",
    "import matplotlib.pyplot as plt\n",
    "from tqdm import tqdm\n",
    "import os\n",
    "import seaborn as sns\n",
    "from glob import glob\n",
    "from config import constants"
   ],
   "id": "bd5e060b3810cfe4",
   "outputs": [],
   "execution_count": 2
  },
  {
   "metadata": {
    "ExecuteTime": {
     "end_time": "2025-06-15T04:58:37.764617Z",
     "start_time": "2025-06-15T04:58:37.760638Z"
    }
   },
   "cell_type": "code",
   "source": [
    "IS_BINARY = False\n",
    "\n",
    "params = {\n",
    "    'batch_size': 16,\n",
    "    'n_d': 32,\n",
    "    'n_a': 32,\n",
    "    'n_steps': 5,\n",
    "    'gamma': 1.2,\n",
    "    'n_independent': 2,\n",
    "    'n_shared': 3,\n",
    "    'epochs': 10,\n",
    "    'learning_rate': 0.001,\n",
    "}"
   ],
   "id": "c65e1f38bad388a6",
   "outputs": [],
   "execution_count": 3
  },
  {
   "metadata": {
    "ExecuteTime": {
     "end_time": "2025-06-15T04:58:37.903959Z",
     "start_time": "2025-06-15T04:58:37.899689Z"
    }
   },
   "cell_type": "code",
   "source": [
    "CATEGORIES = constants.CATEGORIES\n",
    "PLOTS_DIR = './images'\n",
    "MODEL_PATH = './models'\n",
    "if IS_BINARY:\n",
    "    DATASET_PATH = 'datasets/data/benign_or_attack_merged'\n",
    "else:\n",
    "    DATASET_PATH = 'datasets/data/different_features'"
   ],
   "id": "d955140a38cf0d26",
   "outputs": [],
   "execution_count": 4
  },
  {
   "metadata": {
    "ExecuteTime": {
     "end_time": "2025-06-15T04:58:37.994905Z",
     "start_time": "2025-06-15T04:58:37.987879Z"
    }
   },
   "cell_type": "code",
   "source": [
    "csv_files = glob(os.path.join(DATASET_PATH, \"*.csv\"))\n",
    "print(f\"IS_BINARY: { IS_BINARY } \\n{ csv_files }\")"
   ],
   "id": "18f214fb34eb5811",
   "outputs": [
    {
     "name": "stdout",
     "output_type": "stream",
     "text": [
      "IS_BINARY: False \n",
      "['datasets/data/different_features\\\\traffic_features.csv']\n"
     ]
    }
   ],
   "execution_count": 5
  },
  {
   "metadata": {
    "ExecuteTime": {
     "end_time": "2025-06-15T04:58:38.095985Z",
     "start_time": "2025-06-15T04:58:38.076430Z"
    }
   },
   "cell_type": "code",
   "source": [
    "data_frames = []\n",
    "\n",
    "for csv_file in csv_files:\n",
    "    try:\n",
    "        df = pd.read_csv(csv_file, delimiter=',')\n",
    "        print(f\"Файл {csv_file}: {df.shape[0]} строк, {df.shape[1]} столбцов\")\n",
    "        data_frames.append(df)\n",
    "    except Exception as e:\n",
    "        print(f\"Ошибка при чтении {csv_file}: {e}\")\n",
    "\n",
    "if not data_frames:\n",
    "    raise ValueError(\"Не удалось прочитать ни один CSV-файл.\")"
   ],
   "id": "b16dd24f57cb3d4",
   "outputs": [
    {
     "name": "stdout",
     "output_type": "stream",
     "text": [
      "Файл datasets/data/different_features\\traffic_features.csv: 1223 строк, 78 столбцов\n"
     ]
    }
   ],
   "execution_count": 6
  },
  {
   "metadata": {
    "ExecuteTime": {
     "end_time": "2025-06-15T04:58:38.179693Z",
     "start_time": "2025-06-15T04:58:38.173727Z"
    }
   },
   "cell_type": "code",
   "source": [
    "data = pd.concat(data_frames, ignore_index=True)\n",
    "print(f\"Объединённый DataFrame из {len(csv_files)} файла: {data.shape[0]} строк, {data.shape[1]} столбцов\")"
   ],
   "id": "b384142b89512595",
   "outputs": [
    {
     "name": "stdout",
     "output_type": "stream",
     "text": [
      "Объединённый DataFrame из 1 файла: 1223 строк, 78 столбцов\n"
     ]
    }
   ],
   "execution_count": 7
  },
  {
   "metadata": {
    "ExecuteTime": {
     "end_time": "2025-06-15T04:58:38.337800Z",
     "start_time": "2025-06-15T04:58:38.328701Z"
    }
   },
   "cell_type": "code",
   "source": [
    "data = data.dropna()\n",
    "data = data.fillna(0).replace([np.inf, -np.inf], 0)\n",
    "data.columns = data.columns.str.strip()"
   ],
   "id": "b0f3c7dc07476a8a",
   "outputs": [],
   "execution_count": 8
  },
  {
   "metadata": {
    "ExecuteTime": {
     "end_time": "2025-06-15T04:58:39.060310Z",
     "start_time": "2025-06-15T04:58:39.054933Z"
    }
   },
   "cell_type": "code",
   "source": "print(data.shape)",
   "id": "bac57510db51d41b",
   "outputs": [
    {
     "name": "stdout",
     "output_type": "stream",
     "text": [
      "(1223, 78)\n"
     ]
    }
   ],
   "execution_count": 9
  },
  {
   "metadata": {
    "ExecuteTime": {
     "end_time": "2025-06-15T04:58:39.450203Z",
     "start_time": "2025-06-15T04:58:39.442293Z"
    }
   },
   "cell_type": "code",
   "source": "data['Label'].unique()",
   "id": "7e4d3e22f5efb547",
   "outputs": [
    {
     "data": {
      "text/plain": [
       "array(['cloud_service', 'e-mail', 'games', 'information', 'music',\n",
       "       'social_network', 'video_hosting'], dtype=object)"
      ]
     },
     "execution_count": 10,
     "metadata": {},
     "output_type": "execute_result"
    }
   ],
   "execution_count": 10
  },
  {
   "metadata": {
    "ExecuteTime": {
     "end_time": "2025-06-15T04:58:39.975517Z",
     "start_time": "2025-06-15T04:58:39.966561Z"
    }
   },
   "cell_type": "code",
   "source": [
    "print(\"\\nАнализ распределения классов:\")\n",
    "class_counts = pd.Series(data['Label']).value_counts()\n",
    "class_percentages = pd.Series(data['Label']).value_counts(normalize=True) * 100\n",
    "distribution_df = pd.DataFrame({\n",
    "    'Количество': class_counts,\n",
    "    'Процент': class_percentages.round(2)\n",
    "}).sort_index()\n",
    "\n",
    "print(distribution_df)"
   ],
   "id": "5352159ad13826d3",
   "outputs": [
    {
     "name": "stdout",
     "output_type": "stream",
     "text": [
      "\n",
      "Анализ распределения классов:\n",
      "                Количество  Процент\n",
      "Label                              \n",
      "cloud_service          103     8.42\n",
      "e-mail                  99     8.09\n",
      "games                  432    35.32\n",
      "information            170    13.90\n",
      "music                  140    11.45\n",
      "social_network         172    14.06\n",
      "video_hosting          107     8.75\n"
     ]
    }
   ],
   "execution_count": 11
  },
  {
   "metadata": {
    "ExecuteTime": {
     "end_time": "2025-06-15T04:52:12.596873Z",
     "start_time": "2025-06-15T04:52:12.589276Z"
    }
   },
   "cell_type": "code",
   "source": [
    "X = data.drop('Label', axis=1)\n",
    "\n",
    "label_encoder = LabelEncoder()\n",
    "y = label_encoder.fit_transform(data['Label'])\n",
    "class_names = label_encoder.classes_\n",
    "\n",
    "\n",
    "for i in range(0, len(class_names)):\n",
    "    print(f\"{np.unique(y)[i]}: {class_names[i]}\")"
   ],
   "id": "fbc20005b024954a",
   "outputs": [
    {
     "name": "stdout",
     "output_type": "stream",
     "text": [
      "0: cloud_service\n",
      "1: e-mail\n",
      "2: games\n",
      "3: information\n",
      "4: music\n",
      "5: social_network\n",
      "6: video_hosting\n"
     ]
    }
   ],
   "execution_count": 17
  },
  {
   "metadata": {
    "ExecuteTime": {
     "end_time": "2025-06-15T04:52:13.240235Z",
     "start_time": "2025-06-15T04:52:13.236023Z"
    }
   },
   "cell_type": "code",
   "source": [
    "feature_names = X.columns\n",
    "print(feature_names)"
   ],
   "id": "2e5fdfe92779d06c",
   "outputs": [
    {
     "name": "stdout",
     "output_type": "stream",
     "text": [
      "Index(['Destination Port', 'Flow Duration', 'Total Fwd Packets',\n",
      "       'Total Backward Packets', 'Total Length of Fwd Packets',\n",
      "       'Total Length of Bwd Packets', 'Fwd Packet Length Max',\n",
      "       'Fwd Packet Length Min', 'Fwd Packet Length Mean',\n",
      "       'Fwd Packet Length Std', 'Bwd Packet Length Max',\n",
      "       'Bwd Packet Length Min', 'Bwd Packet Length Mean',\n",
      "       'Bwd Packet Length Std', 'Flow Bytes/s', 'Flow Packets/s',\n",
      "       'Flow IAT Mean', 'Flow IAT Std', 'Flow IAT Max', 'Flow IAT Min',\n",
      "       'Fwd IAT Total', 'Fwd IAT Mean', 'Fwd IAT Std', 'Fwd IAT Max',\n",
      "       'Fwd IAT Min', 'Bwd IAT Total', 'Bwd IAT Mean', 'Bwd IAT Std',\n",
      "       'Bwd IAT Max', 'Bwd IAT Min', 'Fwd PSH Flags', 'Bwd PSH Flags',\n",
      "       'Fwd URG Flags', 'Bwd URG Flags', 'Fwd Header Length',\n",
      "       'Bwd Header Length', 'Fwd Packets/s', 'Bwd Packets/s',\n",
      "       'Min Packet Length', 'Max Packet Length', 'Packet Length Mean',\n",
      "       'Packet Length Std', 'Packet Length Variance', 'FIN Flag Count',\n",
      "       'SYN Flag Count', 'RST Flag Count', 'PSH Flag Count', 'ACK Flag Count',\n",
      "       'URG Flag Count', 'CWE Flag Count', 'ECE Flag Count', 'Down/Up Ratio',\n",
      "       'Average Packet Size', 'Avg Fwd Segment Size', 'Avg Bwd Segment Size',\n",
      "       'Fwd Avg Bytes/Bulk', 'Fwd Avg Packets/Bulk', 'Fwd Avg Bulk Rate',\n",
      "       'Bwd Avg Bytes/Bulk', 'Bwd Avg Packets/Bulk', 'Bwd Avg Bulk Rate',\n",
      "       'Subflow Fwd Packets', 'Subflow Fwd Bytes', 'Subflow Bwd Packets',\n",
      "       'Subflow Bwd Bytes', 'Init_Win_bytes_forward',\n",
      "       'Init_Win_bytes_backward', 'act_data_pkt_fwd', 'min_seg_size_forward',\n",
      "       'Active Mean', 'Active Std', 'Active Max', 'Active Min', 'Idle Mean',\n",
      "       'Idle Std', 'Idle Max', 'Idle Min'],\n",
      "      dtype='object')\n"
     ]
    }
   ],
   "execution_count": 18
  },
  {
   "metadata": {
    "ExecuteTime": {
     "end_time": "2025-06-15T04:52:14.399029Z",
     "start_time": "2025-06-15T04:52:14.388801Z"
    }
   },
   "cell_type": "code",
   "source": [
    "scaler = StandardScaler()\n",
    "X = scaler.fit_transform(X)"
   ],
   "id": "ff5663e86d4d33e9",
   "outputs": [],
   "execution_count": 19
  },
  {
   "metadata": {
    "ExecuteTime": {
     "end_time": "2025-06-15T04:52:21.792971Z",
     "start_time": "2025-06-15T04:52:21.784481Z"
    }
   },
   "cell_type": "code",
   "source": [
    "X_train, X_test, y_train, y_test = train_test_split(\n",
    "    X, y, test_size=0.2, stratify=y\n",
    ")"
   ],
   "id": "5b2328ed4ae2258f",
   "outputs": [],
   "execution_count": 21
  },
  {
   "metadata": {
    "ExecuteTime": {
     "end_time": "2025-06-15T04:52:22.424524Z",
     "start_time": "2025-06-15T04:52:22.415240Z"
    }
   },
   "cell_type": "code",
   "source": [
    "X_train_tensor = torch.FloatTensor(X_train)\n",
    "y_train_tensor = torch.LongTensor(y_train)\n",
    "X_test_tensor = torch.FloatTensor(X_test)\n",
    "y_test_tensor = torch.LongTensor(y_test)"
   ],
   "id": "6705cdc6d5539818",
   "outputs": [],
   "execution_count": 22
  },
  {
   "metadata": {
    "ExecuteTime": {
     "end_time": "2025-06-14T18:40:50.536321Z",
     "start_time": "2025-06-14T18:40:50.531010Z"
    }
   },
   "cell_type": "code",
   "source": [
    "train_dataset = TensorDataset(X_train_tensor, y_train_tensor)\n",
    "test_dataset = TensorDataset(X_test_tensor, y_test_tensor)\n",
    "train_loader = DataLoader(train_dataset, batch_size=params.get('batch_size'), shuffle=True)\n",
    "test_loader = DataLoader(test_dataset, batch_size=params.get('batch_size'), shuffle=False)"
   ],
   "id": "fae343340b420ee2",
   "outputs": [],
   "execution_count": 18
  },
  {
   "metadata": {
    "ExecuteTime": {
     "end_time": "2025-06-14T18:40:50.610972Z",
     "start_time": "2025-06-14T18:40:50.582340Z"
    }
   },
   "cell_type": "code",
   "source": [
    "device = torch.device(\"cuda\" if torch.cuda.is_available() else \"cpu\")\n",
    "print(device)"
   ],
   "id": "2ce2b23f755dc955",
   "outputs": [
    {
     "name": "stdout",
     "output_type": "stream",
     "text": [
      "cuda\n"
     ]
    }
   ],
   "execution_count": 19
  },
  {
   "metadata": {
    "ExecuteTime": {
     "end_time": "2025-06-14T18:40:50.674763Z",
     "start_time": "2025-06-14T18:40:50.665477Z"
    }
   },
   "cell_type": "code",
   "source": [
    "class TabNet(nn.Module):\n",
    "    def __init__(self, input_dim, output_dim, n_d=32, n_a=32, n_steps=3, gamma=1.3,\n",
    "                 n_independent=2, n_shared=2, momentum=0.02):\n",
    "        super(TabNet, self).__init__()\n",
    "        self.input_dim = input_dim\n",
    "        self.output_dim = output_dim\n",
    "        self.n_d = n_d\n",
    "        self.n_a = n_a\n",
    "        self.n_steps = n_steps\n",
    "        self.gamma = gamma\n",
    "        self.momentum = momentum\n",
    "\n",
    "        self.initial_bn = nn.BatchNorm1d(input_dim, momentum=momentum)\n",
    "        self.initial_splitter = FeatureTransformer(input_dim, n_d + n_a, n_independent, n_shared, momentum)\n",
    "        self.attentive_transformers = nn.ModuleList([\n",
    "            AttentiveTransformer(input_dim, n_a, momentum) for _ in range(n_steps)  # Используем n_a вместо n_d + n_a\n",
    "        ])\n",
    "        self.feature_transformers = nn.ModuleList([\n",
    "            FeatureTransformer(input_dim, n_d + n_a, n_independent, n_shared, momentum)\n",
    "            for _ in range(n_steps)\n",
    "        ])\n",
    "        self.final_linear = nn.Linear(n_d, output_dim)\n",
    "\n",
    "    def forward(self, x):\n",
    "        batch_size = x.size(0)\n",
    "        x = self.initial_bn(x)\n",
    "        prior = torch.ones(batch_size, self.input_dim, device=x.device)\n",
    "        M_loss = 0\n",
    "        outputs = []\n",
    "        M = []\n",
    "\n",
    "        features = self.initial_splitter(x)\n",
    "        d, a = features[:, :self.n_d], features[:, self.n_d:]\n",
    "\n",
    "        for step in range(self.n_steps):\n",
    "            M_i = self.attentive_transformers[step](a, prior)\n",
    "            M.append(M_i)\n",
    "            M_loss += torch.mean(torch.sum(-M_i * torch.log(M_i + 1e-15), dim=1))\n",
    "            prior = self.gamma - M_i\n",
    "            prior = torch.cumprod(prior, dim=0)\n",
    "            masked_x = M_i * x\n",
    "            features = self.feature_transformers[step](masked_x)\n",
    "            d, a = features[:, :self.n_d], features[:, self.n_d:]\n",
    "            outputs.append(d)\n",
    "\n",
    "        out = torch.stack(outputs, dim=1).sum(dim=1)\n",
    "        out = self.final_linear(out)\n",
    "        return out, M, M_loss / self.n_steps"
   ],
   "id": "d44f60e455d831f4",
   "outputs": [],
   "execution_count": 20
  },
  {
   "metadata": {
    "ExecuteTime": {
     "end_time": "2025-06-14T18:40:50.762089Z",
     "start_time": "2025-06-14T18:40:50.755122Z"
    }
   },
   "cell_type": "code",
   "source": [
    "class FeatureTransformer(nn.Module):\n",
    "    def __init__(self, input_dim, output_dim, n_independent, n_shared, momentum):\n",
    "        super(FeatureTransformer, self).__init__()\n",
    "        self.shared = nn.ModuleList()\n",
    "        for i in range(n_shared):\n",
    "            in_features = input_dim if i == 0 else output_dim\n",
    "            self.shared.append(nn.Sequential(\n",
    "                nn.Linear(in_features, output_dim * 2),\n",
    "                nn.BatchNorm1d(output_dim * 2, momentum=momentum),\n",
    "                nn.GLU()\n",
    "            ))\n",
    "        self.independent = nn.ModuleList()\n",
    "        for _ in range(n_independent):\n",
    "            self.independent.append(nn.Sequential(\n",
    "                nn.Linear(output_dim, output_dim * 2),\n",
    "                nn.BatchNorm1d(output_dim * 2, momentum=momentum),\n",
    "                nn.GLU()\n",
    "            ))\n",
    "\n",
    "    def forward(self, x):\n",
    "        shared_out = x\n",
    "        for layer in self.shared:\n",
    "            shared_out = layer(shared_out)\n",
    "        out = shared_out\n",
    "        for layer in self.independent:\n",
    "            out = layer(out)\n",
    "        return out"
   ],
   "id": "6f8f5394b0004f5a",
   "outputs": [],
   "execution_count": 21
  },
  {
   "metadata": {
    "ExecuteTime": {
     "end_time": "2025-06-14T18:40:50.808676Z",
     "start_time": "2025-06-14T18:40:50.803126Z"
    }
   },
   "cell_type": "code",
   "source": [
    "class AttentiveTransformer(nn.Module):\n",
    "    def __init__(self, input_dim, n_a, momentum):\n",
    "        super(AttentiveTransformer, self).__init__()\n",
    "        self.fc = nn.Linear(n_a, input_dim)\n",
    "        self.bn = nn.BatchNorm1d(input_dim, momentum=momentum)\n",
    "\n",
    "    def forward(self, a, prior):\n",
    "        a = self.fc(a)\n",
    "        a = self.bn(a)\n",
    "        a = a * prior\n",
    "        return sparsemax(a)"
   ],
   "id": "cc71668c85adabdd",
   "outputs": [],
   "execution_count": 22
  },
  {
   "metadata": {
    "ExecuteTime": {
     "end_time": "2025-06-14T18:40:50.865012Z",
     "start_time": "2025-06-14T18:40:50.859699Z"
    }
   },
   "cell_type": "code",
   "source": [
    "def sparsemax(x):\n",
    "    \"\"\"Sparsemax function for attention mechanism\"\"\"\n",
    "    sorted_x, _ = torch.sort(x, dim=1, descending=True)\n",
    "    cumsum = torch.cumsum(F.softmax(sorted_x, dim=1), dim=1)\n",
    "    rho = (cumsum <= 1).sum(dim=1, keepdim=True)\n",
    "    tau = (cumsum.gather(1, rho - 1) - 1) / rho\n",
    "    out = F.relu(x - tau)\n",
    "    return out / (out.sum(dim=1, keepdim=True) + 1e-15)"
   ],
   "id": "4d229320a1c83ee9",
   "outputs": [],
   "execution_count": 23
  },
  {
   "metadata": {
    "ExecuteTime": {
     "end_time": "2025-06-14T18:40:50.929Z",
     "start_time": "2025-06-14T18:40:50.918451Z"
    }
   },
   "cell_type": "code",
   "source": [
    "def train_tabnet(model, train_loader, test_loader, optimizer, epochs, device, class_weights=None):\n",
    "    criterion = nn.CrossEntropyLoss(weight=class_weights)\n",
    "\n",
    "    train_losses = []\n",
    "    test_losses = []\n",
    "    test_accuracies = []\n",
    "\n",
    "    for epoch in range(epochs):\n",
    "        total_train_loss = 0\n",
    "        total_train_correct = 0\n",
    "        total_train_samples = 0\n",
    "        model.train()\n",
    "\n",
    "        # Прогресс-бар для батчей\n",
    "        train_pbar = tqdm(train_loader, desc=f'Эпоха {epoch+1}/{epochs}', leave=True)\n",
    "        for batch_idx, (data, target) in enumerate(train_pbar):\n",
    "            data, target = data.to(device), target.to(device)\n",
    "            optimizer.zero_grad()\n",
    "            output, M, M_loss = model(data)\n",
    "            loss = criterion(output, target) + 0.01 * M_loss\n",
    "            loss.backward()\n",
    "            optimizer.step()\n",
    "\n",
    "            total_train_loss += loss.item()\n",
    "            pred = output.argmax(dim=1)\n",
    "            total_train_correct += pred.eq(target).sum().item()\n",
    "            total_train_samples += target.size(0)\n",
    "\n",
    "            # Вычисление текущей точности и потерь для батча\n",
    "            batch_loss = loss.item()\n",
    "            batch_accuracy = 100. * pred.eq(target).sum().item() / target.size(0)\n",
    "\n",
    "            # Обновление прогресс-бара с информацией\n",
    "            train_pbar.set_postfix({\n",
    "                'Batch Loss': f'{batch_loss:.4f}',\n",
    "                'Batch Acc': f'{batch_accuracy:.2f}%'\n",
    "            })\n",
    "\n",
    "        # Итоговые метрики на тренировочном наборе\n",
    "        train_loss = total_train_loss / len(train_loader)\n",
    "        train_accuracy = 100. * total_train_correct / total_train_samples\n",
    "        train_losses.append(train_loss)\n",
    "\n",
    "        # Оценка на тестовом наборе\n",
    "        model.eval()\n",
    "        total_test_loss = 0\n",
    "        total_test_correct = 0\n",
    "        total_test_samples = 0\n",
    "        y_pred = []\n",
    "        y_true = []\n",
    "\n",
    "        with torch.no_grad():\n",
    "            for data, target in test_loader:\n",
    "                data, target = data.to(device), target.to(device)\n",
    "                output, _, M_loss = model(data)\n",
    "                test_loss = criterion(output, target) + 0.01 * M_loss\n",
    "                total_test_loss += test_loss.item()\n",
    "                pred = output.argmax(dim=1)\n",
    "                total_test_correct += pred.eq(target).sum().item()\n",
    "                total_test_samples += target.size(0)\n",
    "                y_pred.extend(pred.cpu().numpy())\n",
    "                y_true.extend(target.cpu().numpy())\n",
    "\n",
    "        test_loss = total_test_loss / len(test_loader)\n",
    "        test_accuracy = 100. * total_test_correct / total_test_samples\n",
    "        precision, recall, f1, _ = precision_recall_fscore_support(\n",
    "            y_true, y_pred, average='binary' if IS_BINARY else 'weighted', zero_division=0\n",
    "        )\n",
    "\n",
    "        test_losses.append(test_loss)\n",
    "        test_accuracies.append(test_accuracy)\n",
    "\n",
    "        # Вывод итоговых метрик для эпохи\n",
    "        print(f'\\nЭпоха {epoch+1}/{epochs}:')\n",
    "        print(f'  Тренировочные потери: {train_loss:.4f}, Тренировочная точность: {train_accuracy:.2f}%')\n",
    "        print(f'  Тестовые потери: {test_loss:.4f}, Тестовая точность: {test_accuracy:.2f}%')\n",
    "        print(f'  Precision: {precision:.4f}, Recall: {recall:.4f}, F1: {f1:.4f}\\n')\n",
    "\n",
    "    return train_losses, test_losses, test_accuracies"
   ],
   "id": "74f7f856ad0f2875",
   "outputs": [],
   "execution_count": 24
  },
  {
   "metadata": {
    "ExecuteTime": {
     "end_time": "2025-06-14T18:40:50.974129Z",
     "start_time": "2025-06-14T18:40:50.967971Z"
    }
   },
   "cell_type": "code",
   "source": [
    "def get_feature_importance(model, data_loader, device, feature_names):\n",
    "    model.eval()\n",
    "    feature_importance = torch.zeros(model.input_dim).to(device)\n",
    "    total_samples = 0\n",
    "    with torch.no_grad():\n",
    "        for data, _ in data_loader:\n",
    "            data = data.to(device)\n",
    "            _, masks, _ = model(data)\n",
    "            for mask in masks:\n",
    "                feature_importance += mask.sum(dim=0)\n",
    "            total_samples += data.size(0)\n",
    "    importance = feature_importance.cpu().numpy() / total_samples\n",
    "\n",
    "    return pd.Series(importance, index=feature_names)"
   ],
   "id": "a5d80445c73b6e9",
   "outputs": [],
   "execution_count": 25
  },
  {
   "metadata": {
    "ExecuteTime": {
     "end_time": "2025-06-14T18:40:51.026585Z",
     "start_time": "2025-06-14T18:40:51.019788Z"
    }
   },
   "cell_type": "code",
   "source": [
    "def evaluate_model(model, test_loader, device, is_binary):\n",
    "    model.eval()\n",
    "    criterion = nn.CrossEntropyLoss()\n",
    "    total_loss = 0\n",
    "    y_pred = []\n",
    "    y_true = []\n",
    "    y_scores = []\n",
    "\n",
    "    with torch.no_grad():\n",
    "        for data, target in test_loader:\n",
    "            data, target = data.to(device), target.to(device)\n",
    "            output, _, M_loss = model(data)\n",
    "            loss = criterion(output, target) + 0.01 * M_loss\n",
    "            total_loss += loss.item()\n",
    "            pred = output.argmax(dim=1)\n",
    "            y_pred.extend(pred.cpu().numpy())\n",
    "            y_true.extend(target.cpu().numpy())\n",
    "            if is_binary:\n",
    "                scores = torch.softmax(output, dim=1)[:, 1]\n",
    "                y_scores.extend(scores.cpu().numpy())\n",
    "\n",
    "    test_loss = total_loss / len(test_loader)\n",
    "    accuracy = accuracy_score(y_true, y_pred) * 100\n",
    "    precision, recall, f1, _ = precision_recall_fscore_support(y_true, y_pred, average='binary' if is_binary else 'weighted')\n",
    "    cm = confusion_matrix(y_true, y_pred)\n",
    "\n",
    "    # ROC-кривая (только для бинарной классификации)\n",
    "    roc_data = None\n",
    "    if is_binary and y_scores:\n",
    "        fpr, tpr, _ = roc_curve(y_true, y_scores)\n",
    "        roc_auc = auc(fpr, tpr)\n",
    "        roc_data = (fpr, tpr, roc_auc)\n",
    "\n",
    "    return {\n",
    "        'test_loss': test_loss,\n",
    "        'accuracy': accuracy,\n",
    "        'precision': precision,\n",
    "        'recall': recall,\n",
    "        'f1': f1,\n",
    "        'confusion_matrix': cm,\n",
    "        'roc_data': roc_data\n",
    "    }"
   ],
   "id": "573022d2e6fa2a16",
   "outputs": [],
   "execution_count": 26
  },
  {
   "metadata": {
    "ExecuteTime": {
     "end_time": "2025-06-14T18:40:51.091393Z",
     "start_time": "2025-06-14T18:40:51.082553Z"
    }
   },
   "cell_type": "code",
   "source": [
    "def plot_results(train_losses, test_losses, test_accuracies, eval_results, class_names, is_binary):\n",
    "    # График потерь\n",
    "    plt.figure(figsize=(10, 6))\n",
    "    plt.plot(range(1, len(train_losses) + 1), train_losses, label='Тренировочные потери')\n",
    "    plt.plot(range(1, len(test_losses) + 1), test_losses, label='Тестовые потери')\n",
    "    plt.xlabel('Эпоха')\n",
    "    plt.ylabel('Потери')\n",
    "    plt.title('Тренировочные и тестовые потери по эпохам')\n",
    "    plt.legend()\n",
    "    plt.grid()\n",
    "    plt.savefig(os.path.join(PLOTS_DIR, 'loss_plot.png'))\n",
    "    plt.close()\n",
    "\n",
    "    # График точности\n",
    "    plt.figure(figsize=(10, 6))\n",
    "    plt.plot(range(1, len(test_accuracies) + 1), test_accuracies, label='Тестовая точность')\n",
    "    plt.xlabel('Эпоха')\n",
    "    plt.ylabel('Точность (%)')\n",
    "    plt.title('Тестовая точность по эпохам')\n",
    "    plt.legend()\n",
    "    plt.grid()\n",
    "    plt.savefig(os.path.join(PLOTS_DIR, 'accuracy_plot.png'))\n",
    "    plt.close()\n",
    "\n",
    "    # Матрица ошибок\n",
    "    plt.figure(figsize=(8, 6))\n",
    "    sns.heatmap(eval_results['confusion_matrix'], annot=True, fmt='d', cmap='Blues',\n",
    "                xticklabels=class_names, yticklabels=class_names)\n",
    "    plt.xlabel('Предсказанный класс')\n",
    "    plt.ylabel('Истинный класс')\n",
    "    plt.title('Матрица ошибок')\n",
    "    plt.savefig(os.path.join(PLOTS_DIR, 'confusion_matrix.png'))\n",
    "    plt.close()\n",
    "\n",
    "    # ROC-кривая (только для бинарной классификации)\n",
    "    if is_binary and eval_results['roc_data']:\n",
    "        fpr, tpr, roc_auc = eval_results['roc_data']\n",
    "        plt.figure(figsize=(8, 6))\n",
    "        plt.plot(fpr, tpr, label=f'ROC-кривая (AUC = {roc_auc:.2f})')\n",
    "        plt.plot([0, 1], [0, 1], 'k--')\n",
    "        plt.xlabel('False Positive Rate')\n",
    "        plt.ylabel('True Positive Rate')\n",
    "        plt.title('ROC-кривая')\n",
    "        plt.legend()\n",
    "        plt.grid()\n",
    "        plt.savefig(os.path.join(PLOTS_DIR, 'roc_curve.png'))\n",
    "        plt.close()"
   ],
   "id": "153185b10baf15d6",
   "outputs": [],
   "execution_count": 27
  },
  {
   "metadata": {
    "ExecuteTime": {
     "end_time": "2025-06-14T18:40:51.366097Z",
     "start_time": "2025-06-14T18:40:51.134627Z"
    }
   },
   "cell_type": "code",
   "source": [
    "class_weights = compute_class_weight('balanced', classes=np.unique(y), y=y)\n",
    "class_weights = torch.FloatTensor(class_weights).to(device)\n",
    "print(class_weights)"
   ],
   "id": "853acf55a56a9e3d",
   "outputs": [
    {
     "name": "stdout",
     "output_type": "stream",
     "text": [
      "tensor([1.4417, 0.7655], device='cuda:0')\n"
     ]
    }
   ],
   "execution_count": 28
  },
  {
   "metadata": {
    "ExecuteTime": {
     "end_time": "2025-06-14T18:40:54.187956Z",
     "start_time": "2025-06-14T18:40:52.541290Z"
    }
   },
   "cell_type": "code",
   "source": [
    "input_dim = X.shape[1]\n",
    "output_dim = len(np.unique(y))\n",
    "\n",
    "model = TabNet(input_dim=input_dim,\n",
    "               output_dim=output_dim,\n",
    "               n_d=params.get(\"n_d\"),\n",
    "               n_a=params.get(\"n_a\"),\n",
    "               n_steps=params.get(\"n_steps\"),\n",
    "               gamma=params.get(\"gamma\"),\n",
    "               n_independent=params.get(\"n_independent\"),\n",
    "               n_shared=params.get(\"n_shared\"),\n",
    "               momentum=params.get(\"momentum\")\n",
    ").to(device)\n",
    "\n",
    "# Настройка оптимизатора\n",
    "optimizer = torch.optim.Adam(model.parameters(), lr=params.get(\"learning_rate\"))"
   ],
   "id": "f304e1698b7cfd34",
   "outputs": [],
   "execution_count": 29
  },
  {
   "metadata": {
    "ExecuteTime": {
     "end_time": "2025-06-14T19:08:23.401274Z",
     "start_time": "2025-06-14T18:40:55.567716Z"
    }
   },
   "cell_type": "code",
   "source": [
    "# Обучение модели\n",
    "epochs = params.get(\"epochs\")\n",
    "train_losses, test_losses, test_accuracies = train_tabnet(model, train_loader, test_loader, optimizer, epochs, device, class_weights=class_weights)"
   ],
   "id": "a2ff19de0a9eec36",
   "outputs": [
    {
     "name": "stderr",
     "output_type": "stream",
     "text": [
      "Эпоха 1/10: 100%|██████████| 4892/4892 [02:31<00:00, 32.23it/s, Batch Loss=0.4018, Batch Acc=79.17%] \n"
     ]
    },
    {
     "name": "stdout",
     "output_type": "stream",
     "text": [
      "\n",
      "Эпоха 1/10:\n",
      "  Тренировочные потери: 0.0897, Тренировочная точность: 97.68%\n",
      "  Тестовые потери: 3.9595, Тестовая точность: 76.71%\n",
      "  Precision: 0.9837, Recall: 0.6543, F1: 0.7859\n",
      "\n"
     ]
    },
    {
     "name": "stderr",
     "output_type": "stream",
     "text": [
      "Эпоха 2/10: 100%|██████████| 4892/4892 [02:31<00:00, 32.38it/s, Batch Loss=0.0873, Batch Acc=95.83%] \n"
     ]
    },
    {
     "name": "stdout",
     "output_type": "stream",
     "text": [
      "\n",
      "Эпоха 2/10:\n",
      "  Тренировочные потери: 0.0564, Тренировочная точность: 98.43%\n",
      "  Тестовые потери: 19.4147, Тестовая точность: 74.76%\n",
      "  Precision: 0.9156, Recall: 0.6759, F1: 0.7777\n",
      "\n"
     ]
    },
    {
     "name": "stderr",
     "output_type": "stream",
     "text": [
      "Эпоха 3/10: 100%|██████████| 4892/4892 [02:33<00:00, 31.94it/s, Batch Loss=0.0135, Batch Acc=100.00%]\n"
     ]
    },
    {
     "name": "stdout",
     "output_type": "stream",
     "text": [
      "\n",
      "Эпоха 3/10:\n",
      "  Тренировочные потери: 0.0388, Тренировочная точность: 98.99%\n",
      "  Тестовые потери: 110.5840, Тестовая точность: 36.68%\n",
      "  Precision: 0.5352, Recall: 0.2323, F1: 0.3239\n",
      "\n"
     ]
    },
    {
     "name": "stderr",
     "output_type": "stream",
     "text": [
      "Эпоха 4/10: 100%|██████████| 4892/4892 [02:34<00:00, 31.62it/s, Batch Loss=0.0111, Batch Acc=100.00%]\n"
     ]
    },
    {
     "name": "stdout",
     "output_type": "stream",
     "text": [
      "\n",
      "Эпоха 4/10:\n",
      "  Тренировочные потери: 0.0321, Тренировочная точность: 99.14%\n",
      "  Тестовые потери: 44.3716, Тестовая точность: 42.10%\n",
      "  Precision: 0.6467, Recall: 0.2505, F1: 0.3611\n",
      "\n"
     ]
    },
    {
     "name": "stderr",
     "output_type": "stream",
     "text": [
      "Эпоха 5/10: 100%|██████████| 4892/4892 [02:33<00:00, 31.87it/s, Batch Loss=0.0172, Batch Acc=100.00%]\n"
     ]
    },
    {
     "name": "stdout",
     "output_type": "stream",
     "text": [
      "\n",
      "Эпоха 5/10:\n",
      "  Тренировочные потери: 0.0287, Тренировочная точность: 99.23%\n",
      "  Тестовые потери: 43.4586, Тестовая точность: 39.57%\n",
      "  Precision: 0.5984, Recall: 0.2276, F1: 0.3298\n",
      "\n"
     ]
    },
    {
     "name": "stderr",
     "output_type": "stream",
     "text": [
      "Эпоха 6/10: 100%|██████████| 4892/4892 [02:36<00:00, 31.34it/s, Batch Loss=0.0103, Batch Acc=100.00%]\n"
     ]
    },
    {
     "name": "stdout",
     "output_type": "stream",
     "text": [
      "\n",
      "Эпоха 6/10:\n",
      "  Тренировочные потери: 0.0255, Тренировочная точность: 99.30%\n",
      "  Тестовые потери: 3.6656, Тестовая точность: 73.48%\n",
      "  Precision: 0.7868, Recall: 0.8148, F1: 0.8005\n",
      "\n"
     ]
    },
    {
     "name": "stderr",
     "output_type": "stream",
     "text": [
      "Эпоха 7/10: 100%|██████████| 4892/4892 [02:37<00:00, 31.09it/s, Batch Loss=0.0102, Batch Acc=100.00%]\n"
     ]
    },
    {
     "name": "stdout",
     "output_type": "stream",
     "text": [
      "\n",
      "Эпоха 7/10:\n",
      "  Тренировочные потери: 0.0237, Тренировочная точность: 99.35%\n",
      "  Тестовые потери: 22.4540, Тестовая точность: 79.41%\n",
      "  Precision: 0.7691, Recall: 0.9785, F1: 0.8613\n",
      "\n"
     ]
    },
    {
     "name": "stderr",
     "output_type": "stream",
     "text": [
      "Эпоха 8/10: 100%|██████████| 4892/4892 [02:26<00:00, 33.38it/s, Batch Loss=0.2180, Batch Acc=95.83%] \n"
     ]
    },
    {
     "name": "stdout",
     "output_type": "stream",
     "text": [
      "\n",
      "Эпоха 8/10:\n",
      "  Тренировочные потери: 0.0236, Тренировочная точность: 99.36%\n",
      "  Тестовые потери: 9.2986, Тестовая точность: 84.40%\n",
      "  Precision: 0.8475, Recall: 0.9282, F1: 0.8860\n",
      "\n"
     ]
    },
    {
     "name": "stderr",
     "output_type": "stream",
     "text": [
      "Эпоха 9/10: 100%|██████████| 4892/4892 [02:31<00:00, 32.23it/s, Batch Loss=0.0074, Batch Acc=100.00%]\n"
     ]
    },
    {
     "name": "stdout",
     "output_type": "stream",
     "text": [
      "\n",
      "Эпоха 9/10:\n",
      "  Тренировочные потери: 0.0227, Тренировочная точность: 99.40%\n",
      "  Тестовые потери: 4.8186, Тестовая точность: 70.20%\n",
      "  Precision: 0.7632, Recall: 0.7885, F1: 0.7756\n",
      "\n"
     ]
    },
    {
     "name": "stderr",
     "output_type": "stream",
     "text": [
      "Эпоха 10/10: 100%|██████████| 4892/4892 [02:26<00:00, 33.44it/s, Batch Loss=0.0050, Batch Acc=100.00%]\n"
     ]
    },
    {
     "name": "stdout",
     "output_type": "stream",
     "text": [
      "\n",
      "Эпоха 10/10:\n",
      "  Тренировочные потери: 0.0244, Тренировочная точность: 99.33%\n",
      "  Тестовые потери: 13.9272, Тестовая точность: 74.78%\n",
      "  Precision: 0.7446, Recall: 0.9344, F1: 0.8287\n",
      "\n"
     ]
    }
   ],
   "execution_count": 30
  },
  {
   "metadata": {
    "ExecuteTime": {
     "end_time": "2025-06-14T19:10:24.974043Z",
     "start_time": "2025-06-14T19:08:42.234613Z"
    }
   },
   "cell_type": "code",
   "source": [
    "all_dataset = TensorDataset(torch.FloatTensor(X), torch.LongTensor(y))\n",
    "all_loader = DataLoader(all_dataset, batch_size=32, shuffle=False)\n",
    "model.eval()\n",
    "y_pred_all = []\n",
    "y_true_all = []\n",
    "\n",
    "with torch.no_grad():\n",
    "    for data, target in all_loader:\n",
    "        data, target = data.to(device), target.to(device)\n",
    "        output, _, _ = model(data)\n",
    "        pred = output.argmax(dim=1)\n",
    "        y_pred_all.extend(pred.cpu().numpy())\n",
    "        y_true_all.extend(target.cpu().numpy())\n",
    "overall_accuracy = 100. * np.mean(np.array(y_pred_all) == y_true_all)\n",
    "print(f\"\\nОбщая точность на всем датасете: {overall_accuracy:.2f}%\")"
   ],
   "id": "d245abf01ad3031b",
   "outputs": [
    {
     "name": "stdout",
     "output_type": "stream",
     "text": [
      "\n",
      "Общая точность на всем датасете: 74.83%\n"
     ]
    }
   ],
   "execution_count": 31
  },
  {
   "metadata": {
    "ExecuteTime": {
     "end_time": "2025-06-14T19:12:09.293157Z",
     "start_time": "2025-06-14T19:11:52.070895Z"
    }
   },
   "cell_type": "code",
   "source": [
    "eval_results = evaluate_model(model, test_loader, device, IS_BINARY)\n",
    "\n",
    "# Визуализация\n",
    "plot_results(train_losses, test_losses, test_accuracies, eval_results, class_names, IS_BINARY)"
   ],
   "id": "bb522e67d15bcbdb",
   "outputs": [],
   "execution_count": 33
  },
  {
   "metadata": {
    "ExecuteTime": {
     "end_time": "2025-06-14T19:38:44.735944Z",
     "start_time": "2025-06-14T19:38:28.549971Z"
    }
   },
   "cell_type": "code",
   "source": [
    "# Анализ важности признаков\n",
    "importance = get_feature_importance(model, test_loader, device, feature_names)\n",
    "print(\"\\nВажность признаков (топ-10):\")\n",
    "print(importance.sort_values(ascending=False).head(10))\n",
    "\n",
    "# Визуализация важности признаков\n",
    "plt.figure(figsize=(10, 6))\n",
    "importance.sort_values(ascending=False)[:10].plot(kind='bar')\n",
    "plt.title('Топ-10 наиболее важных признаков')\n",
    "plt.ylabel('Важность')\n",
    "plt.xticks(rotation=45, ha='right')\n",
    "plt.tight_layout()\n",
    "plt.show()"
   ],
   "id": "28cc290b65ea8c3f",
   "outputs": [
    {
     "name": "stdout",
     "output_type": "stream",
     "text": [
      "\n",
      "Важность признаков (топ-10):\n",
      "Total Fwd Packets              1.064865\n",
      "Bwd Avg Packets/Bulk           0.944684\n",
      "Destination Port               0.528895\n",
      "Total Length of Fwd Packets    0.415439\n",
      "Fwd IAT Mean                   0.253606\n",
      "Bwd Packet Length Mean         0.169056\n",
      "Subflow Fwd Bytes              0.109078\n",
      "Subflow Bwd Packets            0.103589\n",
      "Subflow Bwd Bytes              0.078255\n",
      "Fwd PSH Flags                  0.070893\n",
      "dtype: float32\n"
     ]
    },
    {
     "data": {
      "text/plain": [
       "<Figure size 1000x600 with 1 Axes>"
      ],
      "image/png": "[encoded data removed]"
     },
     "metadata": {},
     "output_type": "display_data"
    }
   ],
   "execution_count": 34
  },
  {
   "metadata": {
    "ExecuteTime": {
     "end_time": "2025-06-14T19:39:19.661219Z",
     "start_time": "2025-06-14T19:39:19.599495Z"
    }
   },
   "cell_type": "code",
   "source": [
    "os.makedirs(os.path.dirname(MODEL_PATH), exist_ok=True)\n",
    "model_filename = f\"tabnet_{IS_BINARY }_{params.get(epochs)}.pth\"\n",
    "full_path = os.path.join(MODEL_PATH, model_filename)\n",
    "torch.save(model.state_dict(), full_path)\n",
    "print(f\"Модель сохранена в {full_path}\")"
   ],
   "id": "11a081928ea0dc7e",
   "outputs": [
    {
     "name": "stdout",
     "output_type": "stream",
     "text": [
      "Модель сохранена в ./models\\tabnet_dsd_10.pth\n"
     ]
    }
   ],
   "execution_count": 36
  },
  {
   "metadata": {
    "ExecuteTime": {
     "end_time": "2025-06-14T19:38:56.578285100Z",
     "start_time": "2025-06-10T20:47:09.345211Z"
    }
   },
   "cell_type": "code",
   "source": "",
   "id": "3173943d04e4bf63",
   "outputs": [
    {
     "name": "stdout",
     "output_type": "stream",
     "text": [
      "\n",
      "Важность признаков (топ-10):\n",
      "FIN Flag Count             1.978176\n",
      "Init_Win_bytes_backward    1.005928\n",
      "Packet Length Variance     1.000110\n",
      "Fwd Packet Length Min      1.000064\n",
      "Bwd Packet Length Min      1.000054\n",
      "Down/Up Ratio              0.997033\n",
      "SYN Flag Count             0.986050\n",
      "Avg Fwd Segment Size       0.720755\n",
      "Bwd Avg Packets/Bulk       0.314290\n",
      "min_seg_size_forward       0.278034\n",
      "dtype: float32\n"
     ]
    },
    {
     "data": {
      "text/plain": [
       "<Figure size 1000x600 with 1 Axes>"
      ],
      "image/png": "[encoded data removed]"
     },
     "metadata": {},
     "output_type": "display_data"
    }
   ],
   "execution_count": 29
  },
  {
   "metadata": {
    "ExecuteTime": {
     "end_time": "2025-06-14T19:38:59.533251100Z",
     "start_time": "2025-06-10T20:45:36.732678Z"
    }
   },
   "cell_type": "code",
   "source": "",
   "id": "70f636163844236a",
   "outputs": [],
   "execution_count": null
  },
  {
   "metadata": {
    "ExecuteTime": {
     "end_time": "2025-06-14T19:39:01.703879600Z",
     "start_time": "2025-06-10T20:45:36.783055Z"
    }
   },
   "cell_type": "code",
   "source": "",
   "id": "d7f21202854caefb",
   "outputs": [],
   "execution_count": null
  },
  {
   "metadata": {},
   "cell_type": "code",
   "outputs": [],
   "execution_count": null,
   "source": "",
   "id": "b9c8a05eebaedb6e"
  },
  {
   "metadata": {},
   "cell_type": "code",
   "outputs": [],
   "execution_count": null,
   "source": "",
   "id": "3b9f727650fbe4b2"
  }
 ],
 "metadata": {
  "kernelspec": {
   "display_name": "Python 3",
   "language": "python",
   "name": "python3"
  },
  "language_info": {
   "codemirror_mode": {
    "name": "ipython",
    "version": 2
   },
   "file_extension": ".py",
   "mimetype": "text/x-python",
   "name": "python",
   "nbconvert_exporter": "python",
   "pygments_lexer": "ipython2",
   "version": "2.7.6"
  }
 },
 "nbformat": 4,
 "nbformat_minor": 5
}
