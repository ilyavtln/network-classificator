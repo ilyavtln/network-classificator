{
 "cells": [
  {
   "cell_type": "code",
   "id": "initial_id",
   "metadata": {
    "collapsed": true,
    "jupyter": {
     "outputs_hidden": true
    },
    "ExecuteTime": {
     "end_time": "2025-06-17T11:46:06.874132Z",
     "start_time": "2025-06-17T11:46:06.866616Z"
    }
   },
   "source": [
    "import torch\n",
    "import torch.nn as nn\n",
    "import torch.nn.functional as F\n",
    "from sklearn.preprocessing import StandardScaler, LabelEncoder\n",
    "from torch.utils.data import DataLoader, TensorDataset\n",
    "from sklearn.model_selection import train_test_split\n",
    "from sklearn.utils.class_weight import compute_class_weight\n",
    "from sklearn.metrics import accuracy_score, precision_recall_fscore_support, confusion_matrix, roc_curve, auc\n",
    "from imblearn.over_sampling import SMOTE"
   ],
   "outputs": [],
   "execution_count": 194
  },
  {
   "cell_type": "code",
   "id": "bd5e060b3810cfe4",
   "metadata": {
    "ExecuteTime": {
     "end_time": "2025-06-17T11:46:07.192012Z",
     "start_time": "2025-06-17T11:46:07.187006Z"
    }
   },
   "source": [
    "import numpy as np\n",
    "import pandas as pd\n",
    "import matplotlib.pyplot as plt\n",
    "import os\n",
    "import seaborn as sns\n",
    "from config import constants"
   ],
   "outputs": [],
   "execution_count": 195
  },
  {
   "metadata": {
    "ExecuteTime": {
     "end_time": "2025-06-17T11:46:07.629358Z",
     "start_time": "2025-06-17T11:46:07.624507Z"
    }
   },
   "cell_type": "code",
   "source": [
    "device = torch.device(\"cuda\" if torch.cuda.is_available() else \"cpu\")\n",
    "print(device)"
   ],
   "id": "4251fa12be41df7d",
   "outputs": [
    {
     "name": "stdout",
     "output_type": "stream",
     "text": [
      "cuda\n"
     ]
    }
   ],
   "execution_count": 196
  },
  {
   "cell_type": "code",
   "id": "d955140a38cf0d26",
   "metadata": {
    "ExecuteTime": {
     "end_time": "2025-06-17T11:46:08.128375Z",
     "start_time": "2025-06-17T11:46:08.121477Z"
    }
   },
   "source": [
    "IS_BINARY = False\n",
    "CATEGORIES = constants.CATEGORIES\n",
    "TYPE = 'binary' if IS_BINARY else 'multy'\n",
    "PLOTS_DIR = './images'\n",
    "MODEL_PATH = './models'\n",
    "if IS_BINARY:\n",
    "    TYPE = 'binary'\n",
    "    DATASET_PATH = 'datasets/data/benign_or_attack_merged/benign_or_attack.csv'\n",
    "    params = {\n",
    "        'batch_size': 128,\n",
    "        'n_d': 16,\n",
    "        'n_a': 16,\n",
    "        'n_steps': 5,\n",
    "        'gamma': 1.5,\n",
    "        'n_independent': 2,\n",
    "        'n_shared': 2,\n",
    "        'learning_rate': 0.001,\n",
    "        'weight_decay': 1e-5\n",
    "    }\n",
    "else:\n",
    "    TYPE = 'multy'\n",
    "    DATASET_PATH = 'datasets/data/different_features/traffic_features.csv'\n",
    "    params = {\n",
    "        'batch_size': 64,\n",
    "        'n_d': 32,\n",
    "        'n_a': 32,\n",
    "        'n_steps': 4,\n",
    "        'gamma': 1.3,\n",
    "        'n_independent': 2,\n",
    "        'n_shared': 2,\n",
    "        'learning_rate': 0.005,\n",
    "        'weight_decay': 1e-5\n",
    "    }\n",
    "\n",
    "print(f'DATASET_PATH: {DATASET_PATH}')"
   ],
   "outputs": [
    {
     "name": "stdout",
     "output_type": "stream",
     "text": [
      "DATASET_PATH: datasets/data/different_features/traffic_features.csv\n"
     ]
    }
   ],
   "execution_count": 197
  },
  {
   "cell_type": "code",
   "id": "18f214fb34eb5811",
   "metadata": {
    "ExecuteTime": {
     "end_time": "2025-06-17T11:46:08.672114Z",
     "start_time": "2025-06-17T11:46:08.652145Z"
    }
   },
   "source": [
    "data = pd.read_csv(DATASET_PATH, delimiter=',')\n",
    "print(f\"Размер: {data.shape[0]} строк, {data.shape[1]} столбцов\")"
   ],
   "outputs": [
    {
     "name": "stdout",
     "output_type": "stream",
     "text": [
      "Размер: 1279 строк, 78 столбцов\n"
     ]
    }
   ],
   "execution_count": 198
  },
  {
   "cell_type": "code",
   "id": "7e4d3e22f5efb547",
   "metadata": {
    "ExecuteTime": {
     "end_time": "2025-06-17T11:46:09.516030Z",
     "start_time": "2025-06-17T11:46:09.508959Z"
    }
   },
   "source": "data['Label'].unique()",
   "outputs": [
    {
     "data": {
      "text/plain": [
       "array(['cloud_service', 'e-mail', 'games', 'information', 'music',\n",
       "       'social_network', 'video_hosting'], dtype=object)"
      ]
     },
     "execution_count": 199,
     "metadata": {},
     "output_type": "execute_result"
    }
   ],
   "execution_count": 199
  },
  {
   "cell_type": "code",
   "id": "5352159ad13826d3",
   "metadata": {
    "ExecuteTime": {
     "end_time": "2025-06-17T11:46:09.985844Z",
     "start_time": "2025-06-17T11:46:09.976786Z"
    }
   },
   "source": [
    "class_counts = pd.Series(data['Label']).value_counts()\n",
    "class_percentages = pd.Series(data['Label']).value_counts(normalize=True) * 100\n",
    "distribution_df = pd.DataFrame({\n",
    "    'Количество': class_counts,\n",
    "    'Процент': class_percentages.round(2)\n",
    "}).sort_index()\n",
    "\n",
    "print(distribution_df)"
   ],
   "outputs": [
    {
     "name": "stdout",
     "output_type": "stream",
     "text": [
      "                Количество  Процент\n",
      "Label                              \n",
      "cloud_service          120     9.38\n",
      "e-mail                 120     9.38\n",
      "games                  432    33.78\n",
      "information            170    13.29\n",
      "music                  142    11.10\n",
      "social_network         172    13.45\n",
      "video_hosting          123     9.62\n"
     ]
    }
   ],
   "execution_count": 200
  },
  {
   "cell_type": "code",
   "id": "fbc20005b024954a",
   "metadata": {
    "ExecuteTime": {
     "end_time": "2025-06-17T11:46:10.648570Z",
     "start_time": "2025-06-17T11:46:10.640026Z"
    }
   },
   "source": [
    "X = data.drop('Label', axis=1)\n",
    "\n",
    "label_encoder = LabelEncoder()\n",
    "y = label_encoder.fit_transform(data['Label'])\n",
    "class_names = label_encoder.classes_\n",
    "\n",
    "for i in range(0, len(class_names)):\n",
    "    print(f\"{np.unique(y)[i]}: {class_names[i]}\")"
   ],
   "outputs": [
    {
     "name": "stdout",
     "output_type": "stream",
     "text": [
      "0: cloud_service\n",
      "1: e-mail\n",
      "2: games\n",
      "3: information\n",
      "4: music\n",
      "5: social_network\n",
      "6: video_hosting\n"
     ]
    }
   ],
   "execution_count": 201
  },
  {
   "metadata": {
    "ExecuteTime": {
     "end_time": "2025-06-17T11:46:11.241319Z",
     "start_time": "2025-06-17T11:46:11.236066Z"
    }
   },
   "cell_type": "code",
   "source": [
    "feature_names = X.columns\n",
    "print(feature_names)"
   ],
   "id": "22c35c772ea8abc8",
   "outputs": [
    {
     "name": "stdout",
     "output_type": "stream",
     "text": [
      "Index(['Destination Port', 'Flow Duration', 'Total Fwd Packets',\n",
      "       'Total Backward Packets', 'Total Length of Fwd Packets',\n",
      "       'Total Length of Bwd Packets', 'Fwd Packet Length Max',\n",
      "       'Fwd Packet Length Min', 'Fwd Packet Length Mean',\n",
      "       'Fwd Packet Length Std', 'Bwd Packet Length Max',\n",
      "       'Bwd Packet Length Min', 'Bwd Packet Length Mean',\n",
      "       'Bwd Packet Length Std', 'Flow Bytes/s', 'Flow Packets/s',\n",
      "       'Flow IAT Mean', 'Flow IAT Std', 'Flow IAT Max', 'Flow IAT Min',\n",
      "       'Fwd IAT Total', 'Fwd IAT Mean', 'Fwd IAT Std', 'Fwd IAT Max',\n",
      "       'Fwd IAT Min', 'Bwd IAT Total', 'Bwd IAT Mean', 'Bwd IAT Std',\n",
      "       'Bwd IAT Max', 'Bwd IAT Min', 'Fwd PSH Flags', 'Bwd PSH Flags',\n",
      "       'Fwd URG Flags', 'Bwd URG Flags', 'Fwd Header Length',\n",
      "       'Bwd Header Length', 'Fwd Packets/s', 'Bwd Packets/s',\n",
      "       'Min Packet Length', 'Max Packet Length', 'Packet Length Mean',\n",
      "       'Packet Length Std', 'Packet Length Variance', 'FIN Flag Count',\n",
      "       'SYN Flag Count', 'RST Flag Count', 'PSH Flag Count', 'ACK Flag Count',\n",
      "       'URG Flag Count', 'CWE Flag Count', 'ECE Flag Count', 'Down/Up Ratio',\n",
      "       'Average Packet Size', 'Avg Fwd Segment Size', 'Avg Bwd Segment Size',\n",
      "       'Fwd Avg Bytes/Bulk', 'Fwd Avg Packets/Bulk', 'Fwd Avg Bulk Rate',\n",
      "       'Bwd Avg Bytes/Bulk', 'Bwd Avg Packets/Bulk', 'Bwd Avg Bulk Rate',\n",
      "       'Subflow Fwd Packets', 'Subflow Fwd Bytes', 'Subflow Bwd Packets',\n",
      "       'Subflow Bwd Bytes', 'Init_Win_bytes_forward',\n",
      "       'Init_Win_bytes_backward', 'act_data_pkt_fwd', 'min_seg_size_forward',\n",
      "       'Active Mean', 'Active Std', 'Active Max', 'Active Min', 'Idle Mean',\n",
      "       'Idle Std', 'Idle Max', 'Idle Min'],\n",
      "      dtype='object')\n"
     ]
    }
   ],
   "execution_count": 202
  },
  {
   "metadata": {
    "ExecuteTime": {
     "end_time": "2025-06-17T11:46:11.801320Z",
     "start_time": "2025-06-17T11:46:11.746515Z"
    }
   },
   "cell_type": "code",
   "source": [
    "if not IS_BINARY:\n",
    "    smote = SMOTE()\n",
    "    X, y = smote.fit_resample(X, y)\n",
    "\n",
    "print(X.shape, y.shape)"
   ],
   "id": "8e9952e81663ef63",
   "outputs": [
    {
     "name": "stdout",
     "output_type": "stream",
     "text": [
      "(3024, 77) (3024,)\n"
     ]
    }
   ],
   "execution_count": 203
  },
  {
   "cell_type": "code",
   "id": "ff5663e86d4d33e9",
   "metadata": {
    "ExecuteTime": {
     "end_time": "2025-06-17T11:46:13.169323Z",
     "start_time": "2025-06-17T11:46:13.156187Z"
    }
   },
   "source": [
    "scaler = StandardScaler()\n",
    "X = scaler.fit_transform(X)"
   ],
   "outputs": [],
   "execution_count": 204
  },
  {
   "metadata": {
    "ExecuteTime": {
     "end_time": "2025-06-17T11:46:14.167511Z",
     "start_time": "2025-06-17T11:46:14.159407Z"
    }
   },
   "cell_type": "code",
   "source": [
    "class_weights = compute_class_weight('balanced', classes=np.unique(y), y=y)\n",
    "print(f\"Classes: {np.unique(y)} \\nWeights: {class_weights}\")\n",
    "class_weights = torch.FloatTensor(class_weights).to(device)"
   ],
   "id": "51ec8c14920eed66",
   "outputs": [
    {
     "name": "stdout",
     "output_type": "stream",
     "text": [
      "Classes: [0 1 2 3 4 5 6] \n",
      "Weights: [1. 1. 1. 1. 1. 1. 1.]\n"
     ]
    }
   ],
   "execution_count": 205
  },
  {
   "cell_type": "code",
   "id": "5b2328ed4ae2258f",
   "metadata": {
    "ExecuteTime": {
     "end_time": "2025-06-17T11:46:15.191493Z",
     "start_time": "2025-06-17T11:46:15.183870Z"
    }
   },
   "source": [
    "X_train, X_test, y_train, y_test = train_test_split(\n",
    "    X, y, test_size=0.15, stratify=y, random_state=42\n",
    ")"
   ],
   "outputs": [],
   "execution_count": 206
  },
  {
   "cell_type": "code",
   "id": "6705cdc6d5539818",
   "metadata": {
    "ExecuteTime": {
     "end_time": "2025-06-17T11:46:15.764336Z",
     "start_time": "2025-06-17T11:46:15.759642Z"
    }
   },
   "source": [
    "X_train_tensor = torch.FloatTensor(X_train)\n",
    "y_train_tensor = torch.LongTensor(y_train)\n",
    "X_test_tensor = torch.FloatTensor(X_test)\n",
    "y_test_tensor = torch.LongTensor(y_test)"
   ],
   "outputs": [],
   "execution_count": 207
  },
  {
   "cell_type": "code",
   "id": "fae343340b420ee2",
   "metadata": {
    "ExecuteTime": {
     "end_time": "2025-06-17T11:46:16.722185Z",
     "start_time": "2025-06-17T11:46:16.716368Z"
    }
   },
   "source": [
    "train_dataset = TensorDataset(X_train_tensor, y_train_tensor)\n",
    "test_dataset = TensorDataset(X_test_tensor, y_test_tensor)\n",
    "train_loader = DataLoader(train_dataset, batch_size=params.get('batch_size'), shuffle=True, drop_last=True)\n",
    "test_loader = DataLoader(test_dataset, batch_size=params.get('batch_size'), shuffle=False)"
   ],
   "outputs": [],
   "execution_count": 208
  },
  {
   "cell_type": "code",
   "id": "d44f60e455d831f4",
   "metadata": {
    "ExecuteTime": {
     "end_time": "2025-06-17T11:46:17.365623Z",
     "start_time": "2025-06-17T11:46:17.357144Z"
    }
   },
   "source": [
    "class TabNet(nn.Module):\n",
    "    def __init__(self, input_dim, output_dim, n_d=32, n_a=32, n_steps=3, gamma=1.3,\n",
    "                 n_independent=2, n_shared=2, momentum=0.02):\n",
    "        super(TabNet, self).__init__()\n",
    "        self.input_dim = input_dim\n",
    "        self.output_dim = output_dim\n",
    "        self.n_d = n_d\n",
    "        self.n_a = n_a\n",
    "        self.n_steps = n_steps\n",
    "        self.gamma = gamma\n",
    "        self.momentum = momentum\n",
    "\n",
    "        self.initial_bn = nn.BatchNorm1d(input_dim, momentum=momentum)\n",
    "        self.initial_splitter = FeatureTransformer(input_dim, n_d + n_a, n_independent, n_shared, momentum)\n",
    "        self.attentive_transformers = nn.ModuleList([\n",
    "            AttentiveTransformer(input_dim, n_a, momentum) for _ in range(n_steps)\n",
    "        ])\n",
    "        self.feature_transformers = nn.ModuleList([\n",
    "            FeatureTransformer(input_dim, n_d + n_a, n_independent, n_shared, momentum)\n",
    "            for _ in range(n_steps)\n",
    "        ])\n",
    "        self.final_linear = nn.Linear(n_d, output_dim)\n",
    "\n",
    "    def forward(self, x):\n",
    "        batch_size = x.size(0)\n",
    "        x = self.initial_bn(x)\n",
    "        prior = torch.ones(batch_size, self.input_dim, device=x.device)\n",
    "        M_loss = 0\n",
    "        outputs = []\n",
    "        M = []\n",
    "\n",
    "        features = self.initial_splitter(x)\n",
    "        d, a = features[:, :self.n_d], features[:, self.n_d:]\n",
    "\n",
    "        for step in range(self.n_steps):\n",
    "            M_i = self.attentive_transformers[step](a, prior)\n",
    "            M.append(M_i)\n",
    "            M_loss += torch.mean(torch.sum(-M_i * torch.log(M_i + 1e-15), dim=1))\n",
    "            prior = self.gamma - M_i\n",
    "            prior = torch.cumprod(prior, dim=0)\n",
    "            masked_x = M_i * x\n",
    "            features = self.feature_transformers[step](masked_x)\n",
    "            d, a = features[:, :self.n_d], features[:, self.n_d:]\n",
    "            outputs.append(d)\n",
    "\n",
    "        out = torch.stack(outputs, dim=1).sum(dim=1)\n",
    "        out = self.final_linear(out)\n",
    "        return out, M, M_loss / self.n_steps"
   ],
   "outputs": [],
   "execution_count": 209
  },
  {
   "cell_type": "code",
   "id": "6f8f5394b0004f5a",
   "metadata": {
    "ExecuteTime": {
     "end_time": "2025-06-17T11:46:17.887476Z",
     "start_time": "2025-06-17T11:46:17.880619Z"
    }
   },
   "source": [
    "class FeatureTransformer(nn.Module):\n",
    "    def __init__(self, input_dim, output_dim, n_independent, n_shared, momentum):\n",
    "        super(FeatureTransformer, self).__init__()\n",
    "        self.shared = nn.ModuleList()\n",
    "        for i in range(n_shared):\n",
    "            in_features = input_dim if i == 0 else output_dim\n",
    "            self.shared.append(nn.Sequential(\n",
    "                nn.Linear(in_features, output_dim * 2),\n",
    "                nn.BatchNorm1d(output_dim * 2, momentum=momentum),\n",
    "                nn.GLU(),\n",
    "                nn.Dropout(0.1)\n",
    "            ))\n",
    "        self.independent = nn.ModuleList()\n",
    "        for _ in range(n_independent):\n",
    "            self.independent.append(nn.Sequential(\n",
    "                nn.Linear(output_dim, output_dim * 2),\n",
    "                nn.BatchNorm1d(output_dim * 2, momentum=momentum),\n",
    "                nn.GLU(),\n",
    "                nn.Dropout(0.1)\n",
    "            ))\n",
    "\n",
    "    def forward(self, x):\n",
    "        shared_out = x\n",
    "        for layer in self.shared:\n",
    "            shared_out = layer(shared_out)\n",
    "        out = shared_out\n",
    "        for layer in self.independent:\n",
    "            out = layer(out)\n",
    "        return out"
   ],
   "outputs": [],
   "execution_count": 210
  },
  {
   "cell_type": "code",
   "id": "cc71668c85adabdd",
   "metadata": {
    "ExecuteTime": {
     "end_time": "2025-06-17T11:46:18.361575Z",
     "start_time": "2025-06-17T11:46:18.355571Z"
    }
   },
   "source": [
    "class AttentiveTransformer(nn.Module):\n",
    "    def __init__(self, input_dim, n_a, momentum):\n",
    "        super(AttentiveTransformer, self).__init__()\n",
    "        self.fc = nn.Linear(n_a, input_dim)\n",
    "        self.bn = nn.BatchNorm1d(input_dim, momentum=momentum)\n",
    "\n",
    "    def forward(self, a, prior):\n",
    "        a = self.fc(a)\n",
    "        a = self.bn(a)\n",
    "        a = a * prior\n",
    "        return sparsemax(a)"
   ],
   "outputs": [],
   "execution_count": 211
  },
  {
   "cell_type": "code",
   "id": "4d229320a1c83ee9",
   "metadata": {
    "ExecuteTime": {
     "end_time": "2025-06-17T11:46:19.547021Z",
     "start_time": "2025-06-17T11:46:19.540607Z"
    }
   },
   "source": [
    "def sparsemax(x):\n",
    "    sorted_x, _ = torch.sort(x, dim=1, descending=True)\n",
    "    cumsum = torch.cumsum(F.softmax(sorted_x, dim=1), dim=1)\n",
    "    rho = (cumsum <= 1).sum(dim=1, keepdim=True)\n",
    "    tau = (cumsum.gather(1, rho - 1) - 1) / rho\n",
    "    out = F.relu(x - tau)\n",
    "    return out / (out.sum(dim=1, keepdim=True) + 1e-15)"
   ],
   "outputs": [],
   "execution_count": 212
  },
  {
   "metadata": {
    "ExecuteTime": {
     "end_time": "2025-06-17T11:46:20.067217Z",
     "start_time": "2025-06-17T11:46:20.060460Z"
    }
   },
   "cell_type": "code",
   "source": [
    "def evaluate_tabnet(model, test_loader, criterion, device, is_binary=True):\n",
    "    model.eval()\n",
    "    total_test_loss = 0\n",
    "    total_test_correct = 0\n",
    "    total_test_samples = 0\n",
    "    y_pred = []\n",
    "    y_true = []\n",
    "\n",
    "    with torch.no_grad():\n",
    "        for data, target in test_loader:\n",
    "            data, target = data.to(device), target.to(device)\n",
    "            output, _, M_loss = model(data)\n",
    "            test_loss = criterion(output, target) + 0.01 * M_loss\n",
    "            total_test_loss += test_loss.item()\n",
    "            pred = output.argmax(dim=1)\n",
    "            total_test_correct += pred.eq(target).sum().item()\n",
    "            total_test_samples += target.size(0)\n",
    "            y_pred.extend(pred.cpu().numpy())\n",
    "            y_true.extend(target.cpu().numpy())\n",
    "\n",
    "    test_loss = total_test_loss / len(test_loader)\n",
    "    test_accuracy = 100. * total_test_correct / total_test_samples\n",
    "    precision, recall, f1, _ = precision_recall_fscore_support(\n",
    "        y_true, y_pred, average='binary' if is_binary else 'weighted', zero_division=0\n",
    "    )\n",
    "\n",
    "    return test_loss, test_accuracy, precision, recall, f1, y_true, y_pred"
   ],
   "id": "eb5f2207a468fd4c",
   "outputs": [],
   "execution_count": 213
  },
  {
   "cell_type": "code",
   "id": "74f7f856ad0f2875",
   "metadata": {
    "ExecuteTime": {
     "end_time": "2025-06-17T11:46:20.429043Z",
     "start_time": "2025-06-17T11:46:20.419772Z"
    }
   },
   "source": [
    "def train_tabnet(model, train_loader, test_loader, optimizer, epochs, device, class_weights=None):\n",
    "    criterion = nn.CrossEntropyLoss(weight=class_weights)\n",
    "    scheduler = torch.optim.lr_scheduler.ReduceLROnPlateau(optimizer, mode='min', factor=0.5, patience=1)\n",
    "\n",
    "    train_losses = []\n",
    "    test_losses = []\n",
    "    test_accuracies = []\n",
    "\n",
    "    best_val_loss = float('inf')\n",
    "    patience = 5\n",
    "    counter = 0\n",
    "    best_model_path = './models/best_model.pth'\n",
    "\n",
    "    for epoch in range(epochs):\n",
    "        total_train_loss = 0\n",
    "        total_train_correct = 0\n",
    "        total_train_samples = 0\n",
    "        model.train()\n",
    "\n",
    "        for batch_idx, (data, target) in enumerate(train_loader):\n",
    "            data, target = data.to(device), target.to(device)\n",
    "            optimizer.zero_grad()\n",
    "            output, M, M_loss = model(data)\n",
    "            loss = criterion(output, target) + 0.01 * M_loss\n",
    "            loss.backward()\n",
    "            optimizer.step()\n",
    "\n",
    "            total_train_loss += loss.item()\n",
    "            pred = output.argmax(dim=1)\n",
    "            total_train_correct += pred.eq(target).sum().item()\n",
    "            total_train_samples += target.size(0)\n",
    "\n",
    "        train_loss = total_train_loss / len(train_loader)\n",
    "        train_accuracy = 100. * total_train_correct / total_train_samples\n",
    "        train_losses.append(train_loss)\n",
    "\n",
    "        test_loss, test_accuracy, precision, recall, f1, y_true, y_pred = evaluate_tabnet(\n",
    "            model, test_loader, criterion, device, is_binary=IS_BINARY\n",
    "        )\n",
    "        test_losses.append(test_loss)\n",
    "        test_accuracies.append(test_accuracy)\n",
    "\n",
    "        scheduler.step(test_loss)\n",
    "\n",
    "        print(f'\\nЭпоха {epoch+1}/{epochs}:')\n",
    "        print(f'  Тренировочные потери: {train_loss:.4f}, Тренировочная точность: {train_accuracy:.2f}%')\n",
    "        print(f'  Тестовые потери: {test_loss:.4f}, Тестовая точность: {test_accuracy:.2f}%')\n",
    "        print(f'  Precision: {precision:.4f}, Recall: {recall:.4f}, F1: {f1:.4f}\\n')\n",
    "\n",
    "        # Механизм ранней остановки\n",
    "        if test_loss < best_val_loss:\n",
    "            best_val_loss = test_loss\n",
    "            counter = 0\n",
    "            torch.save(model.state_dict(), best_model_path)\n",
    "            print(f\"Найдена лучшая модель с потерями: {best_val_loss:.4f}\")\n",
    "        else:\n",
    "            counter += 1\n",
    "            print(f\"Потери не улучшились ({counter}/{patience})\")\n",
    "            if counter >= patience:\n",
    "                print(f\"Ранняя остановка на эпохе {epoch+1}\")\n",
    "                model.load_state_dict(torch.load(best_model_path))\n",
    "                break\n",
    "\n",
    "    return train_losses, test_losses, test_accuracies"
   ],
   "outputs": [],
   "execution_count": 214
  },
  {
   "cell_type": "code",
   "id": "f304e1698b7cfd34",
   "metadata": {
    "ExecuteTime": {
     "end_time": "2025-06-17T11:46:20.827626Z",
     "start_time": "2025-06-17T11:46:20.791126Z"
    }
   },
   "source": [
    "input_dim = X.shape[1]\n",
    "output_dim = len(np.unique(y))\n",
    "\n",
    "model = TabNet(input_dim=input_dim,\n",
    "               output_dim=output_dim,\n",
    "               n_d=params.get(\"n_d\"),\n",
    "               n_a=params.get(\"n_a\"),\n",
    "               n_steps=params.get(\"n_steps\"),\n",
    "               gamma=params.get(\"gamma\"),\n",
    "               n_independent=params.get(\"n_independent\"),\n",
    "               n_shared=params.get(\"n_shared\"),\n",
    "               momentum=params.get(\"momentum\")\n",
    ").to(device)\n",
    "\n",
    "optimizer = torch.optim.Adam(model.parameters(), lr=params.get(\"learning_rate\"), weight_decay=params.get(\"weight_decay\"))"
   ],
   "outputs": [],
   "execution_count": 215
  },
  {
   "cell_type": "code",
   "id": "a2ff19de0a9eec36",
   "metadata": {
    "ExecuteTime": {
     "end_time": "2025-06-17T11:47:18.238865Z",
     "start_time": "2025-06-17T11:46:21.333523Z"
    }
   },
   "source": [
    "epochs = 100\n",
    "train_losses, test_losses, test_accuracies = train_tabnet(model,\n",
    "                                                          train_loader,\n",
    "                                                          test_loader,\n",
    "                                                          optimizer,\n",
    "                                                          epochs,\n",
    "                                                          device,\n",
    "                                                          class_weights)"
   ],
   "outputs": [
    {
     "name": "stdout",
     "output_type": "stream",
     "text": [
      "\n",
      "Эпоха 1/100:\n",
      "  Тренировочные потери: 1.5488, Тренировочная точность: 43.01%\n",
      "  Тестовые потери: 1.8773, Тестовая точность: 37.89%\n",
      "  Precision: 0.5068, Recall: 0.3789, F1: 0.3175\n",
      "\n",
      "Найдена лучшая модель с потерями: 1.8773\n",
      "\n",
      "Эпоха 2/100:\n",
      "  Тренировочные потери: 1.1764, Тренировочная точность: 58.79%\n",
      "  Тестовые потери: 1.2963, Тестовая точность: 50.88%\n",
      "  Precision: 0.6090, Recall: 0.5088, F1: 0.4761\n",
      "\n",
      "Найдена лучшая модель с потерями: 1.2963\n",
      "\n",
      "Эпоха 3/100:\n",
      "  Тренировочные потери: 1.0010, Тренировочная точность: 65.04%\n",
      "  Тестовые потери: 1.2333, Тестовая точность: 58.59%\n",
      "  Precision: 0.6750, Recall: 0.5859, F1: 0.5864\n",
      "\n",
      "Найдена лучшая модель с потерями: 1.2333\n",
      "\n",
      "Эпоха 4/100:\n",
      "  Тренировочные потери: 0.8993, Тренировочная точность: 69.30%\n",
      "  Тестовые потери: 0.9737, Тестовая точность: 67.62%\n",
      "  Precision: 0.7026, Recall: 0.6762, F1: 0.6768\n",
      "\n",
      "Найдена лучшая модель с потерями: 0.9737\n",
      "\n",
      "Эпоха 5/100:\n",
      "  Тренировочные потери: 0.8337, Тренировочная точность: 70.82%\n",
      "  Тестовые потери: 1.1562, Тестовая точность: 69.60%\n",
      "  Precision: 0.7343, Recall: 0.6960, F1: 0.6979\n",
      "\n",
      "Потери не улучшились (1/5)\n",
      "\n",
      "Эпоха 6/100:\n",
      "  Тренировочные потери: 0.7731, Тренировочная точность: 74.26%\n",
      "  Тестовые потери: 0.7822, Тестовая точность: 76.21%\n",
      "  Precision: 0.7787, Recall: 0.7621, F1: 0.7612\n",
      "\n",
      "Найдена лучшая модель с потерями: 0.7822\n",
      "\n",
      "Эпоха 7/100:\n",
      "  Тренировочные потери: 0.6995, Тренировочная точность: 76.72%\n",
      "  Тестовые потери: 0.7737, Тестовая точность: 77.97%\n",
      "  Precision: 0.7834, Recall: 0.7797, F1: 0.7796\n",
      "\n",
      "Найдена лучшая модель с потерями: 0.7737\n",
      "\n",
      "Эпоха 8/100:\n",
      "  Тренировочные потери: 0.6248, Тренировочная точность: 79.41%\n",
      "  Тестовые потери: 0.7750, Тестовая точность: 77.97%\n",
      "  Precision: 0.7908, Recall: 0.7797, F1: 0.7803\n",
      "\n",
      "Потери не улучшились (1/5)\n",
      "\n",
      "Эпоха 9/100:\n",
      "  Тренировочные потери: 0.6048, Тренировочная точность: 79.96%\n",
      "  Тестовые потери: 0.8809, Тестовая точность: 79.52%\n",
      "  Precision: 0.8112, Recall: 0.7952, F1: 0.7960\n",
      "\n",
      "Потери не улучшились (2/5)\n",
      "\n",
      "Эпоха 10/100:\n",
      "  Тренировочные потери: 0.4950, Тренировочная точность: 83.71%\n",
      "  Тестовые потери: 0.6370, Тестовая точность: 80.40%\n",
      "  Precision: 0.8183, Recall: 0.8040, F1: 0.8032\n",
      "\n",
      "Найдена лучшая модель с потерями: 0.6370\n",
      "\n",
      "Эпоха 11/100:\n",
      "  Тренировочные потери: 0.4811, Тренировочная точность: 83.87%\n",
      "  Тестовые потери: 0.7850, Тестовая точность: 80.84%\n",
      "  Precision: 0.8225, Recall: 0.8084, F1: 0.8095\n",
      "\n",
      "Потери не улучшились (1/5)\n",
      "\n",
      "Эпоха 12/100:\n",
      "  Тренировочные потери: 0.4522, Тренировочная точность: 85.43%\n",
      "  Тестовые потери: 0.8034, Тестовая точность: 82.38%\n",
      "  Precision: 0.8310, Recall: 0.8238, F1: 0.8231\n",
      "\n",
      "Потери не улучшились (2/5)\n",
      "\n",
      "Эпоха 13/100:\n",
      "  Тренировочные потери: 0.4200, Тренировочная точность: 86.21%\n",
      "  Тестовые потери: 0.6209, Тестовая точность: 82.60%\n",
      "  Precision: 0.8330, Recall: 0.8260, F1: 0.8266\n",
      "\n",
      "Найдена лучшая модель с потерями: 0.6209\n",
      "\n",
      "Эпоха 14/100:\n",
      "  Тренировочные потери: 0.3679, Тренировочная точность: 88.32%\n",
      "  Тестовые потери: 0.5969, Тестовая точность: 86.12%\n",
      "  Precision: 0.8690, Recall: 0.8612, F1: 0.8618\n",
      "\n",
      "Найдена лучшая модель с потерями: 0.5969\n",
      "\n",
      "Эпоха 15/100:\n",
      "  Тренировочные потери: 0.3800, Тренировочная точность: 88.05%\n",
      "  Тестовые потери: 0.5459, Тестовая точность: 85.68%\n",
      "  Precision: 0.8632, Recall: 0.8568, F1: 0.8567\n",
      "\n",
      "Найдена лучшая модель с потерями: 0.5459\n",
      "\n",
      "Эпоха 16/100:\n",
      "  Тренировочные потери: 0.3513, Тренировочная точность: 88.59%\n",
      "  Тестовые потери: 0.5439, Тестовая точность: 85.24%\n",
      "  Precision: 0.8574, Recall: 0.8524, F1: 0.8522\n",
      "\n",
      "Найдена лучшая модель с потерями: 0.5439\n",
      "\n",
      "Эпоха 17/100:\n",
      "  Тренировочные потери: 0.3594, Тренировочная точность: 89.02%\n",
      "  Тестовые потери: 0.4569, Тестовая точность: 87.22%\n",
      "  Precision: 0.8736, Recall: 0.8722, F1: 0.8722\n",
      "\n",
      "Найдена лучшая модель с потерями: 0.4569\n",
      "\n",
      "Эпоха 18/100:\n",
      "  Тренировочные потери: 0.3527, Тренировочная точность: 88.48%\n",
      "  Тестовые потери: 0.4567, Тестовая точность: 87.00%\n",
      "  Precision: 0.8750, Recall: 0.8700, F1: 0.8699\n",
      "\n",
      "Найдена лучшая модель с потерями: 0.4567\n",
      "\n",
      "Эпоха 19/100:\n",
      "  Тренировочные потери: 0.3458, Тренировочная точность: 88.36%\n",
      "  Тестовые потери: 0.4376, Тестовая точность: 87.44%\n",
      "  Precision: 0.8767, Recall: 0.8744, F1: 0.8744\n",
      "\n",
      "Найдена лучшая модель с потерями: 0.4376\n",
      "\n",
      "Эпоха 20/100:\n",
      "  Тренировочные потери: 0.3475, Тренировочная точность: 88.67%\n",
      "  Тестовые потери: 0.3957, Тестовая точность: 88.33%\n",
      "  Precision: 0.8849, Recall: 0.8833, F1: 0.8832\n",
      "\n",
      "Найдена лучшая модель с потерями: 0.3957\n",
      "\n",
      "Эпоха 21/100:\n",
      "  Тренировочные потери: 0.3434, Тренировочная точность: 88.91%\n",
      "  Тестовые потери: 0.4314, Тестовая точность: 89.43%\n",
      "  Precision: 0.8955, Recall: 0.8943, F1: 0.8944\n",
      "\n",
      "Потери не улучшились (1/5)\n",
      "\n",
      "Эпоха 22/100:\n",
      "  Тренировочные потери: 0.3341, Тренировочная точность: 89.69%\n",
      "  Тестовые потери: 0.4210, Тестовая точность: 89.87%\n",
      "  Precision: 0.8991, Recall: 0.8987, F1: 0.8986\n",
      "\n",
      "Потери не улучшились (2/5)\n",
      "\n",
      "Эпоха 23/100:\n",
      "  Тренировочные потери: 0.3129, Тренировочная точность: 90.20%\n",
      "  Тестовые потери: 0.4002, Тестовая точность: 88.55%\n",
      "  Precision: 0.8868, Recall: 0.8855, F1: 0.8855\n",
      "\n",
      "Потери не улучшились (3/5)\n",
      "\n",
      "Эпоха 24/100:\n",
      "  Тренировочные потери: 0.2940, Тренировочная точность: 90.82%\n",
      "  Тестовые потери: 0.4023, Тестовая точность: 89.21%\n",
      "  Precision: 0.8932, Recall: 0.8921, F1: 0.8923\n",
      "\n",
      "Потери не улучшились (4/5)\n",
      "\n",
      "Эпоха 25/100:\n",
      "  Тренировочные потери: 0.2899, Тренировочная точность: 90.82%\n",
      "  Тестовые потери: 0.3884, Тестовая точность: 89.21%\n",
      "  Precision: 0.8931, Recall: 0.8921, F1: 0.8920\n",
      "\n",
      "Найдена лучшая модель с потерями: 0.3884\n",
      "\n",
      "Эпоха 26/100:\n",
      "  Тренировочные потери: 0.2798, Тренировочная точность: 91.80%\n",
      "  Тестовые потери: 0.3843, Тестовая точность: 89.87%\n",
      "  Precision: 0.8997, Recall: 0.8987, F1: 0.8989\n",
      "\n",
      "Найдена лучшая модель с потерями: 0.3843\n",
      "\n",
      "Эпоха 27/100:\n",
      "  Тренировочные потери: 0.2708, Тренировочная точность: 91.29%\n",
      "  Тестовые потери: 0.3538, Тестовая точность: 90.53%\n",
      "  Precision: 0.9063, Recall: 0.9053, F1: 0.9056\n",
      "\n",
      "Найдена лучшая модель с потерями: 0.3538\n",
      "\n",
      "Эпоха 28/100:\n",
      "  Тренировочные потери: 0.2649, Тренировочная точность: 91.76%\n",
      "  Тестовые потери: 0.3663, Тестовая точность: 90.97%\n",
      "  Precision: 0.9108, Recall: 0.9097, F1: 0.9100\n",
      "\n",
      "Потери не улучшились (1/5)\n",
      "\n",
      "Эпоха 29/100:\n",
      "  Тренировочные потери: 0.2826, Тренировочная точность: 90.98%\n",
      "  Тестовые потери: 0.3610, Тестовая точность: 91.19%\n",
      "  Precision: 0.9119, Recall: 0.9119, F1: 0.9117\n",
      "\n",
      "Потери не улучшились (2/5)\n",
      "\n",
      "Эпоха 30/100:\n",
      "  Тренировочные потери: 0.2678, Тренировочная точность: 91.95%\n",
      "  Тестовые потери: 0.3785, Тестовая точность: 90.53%\n",
      "  Precision: 0.9064, Recall: 0.9053, F1: 0.9053\n",
      "\n",
      "Потери не улучшились (3/5)\n",
      "\n",
      "Эпоха 31/100:\n",
      "  Тренировочные потери: 0.2698, Тренировочная точность: 91.91%\n",
      "  Тестовые потери: 0.3761, Тестовая точность: 90.75%\n",
      "  Precision: 0.9081, Recall: 0.9075, F1: 0.9075\n",
      "\n",
      "Потери не улучшились (4/5)\n",
      "\n",
      "Эпоха 32/100:\n",
      "  Тренировочные потери: 0.2572, Тренировочная точность: 91.48%\n",
      "  Тестовые потери: 0.3644, Тестовая точность: 91.41%\n",
      "  Precision: 0.9143, Recall: 0.9141, F1: 0.9141\n",
      "\n",
      "Потери не улучшились (5/5)\n",
      "Ранняя остановка на эпохе 32\n"
     ]
    }
   ],
   "execution_count": 216
  },
  {
   "cell_type": "code",
   "id": "d245abf01ad3031b",
   "metadata": {
    "ExecuteTime": {
     "end_time": "2025-06-17T12:23:15.632203Z",
     "start_time": "2025-06-17T12:23:13.219827Z"
    }
   },
   "source": [
    "all_dataset = TensorDataset(torch.FloatTensor(X), torch.LongTensor(y))\n",
    "all_loader = DataLoader(all_dataset, batch_size=32, shuffle=False)\n",
    "model.eval()\n",
    "y_pred_all = []\n",
    "y_true_all = []\n",
    "\n",
    "with torch.no_grad():\n",
    "    for data, target in all_loader:\n",
    "        data, target = data.to(device), target.to(device)\n",
    "        output, _, _ = model(data)\n",
    "        pred = output.argmax(dim=1)\n",
    "        y_pred_all.extend(pred.cpu().numpy())\n",
    "        y_true_all.extend(target.cpu().numpy())\n",
    "\n",
    "# Вычисление метрик на всём датасете\n",
    "overall_accuracy = 100. * np.mean(np.array(y_pred_all) == y_true_all)\n",
    "precision, recall, f1, _ = precision_recall_fscore_support(y_true_all, y_pred_all, average='weighted', zero_division=0)\n",
    "\n",
    "# Вывод результатов\n",
    "print(f\"\\nМетрики на всём датасете:\")\n",
    "print(f\"Общая точность (Accuracy): {overall_accuracy:.2f}%\")\n",
    "print(f\"Precision: {precision:.2f}\")\n",
    "print(f\"Recall: {recall:.2f}\")\n",
    "print(f\"F1-Score: {f1:.2f}\")\n",
    "\n",
    "# Детализация по классам (опционально)\n",
    "precision_per_class, recall_per_class, f1_per_class, _ = precision_recall_fscore_support(y_true_all, y_pred_all, average=None, zero_division=0)\n",
    "for i, class_name in enumerate(class_names):\n",
    "    print(f\"Класс {class_name} (индекс {i}): Precision = {precision_per_class[i]:.2f}, Recall = {recall_per_class[i]:.2f}, F1 = {f1_per_class[i]:.2f}\")\n",
    "\n",
    "# Визуализация метрик\n",
    "metrics = {\n",
    "    'Metric': ['Accuracy', 'Precision', 'Recall', 'F1-Score'],\n",
    "    'Value (%)': [overall_accuracy, precision * 100, recall * 100, f1 * 100]\n",
    "}\n",
    "metrics_df = pd.DataFrame(metrics)\n",
    "\n",
    "plt.figure(figsize=(8, 6))\n",
    "sns.barplot(x='Metric', y='Value (%)', data=metrics_df, palette='viridis')\n",
    "plt.title('Общие метрики на всём датасете')\n",
    "plt.ylabel('Значение (%)')\n",
    "plt.ylim(0, 100)\n",
    "for i, v in enumerate(metrics_df['Value (%)']):\n",
    "    plt.text(i, v + 1, f'{v:.2f}', ha='center')\n",
    "plt.savefig(os.path.join(PLOTS_DIR, 'overall_metrics.png'))\n",
    "plt.close()\n",
    "\n",
    "# Матрица ошибок для всего датасета\n",
    "conf_matrix = confusion_matrix(y_true_all, y_pred_all)\n",
    "plt.figure(figsize=(8, 6))\n",
    "sns.heatmap(conf_matrix, annot=True, fmt='d', cmap='Blues', xticklabels=class_names, yticklabels=class_names)\n",
    "plt.xlabel('Предсказанный класс')\n",
    "plt.ylabel('Истинный класс')\n",
    "plt.title('Матрица ошибок на всём датасете')\n",
    "plt.savefig(os.path.join(PLOTS_DIR, 'confusion_matrix_all.png'))\n",
    "plt.close()"
   ],
   "outputs": [
    {
     "name": "stdout",
     "output_type": "stream",
     "text": [
      "\n",
      "Метрики на всём датасете:\n",
      "Общая точность (Accuracy): 93.02%\n",
      "Precision: 0.93\n",
      "Recall: 0.93\n",
      "F1-Score: 0.93\n",
      "Класс cloud_service (индекс 0): Precision = 0.93, Recall = 0.91, F1 = 0.92\n",
      "Класс e-mail (индекс 1): Precision = 0.96, Recall = 0.94, F1 = 0.95\n",
      "Класс games (индекс 2): Precision = 0.90, Recall = 0.95, F1 = 0.92\n",
      "Класс information (индекс 3): Precision = 0.96, Recall = 0.89, F1 = 0.92\n",
      "Класс music (индекс 4): Precision = 0.89, Recall = 0.95, F1 = 0.92\n",
      "Класс social_network (индекс 5): Precision = 0.96, Recall = 0.97, F1 = 0.97\n",
      "Класс video_hosting (индекс 6): Precision = 0.91, Recall = 0.92, F1 = 0.91\n"
     ]
    },
    {
     "name": "stderr",
     "output_type": "stream",
     "text": [
      "C:\\Users\\owtf0\\AppData\\Local\\Temp\\ipykernel_11804\\1313384646.py:39: FutureWarning: \n",
      "\n",
      "Passing `palette` without assigning `hue` is deprecated and will be removed in v0.14.0. Assign the `x` variable to `hue` and set `legend=False` for the same effect.\n",
      "\n",
      "  sns.barplot(x='Metric', y='Value (%)', data=metrics_df, palette='viridis')\n"
     ]
    }
   ],
   "execution_count": 228
  },
  {
   "metadata": {
    "ExecuteTime": {
     "end_time": "2025-06-17T11:48:36.066598Z",
     "start_time": "2025-06-17T11:48:36.061620Z"
    }
   },
   "cell_type": "code",
   "source": [
    "def get_feature_importance(model, data_loader, device, feature_names):\n",
    "    model.eval()\n",
    "    feature_importance = torch.zeros(model.input_dim).to(device)\n",
    "    total_samples = 0\n",
    "    with torch.no_grad():\n",
    "        for data, _ in data_loader:\n",
    "            data = data.to(device)\n",
    "            _, masks, _ = model(data)\n",
    "            for mask in masks:\n",
    "                feature_importance += mask.sum(dim=0)\n",
    "            total_samples += data.size(0)\n",
    "    importance = feature_importance.cpu().numpy() / total_samples\n",
    "\n",
    "    return pd.Series(importance, index=feature_names)"
   ],
   "id": "fcdddb244605d95b",
   "outputs": [],
   "execution_count": 219
  },
  {
   "metadata": {
    "ExecuteTime": {
     "end_time": "2025-06-17T11:48:36.778436Z",
     "start_time": "2025-06-17T11:48:36.770267Z"
    }
   },
   "cell_type": "code",
   "source": [
    "def evaluate_model(model, test_loader, device, is_binary):\n",
    "    model.eval()\n",
    "    criterion = nn.CrossEntropyLoss()\n",
    "    total_loss = 0\n",
    "    y_pred = []\n",
    "    y_true = []\n",
    "    y_scores = []\n",
    "\n",
    "    with torch.no_grad():\n",
    "        for data, target in test_loader:\n",
    "            data, target = data.to(device), target.to(device)\n",
    "            output, _, M_loss = model(data)\n",
    "            loss = criterion(output, target) + 0.01 * M_loss\n",
    "            total_loss += loss.item()\n",
    "            pred = output.argmax(dim=1)\n",
    "            y_pred.extend(pred.cpu().numpy())\n",
    "            y_true.extend(target.cpu().numpy())\n",
    "            if is_binary:\n",
    "                scores = torch.softmax(output, dim=1)[:, 1]\n",
    "                y_scores.extend(scores.cpu().numpy())\n",
    "\n",
    "    test_loss = total_loss / len(test_loader)\n",
    "    accuracy = accuracy_score(y_true, y_pred) * 100\n",
    "    precision, recall, f1, _ = precision_recall_fscore_support(y_true, y_pred,\n",
    "                                                               average='binary' if is_binary else 'weighted')\n",
    "    cm = confusion_matrix(y_true, y_pred)\n",
    "\n",
    "    # ROC-кривая (только для бинарной классификации)\n",
    "    roc_data = None\n",
    "    if is_binary and y_scores:\n",
    "        fpr, tpr, _ = roc_curve(y_true, y_scores)\n",
    "        roc_auc = auc(fpr, tpr)\n",
    "        roc_data = (fpr, tpr, roc_auc)\n",
    "\n",
    "    return {\n",
    "        'test_loss': test_loss,\n",
    "        'accuracy': accuracy,\n",
    "        'precision': precision,\n",
    "        'recall': recall,\n",
    "        'f1': f1,\n",
    "        'confusion_matrix': cm,\n",
    "        'roc_data': roc_data\n",
    "    }"
   ],
   "id": "41b41fa59c36fbe4",
   "outputs": [],
   "execution_count": 220
  },
  {
   "metadata": {
    "ExecuteTime": {
     "end_time": "2025-06-17T11:48:37.479797Z",
     "start_time": "2025-06-17T11:48:37.471514Z"
    }
   },
   "cell_type": "code",
   "source": [
    "def plot_results(train_losses, test_losses, test_accuracies, eval_results, class_names, is_binary):\n",
    "    # График потерь\n",
    "    plt.figure(figsize=(10, 6))\n",
    "    plt.plot(range(1, len(train_losses) + 1), train_losses, label='Тренировочные потери')\n",
    "    plt.plot(range(1, len(test_losses) + 1), test_losses, label='Тестовые потери')\n",
    "    plt.xlabel('Эпоха')\n",
    "    plt.ylabel('Потери')\n",
    "    plt.title('Тренировочные и тестовые потери по эпохам')\n",
    "    plt.legend()\n",
    "    plt.grid()\n",
    "    plt.savefig(os.path.join(PLOTS_DIR, 'loss_plot.png'))\n",
    "    plt.close()\n",
    "\n",
    "    # График точности\n",
    "    plt.figure(figsize=(10, 6))\n",
    "    plt.plot(range(1, len(test_accuracies) + 1), test_accuracies, label='Тестовая точность')\n",
    "    plt.xlabel('Эпоха')\n",
    "    plt.ylabel('Точность (%)')\n",
    "    plt.title('Тестовая точность по эпохам')\n",
    "    plt.legend()\n",
    "    plt.grid()\n",
    "    plt.savefig(os.path.join(PLOTS_DIR, 'accuracy_plot.png'))\n",
    "    plt.close()\n",
    "\n",
    "    # Матрица ошибок\n",
    "    plt.figure(figsize=(8, 6))\n",
    "    sns.heatmap(eval_results['confusion_matrix'], annot=True, fmt='d', cmap='Blues',\n",
    "                xticklabels=class_names, yticklabels=class_names)\n",
    "    plt.xlabel('Предсказанный класс')\n",
    "    plt.ylabel('Истинный класс')\n",
    "    plt.title('Матрица ошибок')\n",
    "    plt.savefig(os.path.join(PLOTS_DIR, 'confusion_matrix.png'))\n",
    "    plt.close()\n",
    "\n",
    "    # ROC-кривая (только для бинарной классификации)\n",
    "    if is_binary and eval_results['roc_data']:\n",
    "        fpr, tpr, roc_auc = eval_results['roc_data']\n",
    "        plt.figure(figsize=(8, 6))\n",
    "        plt.plot(fpr, tpr, label=f'ROC-кривая (AUC = {roc_auc:.2f})')\n",
    "        plt.plot([0, 1], [0, 1], 'k--')\n",
    "        plt.xlabel('False Positive Rate')\n",
    "        plt.ylabel('True Positive Rate')\n",
    "        plt.title('ROC-кривая')\n",
    "        plt.legend()\n",
    "        plt.grid()\n",
    "        plt.savefig(os.path.join(PLOTS_DIR, 'roc_curve.png'))\n",
    "        plt.close()"
   ],
   "id": "b78d94f675bb3f60",
   "outputs": [],
   "execution_count": 221
  },
  {
   "cell_type": "code",
   "id": "bb522e67d15bcbdb",
   "metadata": {
    "ExecuteTime": {
     "end_time": "2025-06-17T11:48:38.802812Z",
     "start_time": "2025-06-17T11:48:38.357773Z"
    }
   },
   "source": [
    "eval_results = evaluate_model(model, test_loader, device, IS_BINARY)\n",
    "\n",
    "print(eval_results)\n",
    "\n",
    "# Визуализация\n",
    "plot_results(train_losses, test_losses, test_accuracies, eval_results, class_names, IS_BINARY)"
   ],
   "outputs": [
    {
     "name": "stdout",
     "output_type": "stream",
     "text": [
      "{'test_loss': 0.3537925146520138, 'accuracy': 90.52863436123349, 'precision': 0.906304343120313, 'recall': 0.9052863436123348, 'f1': 0.9055590263487535, 'confusion_matrix': array([[58,  2,  1,  0,  0,  1,  2],\n",
      "       [ 1, 60,  1,  1,  1,  0,  1],\n",
      "       [ 2,  0, 59,  0,  1,  1,  2],\n",
      "       [ 1,  0,  3, 57,  2,  0,  2],\n",
      "       [ 1,  1,  0,  0, 58,  0,  5],\n",
      "       [ 0,  0,  0,  2,  1, 62,  0],\n",
      "       [ 1,  0,  0,  2,  3,  2, 57]]), 'roc_data': None}\n"
     ]
    }
   ],
   "execution_count": 222
  },
  {
   "cell_type": "code",
   "id": "28cc290b65ea8c3f",
   "metadata": {
    "ExecuteTime": {
     "end_time": "2025-06-17T11:48:41.865541Z",
     "start_time": "2025-06-17T11:48:41.613259Z"
    }
   },
   "source": [
    "# Анализ важности признаков\n",
    "importance = get_feature_importance(model, test_loader, device, feature_names)\n",
    "print(\"\\nВажность признаков (топ-10):\")\n",
    "print(importance.sort_values(ascending=False).head(10))\n",
    "\n",
    "# Визуализация важности признаков\n",
    "plt.figure(figsize=(10, 6))\n",
    "importance.sort_values(ascending=False)[:10].plot(kind='bar')\n",
    "plt.title('Топ-10 наиболее важных признаков')\n",
    "plt.ylabel('Важность')\n",
    "plt.xticks(rotation=45, ha='right')\n",
    "plt.tight_layout()\n",
    "plt.show()"
   ],
   "outputs": [
    {
     "name": "stdout",
     "output_type": "stream",
     "text": [
      "\n",
      "Важность признаков (топ-10):\n",
      "Bwd Avg Packets/Bulk       0.098575\n",
      "FIN Flag Count             0.088553\n",
      "Bwd IAT Max                0.086121\n",
      "Init_Win_bytes_backward    0.085093\n",
      "Fwd Avg Packets/Bulk       0.083573\n",
      "Fwd IAT Max                0.080489\n",
      "Fwd Packet Length Std      0.079627\n",
      "Destination Port           0.074669\n",
      "Flow Duration              0.072533\n",
      "Fwd Packet Length Min      0.070964\n",
      "dtype: float32\n"
     ]
    },
    {
     "data": {
      "text/plain": [
       "<Figure size 1000x600 with 1 Axes>"
      ],
      "image/png": "[encoded data removed]"
     },
     "metadata": {},
     "output_type": "display_data"
    }
   ],
   "execution_count": 223
  },
  {
   "cell_type": "code",
   "id": "11a081928ea0dc7e",
   "metadata": {
    "ExecuteTime": {
     "end_time": "2025-06-17T11:50:25.345932Z",
     "start_time": "2025-06-17T11:50:25.304619Z"
    }
   },
   "source": [
    "os.makedirs(os.path.dirname(MODEL_PATH), exist_ok=True)\n",
    "model_filename = f\"tabnet_{TYPE}_{epochs}.pth\"\n",
    "full_path = os.path.join(MODEL_PATH, model_filename)\n",
    "torch.save(model, full_path)\n",
    "print(f\"Модель сохранена полностью в {full_path}\")"
   ],
   "outputs": [
    {
     "name": "stdout",
     "output_type": "stream",
     "text": [
      "Модель сохранена полностью в ./models\\tabnet_multy_100.pth\n"
     ]
    }
   ],
   "execution_count": 227
  },
  {
   "cell_type": "code",
   "execution_count": null,
   "id": "3173943d04e4bf63",
   "metadata": {
    "ExecuteTime": {
     "end_time": "2025-06-15T06:28:25.804735Z",
     "start_time": "2025-06-15T06:28:25.801375Z"
    }
   },
   "outputs": [],
   "source": []
  },
  {
   "cell_type": "code",
   "execution_count": null,
   "id": "70f636163844236a",
   "metadata": {
    "ExecuteTime": {
     "end_time": "2025-06-14T19:38:59.533251100Z",
     "start_time": "2025-06-10T20:45:36.732678Z"
    }
   },
   "outputs": [],
   "source": []
  },
  {
   "cell_type": "code",
   "execution_count": null,
   "id": "d7f21202854caefb",
   "metadata": {
    "ExecuteTime": {
     "end_time": "2025-06-14T19:39:01.703879600Z",
     "start_time": "2025-06-10T20:45:36.783055Z"
    }
   },
   "outputs": [],
   "source": []
  },
  {
   "cell_type": "code",
   "execution_count": null,
   "id": "b9c8a05eebaedb6e",
   "metadata": {},
   "outputs": [],
   "source": []
  },
  {
   "cell_type": "code",
   "execution_count": null,
   "id": "3b9f727650fbe4b2",
   "metadata": {},
   "outputs": [],
   "source": []
  }
 ],
 "metadata": {
  "kernelspec": {
   "display_name": "Python 3 (ipykernel)",
   "language": "python",
   "name": "python3"
  },
  "language_info": {
   "codemirror_mode": {
    "name": "ipython",
    "version": 3
   },
   "file_extension": ".py",
   "mimetype": "text/x-python",
   "name": "python",
   "nbconvert_exporter": "python",
   "pygments_lexer": "ipython3",
   "version": "3.12.10"
  }
 },
 "nbformat": 4,
 "nbformat_minor": 5
}
