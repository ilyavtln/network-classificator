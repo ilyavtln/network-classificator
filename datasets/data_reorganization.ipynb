{
 "cells": [
  {
   "cell_type": "code",
   "id": "initial_id",
   "metadata": {
    "collapsed": true,
    "ExecuteTime": {
     "end_time": "2025-06-17T20:14:19.290799Z",
     "start_time": "2025-06-17T20:14:19.286799Z"
    }
   },
   "source": [
    "import pandas as pd\n",
    "import os\n",
    "from sklearn.model_selection import train_test_split\n",
    "from glob import glob\n",
    "import numpy as np"
   ],
   "outputs": [],
   "execution_count": 29
  },
  {
   "metadata": {
    "ExecuteTime": {
     "end_time": "2025-06-17T20:14:19.551218Z",
     "start_time": "2025-06-17T20:14:19.547360Z"
    }
   },
   "cell_type": "code",
   "source": [
    "csv_files = glob(os.path.join('./data/benign_or_attack', \"*.csv\"))\n",
    "print(csv_files)"
   ],
   "id": "1f36e5c4015c86f8",
   "outputs": [
    {
     "name": "stdout",
     "output_type": "stream",
     "text": [
      "['./data/benign_or_attack\\\\BENIGN_Bot.csv', './data/benign_or_attack\\\\BENIGN_PortScan.csv', './data/benign_or_attack\\\\DDoS_BENIGN.csv', './data/benign_or_attack\\\\DoS_BENIGN.csv', './data/benign_or_attack\\\\WebAttacks.csv']\n"
     ]
    }
   ],
   "execution_count": 30
  },
  {
   "metadata": {
    "ExecuteTime": {
     "end_time": "2025-06-17T20:14:25.740149Z",
     "start_time": "2025-06-17T20:14:19.822080Z"
    }
   },
   "cell_type": "code",
   "source": [
    "data_frames = []\n",
    "\n",
    "for csv_file in csv_files:\n",
    "    try:\n",
    "        df = pd.read_csv(csv_file)\n",
    "        print(f\"Файл {csv_file}: {df.shape[0]} строк, {df.shape[1]} столбцов\")\n",
    "        data_frames.append(df)\n",
    "    except Exception as e:\n",
    "        print(f\"Ошибка при чтении {csv_file}: {e}\")\n",
    "\n",
    "if not data_frames:\n",
    "    raise ValueError(\"Не удалось прочитать ни один CSV-файл.\")"
   ],
   "id": "2dea4f0a6278d3e",
   "outputs": [
    {
     "name": "stdout",
     "output_type": "stream",
     "text": [
      "Файл ./data/benign_or_attack\\BENIGN_Bot.csv: 191033 строк, 79 столбцов\n",
      "Файл ./data/benign_or_attack\\BENIGN_PortScan.csv: 286467 строк, 79 столбцов\n",
      "Файл ./data/benign_or_attack\\DDoS_BENIGN.csv: 225745 строк, 79 столбцов\n",
      "Файл ./data/benign_or_attack\\DoS_BENIGN.csv: 692703 строк, 79 столбцов\n",
      "Файл ./data/benign_or_attack\\WebAttacks.csv: 170366 строк, 79 столбцов\n"
     ]
    }
   ],
   "execution_count": 31
  },
  {
   "metadata": {
    "ExecuteTime": {
     "end_time": "2025-06-17T20:15:42.919670Z",
     "start_time": "2025-06-17T20:15:40.935807Z"
    }
   },
   "cell_type": "code",
   "source": [
    "data = pd.concat(data_frames, ignore_index=True)\n",
    "data = data.dropna()\n",
    "data = data.fillna(0).replace([np.inf, -np.inf], 0)\n",
    "data.columns = data.columns.str.strip()\n",
    "print(f\"Объединённый DataFrame из {len(csv_files)} файла: {data.shape[0]} строк, {data.shape[1]} столбцов\")"
   ],
   "id": "f88a1c9a03547796",
   "outputs": [
    {
     "name": "stdout",
     "output_type": "stream",
     "text": [
      "Объединённый DataFrame из 5 файла: 1565239 строк, 79 столбцов\n"
     ]
    }
   ],
   "execution_count": 38
  },
  {
   "metadata": {
    "ExecuteTime": {
     "end_time": "2025-06-17T20:15:43.926113Z",
     "start_time": "2025-06-17T20:15:43.619734Z"
    }
   },
   "cell_type": "code",
   "source": [
    "print(\"\\nРаспределение классов до преобразования меток:\")\n",
    "print(data['Label'].value_counts(normalize=True) * 100)\n",
    "\n",
    "data['Label'] = data['Label'].apply(\n",
    "    lambda x: 'benign' if 'BENIGN' in str(x).upper() else 'attack'\n",
    ")"
   ],
   "id": "b61e8788f01e1901",
   "outputs": [
    {
     "name": "stdout",
     "output_type": "stream",
     "text": [
      "\n",
      "Распределение классов до преобразования меток:\n",
      "Label\n",
      "BENIGN                        65.319929\n",
      "DoS Hulk                      14.702164\n",
      "PortScan                      10.153721\n",
      "DDoS                           8.179390\n",
      "DoS GoldenEye                  0.657599\n",
      "DoS slowloris                  0.370295\n",
      "DoS Slowhttptest               0.351320\n",
      "Bot                            0.125604\n",
      "Web Attack � Brute Force       0.096279\n",
      "Web Attack � XSS               0.041655\n",
      "Web Attack � Sql Injection     0.001342\n",
      "Heartbleed                     0.000703\n",
      "Name: proportion, dtype: float64\n"
     ]
    }
   ],
   "execution_count": 39
  },
  {
   "metadata": {
    "ExecuteTime": {
     "end_time": "2025-06-17T20:15:46.380150Z",
     "start_time": "2025-06-17T20:15:44.732925Z"
    }
   },
   "cell_type": "code",
   "source": [
    "_, reduced_data = train_test_split(\n",
    "    data,\n",
    "    test_size=0.1,\n",
    "    stratify=data['Label']\n",
    ")"
   ],
   "id": "76331f4d90490211",
   "outputs": [],
   "execution_count": 40
  },
  {
   "metadata": {
    "ExecuteTime": {
     "end_time": "2025-06-17T20:16:29.480274Z",
     "start_time": "2025-06-17T20:16:29.449909Z"
    }
   },
   "cell_type": "code",
   "source": [
    "print(reduced_data.columns)\n",
    "reduced_data = reduced_data.drop('Fwd Header Length.1', axis=1)"
   ],
   "id": "2bafd66c328cad5",
   "outputs": [
    {
     "name": "stdout",
     "output_type": "stream",
     "text": [
      "Index(['Destination Port', 'Flow Duration', 'Total Fwd Packets',\n",
      "       'Total Backward Packets', 'Total Length of Fwd Packets',\n",
      "       'Total Length of Bwd Packets', 'Fwd Packet Length Max',\n",
      "       'Fwd Packet Length Min', 'Fwd Packet Length Mean',\n",
      "       'Fwd Packet Length Std', 'Bwd Packet Length Max',\n",
      "       'Bwd Packet Length Min', 'Bwd Packet Length Mean',\n",
      "       'Bwd Packet Length Std', 'Flow Bytes/s', 'Flow Packets/s',\n",
      "       'Flow IAT Mean', 'Flow IAT Std', 'Flow IAT Max', 'Flow IAT Min',\n",
      "       'Fwd IAT Total', 'Fwd IAT Mean', 'Fwd IAT Std', 'Fwd IAT Max',\n",
      "       'Fwd IAT Min', 'Bwd IAT Total', 'Bwd IAT Mean', 'Bwd IAT Std',\n",
      "       'Bwd IAT Max', 'Bwd IAT Min', 'Fwd PSH Flags', 'Bwd PSH Flags',\n",
      "       'Fwd URG Flags', 'Bwd URG Flags', 'Fwd Header Length',\n",
      "       'Bwd Header Length', 'Fwd Packets/s', 'Bwd Packets/s',\n",
      "       'Min Packet Length', 'Max Packet Length', 'Packet Length Mean',\n",
      "       'Packet Length Std', 'Packet Length Variance', 'FIN Flag Count',\n",
      "       'SYN Flag Count', 'RST Flag Count', 'PSH Flag Count', 'ACK Flag Count',\n",
      "       'URG Flag Count', 'CWE Flag Count', 'ECE Flag Count', 'Down/Up Ratio',\n",
      "       'Average Packet Size', 'Avg Fwd Segment Size', 'Avg Bwd Segment Size',\n",
      "       'Fwd Header Length.1', 'Fwd Avg Bytes/Bulk', 'Fwd Avg Packets/Bulk',\n",
      "       'Fwd Avg Bulk Rate', 'Bwd Avg Bytes/Bulk', 'Bwd Avg Packets/Bulk',\n",
      "       'Bwd Avg Bulk Rate', 'Subflow Fwd Packets', 'Subflow Fwd Bytes',\n",
      "       'Subflow Bwd Packets', 'Subflow Bwd Bytes', 'Init_Win_bytes_forward',\n",
      "       'Init_Win_bytes_backward', 'act_data_pkt_fwd', 'min_seg_size_forward',\n",
      "       'Active Mean', 'Active Std', 'Active Max', 'Active Min', 'Idle Mean',\n",
      "       'Idle Std', 'Idle Max', 'Idle Min', 'Label'],\n",
      "      dtype='object')\n"
     ]
    }
   ],
   "execution_count": 43
  },
  {
   "metadata": {
    "ExecuteTime": {
     "end_time": "2025-06-17T20:16:31.814075Z",
     "start_time": "2025-06-17T20:16:31.769980Z"
    }
   },
   "cell_type": "code",
   "source": [
    "print(f\"\\nУменьшённый датасет: {reduced_data.shape[0]} строк, {reduced_data.shape[1]} столбцов\")\n",
    "\n",
    "# Проверяем распределение классов после уменьшения\n",
    "print(\"\\nРаспределение классов после уменьшения:\")\n",
    "reduced_class_counts = data['Label'].value_counts(normalize=True) * 100\n",
    "print(reduced_class_counts)"
   ],
   "id": "29a446dc4a9de74f",
   "outputs": [
    {
     "name": "stdout",
     "output_type": "stream",
     "text": [
      "\n",
      "Уменьшённый датасет: 156524 строк, 78 столбцов\n",
      "\n",
      "Распределение классов после уменьшения:\n",
      "Label\n",
      "benign    65.319929\n",
      "attack    34.680071\n",
      "Name: proportion, dtype: float64\n"
     ]
    }
   ],
   "execution_count": 44
  },
  {
   "metadata": {
    "ExecuteTime": {
     "end_time": "2025-06-17T20:16:37.142943Z",
     "start_time": "2025-06-17T20:16:33.898459Z"
    }
   },
   "cell_type": "code",
   "source": [
    "# Сохраняем уменьшённый датасет\n",
    "output_file = os.path.join('./data/benign_or_attack_merged/', \"benign_or_attack.csv\")\n",
    "reduced_data.to_csv(output_file, index=False)\n",
    "print(f\"\\nУменьшённый датасет сохранён в {output_file}\")"
   ],
   "id": "4c1aae885d58468b",
   "outputs": [
    {
     "name": "stdout",
     "output_type": "stream",
     "text": [
      "\n",
      "Уменьшённый датасет сохранён в ./data/benign_or_attack_merged/benign_or_attack.csv\n"
     ]
    }
   ],
   "execution_count": 45
  },
  {
   "metadata": {
    "ExecuteTime": {
     "end_time": "2025-06-14T15:05:04.376417900Z",
     "start_time": "2025-06-14T14:58:37.231234Z"
    }
   },
   "cell_type": "code",
   "source": "",
   "id": "1470653d9abd43a3",
   "outputs": [],
   "execution_count": null
  },
  {
   "metadata": {},
   "cell_type": "code",
   "outputs": [],
   "execution_count": null,
   "source": "",
   "id": "e68ce20191f94efa"
  }
 ],
 "metadata": {
  "kernelspec": {
   "display_name": "Python 3",
   "language": "python",
   "name": "python3"
  },
  "language_info": {
   "codemirror_mode": {
    "name": "ipython",
    "version": 2
   },
   "file_extension": ".py",
   "mimetype": "text/x-python",
   "name": "python",
   "nbconvert_exporter": "python",
   "pygments_lexer": "ipython2",
   "version": "2.7.6"
  }
 },
 "nbformat": 4,
 "nbformat_minor": 5
}
