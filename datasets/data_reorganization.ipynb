{
 "cells": [
  {
   "cell_type": "code",
   "id": "initial_id",
   "metadata": {
    "collapsed": true,
    "ExecuteTime": {
     "end_time": "2025-06-17T08:14:25.117449Z",
     "start_time": "2025-06-17T08:14:25.037216Z"
    }
   },
   "source": [
    "import pandas as pd\n",
    "import os\n",
    "from sklearn.model_selection import train_test_split\n",
    "from glob import glob\n",
    "import numpy as np"
   ],
   "outputs": [],
   "execution_count": 1
  },
  {
   "metadata": {
    "ExecuteTime": {
     "end_time": "2025-06-17T08:14:25.223651Z",
     "start_time": "2025-06-17T08:14:25.218779Z"
    }
   },
   "cell_type": "code",
   "source": [
    "csv_files = glob(os.path.join('./data/benign_or_attack', \"*.csv\"))\n",
    "print(csv_files)"
   ],
   "id": "1f36e5c4015c86f8",
   "outputs": [
    {
     "name": "stdout",
     "output_type": "stream",
     "text": [
      "['./data/benign_or_attack\\\\BENIGN_Bot.csv', './data/benign_or_attack\\\\BENIGN_PortScan.csv', './data/benign_or_attack\\\\DDoS_BENIGN.csv', './data/benign_or_attack\\\\DoS_BENIGN.csv', './data/benign_or_attack\\\\WebAttacks.csv']\n"
     ]
    }
   ],
   "execution_count": 2
  },
  {
   "metadata": {
    "ExecuteTime": {
     "end_time": "2025-06-17T08:14:31.356137Z",
     "start_time": "2025-06-17T08:14:25.265009Z"
    }
   },
   "cell_type": "code",
   "source": [
    "data_frames = []\n",
    "\n",
    "for csv_file in csv_files:\n",
    "    try:\n",
    "        df = pd.read_csv(csv_file, delimiter=',')\n",
    "        print(f\"Файл {csv_file}: {df.shape[0]} строк, {df.shape[1]} столбцов\")\n",
    "        data_frames.append(df)\n",
    "    except Exception as e:\n",
    "        print(f\"Ошибка при чтении {csv_file}: {e}\")\n",
    "\n",
    "if not data_frames:\n",
    "    raise ValueError(\"Не удалось прочитать ни один CSV-файл.\")"
   ],
   "id": "2dea4f0a6278d3e",
   "outputs": [
    {
     "name": "stdout",
     "output_type": "stream",
     "text": [
      "Файл ./data/benign_or_attack\\BENIGN_Bot.csv: 191033 строк, 79 столбцов\n",
      "Файл ./data/benign_or_attack\\BENIGN_PortScan.csv: 286467 строк, 79 столбцов\n",
      "Файл ./data/benign_or_attack\\DDoS_BENIGN.csv: 225745 строк, 79 столбцов\n",
      "Файл ./data/benign_or_attack\\DoS_BENIGN.csv: 692703 строк, 79 столбцов\n",
      "Файл ./data/benign_or_attack\\WebAttacks.csv: 170366 строк, 79 столбцов\n"
     ]
    }
   ],
   "execution_count": 3
  },
  {
   "metadata": {
    "ExecuteTime": {
     "end_time": "2025-06-17T08:14:33.675245Z",
     "start_time": "2025-06-17T08:14:31.374300Z"
    }
   },
   "cell_type": "code",
   "source": [
    "data = pd.concat(data_frames, ignore_index=True)\n",
    "data = data.dropna()\n",
    "data = data.fillna(0).replace([np.inf, -np.inf], 0)\n",
    "data.columns = data.columns.str.strip()\n",
    "print(f\"Объединённый DataFrame из {len(csv_files)} файла: {data.shape[0]} строк, {data.shape[1]} столбцов\")"
   ],
   "id": "f88a1c9a03547796",
   "outputs": [
    {
     "name": "stdout",
     "output_type": "stream",
     "text": [
      "Объединённый DataFrame из 5 файла: 1565239 строк, 79 столбцов\n"
     ]
    }
   ],
   "execution_count": 4
  },
  {
   "metadata": {
    "ExecuteTime": {
     "end_time": "2025-06-17T08:14:34.035329Z",
     "start_time": "2025-06-17T08:14:33.697347Z"
    }
   },
   "cell_type": "code",
   "source": [
    "print(\"\\nРаспределение классов до преобразования меток:\")\n",
    "print(data['Label'].value_counts(normalize=True) * 100)\n",
    "\n",
    "data['Label'] = data['Label'].apply(\n",
    "    lambda x: 'benign' if 'BENIGN' in str(x).upper() else 'attack'\n",
    ")"
   ],
   "id": "b61e8788f01e1901",
   "outputs": [
    {
     "name": "stdout",
     "output_type": "stream",
     "text": [
      "\n",
      "Распределение классов до преобразования меток:\n",
      "Label\n",
      "BENIGN                        65.319929\n",
      "DoS Hulk                      14.702164\n",
      "PortScan                      10.153721\n",
      "DDoS                           8.179390\n",
      "DoS GoldenEye                  0.657599\n",
      "DoS slowloris                  0.370295\n",
      "DoS Slowhttptest               0.351320\n",
      "Bot                            0.125604\n",
      "Web Attack � Brute Force       0.096279\n",
      "Web Attack � XSS               0.041655\n",
      "Web Attack � Sql Injection     0.001342\n",
      "Heartbleed                     0.000703\n",
      "Name: proportion, dtype: float64\n"
     ]
    }
   ],
   "execution_count": 5
  },
  {
   "metadata": {
    "ExecuteTime": {
     "end_time": "2025-06-17T08:14:35.671145Z",
     "start_time": "2025-06-17T08:14:34.054859Z"
    }
   },
   "cell_type": "code",
   "source": [
    "_, reduced_data = train_test_split(\n",
    "    data,\n",
    "    test_size=0.1,\n",
    "    stratify=data['Label']\n",
    ")"
   ],
   "id": "76331f4d90490211",
   "outputs": [],
   "execution_count": 6
  },
  {
   "metadata": {
    "ExecuteTime": {
     "end_time": "2025-06-17T08:14:35.751129Z",
     "start_time": "2025-06-17T08:14:35.701203Z"
    }
   },
   "cell_type": "code",
   "source": [
    "print(f\"\\nУменьшённый датасет: {reduced_data.shape[0]} строк, {reduced_data.shape[1]} столбцов\")\n",
    "\n",
    "# Проверяем распределение классов после уменьшения\n",
    "print(\"\\nРаспределение классов после уменьшения:\")\n",
    "reduced_class_counts = data['Label'].value_counts(normalize=True) * 100\n",
    "print(reduced_class_counts)"
   ],
   "id": "29a446dc4a9de74f",
   "outputs": [
    {
     "name": "stdout",
     "output_type": "stream",
     "text": [
      "\n",
      "Уменьшённый датасет: 156524 строк, 79 столбцов\n",
      "\n",
      "Распределение классов после уменьшения:\n",
      "Label\n",
      "benign    65.319929\n",
      "attack    34.680071\n",
      "Name: proportion, dtype: float64\n"
     ]
    }
   ],
   "execution_count": 7
  },
  {
   "metadata": {
    "ExecuteTime": {
     "end_time": "2025-06-17T08:14:38.914095Z",
     "start_time": "2025-06-17T08:14:35.784229Z"
    }
   },
   "cell_type": "code",
   "source": [
    "# Сохраняем уменьшённый датасет\n",
    "output_file = os.path.join('./data/benign_or_attack_merged/', \"benign_or_attack.csv\")\n",
    "reduced_data.to_csv(output_file, index=False)\n",
    "print(f\"\\nУменьшённый датасет сохранён в {output_file}\")"
   ],
   "id": "4c1aae885d58468b",
   "outputs": [
    {
     "name": "stdout",
     "output_type": "stream",
     "text": [
      "\n",
      "Уменьшённый датасет сохранён в ./data/benign_or_attack_merged/benign_or_attack.csv\n"
     ]
    }
   ],
   "execution_count": 8
  },
  {
   "metadata": {
    "ExecuteTime": {
     "end_time": "2025-06-14T15:05:04.376417900Z",
     "start_time": "2025-06-14T14:58:37.231234Z"
    }
   },
   "cell_type": "code",
   "source": "",
   "id": "1470653d9abd43a3",
   "outputs": [],
   "execution_count": null
  },
  {
   "metadata": {},
   "cell_type": "code",
   "outputs": [],
   "execution_count": null,
   "source": "",
   "id": "e68ce20191f94efa"
  }
 ],
 "metadata": {
  "kernelspec": {
   "display_name": "Python 3",
   "language": "python",
   "name": "python3"
  },
  "language_info": {
   "codemirror_mode": {
    "name": "ipython",
    "version": 2
   },
   "file_extension": ".py",
   "mimetype": "text/x-python",
   "name": "python",
   "nbconvert_exporter": "python",
   "pygments_lexer": "ipython2",
   "version": "2.7.6"
  }
 },
 "nbformat": 4,
 "nbformat_minor": 5
}
