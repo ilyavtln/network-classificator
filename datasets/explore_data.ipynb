{
 "cells": [
  {
   "cell_type": "code",
   "id": "initial_id",
   "metadata": {
    "ExecuteTime": {
     "end_time": "2025-05-31T15:10:38.211396Z",
     "start_time": "2025-05-31T15:10:38.204895Z"
    }
   },
   "source": [
    "import pandas as pd\n",
    "import os\n",
    "import matplotlib.pyplot as plt"
   ],
   "outputs": [],
   "execution_count": 6
  },
  {
   "cell_type": "code",
   "id": "c2eef706ebbbdec7",
   "metadata": {
    "ExecuteTime": {
     "end_time": "2025-05-31T15:10:38.482477Z",
     "start_time": "2025-05-31T15:10:38.475556Z"
    }
   },
   "source": "DATASET_PATH = 'data/benign_or_attack'",
   "outputs": [],
   "execution_count": 7
  },
  {
   "metadata": {
    "ExecuteTime": {
     "end_time": "2025-05-31T15:10:38.764886Z",
     "start_time": "2025-05-31T15:10:38.760438Z"
    }
   },
   "cell_type": "code",
   "source": "all_files = [os.path.join(DATASET_PATH, f) for f in os.listdir(DATASET_PATH) if f.endswith('.csv')]",
   "id": "46867a18798ae1f1",
   "outputs": [],
   "execution_count": 8
  },
  {
   "cell_type": "code",
   "id": "73a9d37de3d44b58",
   "metadata": {
    "ExecuteTime": {
     "end_time": "2025-05-31T15:10:45.782155Z",
     "start_time": "2025-05-31T15:10:38.991941Z"
    }
   },
   "source": [
    "data = pd.concat([pd.read_csv(f, delimiter=',') for f in all_files], ignore_index=True)\n",
    "print(f'Number of Rows: {data.shape[0]}')\n",
    "print(f'Number of Columns: {data.shape[1]}')"
   ],
   "outputs": [
    {
     "name": "stdout",
     "output_type": "stream",
     "text": [
      "Number of Rows: 1566314\n",
      "Number of Columns: 79\n"
     ]
    }
   ],
   "execution_count": 9
  },
  {
   "cell_type": "code",
   "id": "d3fab1f07b31b25",
   "metadata": {
    "ExecuteTime": {
     "end_time": "2025-05-31T15:10:45.803306Z",
     "start_time": "2025-05-31T15:10:45.797890Z"
    }
   },
   "source": [
    "for i, d in enumerate(data.columns):\n",
    "    print(f\"{i + 1} {d}\")"
   ],
   "outputs": [
    {
     "name": "stdout",
     "output_type": "stream",
     "text": [
      "1  Destination Port\n",
      "2  Flow Duration\n",
      "3  Total Fwd Packets\n",
      "4  Total Backward Packets\n",
      "5 Total Length of Fwd Packets\n",
      "6  Total Length of Bwd Packets\n",
      "7  Fwd Packet Length Max\n",
      "8  Fwd Packet Length Min\n",
      "9  Fwd Packet Length Mean\n",
      "10  Fwd Packet Length Std\n",
      "11 Bwd Packet Length Max\n",
      "12  Bwd Packet Length Min\n",
      "13  Bwd Packet Length Mean\n",
      "14  Bwd Packet Length Std\n",
      "15 Flow Bytes/s\n",
      "16  Flow Packets/s\n",
      "17  Flow IAT Mean\n",
      "18  Flow IAT Std\n",
      "19  Flow IAT Max\n",
      "20  Flow IAT Min\n",
      "21 Fwd IAT Total\n",
      "22  Fwd IAT Mean\n",
      "23  Fwd IAT Std\n",
      "24  Fwd IAT Max\n",
      "25  Fwd IAT Min\n",
      "26 Bwd IAT Total\n",
      "27  Bwd IAT Mean\n",
      "28  Bwd IAT Std\n",
      "29  Bwd IAT Max\n",
      "30  Bwd IAT Min\n",
      "31 Fwd PSH Flags\n",
      "32  Bwd PSH Flags\n",
      "33  Fwd URG Flags\n",
      "34  Bwd URG Flags\n",
      "35  Fwd Header Length\n",
      "36  Bwd Header Length\n",
      "37 Fwd Packets/s\n",
      "38  Bwd Packets/s\n",
      "39  Min Packet Length\n",
      "40  Max Packet Length\n",
      "41  Packet Length Mean\n",
      "42  Packet Length Std\n",
      "43  Packet Length Variance\n",
      "44 FIN Flag Count\n",
      "45  SYN Flag Count\n",
      "46  RST Flag Count\n",
      "47  PSH Flag Count\n",
      "48  ACK Flag Count\n",
      "49  URG Flag Count\n",
      "50  CWE Flag Count\n",
      "51  ECE Flag Count\n",
      "52  Down/Up Ratio\n",
      "53  Average Packet Size\n",
      "54  Avg Fwd Segment Size\n",
      "55  Avg Bwd Segment Size\n",
      "56  Fwd Header Length.1\n",
      "57 Fwd Avg Bytes/Bulk\n",
      "58  Fwd Avg Packets/Bulk\n",
      "59  Fwd Avg Bulk Rate\n",
      "60  Bwd Avg Bytes/Bulk\n",
      "61  Bwd Avg Packets/Bulk\n",
      "62 Bwd Avg Bulk Rate\n",
      "63 Subflow Fwd Packets\n",
      "64  Subflow Fwd Bytes\n",
      "65  Subflow Bwd Packets\n",
      "66  Subflow Bwd Bytes\n",
      "67 Init_Win_bytes_forward\n",
      "68  Init_Win_bytes_backward\n",
      "69  act_data_pkt_fwd\n",
      "70  min_seg_size_forward\n",
      "71 Active Mean\n",
      "72  Active Std\n",
      "73  Active Max\n",
      "74  Active Min\n",
      "75 Idle Mean\n",
      "76  Idle Std\n",
      "77  Idle Max\n",
      "78  Idle Min\n",
      "79  Label\n"
     ]
    }
   ],
   "execution_count": 10
  },
  {
   "metadata": {
    "ExecuteTime": {
     "end_time": "2025-05-31T15:17:53.746543Z",
     "start_time": "2025-05-31T15:17:53.642665Z"
    }
   },
   "cell_type": "code",
   "source": [
    "print(\"\\nDistribution of Label:\")\n",
    "label_distribution = data[' Label'].value_counts()\n",
    "print(label_distribution)"
   ],
   "id": "f1c1c6b222cb5aeb",
   "outputs": [
    {
     "name": "stdout",
     "output_type": "stream",
     "text": [
      "\n",
      "Distribution of Label:\n",
      "1022539\n",
      " Label\n",
      "BENIGN                        1022539\n",
      "DoS Hulk                       231073\n",
      "PortScan                       158930\n",
      "DDoS                           128027\n",
      "DoS GoldenEye                   10293\n",
      "DoS slowloris                    5796\n",
      "DoS Slowhttptest                 5499\n",
      "Bot                              1966\n",
      "Web Attack � Brute Force         1507\n",
      "Web Attack � XSS                  652\n",
      "Web Attack � Sql Injection         21\n",
      "Heartbleed                         11\n",
      "Name: count, dtype: int64\n"
     ]
    },
    {
     "name": "stderr",
     "output_type": "stream",
     "text": [
      "C:\\Users\\owtf0\\AppData\\Local\\Temp\\ipykernel_70668\\145626988.py:3: FutureWarning: Series.__getitem__ treating keys as positions is deprecated. In a future version, integer keys will always be treated as labels (consistent with DataFrame behavior). To access a value by position, use `ser.iloc[pos]`\n",
      "  print(label_distribution[0])\n"
     ]
    }
   ],
   "execution_count": 19
  },
  {
   "cell_type": "code",
   "id": "a53f2fe9210a4c42",
   "metadata": {
    "ExecuteTime": {
     "end_time": "2025-05-25T19:56:40.056885Z",
     "start_time": "2025-05-25T19:56:40.047562Z"
    }
   },
   "source": [
    "data.columns"
   ],
   "outputs": [
    {
     "data": {
      "text/plain": [
       "Index([' Destination Port', ' Flow Duration', ' Total Fwd Packets',\n",
       "       ' Total Backward Packets', 'Total Length of Fwd Packets',\n",
       "       ' Total Length of Bwd Packets', ' Fwd Packet Length Max',\n",
       "       ' Fwd Packet Length Min', ' Fwd Packet Length Mean',\n",
       "       ' Fwd Packet Length Std', 'Bwd Packet Length Max',\n",
       "       ' Bwd Packet Length Min', ' Bwd Packet Length Mean',\n",
       "       ' Bwd Packet Length Std', 'Flow Bytes/s', ' Flow Packets/s',\n",
       "       ' Flow IAT Mean', ' Flow IAT Std', ' Flow IAT Max', ' Flow IAT Min',\n",
       "       'Fwd IAT Total', ' Fwd IAT Mean', ' Fwd IAT Std', ' Fwd IAT Max',\n",
       "       ' Fwd IAT Min', 'Bwd IAT Total', ' Bwd IAT Mean', ' Bwd IAT Std',\n",
       "       ' Bwd IAT Max', ' Bwd IAT Min', 'Fwd PSH Flags', ' Bwd PSH Flags',\n",
       "       ' Fwd URG Flags', ' Bwd URG Flags', ' Fwd Header Length',\n",
       "       ' Bwd Header Length', 'Fwd Packets/s', ' Bwd Packets/s',\n",
       "       ' Min Packet Length', ' Max Packet Length', ' Packet Length Mean',\n",
       "       ' Packet Length Std', ' Packet Length Variance', 'FIN Flag Count',\n",
       "       ' SYN Flag Count', ' RST Flag Count', ' PSH Flag Count',\n",
       "       ' ACK Flag Count', ' URG Flag Count', ' CWE Flag Count',\n",
       "       ' ECE Flag Count', ' Down/Up Ratio', ' Average Packet Size',\n",
       "       ' Avg Fwd Segment Size', ' Avg Bwd Segment Size',\n",
       "       ' Fwd Header Length.1', 'Fwd Avg Bytes/Bulk', ' Fwd Avg Packets/Bulk',\n",
       "       ' Fwd Avg Bulk Rate', ' Bwd Avg Bytes/Bulk', ' Bwd Avg Packets/Bulk',\n",
       "       'Bwd Avg Bulk Rate', 'Subflow Fwd Packets', ' Subflow Fwd Bytes',\n",
       "       ' Subflow Bwd Packets', ' Subflow Bwd Bytes', 'Init_Win_bytes_forward',\n",
       "       ' Init_Win_bytes_backward', ' act_data_pkt_fwd',\n",
       "       ' min_seg_size_forward', 'Active Mean', ' Active Std', ' Active Max',\n",
       "       ' Active Min', 'Idle Mean', ' Idle Std', ' Idle Max', ' Idle Min',\n",
       "       ' Label'],\n",
       "      dtype='object')"
      ]
     },
     "execution_count": 5,
     "metadata": {},
     "output_type": "execute_result"
    }
   ],
   "execution_count": 5
  },
  {
   "cell_type": "code",
   "id": "58242ac84d4d5935",
   "metadata": {
    "ExecuteTime": {
     "end_time": "2025-05-31T15:11:09.720424Z",
     "start_time": "2025-05-31T15:11:09.696164Z"
    }
   },
   "source": [
    "data.head()"
   ],
   "outputs": [
    {
     "data": {
      "text/plain": [
       "    Destination Port   Flow Duration   Total Fwd Packets  \\\n",
       "0               3268       112740690                  32   \n",
       "1                389       112740560                  32   \n",
       "2                  0       113757377                 545   \n",
       "3               5355          100126                  22   \n",
       "4                  0           54760                   4   \n",
       "\n",
       "    Total Backward Packets  Total Length of Fwd Packets  \\\n",
       "0                       16                         6448   \n",
       "1                       16                         6448   \n",
       "2                        0                            0   \n",
       "3                        0                          616   \n",
       "4                        0                            0   \n",
       "\n",
       "    Total Length of Bwd Packets   Fwd Packet Length Max  \\\n",
       "0                          1152                     403   \n",
       "1                          5056                     403   \n",
       "2                             0                       0   \n",
       "3                             0                      28   \n",
       "4                             0                       0   \n",
       "\n",
       "    Fwd Packet Length Min   Fwd Packet Length Mean   Fwd Packet Length Std  \\\n",
       "0                       0                    201.5              204.724205   \n",
       "1                       0                    201.5              204.724205   \n",
       "2                       0                      0.0                0.000000   \n",
       "3                      28                     28.0                0.000000   \n",
       "4                       0                      0.0                0.000000   \n",
       "\n",
       "   ...   min_seg_size_forward   Active Mean    Active Std   Active Max  \\\n",
       "0  ...                     32  3.594286e+02  1.199802e+01          380   \n",
       "1  ...                     32  3.202857e+02  1.574499e+01          330   \n",
       "2  ...                      0  9.361829e+06  7.324646e+06     18900000   \n",
       "3  ...                     32  0.000000e+00  0.000000e+00            0   \n",
       "4  ...                      0  0.000000e+00  0.000000e+00            0   \n",
       "\n",
       "    Active Min   Idle Mean      Idle Std   Idle Max   Idle Min   Label  \n",
       "0          343  16100000.0  4.988048e+05   16400000   15400000  BENIGN  \n",
       "1          285  16100000.0  4.987937e+05   16400000   15400000  BENIGN  \n",
       "2           19  12200000.0  6.935824e+06   20800000    5504997  BENIGN  \n",
       "3            0         0.0  0.000000e+00          0          0  BENIGN  \n",
       "4            0         0.0  0.000000e+00          0          0  BENIGN  \n",
       "\n",
       "[5 rows x 79 columns]"
      ],
      "text/html": [
       "<div>\n",
       "<style scoped>\n",
       "    .dataframe tbody tr th:only-of-type {\n",
       "        vertical-align: middle;\n",
       "    }\n",
       "\n",
       "    .dataframe tbody tr th {\n",
       "        vertical-align: top;\n",
       "    }\n",
       "\n",
       "    .dataframe thead th {\n",
       "        text-align: right;\n",
       "    }\n",
       "</style>\n",
       "<table border=\"1\" class=\"dataframe\">\n",
       "  <thead>\n",
       "    <tr style=\"text-align: right;\">\n",
       "      <th></th>\n",
       "      <th>Destination Port</th>\n",
       "      <th>Flow Duration</th>\n",
       "      <th>Total Fwd Packets</th>\n",
       "      <th>Total Backward Packets</th>\n",
       "      <th>Total Length of Fwd Packets</th>\n",
       "      <th>Total Length of Bwd Packets</th>\n",
       "      <th>Fwd Packet Length Max</th>\n",
       "      <th>Fwd Packet Length Min</th>\n",
       "      <th>Fwd Packet Length Mean</th>\n",
       "      <th>Fwd Packet Length Std</th>\n",
       "      <th>...</th>\n",
       "      <th>min_seg_size_forward</th>\n",
       "      <th>Active Mean</th>\n",
       "      <th>Active Std</th>\n",
       "      <th>Active Max</th>\n",
       "      <th>Active Min</th>\n",
       "      <th>Idle Mean</th>\n",
       "      <th>Idle Std</th>\n",
       "      <th>Idle Max</th>\n",
       "      <th>Idle Min</th>\n",
       "      <th>Label</th>\n",
       "    </tr>\n",
       "  </thead>\n",
       "  <tbody>\n",
       "    <tr>\n",
       "      <th>0</th>\n",
       "      <td>3268</td>\n",
       "      <td>112740690</td>\n",
       "      <td>32</td>\n",
       "      <td>16</td>\n",
       "      <td>6448</td>\n",
       "      <td>1152</td>\n",
       "      <td>403</td>\n",
       "      <td>0</td>\n",
       "      <td>201.5</td>\n",
       "      <td>204.724205</td>\n",
       "      <td>...</td>\n",
       "      <td>32</td>\n",
       "      <td>3.594286e+02</td>\n",
       "      <td>1.199802e+01</td>\n",
       "      <td>380</td>\n",
       "      <td>343</td>\n",
       "      <td>16100000.0</td>\n",
       "      <td>4.988048e+05</td>\n",
       "      <td>16400000</td>\n",
       "      <td>15400000</td>\n",
       "      <td>BENIGN</td>\n",
       "    </tr>\n",
       "    <tr>\n",
       "      <th>1</th>\n",
       "      <td>389</td>\n",
       "      <td>112740560</td>\n",
       "      <td>32</td>\n",
       "      <td>16</td>\n",
       "      <td>6448</td>\n",
       "      <td>5056</td>\n",
       "      <td>403</td>\n",
       "      <td>0</td>\n",
       "      <td>201.5</td>\n",
       "      <td>204.724205</td>\n",
       "      <td>...</td>\n",
       "      <td>32</td>\n",
       "      <td>3.202857e+02</td>\n",
       "      <td>1.574499e+01</td>\n",
       "      <td>330</td>\n",
       "      <td>285</td>\n",
       "      <td>16100000.0</td>\n",
       "      <td>4.987937e+05</td>\n",
       "      <td>16400000</td>\n",
       "      <td>15400000</td>\n",
       "      <td>BENIGN</td>\n",
       "    </tr>\n",
       "    <tr>\n",
       "      <th>2</th>\n",
       "      <td>0</td>\n",
       "      <td>113757377</td>\n",
       "      <td>545</td>\n",
       "      <td>0</td>\n",
       "      <td>0</td>\n",
       "      <td>0</td>\n",
       "      <td>0</td>\n",
       "      <td>0</td>\n",
       "      <td>0.0</td>\n",
       "      <td>0.000000</td>\n",
       "      <td>...</td>\n",
       "      <td>0</td>\n",
       "      <td>9.361829e+06</td>\n",
       "      <td>7.324646e+06</td>\n",
       "      <td>18900000</td>\n",
       "      <td>19</td>\n",
       "      <td>12200000.0</td>\n",
       "      <td>6.935824e+06</td>\n",
       "      <td>20800000</td>\n",
       "      <td>5504997</td>\n",
       "      <td>BENIGN</td>\n",
       "    </tr>\n",
       "    <tr>\n",
       "      <th>3</th>\n",
       "      <td>5355</td>\n",
       "      <td>100126</td>\n",
       "      <td>22</td>\n",
       "      <td>0</td>\n",
       "      <td>616</td>\n",
       "      <td>0</td>\n",
       "      <td>28</td>\n",
       "      <td>28</td>\n",
       "      <td>28.0</td>\n",
       "      <td>0.000000</td>\n",
       "      <td>...</td>\n",
       "      <td>32</td>\n",
       "      <td>0.000000e+00</td>\n",
       "      <td>0.000000e+00</td>\n",
       "      <td>0</td>\n",
       "      <td>0</td>\n",
       "      <td>0.0</td>\n",
       "      <td>0.000000e+00</td>\n",
       "      <td>0</td>\n",
       "      <td>0</td>\n",
       "      <td>BENIGN</td>\n",
       "    </tr>\n",
       "    <tr>\n",
       "      <th>4</th>\n",
       "      <td>0</td>\n",
       "      <td>54760</td>\n",
       "      <td>4</td>\n",
       "      <td>0</td>\n",
       "      <td>0</td>\n",
       "      <td>0</td>\n",
       "      <td>0</td>\n",
       "      <td>0</td>\n",
       "      <td>0.0</td>\n",
       "      <td>0.000000</td>\n",
       "      <td>...</td>\n",
       "      <td>0</td>\n",
       "      <td>0.000000e+00</td>\n",
       "      <td>0.000000e+00</td>\n",
       "      <td>0</td>\n",
       "      <td>0</td>\n",
       "      <td>0.0</td>\n",
       "      <td>0.000000e+00</td>\n",
       "      <td>0</td>\n",
       "      <td>0</td>\n",
       "      <td>BENIGN</td>\n",
       "    </tr>\n",
       "  </tbody>\n",
       "</table>\n",
       "<p>5 rows × 79 columns</p>\n",
       "</div>"
      ]
     },
     "execution_count": 12,
     "metadata": {},
     "output_type": "execute_result"
    }
   ],
   "execution_count": 12
  },
  {
   "metadata": {
    "ExecuteTime": {
     "end_time": "2025-05-31T15:16:25.465670Z",
     "start_time": "2025-05-31T15:16:25.354464Z"
    }
   },
   "cell_type": "code",
   "source": [
    "plt.figure(figsize=(8, 6))\n",
    "label_distribution.plot(kind='bar', color=['#1f77b4', '#ff7f0e', '#2ca02c', '#d62728'])\n",
    "plt.title('Количество записей')\n",
    "plt.tight_layout()\n",
    "plt.show()"
   ],
   "id": "bfcc70ebd8d53555",
   "outputs": [
    {
     "data": {
      "text/plain": [
       "<Figure size 800x600 with 1 Axes>"
      ],
      "image/png": "[encoded data removed]"
     },
     "metadata": {},
     "output_type": "display_data"
    }
   ],
   "execution_count": 18
  },
  {
   "metadata": {
    "ExecuteTime": {
     "end_time": "2025-05-31T15:22:44.259474Z",
     "start_time": "2025-05-31T15:22:44.000368Z"
    }
   },
   "cell_type": "code",
   "source": [
    "# Группировка данных: BENIGN и ATTACK\n",
    "data['Category'] = data[' Label'].apply(lambda x: 'BENIGN' if x == 'BENIGN' else 'ATTACK')\n",
    "plot_data = data['Category'].value_counts()\n",
    "\n",
    "# Построение круговой диаграммы\n",
    "plt.figure(figsize=(8, 8))\n",
    "plt.pie(plot_data, labels=plot_data.index, autopct='%1.1f%%', startangle=140)\n",
    "plt.axis('equal')\n",
    "plt.tight_layout()\n",
    "plt.show()"
   ],
   "id": "936f05d9d14a133a",
   "outputs": [
    {
     "data": {
      "text/plain": [
       "<Figure size 800x800 with 1 Axes>"
      ],
      "image/png": "[encoded data removed]"
     },
     "metadata": {},
     "output_type": "display_data"
    }
   ],
   "execution_count": 23
  },
  {
   "metadata": {},
   "cell_type": "code",
   "outputs": [],
   "execution_count": null,
   "source": "",
   "id": "5369e24fa7144a39"
  }
 ],
 "metadata": {
  "kernelspec": {
   "display_name": "Python 3 (ipykernel)",
   "language": "python",
   "name": "python3"
  },
  "language_info": {
   "codemirror_mode": {
    "name": "ipython",
    "version": 3
   },
   "file_extension": ".py",
   "mimetype": "text/x-python",
   "name": "python",
   "nbconvert_exporter": "python",
   "pygments_lexer": "ipython3",
   "version": "3.12.10"
  }
 },
 "nbformat": 4,
 "nbformat_minor": 5
}
