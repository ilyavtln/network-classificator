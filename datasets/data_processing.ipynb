{
 "cells": [
  {
   "metadata": {
    "ExecuteTime": {
     "end_time": "2025-06-09T11:59:37.713401Z",
     "start_time": "2025-06-09T11:59:37.706618Z"
    }
   },
   "cell_type": "code",
   "source": [
    "import os\n",
    "import glob\n",
    "import pandas as pd\n",
    "from config import constants\n",
    "from features.extractor import extract_features_from_pcap"
   ],
   "id": "dc3060847dd9fa5",
   "outputs": [],
   "execution_count": 19
  },
  {
   "metadata": {
    "ExecuteTime": {
     "end_time": "2025-06-09T11:59:37.990478Z",
     "start_time": "2025-06-09T11:59:37.987306Z"
    }
   },
   "cell_type": "code",
   "source": "BASE_PATH = '../data/raw'",
   "id": "b7a68d70897eac8b",
   "outputs": [],
   "execution_count": 20
  },
  {
   "metadata": {
    "ExecuteTime": {
     "end_time": "2025-06-09T11:59:38.297646Z",
     "start_time": "2025-06-09T11:59:38.289177Z"
    }
   },
   "cell_type": "code",
   "source": [
    "CATEGORIES = list(constants.CATEGORIES)\n",
    "print(CATEGORIES)"
   ],
   "id": "caf07e491a632495",
   "outputs": [
    {
     "name": "stdout",
     "output_type": "stream",
     "text": [
      "['video_hosting', 'e-mail', 'social_network', 'cloud_service', 'information', 'games', 'music']\n"
     ]
    }
   ],
   "execution_count": 21
  },
  {
   "metadata": {
    "ExecuteTime": {
     "end_time": "2025-06-09T11:59:38.658854Z",
     "start_time": "2025-06-09T11:59:38.651474Z"
    }
   },
   "cell_type": "code",
   "source": [
    "def process_category(category):\n",
    "    \"\"\"Обрабатывает все PCAP-файлы в категории.\"\"\"\n",
    "    category_path = os.path.join(BASE_PATH, category)\n",
    "    if not os.path.exists(category_path):\n",
    "        print(f\"Папка {category_path} не найдена.\")\n",
    "        return []\n",
    "\n",
    "    pcap_files = glob.glob(os.path.join(category_path, \"*.pcap\"))\n",
    "    if not pcap_files:\n",
    "        print(f\"PCAP-файлы в категории {category} не найдены.\")\n",
    "        return []\n",
    "\n",
    "    print(f\"Найдены файлы: {len(pcap_files)}\")\n",
    "\n",
    "    features_list = []\n",
    "    for pcap_file in pcap_files:\n",
    "        features = extract_features_from_pcap(pcap_file, category)\n",
    "        if features:\n",
    "            features_list.extend(features)\n",
    "\n",
    "    return features_list"
   ],
   "id": "6c6a7e032388ef61",
   "outputs": [],
   "execution_count": 22
  },
  {
   "metadata": {
    "ExecuteTime": {
     "end_time": "2025-06-09T11:59:59.121611Z",
     "start_time": "2025-06-09T11:59:39.012547Z"
    }
   },
   "cell_type": "code",
   "source": [
    "all_features = []\n",
    "\n",
    "for category in CATEGORIES:\n",
    "    print(f\"\\nОбработка категории: {category}\")\n",
    "    features = process_category(category)\n",
    "    all_features.extend(features)\n",
    "\n",
    "if not all_features:\n",
    "    print(\"Не удалось извлечь признаки. Проверьте PCAP-файлы.\")\n",
    "    exit(1)"
   ],
   "id": "36823cc77b5a0180",
   "outputs": [
    {
     "name": "stdout",
     "output_type": "stream",
     "text": [
      "\n",
      "Обработка категории: video_hosting\n",
      "Найдены файлы: 6\n",
      "Успешно обработан файл ../data/raw\\video_hosting\\1_windows.pcap: 18 пакетов, 3 потоков\n",
      "Успешно обработан файл ../data/raw\\video_hosting\\2_windows.pcap: 19 пакетов, 3 потоков\n",
      "Успешно обработан файл ../data/raw\\video_hosting\\3_windows.pcap: 763 пакетов, 1 потоков\n",
      "Успешно обработан файл ../data/raw\\video_hosting\\4_windows.pcap: 400 пакетов, 2 потоков\n",
      "Успешно обработан файл ../data/raw\\video_hosting\\5_windows.pcap: 11 пакетов, 2 потоков\n",
      "Успешно обработан файл ../data/raw\\video_hosting\\6_windows.pcap: 9 пакетов, 3 потоков\n",
      "\n",
      "Обработка категории: e-mail\n",
      "Найдены файлы: 6\n",
      "Успешно обработан файл ../data/raw\\e-mail\\1_windows.pcap: 15 пакетов, 3 потоков\n",
      "Успешно обработан файл ../data/raw\\e-mail\\2_windows.pcap: 28 пакетов, 1 потоков\n",
      "Успешно обработан файл ../data/raw\\e-mail\\3_windows.pcap: 15 пакетов, 2 потоков\n",
      "Успешно обработан файл ../data/raw\\e-mail\\4_windows.pcap: 112 пакетов, 5 потоков\n",
      "Успешно обработан файл ../data/raw\\e-mail\\5_windows.pcap: 127 пакетов, 7 потоков\n",
      "Успешно обработан файл ../data/raw\\e-mail\\6_windows.pcap: 133 пакетов, 6 потоков\n",
      "\n",
      "Обработка категории: social_network\n",
      "Найдены файлы: 6\n",
      "Успешно обработан файл ../data/raw\\social_network\\1_windows.pcap: 736 пакетов, 1 потоков\n",
      "Успешно обработан файл ../data/raw\\social_network\\2_windows.pcap: 16 пакетов, 3 потоков\n",
      "Успешно обработан файл ../data/raw\\social_network\\3_windows.pcap: 830 пакетов, 2 потоков\n",
      "Успешно обработан файл ../data/raw\\social_network\\4_windows.pcap: 10 пакетов, 2 потоков\n",
      "Успешно обработан файл ../data/raw\\social_network\\5_windows.pcap: 668 пакетов, 1 потоков\n",
      "Успешно обработан файл ../data/raw\\social_network\\6_windows.pcap: 46 пакетов, 13 потоков\n",
      "\n",
      "Обработка категории: cloud_service\n",
      "Найдены файлы: 6\n",
      "Успешно обработан файл ../data/raw\\cloud_service\\1_windows.pcap: 29 пакетов, 3 потоков\n",
      "Успешно обработан файл ../data/raw\\cloud_service\\2_windows.pcap: 15 пакетов, 8 потоков\n",
      "Успешно обработан файл ../data/raw\\cloud_service\\3_windows.pcap: 2 пакетов, 7 потоков\n",
      "Успешно обработан файл ../data/raw\\cloud_service\\4_windows.pcap: 2 пакетов, 4 потоков\n",
      "Успешно обработан файл ../data/raw\\cloud_service\\5_windows.pcap: 2 пакетов, 4 потоков\n",
      "Успешно обработан файл ../data/raw\\cloud_service\\6_windows.pcap: 992 пакетов, 7 потоков\n",
      "\n",
      "Обработка категории: information\n",
      "Найдены файлы: 6\n",
      "Успешно обработан файл ../data/raw\\information\\1_windows.pcap: 2353 пакетов, 3 потоков\n",
      "Успешно обработан файл ../data/raw\\information\\2_windows.pcap: 6 пакетов, 12 потоков\n",
      "Успешно обработан файл ../data/raw\\information\\3_windows.pcap: 14 пакетов, 13 потоков\n",
      "Успешно обработан файл ../data/raw\\information\\4_windows.pcap: 11 пакетов, 11 потоков\n",
      "Успешно обработан файл ../data/raw\\information\\5_windows.pcap: 166 пакетов, 9 потоков\n",
      "Успешно обработан файл ../data/raw\\information\\6_windows.pcap: 21 пакетов, 10 потоков\n",
      "\n",
      "Обработка категории: games\n",
      "Найдены файлы: 6\n",
      "Успешно обработан файл ../data/raw\\games\\1_cs2.pcap: 2 пакетов, 2 потоков\n",
      "Успешно обработан файл ../data/raw\\games\\2_cs2.pcap: 3 пакетов, 24 потоков\n",
      "Успешно обработан файл ../data/raw\\games\\3_FC25.pcap: 23 пакетов, 21 потоков\n",
      "Успешно обработан файл ../data/raw\\games\\4_FC25.pcap: 2 пакетов, 18 потоков\n",
      "Успешно обработан файл ../data/raw\\games\\6_FallGuys_client_game.pcap: 3 пакетов, 12 потоков\n",
      "Успешно обработан файл ../data/raw\\games\\7_FallGuys_client_game.pcap: 2 пакетов, 7 потоков\n",
      "\n",
      "Обработка категории: music\n",
      "Найдены файлы: 6\n",
      "Успешно обработан файл ../data/raw\\music\\1_windows.pcap: 12 пакетов, 1 потоков\n",
      "Успешно обработан файл ../data/raw\\music\\2_windows.pcap: 2 пакетов, 1 потоков\n",
      "Успешно обработан файл ../data/raw\\music\\3_windows.pcap: 20 пакетов, 1 потоков\n",
      "Успешно обработан файл ../data/raw\\music\\4_windows.pcap: 2 пакетов, 4 потоков\n",
      "Успешно обработан файл ../data/raw\\music\\5_windows.pcap: 4 пакетов, 4 потоков\n",
      "Успешно обработан файл ../data/raw\\music\\6_windows.pcap: 2 пакетов, 4 потоков\n"
     ]
    }
   ],
   "execution_count": 23
  },
  {
   "metadata": {
    "ExecuteTime": {
     "end_time": "2025-06-09T11:59:59.163055Z",
     "start_time": "2025-06-09T11:59:59.143188Z"
    }
   },
   "cell_type": "code",
   "source": [
    "df = pd.DataFrame(all_features)\n",
    "output_csv = \"data/different_features/traffic_features.csv\"\n",
    "df.to_csv(output_csv, sep=',', encoding='utf-8', index=False)\n",
    "print(f\"Признаки сохранены в {output_csv}\")"
   ],
   "id": "150cffed22e768c4",
   "outputs": [
    {
     "name": "stdout",
     "output_type": "stream",
     "text": [
      "Признаки сохранены в data/different_features/traffic_features.csv\n"
     ]
    }
   ],
   "execution_count": 24
  },
  {
   "metadata": {},
   "cell_type": "code",
   "outputs": [],
   "execution_count": null,
   "source": "|",
   "id": "98b03086c2824adc"
  }
 ],
 "metadata": {
  "kernelspec": {
   "display_name": "Python 3",
   "language": "python",
   "name": "python3"
  },
  "language_info": {
   "codemirror_mode": {
    "name": "ipython",
    "version": 2
   },
   "file_extension": ".py",
   "mimetype": "text/x-python",
   "name": "python",
   "nbconvert_exporter": "python",
   "pygments_lexer": "ipython2",
   "version": "2.7.6"
  }
 },
 "nbformat": 4,
 "nbformat_minor": 5
}
