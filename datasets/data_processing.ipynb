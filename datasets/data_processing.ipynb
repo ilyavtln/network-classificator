{
 "cells": [
  {
   "metadata": {
    "ExecuteTime": {
     "end_time": "2025-06-15T17:16:07.200182Z",
     "start_time": "2025-06-15T17:16:07.185435Z"
    }
   },
   "cell_type": "code",
   "source": [
    "import os\n",
    "import glob\n",
    "import pandas as pd\n",
    "from config import constants\n",
    "from features.extractor import extract_features_from_pcap"
   ],
   "id": "dc3060847dd9fa5",
   "outputs": [],
   "execution_count": 13
  },
  {
   "metadata": {
    "ExecuteTime": {
     "end_time": "2025-06-15T17:16:07.436975Z",
     "start_time": "2025-06-15T17:16:07.430042Z"
    }
   },
   "cell_type": "code",
   "source": "BASE_PATH = '../data/raw'",
   "id": "b7a68d70897eac8b",
   "outputs": [],
   "execution_count": 14
  },
  {
   "metadata": {
    "ExecuteTime": {
     "end_time": "2025-06-15T17:16:07.869343Z",
     "start_time": "2025-06-15T17:16:07.864315Z"
    }
   },
   "cell_type": "code",
   "source": [
    "CATEGORIES = list(constants.CATEGORIES)\n",
    "print(CATEGORIES)"
   ],
   "id": "caf07e491a632495",
   "outputs": [
    {
     "name": "stdout",
     "output_type": "stream",
     "text": [
      "['cloud_service', 'e-mail', 'games', 'information', 'music', 'social_network', 'video_hosting']\n"
     ]
    }
   ],
   "execution_count": 15
  },
  {
   "metadata": {
    "ExecuteTime": {
     "end_time": "2025-06-15T17:16:14.603415Z",
     "start_time": "2025-06-15T17:16:14.597945Z"
    }
   },
   "cell_type": "code",
   "source": [
    "def process_category(category):\n",
    "    category_path = os.path.join(BASE_PATH, category)\n",
    "    if not os.path.exists(category_path):\n",
    "        print(f\"Папка {category_path} не найдена.\")\n",
    "        return []\n",
    "\n",
    "    pcap_files = glob.glob(os.path.join(category_path, \"*.pcap\"))\n",
    "    if not pcap_files:\n",
    "        print(f\"PCAP-файлы в категории {category} не найдены.\")\n",
    "        return []\n",
    "\n",
    "    print(f\"Найдены файлы: {len(pcap_files)}\")\n",
    "\n",
    "    features_list = []\n",
    "    for pcap_file in pcap_files:\n",
    "        features = extract_features_from_pcap(pcap_file, category)\n",
    "        if features:\n",
    "            features_list.extend(features)\n",
    "\n",
    "    return features_list"
   ],
   "id": "6c6a7e032388ef61",
   "outputs": [],
   "execution_count": 16
  },
  {
   "metadata": {
    "ExecuteTime": {
     "end_time": "2025-06-15T17:21:17.835548Z",
     "start_time": "2025-06-15T17:16:15.455084Z"
    }
   },
   "cell_type": "code",
   "source": [
    "all_features = []\n",
    "\n",
    "for category in CATEGORIES:\n",
    "    print(f\"\\nОбработка категории: {category}\")\n",
    "    features = process_category(category)\n",
    "    all_features.extend(features)\n",
    "\n",
    "if not all_features:\n",
    "    print(\"Не удалось извлечь признаки. Проверьте PCAP-файлы.\")\n",
    "    exit(1)"
   ],
   "id": "36823cc77b5a0180",
   "outputs": [
    {
     "name": "stdout",
     "output_type": "stream",
     "text": [
      "\n",
      "Обработка категории: cloud_service\n",
      "Найдены файлы: 20\n",
      "Успешно обработан файл ../data/raw\\cloud_service\\10_windows_300.pcap: 1362 пакетов, 6 потоков\n",
      "Успешно обработан файл ../data/raw\\cloud_service\\11_darwin_300.pcap: 55 пакетов, 6 потоков\n",
      "Успешно обработан файл ../data/raw\\cloud_service\\12_darwin_300.pcap: 3347 пакетов, 6 потоков\n",
      "Успешно обработан файл ../data/raw\\cloud_service\\13_darwin_300.pcap: 3589 пакетов, 10 потоков\n",
      "Успешно обработан файл ../data/raw\\cloud_service\\14_darwin_300.pcap: 48 пакетов, 4 потоков\n",
      "Успешно обработан файл ../data/raw\\cloud_service\\15_darwin_300.pcap: 2 пакетов, 2 потоков\n",
      "Успешно обработан файл ../data/raw\\cloud_service\\16_darwin_300.pcap: 20 пакетов, 6 потоков\n",
      "Успешно обработан файл ../data/raw\\cloud_service\\16_windows_600.pcap: 96 пакетов, 7 потоков\n",
      "Успешно обработан файл ../data/raw\\cloud_service\\17_darwin_300.pcap: 39 пакетов, 11 потоков\n",
      "Успешно обработан файл ../data/raw\\cloud_service\\17_windows_600.pcap: 1559 пакетов, 9 потоков\n",
      "Успешно обработан файл ../data/raw\\cloud_service\\18_windows_600.pcap: 66 пакетов, 2 потоков\n",
      "Успешно обработан файл ../data/raw\\cloud_service\\1_windows.pcap: 29 пакетов, 3 потоков\n",
      "Успешно обработан файл ../data/raw\\cloud_service\\2_windows.pcap: 15 пакетов, 8 потоков\n",
      "Успешно обработан файл ../data/raw\\cloud_service\\3_windows.pcap: 2 пакетов, 7 потоков\n",
      "Успешно обработан файл ../data/raw\\cloud_service\\4_windows.pcap: 2 пакетов, 4 потоков\n",
      "Успешно обработан файл ../data/raw\\cloud_service\\5_windows.pcap: 2 пакетов, 4 потоков\n",
      "Успешно обработан файл ../data/raw\\cloud_service\\6_windows.pcap: 992 пакетов, 7 потоков\n",
      "Успешно обработан файл ../data/raw\\cloud_service\\7_windows_300.pcap: 13 пакетов, 7 потоков\n",
      "Успешно обработан файл ../data/raw\\cloud_service\\8_windows_300.pcap: 30 пакетов, 9 потоков\n",
      "Успешно обработан файл ../data/raw\\cloud_service\\9_windows_300.pcap: 8 пакетов, 2 потоков\n",
      "\n",
      "Обработка категории: e-mail\n",
      "Найдены файлы: 19\n",
      "Успешно обработан файл ../data/raw\\e-mail\\10_windows_300.pcap: 89 пакетов, 9 потоков\n",
      "Успешно обработан файл ../data/raw\\e-mail\\11_darwin_300.pcap: 6 пакетов, 3 потоков\n",
      "Успешно обработан файл ../data/raw\\e-mail\\12_darwin_300.pcap: 219 пакетов, 9 потоков\n",
      "Успешно обработан файл ../data/raw\\e-mail\\13_darwin_300.pcap: 12 пакетов, 8 потоков\n",
      "Успешно обработан файл ../data/raw\\e-mail\\14_darwin_300.pcap: 9 пакетов, 3 потоков\n",
      "Успешно обработан файл ../data/raw\\e-mail\\15_darwin_300.pcap: 23 пакетов, 8 потоков\n",
      "Успешно обработан файл ../data/raw\\e-mail\\16_darwin_300.pcap: 41 пакетов, 8 потоков\n",
      "Успешно обработан файл ../data/raw\\e-mail\\16_windows_600.pcap: 15 пакетов, 16 потоков\n",
      "Успешно обработан файл ../data/raw\\e-mail\\17_darwin_300.pcap: 126 пакетов, 6 потоков\n",
      "Успешно обработан файл ../data/raw\\e-mail\\18_darwin_300.pcap: 13 пакетов, 7 потоков\n",
      "Успешно обработан файл ../data/raw\\e-mail\\1_windows.pcap: 15 пакетов, 3 потоков\n",
      "Успешно обработан файл ../data/raw\\e-mail\\2_windows.pcap: 28 пакетов, 1 потоков\n",
      "Успешно обработан файл ../data/raw\\e-mail\\3_windows.pcap: 15 пакетов, 2 потоков\n",
      "Успешно обработан файл ../data/raw\\e-mail\\4_windows.pcap: 112 пакетов, 5 потоков\n",
      "Успешно обработан файл ../data/raw\\e-mail\\5_windows.pcap: 127 пакетов, 7 потоков\n",
      "Успешно обработан файл ../data/raw\\e-mail\\6_windows.pcap: 133 пакетов, 6 потоков\n",
      "Успешно обработан файл ../data/raw\\e-mail\\7_windows_300.pcap: 6255 пакетов, 1 потоков\n",
      "Успешно обработан файл ../data/raw\\e-mail\\8_windows_300.pcap: 40 пакетов, 10 потоков\n",
      "Успешно обработан файл ../data/raw\\e-mail\\9_windows_300.pcap: 7 пакетов, 8 потоков\n",
      "\n",
      "Обработка категории: games\n",
      "Найдены файлы: 17\n",
      "Успешно обработан файл ../data/raw\\games\\10_cs2.pcap: 4 пакетов, 22 потоков\n",
      "Успешно обработан файл ../data/raw\\games\\11_dota2.pcap: 4 пакетов, 25 потоков\n",
      "Успешно обработан файл ../data/raw\\games\\12_dota2.pcap: 4 пакетов, 25 потоков\n",
      "Успешно обработан файл ../data/raw\\games\\13_FallGuys_client_game.pcap: 3 пакетов, 20 потоков\n",
      "Успешно обработан файл ../data/raw\\games\\14_FallGuys_client_game.pcap: 51 пакетов, 24 потоков\n",
      "Успешно обработан файл ../data/raw\\games\\15_FC25.pcap: 10 пакетов, 79 потоков\n",
      "Успешно обработан файл ../data/raw\\games\\16_FC25.pcap: 8 пакетов, 66 потоков\n",
      "Успешно обработан файл ../data/raw\\games\\17_FC25.pcap: 5 пакетов, 13 потоков\n",
      "Успешно обработан файл ../data/raw\\games\\1_cs2.pcap: 2 пакетов, 2 потоков\n",
      "Успешно обработан файл ../data/raw\\games\\2_cs2.pcap: 3 пакетов, 24 потоков\n",
      "Успешно обработан файл ../data/raw\\games\\3_FC25.pcap: 23 пакетов, 21 потоков\n",
      "Успешно обработан файл ../data/raw\\games\\4_FC25.pcap: 2 пакетов, 18 потоков\n",
      "Успешно обработан файл ../data/raw\\games\\6_FallGuys_client_game.pcap: 3 пакетов, 12 потоков\n",
      "Успешно обработан файл ../data/raw\\games\\7_FallGuys_client_game.pcap: 2 пакетов, 7 потоков\n",
      "Успешно обработан файл ../data/raw\\games\\8_cs2.pcap: 4 пакетов, 27 потоков\n",
      "Успешно обработан файл ../data/raw\\games\\8_FallGuys_client_game.pcap: 3 пакетов, 25 потоков\n",
      "Успешно обработан файл ../data/raw\\games\\9_cs2.pcap: 34 пакетов, 22 потоков\n",
      "\n",
      "Обработка категории: information\n",
      "Найдены файлы: 15\n",
      "Успешно обработан файл ../data/raw\\information\\10_windows_300.pcap: 359 пакетов, 5 потоков\n",
      "Успешно обработан файл ../data/raw\\information\\11_darwin_300.pcap: 59 пакетов, 3 потоков\n",
      "Успешно обработан файл ../data/raw\\information\\12_darwin_300.pcap: 32 пакетов, 5 потоков\n",
      "Успешно обработан файл ../data/raw\\information\\13_darwin_300.pcap: 158 пакетов, 6 потоков\n",
      "Успешно обработан файл ../data/raw\\information\\14_darwin_300.pcap: 64 пакетов, 3 потоков\n",
      "Успешно обработан файл ../data/raw\\information\\15_darwin_300.pcap: 15 пакетов, 30 потоков\n",
      "Успешно обработан файл ../data/raw\\information\\1_windows.pcap: 2353 пакетов, 3 потоков\n",
      "Успешно обработан файл ../data/raw\\information\\2_windows.pcap: 6 пакетов, 12 потоков\n",
      "Успешно обработан файл ../data/raw\\information\\3_windows.pcap: 14 пакетов, 13 потоков\n",
      "Успешно обработан файл ../data/raw\\information\\4_windows.pcap: 11 пакетов, 11 потоков\n",
      "Успешно обработан файл ../data/raw\\information\\5_windows.pcap: 166 пакетов, 9 потоков\n",
      "Успешно обработан файл ../data/raw\\information\\6_windows.pcap: 21 пакетов, 10 потоков\n",
      "Успешно обработан файл ../data/raw\\information\\7_windows_300.pcap: 6 пакетов, 3 потоков\n",
      "Успешно обработан файл ../data/raw\\information\\8_windows_300.pcap: 29 пакетов, 40 потоков\n",
      "Успешно обработан файл ../data/raw\\information\\9_windows_300.pcap: 123 пакетов, 17 потоков\n",
      "\n",
      "Обработка категории: music\n",
      "Найдены файлы: 19\n",
      "Успешно обработан файл ../data/raw\\music\\10_windows_300.pcap: 19 пакетов, 10 потоков\n",
      "Успешно обработан файл ../data/raw\\music\\11_darwin_300.pcap: 12 пакетов, 7 потоков\n",
      "Успешно обработан файл ../data/raw\\music\\12_darwin_300.pcap: 24 пакетов, 2 потоков\n",
      "Успешно обработан файл ../data/raw\\music\\13_darwin_300.pcap: 28 пакетов, 2 потоков\n",
      "Успешно обработан файл ../data/raw\\music\\14_darwin_300.pcap: 64 пакетов, 11 потоков\n",
      "Успешно обработан файл ../data/raw\\music\\15_darwin_300.pcap: 7 пакетов, 8 потоков\n",
      "Успешно обработан файл ../data/raw\\music\\16_darwin_300.pcap: 33 пакетов, 2 потоков\n",
      "Успешно обработан файл ../data/raw\\music\\16_windows_600.pcap: 42 пакетов, 13 потоков\n",
      "Успешно обработан файл ../data/raw\\music\\17_windows_600.pcap: 26 пакетов, 12 потоков\n",
      "Успешно обработан файл ../data/raw\\music\\18_windows_600.pcap: 19 пакетов, 31 потоков\n",
      "Успешно обработан файл ../data/raw\\music\\1_windows.pcap: 12 пакетов, 1 потоков\n",
      "Успешно обработан файл ../data/raw\\music\\2_windows.pcap: 2 пакетов, 4 потоков\n",
      "Успешно обработан файл ../data/raw\\music\\3_windows.pcap: 20 пакетов, 1 потоков\n",
      "Успешно обработан файл ../data/raw\\music\\4_windows.pcap: 2 пакетов, 4 потоков\n",
      "Успешно обработан файл ../data/raw\\music\\5_windows.pcap: 4 пакетов, 4 потоков\n",
      "Успешно обработан файл ../data/raw\\music\\6_windows_300.pcap: 33 пакетов, 11 потоков\n",
      "Успешно обработан файл ../data/raw\\music\\7_windows_300.pcap: 14 пакетов, 8 потоков\n",
      "Успешно обработан файл ../data/raw\\music\\8_windows_300.pcap: 14 пакетов, 7 потоков\n",
      "Успешно обработан файл ../data/raw\\music\\9_windows_300.pcap: 8 пакетов, 4 потоков\n",
      "\n",
      "Обработка категории: social_network\n",
      "Найдены файлы: 15\n",
      "Успешно обработан файл ../data/raw\\social_network\\10_windows_300.pcap: 69 пакетов, 42 потоков\n",
      "Успешно обработан файл ../data/raw\\social_network\\11_darwin_300.pcap: 2 пакетов, 3 потоков\n",
      "Успешно обработан файл ../data/raw\\social_network\\12_darwin_300.pcap: 16 пакетов, 2 потоков\n",
      "Успешно обработан файл ../data/raw\\social_network\\13_darwin_300.pcap: 57 пакетов, 18 потоков\n",
      "Успешно обработан файл ../data/raw\\social_network\\14_darwin_300.pcap: 438 пакетов, 15 потоков\n",
      "Успешно обработан файл ../data/raw\\social_network\\15_darwin_300.pcap: 2 пакетов, 16 потоков\n",
      "Успешно обработан файл ../data/raw\\social_network\\1_windows.pcap: 736 пакетов, 1 потоков\n",
      "Успешно обработан файл ../data/raw\\social_network\\2_windows.pcap: 16 пакетов, 3 потоков\n",
      "Успешно обработан файл ../data/raw\\social_network\\3_windows.pcap: 830 пакетов, 2 потоков\n",
      "Успешно обработан файл ../data/raw\\social_network\\4_windows.pcap: 10 пакетов, 2 потоков\n",
      "Успешно обработан файл ../data/raw\\social_network\\5_windows.pcap: 668 пакетов, 1 потоков\n",
      "Успешно обработан файл ../data/raw\\social_network\\6_windows.pcap: 46 пакетов, 13 потоков\n",
      "Успешно обработан файл ../data/raw\\social_network\\7_windows_300.pcap: 65 пакетов, 47 потоков\n",
      "Успешно обработан файл ../data/raw\\social_network\\8_windows_300.pcap: 13 пакетов, 5 потоков\n",
      "Успешно обработан файл ../data/raw\\social_network\\9_windows_300.pcap: 12 пакетов, 2 потоков\n",
      "\n",
      "Обработка категории: video_hosting\n",
      "Найдены файлы: 32\n",
      "Успешно обработан файл ../data/raw\\video_hosting\\10_windows_300.pcap: 22 пакетов, 3 потоков\n",
      "Успешно обработан файл ../data/raw\\video_hosting\\11_darwin_300.pcap: 18 пакетов, 3 потоков\n",
      "Успешно обработан файл ../data/raw\\video_hosting\\12_darwin_300.pcap: 19 пакетов, 7 потоков\n",
      "Успешно обработан файл ../data/raw\\video_hosting\\13_darwin_300.pcap: 30 пакетов, 5 потоков\n",
      "Успешно обработан файл ../data/raw\\video_hosting\\14_darwin_300.pcap: 19 пакетов, 4 потоков\n",
      "Успешно обработан файл ../data/raw\\video_hosting\\15_darwin_300.pcap: 35 пакетов, 3 потоков\n",
      "Успешно обработан файл ../data/raw\\video_hosting\\16_darwin_300.pcap: 38 пакетов, 3 потоков\n",
      "Успешно обработан файл ../data/raw\\video_hosting\\16_windows_600.pcap: 24 пакетов, 9 потоков\n",
      "Успешно обработан файл ../data/raw\\video_hosting\\17_darwin_300.pcap: 18 пакетов, 3 потоков\n",
      "Успешно обработан файл ../data/raw\\video_hosting\\17_windows_600.pcap: 7 пакетов, 4 потоков\n",
      "Успешно обработан файл ../data/raw\\video_hosting\\18_darwin_300.pcap: 107 пакетов, 4 потоков\n",
      "Успешно обработан файл ../data/raw\\video_hosting\\18_windows_600.pcap: 26 пакетов, 3 потоков\n",
      "Успешно обработан файл ../data/raw\\video_hosting\\19_darwin_300.pcap: 1865 пакетов, 1 потоков\n",
      "Успешно обработан файл ../data/raw\\video_hosting\\19_windows_600.pcap: 26 пакетов, 4 потоков\n",
      "Успешно обработан файл ../data/raw\\video_hosting\\1_windows.pcap: 18 пакетов, 3 потоков\n",
      "Успешно обработан файл ../data/raw\\video_hosting\\20_darwin_300.pcap: 69 пакетов, 5 потоков\n",
      "Успешно обработан файл ../data/raw\\video_hosting\\20_windows_600.pcap: 72 пакетов, 4 потоков\n",
      "Успешно обработан файл ../data/raw\\video_hosting\\21_windows_600.pcap: 38 пакетов, 4 потоков\n",
      "Успешно обработан файл ../data/raw\\video_hosting\\22_windows_600.pcap: 18 пакетов, 4 потоков\n",
      "Успешно обработан файл ../data/raw\\video_hosting\\23_windows_600.pcap: 153 пакетов, 3 потоков\n",
      "Успешно обработан файл ../data/raw\\video_hosting\\24_windows_600.pcap: 138 пакетов, 8 потоков\n",
      "Успешно обработан файл ../data/raw\\video_hosting\\25_windows_600.pcap: 85 пакетов, 10 потоков\n",
      "Успешно обработан файл ../data/raw\\video_hosting\\26_windows_600.pcap: 66 пакетов, 4 потоков\n",
      "Успешно обработан файл ../data/raw\\video_hosting\\27_windows_600.pcap: 105 пакетов, 3 потоков\n",
      "Успешно обработан файл ../data/raw\\video_hosting\\2_windows.pcap: 19 пакетов, 3 потоков\n",
      "Успешно обработан файл ../data/raw\\video_hosting\\3_windows.pcap: 763 пакетов, 1 потоков\n",
      "Успешно обработан файл ../data/raw\\video_hosting\\4_windows.pcap: 400 пакетов, 2 потоков\n",
      "Успешно обработан файл ../data/raw\\video_hosting\\5_windows.pcap: 11 пакетов, 2 потоков\n",
      "Успешно обработан файл ../data/raw\\video_hosting\\6_windows.pcap: 9 пакетов, 3 потоков\n",
      "Успешно обработан файл ../data/raw\\video_hosting\\7_windows_300.pcap: 193 пакетов, 1 потоков\n",
      "Успешно обработан файл ../data/raw\\video_hosting\\8_windows_300.pcap: 12 пакетов, 3 потоков\n",
      "Успешно обработан файл ../data/raw\\video_hosting\\9_windows_300.pcap: 75 пакетов, 4 потоков\n"
     ]
    }
   ],
   "execution_count": 17
  },
  {
   "metadata": {
    "ExecuteTime": {
     "end_time": "2025-06-15T17:21:18.018367Z",
     "start_time": "2025-06-15T17:21:17.917504Z"
    }
   },
   "cell_type": "code",
   "source": [
    "df = pd.DataFrame(all_features)\n",
    "output_csv = \"data/different_features/traffic_features.csv\"\n",
    "df.to_csv(output_csv, sep=',', encoding='utf-8', index=False)\n",
    "print(f\"Признаки сохранены в {output_csv}\")"
   ],
   "id": "150cffed22e768c4",
   "outputs": [
    {
     "name": "stdout",
     "output_type": "stream",
     "text": [
      "Признаки сохранены в data/different_features/traffic_features.csv\n"
     ]
    }
   ],
   "execution_count": 18
  },
  {
   "metadata": {
    "ExecuteTime": {
     "end_time": "2025-06-15T06:25:25.015383Z",
     "start_time": "2025-06-15T06:25:25.012374Z"
    }
   },
   "cell_type": "code",
   "source": "",
   "id": "d4c7404d222bc8bc",
   "outputs": [],
   "execution_count": null
  },
  {
   "metadata": {},
   "cell_type": "code",
   "outputs": [],
   "execution_count": null,
   "source": "",
   "id": "b27439b2c407918a"
  }
 ],
 "metadata": {
  "kernelspec": {
   "display_name": "Python 3",
   "language": "python",
   "name": "python3"
  },
  "language_info": {
   "codemirror_mode": {
    "name": "ipython",
    "version": 2
   },
   "file_extension": ".py",
   "mimetype": "text/x-python",
   "name": "python",
   "nbconvert_exporter": "python",
   "pygments_lexer": "ipython2",
   "version": "2.7.6"
  }
 },
 "nbformat": 4,
 "nbformat_minor": 5
}
