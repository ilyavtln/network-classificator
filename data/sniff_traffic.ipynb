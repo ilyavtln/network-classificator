{
 "cells": [
  {
   "cell_type": "code",
   "id": "initial_id",
   "metadata": {
    "collapsed": true,
    "ExecuteTime": {
     "end_time": "2025-06-17T12:42:25.425234Z",
     "start_time": "2025-06-17T12:42:25.422261Z"
    }
   },
   "source": [
    "import socket\n",
    "import sys\n",
    "import platform\n",
    "import os\n",
    "from scapy.all import sniff, wrpcap\n",
    "from config import constants"
   ],
   "outputs": [],
   "execution_count": 181
  },
  {
   "metadata": {
    "ExecuteTime": {
     "end_time": "2025-06-17T12:42:25.650686Z",
     "start_time": "2025-06-17T12:42:25.648544Z"
    }
   },
   "cell_type": "code",
   "source": [
    "CATEGORIES = constants.CATEGORIES\n",
    "print(CATEGORIES)"
   ],
   "id": "b0b3e9824c023ac8",
   "outputs": [
    {
     "name": "stdout",
     "output_type": "stream",
     "text": [
      "['cloud_service', 'e-mail', 'games', 'information', 'music', 'social_network', 'video_hosting']\n"
     ]
    }
   ],
   "execution_count": 182
  },
  {
   "metadata": {
    "ExecuteTime": {
     "end_time": "2025-06-17T12:42:25.880692Z",
     "start_time": "2025-06-17T12:42:25.877010Z"
    }
   },
   "cell_type": "code",
   "source": [
    "DOMAINS = {\n",
    "    'music': [\"spotify.com\", \"open.spotify.com\", \"music.yandex.ru\", \"mc.yandex.ru\", \"music.apple.com\", \"zaycev.net\"],\n",
    "    'social_network': [\"vk.com\", \"ok.ru\", \"web.telegram.org\", \"telegram.org\", \"t.me\"],\n",
    "    'video_hosting': [\"twitch.tv\", \"youtube.com\", \"rutube.ru\", \"vkvideo.ru\", \"kinopoisk.ru\", \"hd.kinopoisk.ru\", \"ivi.ru\", \"premier.one\"],\n",
    "    'cloud_service': [\"disk.yandex.ru\", \"cloud.mail.ru\", \"drive.google.com\", \"onedrive.live.com\"],\n",
    "    'e-mail': [\"mail.google.com\", \"mail.yandex.ru\", \"mail.ru\", \"outlook.live.com\", \"gmail.com\", \"vk.mail.ru\"],\n",
    "    'information': [\"wikipedia.org\", \"nstu.ru\", \"ngs.ru\", \"gismeteo.ru\", \"habr.com\", \"tass.ru\", \"hse.ru\"]\n",
    "}"
   ],
   "id": "7bb487b4289a15ac",
   "outputs": [],
   "execution_count": 183
  },
  {
   "metadata": {
    "ExecuteTime": {
     "end_time": "2025-06-17T12:42:26.114999Z",
     "start_time": "2025-06-17T12:42:26.112501Z"
    }
   },
   "cell_type": "code",
   "source": [
    "CURRENT_CATEGORY = 'music'\n",
    "DURATION = 300"
   ],
   "id": "319e274bb7374309",
   "outputs": [],
   "execution_count": 184
  },
  {
   "metadata": {
    "ExecuteTime": {
     "end_time": "2025-06-17T12:42:26.393039Z",
     "start_time": "2025-06-17T12:42:26.390109Z"
    }
   },
   "cell_type": "code",
   "source": "print(f\"Сбор трафика для {CURRENT_CATEGORY} с продолжительностью {DURATION}c.\")",
   "id": "eb49fa13f9a0e5e2",
   "outputs": [
    {
     "name": "stdout",
     "output_type": "stream",
     "text": [
      "Сбор трафика для music с продолжительностью 300c.\n"
     ]
    }
   ],
   "execution_count": 185
  },
  {
   "metadata": {
    "ExecuteTime": {
     "end_time": "2025-06-17T12:42:26.663260Z",
     "start_time": "2025-06-17T12:42:26.660102Z"
    }
   },
   "cell_type": "code",
   "source": [
    "system = platform.system().lower()\n",
    "print(f\"Текущая ОС {system}\")"
   ],
   "id": "b324bf64c47b54c2",
   "outputs": [
    {
     "name": "stdout",
     "output_type": "stream",
     "text": [
      "Текущая ОС darwin\n"
     ]
    }
   ],
   "execution_count": 186
  },
  {
   "metadata": {
    "ExecuteTime": {
     "end_time": "2025-06-17T12:42:26.923160Z",
     "start_time": "2025-06-17T12:42:26.920455Z"
    }
   },
   "cell_type": "code",
   "source": [
    "if system == \"windows\":\n",
    "    INTERFACE = \"Беспроводная сеть\"\n",
    "else:\n",
    "    INTERFACE = \"en0\"\n",
    "\n",
    "print(INTERFACE)"
   ],
   "id": "94d56e227da2857d",
   "outputs": [
    {
     "name": "stdout",
     "output_type": "stream",
     "text": [
      "en0\n"
     ]
    }
   ],
   "execution_count": 187
  },
  {
   "metadata": {
    "ExecuteTime": {
     "end_time": "2025-06-17T12:42:27.285849Z",
     "start_time": "2025-06-17T12:42:27.281223Z"
    }
   },
   "cell_type": "code",
   "source": [
    "def resolve_domains(domains):\n",
    "    ip_list = []\n",
    "    for domain in domains:\n",
    "        try:\n",
    "            addr_info = socket.getaddrinfo(\n",
    "                domain,\n",
    "                None,\n",
    "                family=0,\n",
    "                type=socket.SOCK_STREAM,\n",
    "                flags=socket.AI_ALL | socket.AI_V4MAPPED\n",
    "            )\n",
    "\n",
    "            ip_set = set()\n",
    "            for info in addr_info:\n",
    "                ip = info[4][0]\n",
    "                ip_set.add(ip)\n",
    "            ip_list.extend(ip_set)\n",
    "\n",
    "            print(f\"Домен {domain}: {list(ip_set)}\")\n",
    "        except socket.gaierror:\n",
    "            return []\n",
    "\n",
    "    return list(set(ip_list))"
   ],
   "id": "c62d24a15cced2d6",
   "outputs": [],
   "execution_count": 188
  },
  {
   "metadata": {
    "ExecuteTime": {
     "end_time": "2025-06-17T12:42:27.566874Z",
     "start_time": "2025-06-17T12:42:27.563472Z"
    }
   },
   "cell_type": "code",
   "source": [
    "def create_bpf_filter():\n",
    "    ip_list = resolve_domains(DOMAINS.get(CURRENT_CATEGORY))\n",
    "    if not ip_list:\n",
    "        return \"\"\n",
    "\n",
    "    ip_filter = \" or \".join(f\"host {ip}\" for ip in ip_list)\n",
    "\n",
    "    return f\"{ip_filter}\""
   ],
   "id": "11db4c27b630274e",
   "outputs": [],
   "execution_count": 189
  },
  {
   "metadata": {
    "ExecuteTime": {
     "end_time": "2025-06-17T12:42:27.922190Z",
     "start_time": "2025-06-17T12:42:27.917437Z"
    }
   },
   "cell_type": "code",
   "source": [
    "def start_capture(interface, output_file, duration=60):\n",
    "    packets = []\n",
    "\n",
    "    bpf_filter = create_bpf_filter()\n",
    "\n",
    "    print(bpf_filter)\n",
    "\n",
    "    if not bpf_filter:\n",
    "        print(\"Не удалось создать фильтр для захвата трафика\")\n",
    "        sys.exit(1)\n",
    "\n",
    "    print(f\"BPF-фильтр: {bpf_filter}\")\n",
    "    print(f\"Начало захвата трафика на интерфейсе {interface}\")\n",
    "\n",
    "    def packet_callback(packet):\n",
    "        packets.append(packet)\n",
    "        print(f\"Захвачен пакет: {packet.summary()}\")\n",
    "\n",
    "    try:\n",
    "        sniff(iface=interface, prn=packet_callback, timeout=duration, filter=bpf_filter)\n",
    "        print(f\"Сохранение {len(packets)} пакетов в файл {output_file}...\")\n",
    "        wrpcap(output_file, packets)\n",
    "        print(f\"Захват завершен. Файл сохранен: {output_file}\")\n",
    "\n",
    "    except Exception as e:\n",
    "        print(f\"Ошибка при захвате трафика: {e}\")\n",
    "        sys.exit(1)"
   ],
   "id": "9330be69113b9457",
   "outputs": [],
   "execution_count": 190
  },
  {
   "metadata": {
    "ExecuteTime": {
     "end_time": "2025-06-17T12:42:28.536064Z",
     "start_time": "2025-06-17T12:42:28.532362Z"
    }
   },
   "cell_type": "code",
   "source": [
    "RAW_PATH = f'raw/{CURRENT_CATEGORY}'\n",
    "pcap_files = [f for f in os.listdir(RAW_PATH) if f.endswith('.pcap')]\n",
    "FILENAME = f\"{len(pcap_files) + 1}_{system}_{DURATION}.pcap\"\n",
    "OUTPUT_FILE = f\"{RAW_PATH}/{FILENAME}\""
   ],
   "id": "7eb12967300ec285",
   "outputs": [],
   "execution_count": 191
  },
  {
   "metadata": {
    "ExecuteTime": {
     "end_time": "2025-06-17T12:47:29.280878Z",
     "start_time": "2025-06-17T12:42:29.028174Z"
    }
   },
   "cell_type": "code",
   "source": "start_capture(INTERFACE, OUTPUT_FILE, DURATION)",
   "id": "245e1d1f09390a72",
   "outputs": [
    {
     "name": "stdout",
     "output_type": "stream",
     "text": [
      "Разрешен домен spotify.com -> ['2600:1901:1:7c5::', '35.186.224.24']\n",
      "Разрешен домен open.spotify.com -> ['146.75.119.42', '2a04:4e42:8d::810']\n",
      "Разрешен домен music.yandex.ru -> ['2a02:6b8::186', '213.180.204.186']\n",
      "Разрешен домен mc.yandex.ru -> ['87.250.251.119', '2a02:6b8::1:119', '77.88.21.119', '87.250.250.119']\n",
      "Разрешен домен music.apple.com -> ['2a02:26f0:e80:183::2a1', '2a02:26f0:e80:18e::2a1', '23.196.52.31', '2a02:26f0:e80:198::2a1', '2a02:26f0:e80:182::2a1', '2a02:26f0:e80:18f::2a1']\n",
      "Разрешен домен zaycev.net -> ['176.58.34.241']\n",
      "host 2a02:26f0:e80:183::2a1 or host 2600:1901:1:7c5:: or host 2a02:6b8::186 or host 146.75.119.42 or host 2a02:6b8::1:119 or host 2a02:26f0:e80:18e::2a1 or host 2a02:26f0:e80:18f::2a1 or host 213.180.204.186 or host 23.196.52.31 or host 87.250.250.119 or host 2a02:26f0:e80:198::2a1 or host 2a02:26f0:e80:182::2a1 or host 35.186.224.24 or host 87.250.251.119 or host 176.58.34.241 or host 77.88.21.119 or host 2a04:4e42:8d::810\n",
      "BPF-фильтр: host 2a02:26f0:e80:183::2a1 or host 2600:1901:1:7c5:: or host 2a02:6b8::186 or host 146.75.119.42 or host 2a02:6b8::1:119 or host 2a02:26f0:e80:18e::2a1 or host 2a02:26f0:e80:18f::2a1 or host 213.180.204.186 or host 23.196.52.31 or host 87.250.250.119 or host 2a02:26f0:e80:198::2a1 or host 2a02:26f0:e80:182::2a1 or host 35.186.224.24 or host 87.250.251.119 or host 176.58.34.241 or host 77.88.21.119 or host 2a04:4e42:8d::810\n",
      "Начало захвата трафика на интерфейсе en0...\n",
      "Захвачен пакет: Ether / IP / TCP 192.168.31.9:53902 > 87.250.251.119:https PA / Raw\n",
      "Захвачен пакет: Ether / IP / TCP 87.250.251.119:https > 192.168.31.9:53902 PA / Raw\n",
      "Захвачен пакет: Ether / IP / TCP 192.168.31.9:53902 > 87.250.251.119:https A\n",
      "Захвачен пакет: Ether / IP / TCP 192.168.31.9:53902 > 87.250.251.119:https PA / Raw\n",
      "Захвачен пакет: Ether / IP / TCP 87.250.251.119:https > 192.168.31.9:53902 A\n",
      "Захвачен пакет: Ether / IP / TCP 192.168.31.9:53902 > 87.250.251.119:https PA / Raw\n",
      "Захвачен пакет: Ether / IP / TCP 192.168.31.9:53902 > 87.250.251.119:https PA / Raw\n",
      "Захвачен пакет: Ether / IP / TCP 192.168.31.9:53901 > 213.180.204.186:https PA / Raw\n",
      "Захвачен пакет: Ether / IP / TCP 87.250.251.119:https > 192.168.31.9:53902 A\n",
      "Захвачен пакет: Ether / IP / TCP 87.250.251.119:https > 192.168.31.9:53902 A\n",
      "Захвачен пакет: Ether / IP / TCP 87.250.251.119:https > 192.168.31.9:53902 PA / Raw\n",
      "Захвачен пакет: Ether / IP / TCP 192.168.31.9:53902 > 87.250.251.119:https A\n",
      "Захвачен пакет: Ether / IP / TCP 87.250.251.119:https > 192.168.31.9:53902 PA / Raw\n",
      "Захвачен пакет: Ether / IP / TCP 192.168.31.9:53902 > 87.250.251.119:https A\n",
      "Захвачен пакет: Ether / IP / TCP 213.180.204.186:https > 192.168.31.9:53901 PA / Raw\n",
      "Захвачен пакет: Ether / IP / TCP 192.168.31.9:53901 > 213.180.204.186:https A\n",
      "Захвачен пакет: Ether / IP / TCP 192.168.31.9:53901 > 213.180.204.186:https PA / Raw\n",
      "Захвачен пакет: Ether / IP / TCP 213.180.204.186:https > 192.168.31.9:53901 A\n",
      "Захвачен пакет: Ether / IP / TCP 192.168.31.9:53902 > 87.250.251.119:https PA / Raw\n",
      "Захвачен пакет: Ether / IP / TCP 192.168.31.9:53902 > 87.250.251.119:https A / Raw\n",
      "Захвачен пакет: Ether / IP / TCP 192.168.31.9:53902 > 87.250.251.119:https A / Raw\n",
      "Захвачен пакет: Ether / IP / TCP 192.168.31.9:53902 > 87.250.251.119:https PA / Raw\n",
      "Захвачен пакет: Ether / IP / TCP 87.250.251.119:https > 192.168.31.9:53902 A\n",
      "Захвачен пакет: Ether / IP / TCP 87.250.251.119:https > 192.168.31.9:53902 A\n",
      "Захвачен пакет: Ether / IP / TCP 87.250.251.119:https > 192.168.31.9:53902 PA / Raw\n",
      "Захвачен пакет: Ether / IP / TCP 192.168.31.9:53902 > 87.250.251.119:https A\n",
      "Захвачен пакет: Ether / IP / TCP 87.250.251.119:https > 192.168.31.9:53902 PA / Raw\n",
      "Захвачен пакет: Ether / IP / TCP 192.168.31.9:53902 > 87.250.251.119:https A\n",
      "Захвачен пакет: Ether / IP / TCP 192.168.31.9:53902 > 87.250.251.119:https PA / Raw\n",
      "Захвачен пакет: Ether / IP / TCP 192.168.31.9:53902 > 87.250.251.119:https PA / Raw\n",
      "Захвачен пакет: Ether / IP / TCP 87.250.251.119:https > 192.168.31.9:53902 PA / Raw\n",
      "Захвачен пакет: Ether / IP / TCP 192.168.31.9:53902 > 87.250.251.119:https A\n",
      "Захвачен пакет: Ether / IP / TCP 87.250.251.119:https > 192.168.31.9:53902 PA / Raw\n",
      "Захвачен пакет: Ether / IP / TCP 192.168.31.9:53902 > 87.250.251.119:https A\n",
      "Захвачен пакет: Ether / IP / TCP 192.168.31.9:53902 > 87.250.251.119:https PA / Raw\n",
      "Захвачен пакет: Ether / IP / TCP 192.168.31.9:53902 > 87.250.251.119:https PA / Raw\n",
      "Захвачен пакет: Ether / IP / TCP 192.168.31.9:53902 > 87.250.251.119:https A / Raw\n",
      "Захвачен пакет: Ether / IP / TCP 192.168.31.9:53902 > 87.250.251.119:https A / Raw\n",
      "Захвачен пакет: Ether / IP / TCP 192.168.31.9:53902 > 87.250.251.119:https A / Raw\n",
      "Захвачен пакет: Ether / IP / TCP 192.168.31.9:53902 > 87.250.251.119:https PA / Raw\n",
      "Захвачен пакет: Ether / IP / TCP 87.250.251.119:https > 192.168.31.9:53902 PA / Raw\n",
      "Захвачен пакет: Ether / IP / TCP 192.168.31.9:53902 > 87.250.251.119:https A\n",
      "Захвачен пакет: Ether / IP / TCP 192.168.31.9:53902 > 87.250.251.119:https PA / Raw\n",
      "Захвачен пакет: Ether / IP / TCP 87.250.251.119:https > 192.168.31.9:53902 A\n",
      "Захвачен пакет: Ether / IP / TCP 87.250.251.119:https > 192.168.31.9:53902 A\n",
      "Захвачен пакет: Ether / IP / TCP 87.250.251.119:https > 192.168.31.9:53902 PA / Raw\n",
      "Захвачен пакет: Ether / IP / TCP 192.168.31.9:53902 > 87.250.251.119:https A\n",
      "Захвачен пакет: Ether / IP / TCP 87.250.251.119:https > 192.168.31.9:53902 PA / Raw\n",
      "Захвачен пакет: Ether / IP / TCP 192.168.31.9:53902 > 87.250.251.119:https A\n",
      "Захвачен пакет: Ether / IP / TCP 192.168.31.9:53902 > 87.250.251.119:https PA / Raw\n",
      "Захвачен пакет: Ether / IP / TCP 192.168.31.9:53902 > 87.250.251.119:https PA / Raw\n",
      "Захвачен пакет: Ether / IP / TCP 87.250.251.119:https > 192.168.31.9:53902 PA / Raw\n",
      "Захвачен пакет: Ether / IP / TCP 192.168.31.9:53902 > 87.250.251.119:https A\n",
      "Захвачен пакет: Ether / IP / TCP 87.250.251.119:https > 192.168.31.9:53902 A\n",
      "Захвачен пакет: Ether / IP / TCP 87.250.251.119:https > 192.168.31.9:53902 PA / Raw\n",
      "Захвачен пакет: Ether / IP / TCP 192.168.31.9:53902 > 87.250.251.119:https A\n",
      "Захвачен пакет: Ether / IP / TCP 87.250.251.119:https > 192.168.31.9:53902 PA / Raw\n",
      "Захвачен пакет: Ether / IP / TCP 192.168.31.9:53902 > 87.250.251.119:https A\n",
      "Захвачен пакет: Ether / IP / TCP 192.168.31.9:53902 > 87.250.251.119:https PA / Raw\n",
      "Захвачен пакет: Ether / IP / TCP 87.250.251.119:https > 192.168.31.9:53902 PA / Raw\n",
      "Захвачен пакет: Ether / IP / TCP 192.168.31.9:53902 > 87.250.251.119:https A\n",
      "Захвачен пакет: Ether / IP / TCP 192.168.31.9:53902 > 87.250.251.119:https PA / Raw\n",
      "Захвачен пакет: Ether / IP / TCP 87.250.251.119:https > 192.168.31.9:53902 PA / Raw\n",
      "Захвачен пакет: Ether / IP / TCP 192.168.31.9:53902 > 87.250.251.119:https A\n",
      "Захвачен пакет: Ether / IP / TCP 192.168.31.9:53902 > 87.250.251.119:https PA / Raw\n",
      "Захвачен пакет: Ether / IP / TCP 192.168.31.9:53902 > 87.250.251.119:https PA / Raw\n",
      "Захвачен пакет: Ether / IP / TCP 87.250.251.119:https > 192.168.31.9:53902 PA / Raw\n",
      "Захвачен пакет: Ether / IP / TCP 192.168.31.9:53902 > 87.250.251.119:https A\n",
      "Захвачен пакет: Ether / IP / TCP 192.168.31.9:53902 > 87.250.251.119:https PA / Raw\n",
      "Захвачен пакет: Ether / IP / TCP 192.168.31.9:53902 > 87.250.251.119:https PA / Raw\n",
      "Захвачен пакет: Ether / IP / TCP 87.250.251.119:https > 192.168.31.9:53902 PA / Raw\n",
      "Захвачен пакет: Ether / IP / TCP 192.168.31.9:53902 > 87.250.251.119:https A\n",
      "Захвачен пакет: Ether / IP / TCP 87.250.251.119:https > 192.168.31.9:53902 A\n",
      "Захвачен пакет: Ether / IP / TCP 87.250.251.119:https > 192.168.31.9:53902 PA / Raw\n",
      "Захвачен пакет: Ether / IP / TCP 192.168.31.9:53902 > 87.250.251.119:https A\n",
      "Захвачен пакет: Ether / IP / TCP 192.168.31.9:53867 > 35.186.224.24:https A\n",
      "Захвачен пакет: Ether / IP / TCP 35.186.224.24:https > 192.168.31.9:53867 A\n",
      "Захвачен пакет: Ether / IP / TCP 192.168.31.9:53902 > 87.250.251.119:https PA / Raw\n",
      "Захвачен пакет: Ether / IP / TCP 87.250.251.119:https > 192.168.31.9:53902 PA / Raw\n",
      "Захвачен пакет: Ether / IP / TCP 192.168.31.9:53902 > 87.250.251.119:https A\n",
      "Захвачен пакет: Ether / IP / TCP 192.168.31.9:53902 > 87.250.251.119:https PA / Raw\n",
      "Захвачен пакет: Ether / IP / TCP 87.250.251.119:https > 192.168.31.9:53902 A\n",
      "Захвачен пакет: Ether / IP / TCP 192.168.31.9:53862 > 35.186.224.24:https A\n",
      "Захвачен пакет: Ether / IP / TCP 192.168.31.9:53847 > 35.186.224.24:https A\n",
      "Захвачен пакет: Ether / IP / TCP 35.186.224.24:https > 192.168.31.9:53862 A\n",
      "Захвачен пакет: Ether / IP / TCP 35.186.224.24:https > 192.168.31.9:53847 A\n",
      "Захвачен пакет: Ether / IP / TCP 192.168.31.9:53848 > 146.75.119.42:https A\n",
      "Захвачен пакет: Ether / IP / TCP 146.75.119.42:https > 192.168.31.9:53848 A\n",
      "Захвачен пакет: Ether / IP / TCP 192.168.31.9:53901 > 213.180.204.186:https A\n",
      "Захвачен пакет: Ether / IP / TCP 213.180.204.186:https > 192.168.31.9:53901 A\n",
      "Захвачен пакет: Ether / IP / TCP 192.168.31.9:53867 > 35.186.224.24:https A\n",
      "Захвачен пакет: Ether / IP / TCP 35.186.224.24:https > 192.168.31.9:53867 A\n",
      "Захвачен пакет: Ether / IP / TCP 192.168.31.9:53902 > 87.250.251.119:https A\n",
      "Захвачен пакет: Ether / IP / TCP 87.250.251.119:https > 192.168.31.9:53902 A\n",
      "Захвачен пакет: Ether / IP / TCP 213.180.204.186:https > 192.168.31.9:53901 A\n",
      "Захвачен пакет: Ether / IP / TCP 192.168.31.9:53901 > 213.180.204.186:https A\n",
      "Захвачен пакет: Ether / IP / TCP 192.168.31.9:53862 > 35.186.224.24:https A\n",
      "Захвачен пакет: Ether / IP / TCP 192.168.31.9:53847 > 35.186.224.24:https A\n",
      "Захвачен пакет: Ether / IP / TCP 35.186.224.24:https > 192.168.31.9:53862 A\n",
      "Захвачен пакет: Ether / IP / TCP 35.186.224.24:https > 192.168.31.9:53847 A\n",
      "Захвачен пакет: Ether / IP / TCP 87.250.251.119:https > 192.168.31.9:53902 A\n",
      "Захвачен пакет: Ether / IP / TCP 192.168.31.9:53902 > 87.250.251.119:https A\n",
      "Захвачен пакет: Ether / IP / TCP 192.168.31.9:53848 > 146.75.119.42:https A\n",
      "Захвачен пакет: Ether / IP / TCP 146.75.119.42:https > 192.168.31.9:53848 A\n",
      "Захвачен пакет: Ether / IP / TCP 192.168.31.9:53867 > 35.186.224.24:https A\n",
      "Захвачен пакет: Ether / IP / TCP 35.186.224.24:https > 192.168.31.9:53867 A\n",
      "Захвачен пакет: Ether / IP / TCP 192.168.31.9:53901 > 213.180.204.186:https A\n",
      "Захвачен пакет: Ether / IP / TCP 213.180.204.186:https > 192.168.31.9:53901 A\n",
      "Захвачен пакет: Ether / IP / TCP 192.168.31.9:53862 > 35.186.224.24:https A\n",
      "Захвачен пакет: Ether / IP / TCP 35.186.224.24:https > 192.168.31.9:53862 A\n",
      "Захвачен пакет: Ether / IP / TCP 192.168.31.9:53847 > 35.186.224.24:https A\n",
      "Захвачен пакет: Ether / IP / TCP 35.186.224.24:https > 192.168.31.9:53847 A\n",
      "Захвачен пакет: Ether / IP / TCP 192.168.31.9:53902 > 87.250.251.119:https A\n",
      "Захвачен пакет: Ether / IP / TCP 87.250.251.119:https > 192.168.31.9:53902 A\n",
      "Захвачен пакет: Ether / IP / TCP 213.180.204.186:https > 192.168.31.9:53901 A\n",
      "Захвачен пакет: Ether / IP / TCP 192.168.31.9:53901 > 213.180.204.186:https A\n",
      "Захвачен пакет: Ether / IP / TCP 192.168.31.9:53848 > 146.75.119.42:https A\n",
      "Захвачен пакет: Ether / IP / TCP 146.75.119.42:https > 192.168.31.9:53848 A\n",
      "Захвачен пакет: Ether / IP / TCP 87.250.251.119:https > 192.168.31.9:53902 A\n",
      "Захвачен пакет: Ether / IP / TCP 192.168.31.9:53902 > 87.250.251.119:https A\n",
      "Захвачен пакет: Ether / IP / TCP 192.168.31.9:53867 > 35.186.224.24:https A\n",
      "Захвачен пакет: Ether / IP / TCP 35.186.224.24:https > 192.168.31.9:53867 A\n",
      "Захвачен пакет: Ether / IP / TCP 192.168.31.9:53862 > 35.186.224.24:https A\n",
      "Захвачен пакет: Ether / IP / TCP 35.186.224.24:https > 192.168.31.9:53862 A\n",
      "Захвачен пакет: Ether / IP / TCP 192.168.31.9:53847 > 35.186.224.24:https A\n",
      "Захвачен пакет: Ether / IP / TCP 35.186.224.24:https > 192.168.31.9:53847 A\n",
      "Захвачен пакет: Ether / IP / TCP 192.168.31.9:53901 > 213.180.204.186:https A\n",
      "Захвачен пакет: Ether / IP / TCP 213.180.204.186:https > 192.168.31.9:53901 A\n",
      "Захвачен пакет: Ether / IP / TCP 192.168.31.9:53848 > 146.75.119.42:https A\n",
      "Захвачен пакет: Ether / IP / TCP 146.75.119.42:https > 192.168.31.9:53848 A\n",
      "Захвачен пакет: Ether / IP / TCP 192.168.31.9:53902 > 87.250.251.119:https A\n",
      "Захвачен пакет: Ether / IP / TCP 87.250.251.119:https > 192.168.31.9:53902 A\n",
      "Захвачен пакет: Ether / IP / TCP 213.180.204.186:https > 192.168.31.9:53901 A\n",
      "Захвачен пакет: Ether / IP / TCP 192.168.31.9:53901 > 213.180.204.186:https A\n",
      "Захвачен пакет: Ether / IP / TCP 192.168.31.9:53867 > 35.186.224.24:https A\n",
      "Захвачен пакет: Ether / IP / TCP 35.186.224.24:https > 192.168.31.9:53867 A\n",
      "Захвачен пакет: Ether / IP / TCP 87.250.251.119:https > 192.168.31.9:53902 A\n",
      "Захвачен пакет: Ether / IP / TCP 192.168.31.9:53902 > 87.250.251.119:https A\n",
      "Захвачен пакет: Ether / IP / TCP 192.168.31.9:53862 > 35.186.224.24:https A\n",
      "Захвачен пакет: Ether / IP / TCP 35.186.224.24:https > 192.168.31.9:53862 A\n",
      "Захвачен пакет: Ether / IP / TCP 192.168.31.9:53847 > 35.186.224.24:https A\n",
      "Захвачен пакет: Ether / IP / TCP 35.186.224.24:https > 192.168.31.9:53847 A\n",
      "Захвачен пакет: Ether / IP / TCP 192.168.31.9:53902 > 87.250.251.119:https PA / Raw\n",
      "Захвачен пакет: Ether / IP / TCP 192.168.31.9:53902 > 87.250.251.119:https PA / Raw\n",
      "Захвачен пакет: Ether / IP / TCP 87.250.251.119:https > 192.168.31.9:53902 A\n",
      "Захвачен пакет: Ether / IP / TCP 87.250.251.119:https > 192.168.31.9:53902 A\n",
      "Захвачен пакет: Ether / IP / TCP 87.250.251.119:https > 192.168.31.9:53902 PA / Raw\n",
      "Захвачен пакет: Ether / IP / TCP 87.250.251.119:https > 192.168.31.9:53902 PA / Raw\n",
      "Захвачен пакет: Ether / IP / TCP 192.168.31.9:53902 > 87.250.251.119:https A\n",
      "Захвачен пакет: Ether / IP / TCP 192.168.31.9:53902 > 87.250.251.119:https PA / Raw\n",
      "Захвачен пакет: Ether / IP / TCP 192.168.31.9:53902 > 87.250.251.119:https PA / Raw\n",
      "Захвачен пакет: Ether / IP / TCP 87.250.251.119:https > 192.168.31.9:53902 A\n",
      "Захвачен пакет: Ether / IP / TCP 192.168.31.9:53902 > 87.250.251.119:https PA / Raw\n",
      "Захвачен пакет: Ether / IP / TCP 87.250.251.119:https > 192.168.31.9:53902 PA / Raw\n",
      "Захвачен пакет: Ether / IP / TCP 192.168.31.9:53902 > 87.250.251.119:https A\n",
      "Захвачен пакет: Ether / IP / TCP 192.168.31.9:53902 > 87.250.251.119:https PA / Raw\n",
      "Захвачен пакет: Ether / IP / TCP 192.168.31.9:53902 > 87.250.251.119:https PA / Raw\n",
      "Захвачен пакет: Ether / IP / TCP 87.250.251.119:https > 192.168.31.9:53902 PA / Raw\n",
      "Захвачен пакет: Ether / IP / TCP 192.168.31.9:53902 > 87.250.251.119:https A\n",
      "Захвачен пакет: Ether / IP / TCP 87.250.251.119:https > 192.168.31.9:53902 PA / Raw\n",
      "Захвачен пакет: Ether / IP / TCP 192.168.31.9:53902 > 87.250.251.119:https A\n",
      "Захвачен пакет: Ether / IP / TCP 192.168.31.9:53848 > 146.75.119.42:https A\n",
      "Захвачен пакет: Ether / IP / TCP 146.75.119.42:https > 192.168.31.9:53848 A\n",
      "Захвачен пакет: Ether / IP / TCP 192.168.31.9:53901 > 213.180.204.186:https A\n",
      "Захвачен пакет: Ether / IP / TCP 213.180.204.186:https > 192.168.31.9:53901 A\n",
      "Захвачен пакет: Ether / IP / TCP 192.168.31.9:53867 > 35.186.224.24:https A\n",
      "Захвачен пакет: Ether / IP / TCP 35.186.224.24:https > 192.168.31.9:53867 A\n",
      "Захвачен пакет: Ether / IP / TCP 213.180.204.186:https > 192.168.31.9:53901 A\n",
      "Захвачен пакет: Ether / IP / TCP 192.168.31.9:53901 > 213.180.204.186:https A\n",
      "Захвачен пакет: Ether / IP / TCP 192.168.31.9:53862 > 35.186.224.24:https A\n",
      "Захвачен пакет: Ether / IP / TCP 35.186.224.24:https > 192.168.31.9:53862 A\n",
      "Захвачен пакет: Ether / IP / TCP 192.168.31.9:53847 > 35.186.224.24:https A\n",
      "Захвачен пакет: Ether / IP / TCP 35.186.224.24:https > 192.168.31.9:53847 A\n",
      "Захвачен пакет: Ether / IP / TCP 192.168.31.9:53902 > 87.250.251.119:https A\n",
      "Захвачен пакет: Ether / IP / TCP 87.250.251.119:https > 192.168.31.9:53902 A\n",
      "Захвачен пакет: Ether / IP / TCP 192.168.31.9:53848 > 146.75.119.42:https A\n",
      "Захвачен пакет: Ether / IP / TCP 146.75.119.42:https > 192.168.31.9:53848 A\n",
      "Захвачен пакет: Ether / IP / TCP 87.250.251.119:https > 192.168.31.9:53902 A\n",
      "Захвачен пакет: Ether / IP / TCP 192.168.31.9:53902 > 87.250.251.119:https A\n",
      "Захвачен пакет: Ether / IP / TCP 192.168.31.9:53867 > 35.186.224.24:https A\n",
      "Захвачен пакет: Ether / IP / TCP 35.186.224.24:https > 192.168.31.9:53867 A\n",
      "Захвачен пакет: Ether / IP / TCP 192.168.31.9:53901 > 213.180.204.186:https A\n",
      "Захвачен пакет: Ether / IP / TCP 213.180.204.186:https > 192.168.31.9:53901 A\n",
      "Захвачен пакет: Ether / IP / TCP 192.168.31.9:53862 > 35.186.224.24:https A\n",
      "Захвачен пакет: Ether / IP / TCP 35.186.224.24:https > 192.168.31.9:53862 A\n",
      "Захвачен пакет: Ether / IP / TCP 192.168.31.9:53847 > 35.186.224.24:https A\n",
      "Захвачен пакет: Ether / IP / TCP 35.186.224.24:https > 192.168.31.9:53847 A\n",
      "Сохранение 187 пакетов в файл raw/music/20_darwin_300.pcap...\n",
      "Захват завершен. Файл сохранен: raw/music/20_darwin_300.pcap\n"
     ]
    }
   ],
   "execution_count": 192
  },
  {
   "metadata": {
    "ExecuteTime": {
     "end_time": "2025-06-09T16:58:58.243049Z",
     "start_time": "2025-06-09T16:58:58.239434Z"
    }
   },
   "cell_type": "code",
   "source": "",
   "id": "5c1ecd0dd62a9740",
   "outputs": [],
   "execution_count": null
  },
  {
   "metadata": {},
   "cell_type": "code",
   "outputs": [],
   "execution_count": null,
   "source": "",
   "id": "d5212cef12def8c9"
  }
 ],
 "metadata": {
  "kernelspec": {
   "display_name": "Python 3",
   "language": "python",
   "name": "python3"
  },
  "language_info": {
   "codemirror_mode": {
    "name": "ipython",
    "version": 2
   },
   "file_extension": ".py",
   "mimetype": "text/x-python",
   "name": "python",
   "nbconvert_exporter": "python",
   "pygments_lexer": "ipython2",
   "version": "2.7.6"
  }
 },
 "nbformat": 4,
 "nbformat_minor": 5
}
