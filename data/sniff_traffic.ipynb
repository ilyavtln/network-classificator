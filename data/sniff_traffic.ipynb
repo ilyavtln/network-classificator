{
 "cells": [
  {
   "cell_type": "code",
   "id": "initial_id",
   "metadata": {
    "collapsed": true,
    "ExecuteTime": {
     "end_time": "2025-06-11T08:05:20.960276Z",
     "start_time": "2025-06-11T08:05:20.956562Z"
    }
   },
   "source": [
    "import socket\n",
    "import sys\n",
    "import platform\n",
    "import os\n",
    "from scapy.all import sniff, wrpcap\n",
    "from config import constants"
   ],
   "outputs": [],
   "execution_count": 13
  },
  {
   "metadata": {
    "ExecuteTime": {
     "end_time": "2025-06-11T08:05:21.171586Z",
     "start_time": "2025-06-11T08:05:21.162469Z"
    }
   },
   "cell_type": "code",
   "source": [
    "CATEGORIES = constants.CATEGORIES\n",
    "print(CATEGORIES)"
   ],
   "id": "b0b3e9824c023ac8",
   "outputs": [
    {
     "name": "stdout",
     "output_type": "stream",
     "text": [
      "['cloud_service', 'e-mail', 'games', 'information', 'music', 'social_network', 'video_hosting']\n"
     ]
    }
   ],
   "execution_count": 14
  },
  {
   "metadata": {
    "ExecuteTime": {
     "end_time": "2025-06-11T08:05:21.295138Z",
     "start_time": "2025-06-11T08:05:21.288993Z"
    }
   },
   "cell_type": "code",
   "source": [
    "DOMAINS = {\n",
    "    'music': [\"spotify.com\", \"open.spotify.com\", \"music.yandex.ru\", \"mc.yandex.ru\", \"music.apple.com\", \"zaycev.net\"],\n",
    "    'social_network': [\"vk.com\", \"ok.ru\", \"web.telegram.org\", \"telegram.org\", \"t.me\"],\n",
    "    'video_hosting': [\"twitch.tv\", \"youtube.com\", \"rutube.ru\", \"vkvideo.ru\", \"kinopoisk.ru\", \"hd.kinopoisk.ru\", \"ivi.ru\", \"premier.one\"],\n",
    "    'cloud_service': [\"disk.yandex.ru\", \"cloud.mail.ru\", \"drive.google.com\", \"onedrive.live.com\"],\n",
    "    'e-mail': [\"mail.google.com\", \"mail.yandex.ru\", \"mail.ru\", \"outlook.live.com\", \"gmail.com\", \"vk.mail.ru\"],\n",
    "    'information': [\"wikipedia.org\", \"nstu.ru\", \"ngs.ru\", \"gismeteo.ru\", \"habr.com\", \"tass.ru\", \"hse.ru\"]\n",
    "}"
   ],
   "id": "7bb487b4289a15ac",
   "outputs": [],
   "execution_count": 15
  },
  {
   "metadata": {
    "ExecuteTime": {
     "end_time": "2025-06-11T08:05:21.445359Z",
     "start_time": "2025-06-11T08:05:21.441241Z"
    }
   },
   "cell_type": "code",
   "source": [
    "CURRENT_CATEGORY = 'video_hosting'\n",
    "DURATION = 600"
   ],
   "id": "319e274bb7374309",
   "outputs": [],
   "execution_count": 16
  },
  {
   "metadata": {
    "ExecuteTime": {
     "end_time": "2025-06-11T08:05:21.600851Z",
     "start_time": "2025-06-11T08:05:21.594166Z"
    }
   },
   "cell_type": "code",
   "source": "print(f\"Сбор трафика для {CURRENT_CATEGORY} с продолжительностью {DURATION}c.\")",
   "id": "eb49fa13f9a0e5e2",
   "outputs": [
    {
     "name": "stdout",
     "output_type": "stream",
     "text": [
      "Сбор трафика для video_hosting с продолжительностью 600c.\n"
     ]
    }
   ],
   "execution_count": 17
  },
  {
   "metadata": {
    "ExecuteTime": {
     "end_time": "2025-06-11T08:05:21.806172Z",
     "start_time": "2025-06-11T08:05:21.800247Z"
    }
   },
   "cell_type": "code",
   "source": [
    "system = platform.system().lower()\n",
    "\n",
    "if not system:\n",
    "    exit(1)\n",
    "\n",
    "print(f\"Текущая ОС {system}\")"
   ],
   "id": "b324bf64c47b54c2",
   "outputs": [
    {
     "name": "stdout",
     "output_type": "stream",
     "text": [
      "Текущая ОС windows\n"
     ]
    }
   ],
   "execution_count": 18
  },
  {
   "metadata": {
    "ExecuteTime": {
     "end_time": "2025-06-11T08:05:22.017916Z",
     "start_time": "2025-06-11T08:05:22.012317Z"
    }
   },
   "cell_type": "code",
   "source": [
    "if system == \"windows\":\n",
    "    INTERFACE = \"Беспроводная сеть\"\n",
    "else:\n",
    "    INTERFACE = \"en0\"\n",
    "\n",
    "print(INTERFACE)"
   ],
   "id": "94d56e227da2857d",
   "outputs": [
    {
     "name": "stdout",
     "output_type": "stream",
     "text": [
      "Беспроводная сеть\n"
     ]
    }
   ],
   "execution_count": 19
  },
  {
   "metadata": {
    "ExecuteTime": {
     "end_time": "2025-06-11T08:05:22.115735Z",
     "start_time": "2025-06-11T08:05:22.111241Z"
    }
   },
   "cell_type": "code",
   "source": [
    "def resolve_domains(domains):\n",
    "    \"\"\"Разрешает домены в список всех IP-адресов (IPv4 и IPv6).\"\"\"\n",
    "    ip_list = []\n",
    "    for domain in domains:\n",
    "        try:\n",
    "            # Запрашиваем все адреса\n",
    "            addr_info = socket.getaddrinfo(\n",
    "                domain,\n",
    "                None,\n",
    "                family=0,\n",
    "                type=socket.SOCK_STREAM,\n",
    "                flags=socket.AI_ALL | socket.AI_V4MAPPED\n",
    "            )\n",
    "            # Извлекаем уникальные IP-адреса\n",
    "            ip_set = set()\n",
    "            for info in addr_info:\n",
    "                ip = info[4][0]\n",
    "                ip_set.add(ip)\n",
    "            ip_list.extend(ip_set)\n",
    "\n",
    "            print(f\"Разрешен домен {domain} -> {list(ip_set)}\")\n",
    "        except socket.gaierror:\n",
    "            print(f\"Не удалось разрешить домен {domain}\")\n",
    "    return list(set(ip_list))  # Удаляем дубликаты"
   ],
   "id": "c62d24a15cced2d6",
   "outputs": [],
   "execution_count": 20
  },
  {
   "metadata": {
    "ExecuteTime": {
     "end_time": "2025-06-11T08:05:22.364030Z",
     "start_time": "2025-06-11T08:05:22.360083Z"
    }
   },
   "cell_type": "code",
   "source": [
    "def create_bpf_filter():\n",
    "    # Получение ip адресов по доменному имени\n",
    "    ip_list = resolve_domains(DOMAINS.get(CURRENT_CATEGORY))\n",
    "    if not ip_list:\n",
    "        return \"\"\n",
    "\n",
    "    ip_filter = \" or \".join(f\"host {ip}\" for ip in ip_list)\n",
    "\n",
    "    return f\"{ip_filter}\""
   ],
   "id": "11db4c27b630274e",
   "outputs": [],
   "execution_count": 21
  },
  {
   "metadata": {
    "ExecuteTime": {
     "end_time": "2025-06-11T08:05:22.643484Z",
     "start_time": "2025-06-11T08:05:22.637943Z"
    }
   },
   "cell_type": "code",
   "source": [
    "def start_capture(interface, output_file, duration=60):\n",
    "    \"\"\"Захват трафика и сохранение в PCAP-файл.\"\"\"\n",
    "    packets = []\n",
    "\n",
    "    # Создание BPF-фильтра\n",
    "    bpf_filter = create_bpf_filter()\n",
    "\n",
    "    print(bpf_filter)\n",
    "\n",
    "    if not bpf_filter:\n",
    "        print(\"Не удалось создать фильтр для захвата трафика.\")\n",
    "        sys.exit(1)\n",
    "\n",
    "    print(f\"BPF-фильтр: {bpf_filter}\")\n",
    "    print(f\"Начало захвата трафика на интерфейсе {interface}...\")\n",
    "\n",
    "    def packet_callback(packet):\n",
    "        packets.append(packet)\n",
    "        print(f\"Захвачен пакет: {packet.summary()}\")\n",
    "\n",
    "    try:\n",
    "        # Захват трафика\n",
    "        sniff(iface=interface, prn=packet_callback, timeout=duration, filter=bpf_filter)\n",
    "\n",
    "        # Сохранение пакетов в PCAP-файл\n",
    "        print(f\"Сохранение {len(packets)} пакетов в файл {output_file}...\")\n",
    "        wrpcap(output_file, packets)\n",
    "        print(f\"Захват завершен. Файл сохранен: {output_file}\")\n",
    "\n",
    "    except Exception as e:\n",
    "        print(f\"Ошибка при захвате трафика: {e}\")\n",
    "        sys.exit(1)"
   ],
   "id": "9330be69113b9457",
   "outputs": [],
   "execution_count": 22
  },
  {
   "metadata": {
    "ExecuteTime": {
     "end_time": "2025-06-11T08:05:23.075395Z",
     "start_time": "2025-06-11T08:05:23.068837Z"
    }
   },
   "cell_type": "code",
   "source": [
    "RAW_PATH = f'raw/{CURRENT_CATEGORY}'\n",
    "pcap_files = [f for f in os.listdir(RAW_PATH) if f.endswith('.pcap')]\n",
    "FILENAME = f\"{len(pcap_files) + 1}_{system}_{DURATION}.pcap\"\n",
    "OUTPUT_FILE = f\"{RAW_PATH}/{FILENAME}\""
   ],
   "id": "7eb12967300ec285",
   "outputs": [],
   "execution_count": 23
  },
  {
   "metadata": {
    "ExecuteTime": {
     "end_time": "2025-06-11T08:15:23.582626Z",
     "start_time": "2025-06-11T08:05:23.437289Z"
    }
   },
   "cell_type": "code",
   "source": "start_capture(INTERFACE, OUTPUT_FILE, DURATION)",
   "id": "245e1d1f09390a72",
   "outputs": [
    {
     "name": "stdout",
     "output_type": "stream",
     "text": [
      "Разрешен домен twitch.tv -> ['151.101.66.167', '151.101.130.167', '151.101.2.167', '151.101.194.167']\n",
      "Разрешен домен youtube.com -> ['142.250.150.190', '142.250.150.136', '2a00:1450:4026:804::200e', '142.250.150.93', '142.250.150.91']\n",
      "Разрешен домен rutube.ru -> ['178.248.233.148']\n",
      "Разрешен домен vkvideo.ru -> ['93.186.225.194', '87.240.129.133', '87.240.132.78', '87.240.132.72', '87.240.137.164', '87.240.132.67']\n",
      "Разрешен домен kinopoisk.ru -> ['213.180.199.9', '2a02:6b8::473']\n",
      "Разрешен домен hd.kinopoisk.ru -> ['213.180.199.9', '2a02:6b8::473']\n",
      "Разрешен домен ivi.ru -> ['80.67.43.33', '80.67.43.65', '80.67.43.1']\n",
      "Разрешен домен premier.one -> ['194.190.77.89']\n",
      "host 151.101.2.167 or host 151.101.194.167 or host 87.240.129.133 or host 142.250.150.91 or host 151.101.66.167 or host 93.186.225.194 or host 80.67.43.1 or host 2a02:6b8::473 or host 87.240.132.72 or host 142.250.150.93 or host 151.101.130.167 or host 178.248.233.148 or host 142.250.150.190 or host 213.180.199.9 or host 194.190.77.89 or host 87.240.132.78 or host 80.67.43.33 or host 142.250.150.136 or host 80.67.43.65 or host 2a00:1450:4026:804::200e or host 87.240.137.164 or host 87.240.132.67\n",
      "BPF-фильтр: host 151.101.2.167 or host 151.101.194.167 or host 87.240.129.133 or host 142.250.150.91 or host 151.101.66.167 or host 93.186.225.194 or host 80.67.43.1 or host 2a02:6b8::473 or host 87.240.132.72 or host 142.250.150.93 or host 151.101.130.167 or host 178.248.233.148 or host 142.250.150.190 or host 213.180.199.9 or host 194.190.77.89 or host 87.240.132.78 or host 80.67.43.33 or host 142.250.150.136 or host 80.67.43.65 or host 2a00:1450:4026:804::200e or host 87.240.137.164 or host 87.240.132.67\n",
      "Начало захвата трафика на интерфейсе Беспроводная сеть...\n",
      "Захвачен пакет: Ether / IP / TCP 192.168.31.172:63118 > 178.248.233.148:https PA / Raw\n",
      "Захвачен пакет: Ether / IP / TCP 178.248.233.148:https > 192.168.31.172:63118 PA / Raw\n",
      "Захвачен пакет: Ether / IP / TCP 192.168.31.172:63118 > 178.248.233.148:https PA / Raw\n",
      "Захвачен пакет: Ether / IP / TCP 178.248.233.148:https > 192.168.31.172:63118 A\n",
      "Захвачен пакет: Ether / IP / TCP 192.168.31.172:63118 > 178.248.233.148:https PA / Raw\n",
      "Захвачен пакет: Ether / IP / TCP 192.168.31.172:63118 > 178.248.233.148:https PA / Raw\n",
      "Захвачен пакет: Ether / IP / TCP 192.168.31.172:63118 > 178.248.233.148:https PA / Raw\n",
      "Захвачен пакет: Ether / IP / TCP 178.248.233.148:https > 192.168.31.172:63118 A\n",
      "Захвачен пакет: Ether / IP / TCP 178.248.233.148:https > 192.168.31.172:63118 PA / Raw\n",
      "Захвачен пакет: Ether / IP / TCP 178.248.233.148:https > 192.168.31.172:63118 A\n",
      "Захвачен пакет: Ether / IP / TCP 192.168.31.172:63118 > 178.248.233.148:https A\n",
      "Захвачен пакет: Ether / IP / TCP 178.248.233.148:https > 192.168.31.172:63118 PA / Raw\n",
      "Захвачен пакет: Ether / IP / TCP 192.168.31.172:63118 > 178.248.233.148:https A\n",
      "Захвачен пакет: Ether / IP / TCP 178.248.233.148:https > 192.168.31.172:63118 A / Raw\n",
      "Захвачен пакет: Ether / IP / TCP 178.248.233.148:https > 192.168.31.172:63118 A / Raw\n",
      "Захвачен пакет: Ether / IP / TCP 192.168.31.172:63118 > 178.248.233.148:https A\n",
      "Захвачен пакет: Ether / IP / TCP 178.248.233.148:https > 192.168.31.172:63118 A / Raw\n",
      "Захвачен пакет: Ether / IP / TCP 178.248.233.148:https > 192.168.31.172:63118 PA / Raw\n",
      "Захвачен пакет: Ether / IP / TCP 192.168.31.172:63118 > 178.248.233.148:https A\n",
      "Захвачен пакет: Ether / IP / TCP 192.168.31.172:63118 > 178.248.233.148:https PA / Raw\n",
      "Захвачен пакет: Ether / IP / TCP 192.168.31.172:63118 > 178.248.233.148:https PA / Raw\n",
      "Захвачен пакет: Ether / IP / TCP 192.168.31.172:63118 > 178.248.233.148:https PA / Raw\n",
      "Захвачен пакет: Ether / IP / TCP 178.248.233.148:https > 192.168.31.172:63118 A\n",
      "Захвачен пакет: Ether / IP / TCP 178.248.233.148:https > 192.168.31.172:63118 A\n",
      "Захвачен пакет: Ether / IP / TCP 178.248.233.148:https > 192.168.31.172:63118 PA / Raw\n",
      "Захвачен пакет: Ether / IP / TCP 178.248.233.148:https > 192.168.31.172:63118 PA / Raw\n",
      "Захвачен пакет: Ether / IP / TCP 192.168.31.172:63118 > 178.248.233.148:https A\n",
      "Захвачен пакет: Ether / IP / TCP 192.168.31.172:63118 > 178.248.233.148:https PA / Raw\n",
      "Захвачен пакет: Ether / IP / TCP 192.168.31.172:63118 > 178.248.233.148:https PA / Raw\n",
      "Захвачен пакет: Ether / IP / TCP 178.248.233.148:https > 192.168.31.172:63118 A\n",
      "Захвачен пакет: Ether / IP / TCP 178.248.233.148:https > 192.168.31.172:63118 PA / Raw\n",
      "Захвачен пакет: Ether / IP / TCP 192.168.31.172:63118 > 178.248.233.148:https A\n",
      "Захвачен пакет: Ether / IP / TCP 178.248.233.148:https > 192.168.31.172:63118 A / Raw\n",
      "Захвачен пакет: Ether / IP / TCP 178.248.233.148:https > 192.168.31.172:63118 A / Raw\n",
      "Захвачен пакет: Ether / IP / TCP 178.248.233.148:https > 192.168.31.172:63118 A / Raw\n",
      "Захвачен пакет: Ether / IP / TCP 178.248.233.148:https > 192.168.31.172:63118 A / Raw\n",
      "Захвачен пакет: Ether / IP / TCP 192.168.31.172:63118 > 178.248.233.148:https A\n",
      "Захвачен пакет: Ether / IP / TCP 178.248.233.148:https > 192.168.31.172:63118 A / Raw\n",
      "Захвачен пакет: Ether / IP / TCP 178.248.233.148:https > 192.168.31.172:63118 PA / Raw\n",
      "Захвачен пакет: Ether / IP / TCP 192.168.31.172:63118 > 178.248.233.148:https A\n",
      "Захвачен пакет: Ether / IP / TCP 192.168.31.172:63118 > 178.248.233.148:https PA / Raw\n",
      "Захвачен пакет: Ether / IP / TCP 192.168.31.172:63118 > 178.248.233.148:https PA / Raw\n",
      "Захвачен пакет: Ether / IP / TCP 178.248.233.148:https > 192.168.31.172:63118 A\n",
      "Захвачен пакет: Ether / IP / TCP 178.248.233.148:https > 192.168.31.172:63118 PA / Raw\n",
      "Захвачен пакет: Ether / IP / TCP 178.248.233.148:https > 192.168.31.172:63118 A / Raw\n",
      "Захвачен пакет: Ether / IP / TCP 178.248.233.148:https > 192.168.31.172:63118 A / Raw\n",
      "Захвачен пакет: Ether / IP / TCP 178.248.233.148:https > 192.168.31.172:63118 A / Raw\n",
      "Захвачен пакет: Ether / IP / TCP 178.248.233.148:https > 192.168.31.172:63118 A / Raw\n",
      "Захвачен пакет: Ether / IP / TCP 178.248.233.148:https > 192.168.31.172:63118 A / Raw\n",
      "Захвачен пакет: Ether / IP / TCP 178.248.233.148:https > 192.168.31.172:63118 A / Raw\n",
      "Захвачен пакет: Ether / IP / TCP 178.248.233.148:https > 192.168.31.172:63118 A / Raw\n",
      "Захвачен пакет: Ether / IP / TCP 178.248.233.148:https > 192.168.31.172:63118 A / Raw\n",
      "Захвачен пакет: Ether / IP / TCP 192.168.31.172:63118 > 178.248.233.148:https A\n",
      "Захвачен пакет: Ether / IP / TCP 178.248.233.148:https > 192.168.31.172:63118 A / Raw\n",
      "Захвачен пакет: Ether / IP / TCP 178.248.233.148:https > 192.168.31.172:63118 A / Raw\n",
      "Захвачен пакет: Ether / IP / TCP 178.248.233.148:https > 192.168.31.172:63118 A / Raw\n",
      "Захвачен пакет: Ether / IP / TCP 178.248.233.148:https > 192.168.31.172:63118 PA / Raw\n",
      "Захвачен пакет: Ether / IP / TCP 192.168.31.172:63118 > 178.248.233.148:https A\n",
      "Захвачен пакет: Ether / IP / TCP 178.248.233.148:https > 192.168.31.172:63118 A / Raw\n",
      "Захвачен пакет: Ether / IP / TCP 178.248.233.148:https > 192.168.31.172:63118 A / Raw\n",
      "Захвачен пакет: Ether / IP / TCP 192.168.31.172:63118 > 178.248.233.148:https A\n",
      "Захвачен пакет: Ether / IP / TCP 178.248.233.148:https > 192.168.31.172:63118 A / Raw\n",
      "Захвачен пакет: Ether / IP / TCP 178.248.233.148:https > 192.168.31.172:63118 A / Raw\n",
      "Захвачен пакет: Ether / IP / TCP 178.248.233.148:https > 192.168.31.172:63118 A / Raw\n",
      "Захвачен пакет: Ether / IP / TCP 178.248.233.148:https > 192.168.31.172:63118 A / Raw\n",
      "Захвачен пакет: Ether / IP / TCP 192.168.31.172:63118 > 178.248.233.148:https A\n",
      "Захвачен пакет: Ether / IP / TCP 178.248.233.148:https > 192.168.31.172:63118 A / Raw\n",
      "Захвачен пакет: Ether / IP / TCP 178.248.233.148:https > 192.168.31.172:63118 PA / Raw\n",
      "Захвачен пакет: Ether / IP / TCP 192.168.31.172:63118 > 178.248.233.148:https A\n",
      "Захвачен пакет: Ether / IP / TCP 192.168.31.172:61068 > 213.180.199.9:https A / Raw\n",
      "Захвачен пакет: Ether / IP / TCP 213.180.199.9:https > 192.168.31.172:61068 A\n",
      "Захвачен пакет: Ether / IP / TCP 178.248.233.148:https > 192.168.31.172:63118 PA / Raw\n",
      "Захвачен пакет: Ether / IP / TCP 178.248.233.148:https > 192.168.31.172:63118 PA / Raw\n",
      "Захвачен пакет: Ether / IP / TCP 178.248.233.148:https > 192.168.31.172:63118 FA\n",
      "Захвачен пакет: Ether / IP / TCP 192.168.31.172:63118 > 178.248.233.148:https A\n",
      "Захвачен пакет: Ether / IP / TCP 192.168.31.172:63118 > 178.248.233.148:https FA\n",
      "Захвачен пакет: Ether / IP / TCP 178.248.233.148:https > 192.168.31.172:63118 A\n",
      "Захвачен пакет: Ether / IP / TCP 192.168.31.172:61068 > 213.180.199.9:https A / Raw\n",
      "Захвачен пакет: Ether / IP / TCP 213.180.199.9:https > 192.168.31.172:61068 A\n",
      "Захвачен пакет: Ether / IP / TCP 192.168.31.172:61068 > 213.180.199.9:https A / Raw\n",
      "Захвачен пакет: Ether / IP / TCP 213.180.199.9:https > 192.168.31.172:61068 A\n",
      "Захвачен пакет: Ether / IP / TCP 192.168.31.172:61068 > 213.180.199.9:https A / Raw\n",
      "Захвачен пакет: Ether / IP / TCP 213.180.199.9:https > 192.168.31.172:61068 A\n",
      "Захвачен пакет: Ether / IP / TCP 192.168.31.172:61068 > 213.180.199.9:https A / Raw\n",
      "Захвачен пакет: Ether / IP / TCP 213.180.199.9:https > 192.168.31.172:61068 A\n",
      "Захвачен пакет: Ether / IP / TCP 192.168.31.172:61068 > 213.180.199.9:https A / Raw\n",
      "Захвачен пакет: Ether / IP / TCP 213.180.199.9:https > 192.168.31.172:61068 A\n",
      "Захвачен пакет: Ether / IP / TCP 192.168.31.172:63281 > 178.248.233.148:https S\n",
      "Захвачен пакет: Ether / IP / TCP 178.248.233.148:https > 192.168.31.172:63281 SA\n",
      "Захвачен пакет: Ether / IP / TCP 192.168.31.172:63281 > 178.248.233.148:https A\n",
      "Захвачен пакет: Ether / IP / TCP 192.168.31.172:63281 > 178.248.233.148:https PA / Raw\n",
      "Захвачен пакет: Ether / IP / TCP 178.248.233.148:https > 192.168.31.172:63281 A\n",
      "Захвачен пакет: Ether / IP / TCP 178.248.233.148:https > 192.168.31.172:63281 PA / Raw\n",
      "Захвачен пакет: Ether / IP / TCP 192.168.31.172:63281 > 178.248.233.148:https PA / Raw\n",
      "Захвачен пакет: Ether / IP / TCP 192.168.31.172:63281 > 178.248.233.148:https PA / Raw\n",
      "Захвачен пакет: Ether / IP / TCP 192.168.31.172:63281 > 178.248.233.148:https PA / Raw\n",
      "Захвачен пакет: Ether / IP / TCP 178.248.233.148:https > 192.168.31.172:63281 PA / Raw\n",
      "Захвачен пакет: Ether / IP / TCP 178.248.233.148:https > 192.168.31.172:63281 PA / Raw\n",
      "Захвачен пакет: Ether / IP / TCP 178.248.233.148:https > 192.168.31.172:63281 PA / Raw\n",
      "Захвачен пакет: Ether / IP / TCP 192.168.31.172:63281 > 178.248.233.148:https A\n",
      "Захвачен пакет: Ether / IP / TCP 192.168.31.172:63281 > 178.248.233.148:https PA / Raw\n",
      "Захвачен пакет: Ether / IP / TCP 178.248.233.148:https > 192.168.31.172:63281 A\n",
      "Захвачен пакет: Ether / IP / TCP 178.248.233.148:https > 192.168.31.172:63281 PA / Raw\n",
      "Захвачен пакет: Ether / IP / TCP 192.168.31.172:63281 > 178.248.233.148:https A\n",
      "Захвачен пакет: Ether / IP / TCP 178.248.233.148:https > 192.168.31.172:63281 A\n",
      "Захвачен пакет: Ether / IP / TCP 192.168.31.172:63281 > 178.248.233.148:https PA / Raw\n",
      "Захвачен пакет: Ether / IP / TCP 178.248.233.148:https > 192.168.31.172:63281 A\n",
      "Захвачен пакет: Ether / IP / TCP 178.248.233.148:https > 192.168.31.172:63281 PA / Raw\n",
      "Захвачен пакет: Ether / IP / TCP 192.168.31.172:63281 > 178.248.233.148:https A\n",
      "Захвачен пакет: Ether / IP / TCP 192.168.31.172:63281 > 178.248.233.148:https PA / Raw\n",
      "Захвачен пакет: Ether / IP / TCP 178.248.233.148:https > 192.168.31.172:63281 PA / Raw\n",
      "Захвачен пакет: Ether / IP / TCP 192.168.31.172:63281 > 178.248.233.148:https PA / Raw\n",
      "Захвачен пакет: Ether / IP / TCP 178.248.233.148:https > 192.168.31.172:63281 PA / Raw\n",
      "Захвачен пакет: Ether / IP / TCP 192.168.31.172:63281 > 178.248.233.148:https PA / Raw\n",
      "Захвачен пакет: Ether / IP / TCP 178.248.233.148:https > 192.168.31.172:63281 PA / Raw\n",
      "Захвачен пакет: Ether / IP / TCP 192.168.31.172:63281 > 178.248.233.148:https A\n",
      "Захвачен пакет: Ether / IP / TCP 192.168.31.172:63281 > 178.248.233.148:https PA / Raw\n",
      "Захвачен пакет: Ether / IP / TCP 178.248.233.148:https > 192.168.31.172:63281 PA / Raw\n",
      "Захвачен пакет: Ether / IP / TCP 192.168.31.172:63281 > 178.248.233.148:https A\n",
      "Захвачен пакет: Ether / IP / TCP 192.168.31.172:63281 > 178.248.233.148:https PA / Raw\n",
      "Захвачен пакет: Ether / IP / TCP 178.248.233.148:https > 192.168.31.172:63281 PA / Raw\n",
      "Захвачен пакет: Ether / IP / TCP 192.168.31.172:63281 > 178.248.233.148:https A\n",
      "Захвачен пакет: Ether / IP / TCP 192.168.31.172:63281 > 178.248.233.148:https PA / Raw\n",
      "Захвачен пакет: Ether / IP / TCP 192.168.31.172:63281 > 178.248.233.148:https PA / Raw\n",
      "Захвачен пакет: Ether / IP / TCP 178.248.233.148:https > 192.168.31.172:63281 A\n",
      "Захвачен пакет: Ether / IP / TCP 192.168.31.172:63281 > 178.248.233.148:https PA / Raw\n",
      "Захвачен пакет: Ether / IP / TCP 192.168.31.172:63281 > 178.248.233.148:https PA / Raw\n",
      "Захвачен пакет: Ether / IP / TCP 178.248.233.148:https > 192.168.31.172:63281 PA / Raw\n",
      "Захвачен пакет: Ether / IP / TCP 178.248.233.148:https > 192.168.31.172:63281 A\n",
      "Захвачен пакет: Ether / IP / TCP 192.168.31.172:63281 > 178.248.233.148:https A\n",
      "Захвачен пакет: Ether / IP / TCP 178.248.233.148:https > 192.168.31.172:63281 PA / Raw\n",
      "Захвачен пакет: Ether / IP / TCP 178.248.233.148:https > 192.168.31.172:63281 A / Raw\n",
      "Захвачен пакет: Ether / IP / TCP 178.248.233.148:https > 192.168.31.172:63281 A / Raw\n",
      "Захвачен пакет: Ether / IP / TCP 192.168.31.172:63281 > 178.248.233.148:https A\n",
      "Захвачен пакет: Ether / IP / TCP 178.248.233.148:https > 192.168.31.172:63281 A / Raw\n",
      "Захвачен пакет: Ether / IP / TCP 178.248.233.148:https > 192.168.31.172:63281 PA / Raw\n",
      "Захвачен пакет: Ether / IP / TCP 192.168.31.172:63281 > 178.248.233.148:https A\n",
      "Захвачен пакет: Ether / IP / TCP 192.168.31.172:63281 > 178.248.233.148:https PA / Raw\n",
      "Захвачен пакет: Ether / IP / TCP 192.168.31.172:63281 > 178.248.233.148:https PA / Raw\n",
      "Захвачен пакет: Ether / IP / TCP 192.168.31.172:63281 > 178.248.233.148:https PA / Raw\n",
      "Захвачен пакет: Ether / IP / TCP 192.168.31.172:63281 > 178.248.233.148:https PA / Raw\n",
      "Захвачен пакет: Ether / IP / TCP 178.248.233.148:https > 192.168.31.172:63281 A / Raw\n",
      "Захвачен пакет: Ether / IP / TCP 178.248.233.148:https > 192.168.31.172:63281 A / Raw\n",
      "Захвачен пакет: Ether / IP / TCP 192.168.31.172:63281 > 178.248.233.148:https A\n",
      "Захвачен пакет: Ether / IP / TCP 178.248.233.148:https > 192.168.31.172:63281 A / Raw\n",
      "Захвачен пакет: Ether / IP / TCP 178.248.233.148:https > 192.168.31.172:63281 A / Raw\n",
      "Захвачен пакет: Ether / IP / TCP 192.168.31.172:63281 > 178.248.233.148:https A\n",
      "Захвачен пакет: Ether / IP / TCP 178.248.233.148:https > 192.168.31.172:63281 A / Raw\n",
      "Захвачен пакет: Ether / IP / TCP 178.248.233.148:https > 192.168.31.172:63281 A / Raw\n",
      "Захвачен пакет: Ether / IP / TCP 192.168.31.172:63281 > 178.248.233.148:https A\n",
      "Захвачен пакет: Ether / IP / TCP 178.248.233.148:https > 192.168.31.172:63281 PA / Raw\n",
      "Захвачен пакет: Ether / IP / TCP 178.248.233.148:https > 192.168.31.172:63281 A\n",
      "Захвачен пакет: Ether / IP / TCP 178.248.233.148:https > 192.168.31.172:63281 A\n",
      "Захвачен пакет: Ether / IP / TCP 178.248.233.148:https > 192.168.31.172:63281 PA / Raw\n",
      "Захвачен пакет: Ether / IP / TCP 192.168.31.172:63281 > 178.248.233.148:https A\n",
      "Захвачен пакет: Ether / IP / TCP 192.168.31.172:63281 > 178.248.233.148:https PA / Raw\n",
      "Захвачен пакет: Ether / IP / TCP 178.248.233.148:https > 192.168.31.172:63281 A / Raw\n",
      "Захвачен пакет: Ether / IP / TCP 178.248.233.148:https > 192.168.31.172:63281 PA / Raw\n",
      "Захвачен пакет: Ether / IP / TCP 192.168.31.172:63281 > 178.248.233.148:https A\n",
      "Захвачен пакет: Ether / IP / TCP 178.248.233.148:https > 192.168.31.172:63281 PA / Raw\n",
      "Захвачен пакет: Ether / IP / TCP 178.248.233.148:https > 192.168.31.172:63281 A / Raw\n",
      "Захвачен пакет: Ether / IP / TCP 178.248.233.148:https > 192.168.31.172:63281 A / Raw\n",
      "Захвачен пакет: Ether / IP / TCP 192.168.31.172:63281 > 178.248.233.148:https A\n",
      "Захвачен пакет: Ether / IP / TCP 178.248.233.148:https > 192.168.31.172:63281 A / Raw\n",
      "Захвачен пакет: Ether / IP / TCP 178.248.233.148:https > 192.168.31.172:63281 A / Raw\n",
      "Захвачен пакет: Ether / IP / TCP 192.168.31.172:63281 > 178.248.233.148:https A\n",
      "Захвачен пакет: Ether / IP / TCP 178.248.233.148:https > 192.168.31.172:63281 A / Raw\n",
      "Захвачен пакет: Ether / IP / TCP 178.248.233.148:https > 192.168.31.172:63281 A / Raw\n",
      "Захвачен пакет: Ether / IP / TCP 192.168.31.172:63281 > 178.248.233.148:https A\n",
      "Захвачен пакет: Ether / IP / TCP 178.248.233.148:https > 192.168.31.172:63281 A / Raw\n",
      "Захвачен пакет: Ether / IP / TCP 178.248.233.148:https > 192.168.31.172:63281 PA / Raw\n",
      "Захвачен пакет: Ether / IP / TCP 192.168.31.172:63281 > 178.248.233.148:https A\n",
      "Захвачен пакет: Ether / IP / TCP 178.248.233.148:https > 192.168.31.172:63281 A / Raw\n",
      "Захвачен пакет: Ether / IP / TCP 178.248.233.148:https > 192.168.31.172:63281 A / Raw\n",
      "Захвачен пакет: Ether / IP / TCP 192.168.31.172:63281 > 178.248.233.148:https A\n",
      "Захвачен пакет: Ether / IP / TCP 178.248.233.148:https > 192.168.31.172:63281 A / Raw\n",
      "Захвачен пакет: Ether / IP / TCP 178.248.233.148:https > 192.168.31.172:63281 A / Raw\n",
      "Захвачен пакет: Ether / IP / TCP 192.168.31.172:63281 > 178.248.233.148:https A\n",
      "Захвачен пакет: Ether / IP / TCP 178.248.233.148:https > 192.168.31.172:63281 A / Raw\n",
      "Захвачен пакет: Ether / IP / TCP 178.248.233.148:https > 192.168.31.172:63281 A / Raw\n",
      "Захвачен пакет: Ether / IP / TCP 192.168.31.172:63281 > 178.248.233.148:https A\n",
      "Захвачен пакет: Ether / IP / TCP 178.248.233.148:https > 192.168.31.172:63281 A / Raw\n",
      "Захвачен пакет: Ether / IP / TCP 178.248.233.148:https > 192.168.31.172:63281 PA / Raw\n",
      "Захвачен пакет: Ether / IP / TCP 192.168.31.172:63281 > 178.248.233.148:https A\n",
      "Захвачен пакет: Ether / IP / TCP 178.248.233.148:https > 192.168.31.172:63281 PA / Raw\n",
      "Захвачен пакет: Ether / IP / TCP 178.248.233.148:https > 192.168.31.172:63281 PA / Raw\n",
      "Захвачен пакет: Ether / IP / TCP 178.248.233.148:https > 192.168.31.172:63281 PA / Raw\n",
      "Захвачен пакет: Ether / IP / TCP 178.248.233.148:https > 192.168.31.172:63281 FA\n",
      "Захвачен пакет: Ether / IP / TCP 192.168.31.172:63281 > 178.248.233.148:https A\n",
      "Захвачен пакет: Ether / IP / TCP 192.168.31.172:63281 > 178.248.233.148:https A\n",
      "Захвачен пакет: Ether / IP / TCP 192.168.31.172:63281 > 178.248.233.148:https FA\n",
      "Захвачен пакет: Ether / IP / TCP 178.248.233.148:https > 192.168.31.172:63281 A\n",
      "Захвачен пакет: Ether / IP / TCP 192.168.31.172:61068 > 213.180.199.9:https A / Raw\n",
      "Захвачен пакет: Ether / IP / TCP 213.180.199.9:https > 192.168.31.172:61068 A\n",
      "Захвачен пакет: Ether / IP / TCP 192.168.31.172:61068 > 213.180.199.9:https A / Raw\n",
      "Захвачен пакет: Ether / IP / TCP 213.180.199.9:https > 192.168.31.172:61068 A\n",
      "Захвачен пакет: Ether / IP / TCP 192.168.31.172:61068 > 213.180.199.9:https A / Raw\n",
      "Захвачен пакет: Ether / IP / TCP 213.180.199.9:https > 192.168.31.172:61068 A\n",
      "Захвачен пакет: Ether / IP / TCP 192.168.31.172:61068 > 213.180.199.9:https A / Raw\n",
      "Захвачен пакет: Ether / IP / TCP 213.180.199.9:https > 192.168.31.172:61068 A\n",
      "Захвачен пакет: Ether / IP / TCP 192.168.31.172:61068 > 213.180.199.9:https A / Raw\n",
      "Захвачен пакет: Ether / IP / TCP 213.180.199.9:https > 192.168.31.172:61068 A\n",
      "Захвачен пакет: Ether / IP / TCP 192.168.31.172:61068 > 213.180.199.9:https A / Raw\n",
      "Захвачен пакет: Ether / IP / TCP 213.180.199.9:https > 192.168.31.172:61068 A\n",
      "Захвачен пакет: Ether / IP / TCP 192.168.31.172:61068 > 213.180.199.9:https A / Raw\n",
      "Захвачен пакет: Ether / IP / TCP 213.180.199.9:https > 192.168.31.172:61068 A\n",
      "Сохранение 206 пакетов в файл raw/video_hosting/27_windows_600.pcap...\n",
      "Захват завершен. Файл сохранен: raw/video_hosting/27_windows_600.pcap\n"
     ]
    }
   ],
   "execution_count": 24
  },
  {
   "metadata": {
    "ExecuteTime": {
     "end_time": "2025-06-09T16:58:58.243049Z",
     "start_time": "2025-06-09T16:58:58.239434Z"
    }
   },
   "cell_type": "code",
   "source": "",
   "id": "5c1ecd0dd62a9740",
   "outputs": [],
   "execution_count": null
  },
  {
   "metadata": {},
   "cell_type": "code",
   "outputs": [],
   "execution_count": null,
   "source": "",
   "id": "d5212cef12def8c9"
  }
 ],
 "metadata": {
  "kernelspec": {
   "display_name": "Python 3",
   "language": "python",
   "name": "python3"
  },
  "language_info": {
   "codemirror_mode": {
    "name": "ipython",
    "version": 2
   },
   "file_extension": ".py",
   "mimetype": "text/x-python",
   "name": "python",
   "nbconvert_exporter": "python",
   "pygments_lexer": "ipython2",
   "version": "2.7.6"
  }
 },
 "nbformat": 4,
 "nbformat_minor": 5
}
