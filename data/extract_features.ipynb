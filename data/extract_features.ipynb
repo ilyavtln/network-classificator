{
 "cells": [
  {
   "metadata": {
    "ExecuteTime": {
     "end_time": "2025-05-25T22:07:23.197406Z",
     "start_time": "2025-05-25T22:07:22.940152Z"
    }
   },
   "cell_type": "code",
   "source": [
    "import os\n",
    "import glob\n",
    "import pandas as pd"
   ],
   "id": "dc3060847dd9fa5",
   "outputs": [],
   "execution_count": 1
  },
  {
   "metadata": {
    "ExecuteTime": {
     "end_time": "2025-05-25T22:07:23.748747Z",
     "start_time": "2025-05-25T22:07:23.303065Z"
    }
   },
   "cell_type": "code",
   "source": "from features.extractor import extract_features_from_pcap",
   "id": "9cdc8b2ac3f0ba79",
   "outputs": [],
   "execution_count": 2
  },
  {
   "metadata": {
    "ExecuteTime": {
     "end_time": "2025-05-25T22:07:23.762343Z",
     "start_time": "2025-05-25T22:07:23.758214Z"
    }
   },
   "cell_type": "code",
   "source": "BASE_PATH = 'raw'",
   "id": "b7a68d70897eac8b",
   "outputs": [],
   "execution_count": 3
  },
  {
   "metadata": {
    "ExecuteTime": {
     "end_time": "2025-05-25T22:07:23.791931Z",
     "start_time": "2025-05-25T22:07:23.788142Z"
    }
   },
   "cell_type": "code",
   "source": [
    "CATEGORIES = [\n",
    "    'games',\n",
    "    'music',\n",
    "    'social_network',\n",
    "    'video_hosting',\n",
    "    'cloud_service',\n",
    "    'e-mail',\n",
    "    'other'\n",
    "]"
   ],
   "id": "caf07e491a632495",
   "outputs": [],
   "execution_count": 4
  },
  {
   "metadata": {
    "ExecuteTime": {
     "end_time": "2025-05-25T22:07:23.809590Z",
     "start_time": "2025-05-25T22:07:23.804380Z"
    }
   },
   "cell_type": "code",
   "source": [
    "def process_category(category):\n",
    "    \"\"\"Обрабатывает все PCAP-файлы в категории.\"\"\"\n",
    "    category_path = os.path.join(BASE_PATH, category)\n",
    "    if not os.path.exists(category_path):\n",
    "        print(f\"Папка {category_path} не найдена.\")\n",
    "        return []\n",
    "\n",
    "    pcap_files = glob.glob(os.path.join(category_path, \"*.pcap\"))\n",
    "    if not pcap_files:\n",
    "        print(f\"PCAP-файлы в категории {category} не найдены.\")\n",
    "        return []\n",
    "\n",
    "    print(pcap_files)\n",
    "\n",
    "    features_list = []\n",
    "    for pcap_file in pcap_files:\n",
    "        print(f\"Обработка файла: {pcap_file}\")\n",
    "        features = extract_features_from_pcap(pcap_file, category)\n",
    "        if features:\n",
    "            features_list.append(features)\n",
    "\n",
    "    return features_list"
   ],
   "id": "6c6a7e032388ef61",
   "outputs": [],
   "execution_count": 5
  },
  {
   "metadata": {
    "ExecuteTime": {
     "end_time": "2025-05-25T22:07:40.885551Z",
     "start_time": "2025-05-25T22:07:23.819652Z"
    }
   },
   "cell_type": "code",
   "source": [
    "all_features = []\n",
    "\n",
    "# Обработка каждой категории\n",
    "for category in CATEGORIES:\n",
    "    print(f\"\\nОбработка категории: {category}\")\n",
    "    features = process_category(category)\n",
    "    all_features.extend(features)\n",
    "\n",
    "if not all_features:\n",
    "    print(\"Не удалось извлечь признаки. Проверьте PCAP-файлы.\")\n",
    "    exit(1)\n",
    "\n",
    "# Создание DataFrame\n",
    "df = pd.DataFrame(all_features)\n",
    "\n",
    "# Сохранение в CSV\n",
    "output_csv = \"processed/traffic_features.csv\"\n",
    "df.to_csv(output_csv, index=False)\n",
    "print(f\"Признаки сохранены в {output_csv}\")"
   ],
   "id": "36823cc77b5a0180",
   "outputs": [
    {
     "name": "stdout",
     "output_type": "stream",
     "text": [
      "\n",
      "Обработка категории: games\n",
      "['raw\\\\games\\\\1_cs2.pcap', 'raw\\\\games\\\\2_cs2.pcap', 'raw\\\\games\\\\3_FC25.pcap', 'raw\\\\games\\\\4_FC25.pcap', 'raw\\\\games\\\\6_FallGuys_client_game.pcap', 'raw\\\\games\\\\7_FallGuys_client_game.pcap']\n",
      "Обработка файла: raw\\games\\1_cs2.pcap\n",
      "Успешно обработан файл raw\\games\\1_cs2.pcap: 7791 пакетов\n",
      "Обработка файла: raw\\games\\2_cs2.pcap\n",
      "Успешно обработан файл raw\\games\\2_cs2.pcap: 11909 пакетов\n",
      "Обработка файла: raw\\games\\3_FC25.pcap\n",
      "Успешно обработан файл raw\\games\\3_FC25.pcap: 7076 пакетов\n",
      "Обработка файла: raw\\games\\4_FC25.pcap\n",
      "Успешно обработан файл raw\\games\\4_FC25.pcap: 4104 пакетов\n",
      "Обработка файла: raw\\games\\6_FallGuys_client_game.pcap\n",
      "Успешно обработан файл raw\\games\\6_FallGuys_client_game.pcap: 147 пакетов\n",
      "Обработка файла: raw\\games\\7_FallGuys_client_game.pcap\n",
      "Успешно обработан файл raw\\games\\7_FallGuys_client_game.pcap: 91 пакетов\n",
      "\n",
      "Обработка категории: music\n",
      "['raw\\\\music\\\\1_windows.pcap', 'raw\\\\music\\\\2_windows.pcap', 'raw\\\\music\\\\3_windows.pcap', 'raw\\\\music\\\\4_windows.pcap', 'raw\\\\music\\\\5_windows.pcap', 'raw\\\\music\\\\6_windows.pcap']\n",
      "Обработка файла: raw\\music\\1_windows.pcap\n",
      "Успешно обработан файл raw\\music\\1_windows.pcap: 12 пакетов\n",
      "Обработка файла: raw\\music\\2_windows.pcap\n",
      "Успешно обработан файл raw\\music\\2_windows.pcap: 2 пакетов\n",
      "Обработка файла: raw\\music\\3_windows.pcap\n",
      "Успешно обработан файл raw\\music\\3_windows.pcap: 20 пакетов\n",
      "Обработка файла: raw\\music\\4_windows.pcap\n",
      "Успешно обработан файл raw\\music\\4_windows.pcap: 797 пакетов\n",
      "Обработка файла: raw\\music\\5_windows.pcap\n",
      "Успешно обработан файл raw\\music\\5_windows.pcap: 307 пакетов\n",
      "Обработка файла: raw\\music\\6_windows.pcap\n",
      "Успешно обработан файл raw\\music\\6_windows.pcap: 281 пакетов\n",
      "\n",
      "Обработка категории: social_network\n",
      "['raw\\\\social_network\\\\1_windows.pcap', 'raw\\\\social_network\\\\2_windows.pcap', 'raw\\\\social_network\\\\3_windows.pcap', 'raw\\\\social_network\\\\4_windows.pcap', 'raw\\\\social_network\\\\5_windows.pcap', 'raw\\\\social_network\\\\6_windows.pcap']\n",
      "Обработка файла: raw\\social_network\\1_windows.pcap\n",
      "Успешно обработан файл raw\\social_network\\1_windows.pcap: 736 пакетов\n",
      "Обработка файла: raw\\social_network\\2_windows.pcap\n",
      "Успешно обработан файл raw\\social_network\\2_windows.pcap: 1193 пакетов\n",
      "Обработка файла: raw\\social_network\\3_windows.pcap\n",
      "Успешно обработан файл raw\\social_network\\3_windows.pcap: 1233 пакетов\n",
      "Обработка файла: raw\\social_network\\4_windows.pcap\n",
      "Успешно обработан файл raw\\social_network\\4_windows.pcap: 1069 пакетов\n",
      "Обработка файла: raw\\social_network\\5_windows.pcap\n",
      "Успешно обработан файл raw\\social_network\\5_windows.pcap: 668 пакетов\n",
      "Обработка файла: raw\\social_network\\6_windows.pcap\n",
      "Успешно обработан файл raw\\social_network\\6_windows.pcap: 6225 пакетов\n",
      "\n",
      "Обработка категории: video_hosting\n",
      "['raw\\\\video_hosting\\\\1_windows.pcap', 'raw\\\\video_hosting\\\\2_windows.pcap', 'raw\\\\video_hosting\\\\3_windows.pcap', 'raw\\\\video_hosting\\\\4_windows.pcap', 'raw\\\\video_hosting\\\\5_windows.pcap', 'raw\\\\video_hosting\\\\6_windows.pcap']\n",
      "Обработка файла: raw\\video_hosting\\1_windows.pcap\n",
      "Успешно обработан файл raw\\video_hosting\\1_windows.pcap: 1315 пакетов\n",
      "Обработка файла: raw\\video_hosting\\2_windows.pcap\n",
      "Успешно обработан файл raw\\video_hosting\\2_windows.pcap: 314 пакетов\n",
      "Обработка файла: raw\\video_hosting\\3_windows.pcap\n",
      "Успешно обработан файл raw\\video_hosting\\3_windows.pcap: 763 пакетов\n",
      "Обработка файла: raw\\video_hosting\\4_windows.pcap\n",
      "Успешно обработан файл raw\\video_hosting\\4_windows.pcap: 410 пакетов\n",
      "Обработка файла: raw\\video_hosting\\5_windows.pcap\n",
      "Успешно обработан файл raw\\video_hosting\\5_windows.pcap: 2657 пакетов\n",
      "Обработка файла: raw\\video_hosting\\6_windows.pcap\n",
      "Успешно обработан файл raw\\video_hosting\\6_windows.pcap: 700 пакетов\n",
      "\n",
      "Обработка категории: cloud_service\n",
      "['raw\\\\cloud_service\\\\1_windows.pcap', 'raw\\\\cloud_service\\\\2_windows.pcap', 'raw\\\\cloud_service\\\\3_windows.pcap', 'raw\\\\cloud_service\\\\4_windows.pcap', 'raw\\\\cloud_service\\\\5_windows.pcap', 'raw\\\\cloud_service\\\\6_windows.pcap']\n",
      "Обработка файла: raw\\cloud_service\\1_windows.pcap\n",
      "Успешно обработан файл raw\\cloud_service\\1_windows.pcap: 46 пакетов\n",
      "Обработка файла: raw\\cloud_service\\2_windows.pcap\n",
      "Успешно обработан файл raw\\cloud_service\\2_windows.pcap: 251 пакетов\n",
      "Обработка файла: raw\\cloud_service\\3_windows.pcap\n",
      "Успешно обработан файл raw\\cloud_service\\3_windows.pcap: 627 пакетов\n",
      "Обработка файла: raw\\cloud_service\\4_windows.pcap\n",
      "Успешно обработан файл raw\\cloud_service\\4_windows.pcap: 187 пакетов\n",
      "Обработка файла: raw\\cloud_service\\5_windows.pcap\n",
      "Успешно обработан файл raw\\cloud_service\\5_windows.pcap: 571 пакетов\n",
      "Обработка файла: raw\\cloud_service\\6_windows.pcap\n",
      "Успешно обработан файл raw\\cloud_service\\6_windows.pcap: 5498 пакетов\n",
      "\n",
      "Обработка категории: e-mail\n",
      "['raw\\\\e-mail\\\\1_windows.pcap', 'raw\\\\e-mail\\\\2_windows.pcap', 'raw\\\\e-mail\\\\3_windows.pcap', 'raw\\\\e-mail\\\\4_windows.pcap', 'raw\\\\e-mail\\\\5_windows.pcap', 'raw\\\\e-mail\\\\6_windows.pcap']\n",
      "Обработка файла: raw\\e-mail\\1_windows.pcap\n",
      "Успешно обработан файл raw\\e-mail\\1_windows.pcap: 192 пакетов\n",
      "Обработка файла: raw\\e-mail\\2_windows.pcap\n",
      "Успешно обработан файл raw\\e-mail\\2_windows.pcap: 28 пакетов\n",
      "Обработка файла: raw\\e-mail\\3_windows.pcap\n",
      "Успешно обработан файл raw\\e-mail\\3_windows.pcap: 54 пакетов\n",
      "Обработка файла: raw\\e-mail\\4_windows.pcap\n",
      "Успешно обработан файл raw\\e-mail\\4_windows.pcap: 642 пакетов\n",
      "Обработка файла: raw\\e-mail\\5_windows.pcap\n",
      "Успешно обработан файл raw\\e-mail\\5_windows.pcap: 1518 пакетов\n",
      "Обработка файла: raw\\e-mail\\6_windows.pcap\n",
      "Успешно обработан файл raw\\e-mail\\6_windows.pcap: 2155 пакетов\n",
      "\n",
      "Обработка категории: other\n",
      "['raw\\\\other\\\\1_windows.pcap', 'raw\\\\other\\\\2_windows.pcap', 'raw\\\\other\\\\3_windows.pcap', 'raw\\\\other\\\\4_windows.pcap', 'raw\\\\other\\\\5_windows.pcap', 'raw\\\\other\\\\6_windows.pcap']\n",
      "Обработка файла: raw\\other\\1_windows.pcap\n",
      "Успешно обработан файл raw\\other\\1_windows.pcap: 3028 пакетов\n",
      "Обработка файла: raw\\other\\2_windows.pcap\n",
      "Успешно обработан файл raw\\other\\2_windows.pcap: 424 пакетов\n",
      "Обработка файла: raw\\other\\3_windows.pcap\n",
      "Успешно обработан файл raw\\other\\3_windows.pcap: 5048 пакетов\n",
      "Обработка файла: raw\\other\\4_windows.pcap\n",
      "Успешно обработан файл raw\\other\\4_windows.pcap: 563 пакетов\n",
      "Обработка файла: raw\\other\\5_windows.pcap\n",
      "Успешно обработан файл raw\\other\\5_windows.pcap: 389 пакетов\n",
      "Обработка файла: raw\\other\\6_windows.pcap\n",
      "Успешно обработан файл raw\\other\\6_windows.pcap: 2259 пакетов\n",
      "Признаки сохранены в processed/traffic_features.csv\n"
     ]
    }
   ],
   "execution_count": 6
  },
  {
   "metadata": {
    "ExecuteTime": {
     "end_time": "2025-05-25T22:07:40.907932Z",
     "start_time": "2025-05-25T22:07:40.905302Z"
    }
   },
   "cell_type": "code",
   "source": "",
   "id": "150cffed22e768c4",
   "outputs": [],
   "execution_count": null
  },
  {
   "metadata": {},
   "cell_type": "code",
   "outputs": [],
   "execution_count": null,
   "source": "",
   "id": "98b03086c2824adc"
  }
 ],
 "metadata": {
  "kernelspec": {
   "display_name": "Python 3",
   "language": "python",
   "name": "python3"
  },
  "language_info": {
   "codemirror_mode": {
    "name": "ipython",
    "version": 2
   },
   "file_extension": ".py",
   "mimetype": "text/x-python",
   "name": "python",
   "nbconvert_exporter": "python",
   "pygments_lexer": "ipython2",
   "version": "2.7.6"
  }
 },
 "nbformat": 4,
 "nbformat_minor": 5
}
