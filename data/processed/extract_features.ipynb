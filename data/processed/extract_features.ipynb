{
 "cells": [
  {
   "cell_type": "code",
   "id": "initial_id",
   "metadata": {
    "collapsed": true,
    "ExecuteTime": {
     "end_time": "2025-05-25T16:07:01.954451Z",
     "start_time": "2025-05-25T16:07:01.949897Z"
    }
   },
   "source": [
    "import socket\n",
    "import sys\n",
    "import platform\n",
    "import os\n",
    "from scapy.all import sniff, wrpcap, rdpcap\n",
    "import datetime\n",
    "import glob\n",
    "import psutil\n",
    "import argparse"
   ],
   "outputs": [],
   "execution_count": 18
  },
  {
   "metadata": {
    "ExecuteTime": {
     "end_time": "2025-05-25T16:07:02.220132Z",
     "start_time": "2025-05-25T16:07:02.214650Z"
    }
   },
   "cell_type": "code",
   "source": [
    "system = platform.system().lower()\n",
    "print(system)"
   ],
   "id": "d7d9c4e1d720f7",
   "outputs": [
    {
     "name": "stdout",
     "output_type": "stream",
     "text": [
      "windows\n"
     ]
    }
   ],
   "execution_count": 19
  },
  {
   "metadata": {
    "ExecuteTime": {
     "end_time": "2025-05-25T16:07:02.404544Z",
     "start_time": "2025-05-25T16:07:02.399781Z"
    }
   },
   "cell_type": "code",
   "source": [
    "INTERFACE = \"Беспроводная сеть\"  # Ваш интерфейс\n",
    "PROCESS = \"cs2.exe\"\n",
    "DURATION = 600  # 10 минут"
   ],
   "id": "d4b11dc599b9bcd9",
   "outputs": [],
   "execution_count": 20
  },
  {
   "metadata": {
    "ExecuteTime": {
     "end_time": "2025-05-25T16:07:02.665873Z",
     "start_time": "2025-05-25T16:07:02.659287Z"
    }
   },
   "cell_type": "code",
   "source": [
    "def get_process_connections(process_name):\n",
    "    \"\"\"Получает сетевые соединения для процесса по имени.\"\"\"\n",
    "    connections = []\n",
    "    for proc in psutil.process_iter(['pid', 'name']):\n",
    "        try:\n",
    "            if proc.info['name'].lower() == process_name.lower():\n",
    "                pid = proc.info['pid']\n",
    "                print(f\"Найден процесс {process_name} с PID {pid}\")\n",
    "\n",
    "                # Выводим все соединения для отладки\n",
    "                print(f\"Все соединения процесса: {psutil.Process(pid).net_connections()}\")\n",
    "\n",
    "                # Получаем соединения процесса\n",
    "                for conn in psutil.Process(pid).net_connections():\n",
    "                    # Включаем TCP-соединения с активным статусом\n",
    "                    if (conn.type == socket.SOCK_STREAM and\n",
    "                        conn.status in (psutil.CONN_ESTABLISHED, psutil.CONN_SYN_SENT, psutil.CONN_SYN_RECV)):\n",
    "                        connections.append({\n",
    "                            'laddr': conn.laddr.ip if conn.laddr else '',\n",
    "                            'raddr': conn.raddr.ip if conn.raddr else '',\n",
    "                            'lport': conn.laddr.port if conn.laddr else 0,\n",
    "                            'rport': conn.raddr.port if conn.raddr else 0,\n",
    "                            'type': 'tcp'\n",
    "                        })\n",
    "                    # Включаем UDP-сокеты (игнорируем статус)\n",
    "                    elif conn.type == socket.SOCK_DGRAM:\n",
    "                        connections.append({\n",
    "                            'laddr': conn.laddr.ip if conn.laddr else '',\n",
    "                            'raddr': conn.raddr.ip if conn.raddr else '',\n",
    "                            'lport': conn.laddr.port if conn.laddr else 0,\n",
    "                            'rport': conn.raddr.port if conn.raddr else 0,\n",
    "                            'type': 'udp'\n",
    "                        })\n",
    "        except (psutil.NoSuchProcess, psutil.AccessDenied):\n",
    "            continue\n",
    "\n",
    "    if not connections:\n",
    "        print(f\"Не найдены активные соединения для процесса {process_name}.\")\n",
    "    else:\n",
    "        print(f\"Найдено {len(connections)} соединений для {process_name}: {connections}\")\n",
    "    return connections"
   ],
   "id": "c338d299ef0eb89",
   "outputs": [],
   "execution_count": 21
  },
  {
   "metadata": {
    "ExecuteTime": {
     "end_time": "2025-05-25T16:07:02.986607Z",
     "start_time": "2025-05-25T16:07:02.981650Z"
    }
   },
   "cell_type": "code",
   "source": [
    "def create_bpf_filter(process_name):\n",
    "    \"\"\"Создает BPF-фильтр на основе соединений процесса.\"\"\"\n",
    "    connections = get_process_connections(process_name)\n",
    "    if not connections:\n",
    "        return \"\"\n",
    "\n",
    "    ip_list = set()\n",
    "    port_list = set()\n",
    "    proto_filters = []\n",
    "\n",
    "    for conn in connections:\n",
    "        if conn['raddr']:\n",
    "            ip_list.add(conn['raddr'])\n",
    "        if conn['lport']:\n",
    "            port_list.add(conn['lport'])\n",
    "        if conn['rport']:\n",
    "            port_list.add(conn['rport'])\n",
    "\n",
    "    if not port_list:\n",
    "        print(\"Не найдены порты для фильтрации.\")\n",
    "        return \"\"\n",
    "\n",
    "    # Создаем фильтр по портам и протоколам\n",
    "    port_filter = \" or \".join(\n",
    "        f\"{conn['type']} port {port}\" for port in port_list for conn in connections\n",
    "        if conn['lport'] == port or conn['rport'] == port\n",
    "    )\n",
    "\n",
    "    if ip_list:\n",
    "        ip_filter = \" or \".join(f\"host {ip}\" for ip in ip_list)\n",
    "        return f\"({port_filter}) and ({ip_filter})\"\n",
    "    else:\n",
    "        # Если нет удаленных IP, фильтруем только по портам\n",
    "        return port_filter"
   ],
   "id": "fc82986898a037ae",
   "outputs": [],
   "execution_count": 22
  },
  {
   "metadata": {
    "ExecuteTime": {
     "end_time": "2025-05-25T16:07:25.125033Z",
     "start_time": "2025-05-25T16:07:25.119695Z"
    }
   },
   "cell_type": "code",
   "source": [
    "import time\n",
    "\n",
    "\n",
    "def start_capture(interface, output_file, duration, process_name):\n",
    "    \"\"\"Захват трафика для процесса и сохранение в PCAP-файл.\"\"\"\n",
    "    packets = []\n",
    "    start_time = time.time()\n",
    "\n",
    "    def packet_callback(packet):\n",
    "        packets.append(packet)\n",
    "        print(f\"Захвачен пакет: {packet.summary()}\")\n",
    "\n",
    "    # Начальный фильтр\n",
    "    bpf_filter = create_bpf_filter(process_name)\n",
    "    if not bpf_filter:\n",
    "        print(\"Не удалось создать начальный BPF-фильтр. Проверьте, запущен ли процесс.\")\n",
    "        sys.exit(1)\n",
    "\n",
    "    print(f\"Начальный BPF-фильтр: {bpf_filter}\")\n",
    "    print(f\"Начало захвата на интерфейсе {interface} для процесса {process_name}...\")\n",
    "\n",
    "    try:\n",
    "        # Захват с периодическим обновлением фильтра\n",
    "        while time.time() - start_time < duration:\n",
    "            sniff(iface=interface, prn=packet_callback, timeout=30, filter=bpf_filter)\n",
    "            # Обновляем фильтр каждые 30 секунд\n",
    "            new_bpf_filter = create_bpf_filter(process_name)\n",
    "            if new_bpf_filter and new_bpf_filter != bpf_filter:\n",
    "                print(f\"Обновлен BPF-фильтр: {new_bpf_filter}\")\n",
    "                bpf_filter = new_bpf_filter\n",
    "\n",
    "        print(f\"Сохранение {len(packets)} пакетов в файл {output_file}...\")\n",
    "        wrpcap(output_file, packets)\n",
    "        print(f\"Захват завершен. Файл сохранен в: {output_file}\")\n",
    "\n",
    "    except Exception as e:\n",
    "        print(f\"Ошибка при захвате трафика: {e}\")\n",
    "        sys.exit(1)"
   ],
   "id": "6918927193b6714d",
   "outputs": [],
   "execution_count": 23
  },
  {
   "metadata": {},
   "cell_type": "code",
   "outputs": [],
   "execution_count": null,
   "source": [
    "RAW_PATH = f'raw/{ CURRENT_CATEGORY }'\n",
    "FILENAME = f\"{ len(os.listdir(RAW_PATH)) + 1 }_{ system }.pcap\"\n",
    "OUTPUT_FILE = f\"{RAW_PATH}/{FILENAME}\""
   ],
   "id": "6ae0f9094be815bb"
  }
 ],
 "metadata": {
  "kernelspec": {
   "display_name": "Python 3",
   "language": "python",
   "name": "python3"
  },
  "language_info": {
   "codemirror_mode": {
    "name": "ipython",
    "version": 2
   },
   "file_extension": ".py",
   "mimetype": "text/x-python",
   "name": "python",
   "nbconvert_exporter": "python",
   "pygments_lexer": "ipython2",
   "version": "2.7.6"
  }
 },
 "nbformat": 4,
 "nbformat_minor": 5
}
