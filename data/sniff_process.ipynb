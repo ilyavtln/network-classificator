{
 "cells": [
  {
   "cell_type": "code",
   "id": "initial_id",
   "metadata": {
    "collapsed": true,
    "jupyter": {
     "outputs_hidden": true
    },
    "ExecuteTime": {
     "end_time": "2025-05-25T17:38:39.100749Z",
     "start_time": "2025-05-25T17:38:39.095697Z"
    }
   },
   "source": [
    "import socket\n",
    "import sys\n",
    "import platform\n",
    "import os\n",
    "from scapy.all import sniff, wrpcap, rdpcap\n",
    "import psutil\n",
    "import time"
   ],
   "outputs": [],
   "execution_count": 45
  },
  {
   "cell_type": "code",
   "id": "d7d9c4e1d720f7",
   "metadata": {
    "ExecuteTime": {
     "end_time": "2025-05-25T17:38:39.272953Z",
     "start_time": "2025-05-25T17:38:39.267939Z"
    }
   },
   "source": [
    "system = platform.system().lower()\n",
    "print(system)"
   ],
   "outputs": [
    {
     "name": "stdout",
     "output_type": "stream",
     "text": [
      "windows\n"
     ]
    }
   ],
   "execution_count": 46
  },
  {
   "cell_type": "code",
   "id": "d4b11dc599b9bcd9",
   "metadata": {
    "ExecuteTime": {
     "end_time": "2025-05-25T17:38:39.409999Z",
     "start_time": "2025-05-25T17:38:39.405889Z"
    }
   },
   "source": [
    "PROCESS = \"cs2.exe\"\n",
    "DURATION = 60"
   ],
   "outputs": [],
   "execution_count": 47
  },
  {
   "metadata": {},
   "cell_type": "code",
   "outputs": [],
   "execution_count": null,
   "source": [
    "if system == \"windows\":\n",
    "    INTERFACE = \"Беспроводная сеть\"\n",
    "else:\n",
    "    INTERFACE = \"en0\"\n",
    "\n",
    "print(INTERFACE)"
   ],
   "id": "9f864de41ba28995"
  },
  {
   "cell_type": "code",
   "id": "c338d299ef0eb89",
   "metadata": {
    "ExecuteTime": {
     "end_time": "2025-05-25T17:38:39.552868Z",
     "start_time": "2025-05-25T17:38:39.546327Z"
    }
   },
   "source": [
    "def get_process_connections(process_name):\n",
    "    \"\"\"Получает сетевые соединения для процесса по имени.\"\"\"\n",
    "    connections = []\n",
    "\n",
    "    for proc in psutil.process_iter(['pid', 'name']):\n",
    "        try:\n",
    "            if proc.info['name'].lower() == process_name.lower():\n",
    "                pid = proc.info['pid']\n",
    "                print(f\"Найден процесс {process_name} с PID {pid}\")\n",
    "\n",
    "                # Выводим все соединения для отладки\n",
    "                print(f\"Все соединения процесса: {psutil.Process(pid).net_connections()}\")\n",
    "\n",
    "                # Получаем соединения процесса\n",
    "                for conn in psutil.Process(pid).net_connections():\n",
    "                    # Включаем TCP-соединения с активным статусом\n",
    "                    if (conn.type == socket.SOCK_STREAM and\n",
    "                        conn.status in (psutil.CONN_ESTABLISHED, psutil.CONN_SYN_SENT, psutil.CONN_SYN_RECV)):\n",
    "                        connections.append({\n",
    "                            'laddr': conn.laddr.ip if conn.laddr else '',\n",
    "                            'raddr': conn.raddr.ip if conn.raddr else '',\n",
    "                            'lport': conn.laddr.port if conn.laddr else 0,\n",
    "                            'rport': conn.raddr.port if conn.raddr else 0,\n",
    "                            'type': 'tcp'\n",
    "                        })\n",
    "                    # Включаем UDP-сокеты (игнорируем статус)\n",
    "                    elif conn.type == socket.SOCK_DGRAM:\n",
    "                        connections.append({\n",
    "                            'laddr': conn.laddr.ip if conn.laddr else '',\n",
    "                            'raddr': conn.raddr.ip if conn.raddr else '',\n",
    "                            'lport': conn.laddr.port if conn.laddr else 0,\n",
    "                            'rport': conn.raddr.port if conn.raddr else 0,\n",
    "                            'type': 'udp'\n",
    "                        })\n",
    "        except (psutil.NoSuchProcess, psutil.AccessDenied):\n",
    "            continue\n",
    "\n",
    "    if not connections:\n",
    "        print(f\"Не найдены активные соединения для процесса {process_name}.\")\n",
    "    else:\n",
    "        print(f\"Найдено {len(connections)} соединений для {process_name}: {connections}\")\n",
    "    return connections"
   ],
   "outputs": [],
   "execution_count": 48
  },
  {
   "cell_type": "code",
   "id": "fc82986898a037ae",
   "metadata": {
    "ExecuteTime": {
     "end_time": "2025-05-25T17:38:39.692574Z",
     "start_time": "2025-05-25T17:38:39.686573Z"
    }
   },
   "source": [
    "def create_bpf_filter(process_name):\n",
    "    \"\"\"Создает BPF-фильтр на основе соединений процесса.\"\"\"\n",
    "    connections = get_process_connections(process_name)\n",
    "    if not connections:\n",
    "        return \"\"\n",
    "\n",
    "    ip_list = set()\n",
    "    port_list = set()\n",
    "    proto_filters = []\n",
    "\n",
    "    for conn in connections:\n",
    "        if conn['raddr']:\n",
    "            ip_list.add(conn['raddr'])\n",
    "        if conn['lport']:\n",
    "            port_list.add(conn['lport'])\n",
    "        if conn['rport']:\n",
    "            port_list.add(conn['rport'])\n",
    "\n",
    "    if not port_list:\n",
    "        print(\"Не найдены порты для фильтрации.\")\n",
    "        return \"\"\n",
    "\n",
    "    # Создаем фильтр по портам и протоколам\n",
    "    port_filter = \" or \".join(\n",
    "        f\"{conn['type']} port {port}\" for port in port_list for conn in connections\n",
    "        if conn['lport'] == port or conn['rport'] == port\n",
    "    )\n",
    "\n",
    "    if ip_list:\n",
    "        ip_filter = \" or \".join(f\"host {ip}\" for ip in ip_list)\n",
    "        return f\"({port_filter}) and ({ip_filter})\"\n",
    "    else:\n",
    "        # Если нет удаленных IP, фильтруем только по портам\n",
    "        return port_filter"
   ],
   "outputs": [],
   "execution_count": 49
  },
  {
   "cell_type": "code",
   "id": "6918927193b6714d",
   "metadata": {
    "ExecuteTime": {
     "end_time": "2025-05-25T17:38:39.832835Z",
     "start_time": "2025-05-25T17:38:39.827334Z"
    }
   },
   "source": [
    "def start_capture(interface, output_file, duration, process_name):\n",
    "    \"\"\"Захват трафика для процесса и сохранение в PCAP-файл.\"\"\"\n",
    "    packets = []\n",
    "    start_time = time.time()\n",
    "\n",
    "    def packet_callback(packet):\n",
    "        packets.append(packet)\n",
    "        print(f\"Захвачен пакет: {packet.summary()}\")\n",
    "\n",
    "    # Начальный фильтр\n",
    "    bpf_filter = create_bpf_filter(process_name)\n",
    "    if not bpf_filter:\n",
    "        print(\"Не удалось создать начальный BPF-фильтр. Проверьте, запущен ли процесс.\")\n",
    "        sys.exit(1)\n",
    "\n",
    "    print(f\"Начальный BPF-фильтр: {bpf_filter}\")\n",
    "    print(f\"Начало захвата на интерфейсе {interface} для процесса {process_name}...\")\n",
    "\n",
    "    try:\n",
    "        # Захват с периодическим обновлением фильтра\n",
    "        while time.time() - start_time < duration:\n",
    "            sniff(iface=interface, prn=packet_callback, timeout=15, filter=bpf_filter)\n",
    "            # Обновляем фильтр каждые 30 секунд\n",
    "            new_bpf_filter = create_bpf_filter(process_name)\n",
    "            if new_bpf_filter and new_bpf_filter != bpf_filter:\n",
    "                print(f\"Обновлен BPF-фильтр: {new_bpf_filter}\")\n",
    "                bpf_filter = new_bpf_filter\n",
    "\n",
    "        print(f\"Сохранение {len(packets)} пакетов в файл {output_file}...\")\n",
    "        wrpcap(output_file, packets)\n",
    "        print(f\"Захват завершен. Файл сохранен в: {output_file}\")\n",
    "\n",
    "    except Exception as e:\n",
    "        print(f\"Ошибка при захвате трафика: {e}\")\n",
    "        sys.exit(1)"
   ],
   "outputs": [],
   "execution_count": 50
  },
  {
   "cell_type": "code",
   "id": "6ae0f9094be815bb",
   "metadata": {
    "ExecuteTime": {
     "end_time": "2025-05-25T17:38:39.970959Z",
     "start_time": "2025-05-25T17:38:39.968029Z"
    }
   },
   "source": [
    "RAW_PATH = f'raw/games'\n",
    "FILENAME = f\"{len(os.listdir(RAW_PATH)) + 1}_{ PROCESS.replace(\".exe\", \"\") }.pcap\"\n",
    "OUTPUT_FILE = f\"{RAW_PATH}/{FILENAME}\""
   ],
   "outputs": [],
   "execution_count": 51
  },
  {
   "cell_type": "code",
   "id": "17589cf7ec53e7c0",
   "metadata": {
    "ExecuteTime": {
     "end_time": "2025-05-25T17:38:40.271733Z",
     "start_time": "2025-05-25T17:38:40.267869Z"
    }
   },
   "source": [
    "print(OUTPUT_FILE)"
   ],
   "outputs": [
    {
     "name": "stdout",
     "output_type": "stream",
     "text": [
      "raw/games/7_cs2.pcap\n"
     ]
    }
   ],
   "execution_count": 52
  },
  {
   "cell_type": "code",
   "id": "c0a9ead1f9f36772",
   "metadata": {
    "jupyter": {
     "is_executing": true
    },
    "ExecuteTime": {
     "start_time": "2025-05-25T17:38:40.702984Z"
    }
   },
   "source": [
    "start_capture(INTERFACE, OUTPUT_FILE, DURATION, PROCESS)"
   ],
   "outputs": [
    {
     "name": "stdout",
     "output_type": "stream",
     "text": [
      "Найден процесс cs2.exe с PID 65128\n",
      "Все соединения процесса: [pconn(fd=-1, family=<AddressFamily.AF_INET: 2>, type=<SocketKind.SOCK_DGRAM: 2>, laddr=addr(ip='0.0.0.0', port=51928), raddr=(), status='NONE'), pconn(fd=-1, family=<AddressFamily.AF_INET: 2>, type=<SocketKind.SOCK_DGRAM: 2>, laddr=addr(ip='0.0.0.0', port=56218), raddr=(), status='NONE'), pconn(fd=-1, family=<AddressFamily.AF_INET: 2>, type=<SocketKind.SOCK_DGRAM: 2>, laddr=addr(ip='0.0.0.0', port=51907), raddr=(), status='NONE'), pconn(fd=-1, family=<AddressFamily.AF_INET: 2>, type=<SocketKind.SOCK_DGRAM: 2>, laddr=addr(ip='0.0.0.0', port=51929), raddr=(), status='NONE'), pconn(fd=-1, family=<AddressFamily.AF_INET: 2>, type=<SocketKind.SOCK_DGRAM: 2>, laddr=addr(ip='0.0.0.0', port=51933), raddr=(), status='NONE'), pconn(fd=-1, family=<AddressFamily.AF_INET: 2>, type=<SocketKind.SOCK_DGRAM: 2>, laddr=addr(ip='0.0.0.0', port=51920), raddr=(), status='NONE'), pconn(fd=-1, family=<AddressFamily.AF_INET: 2>, type=<SocketKind.SOCK_DGRAM: 2>, laddr=addr(ip='0.0.0.0', port=51931), raddr=(), status='NONE'), pconn(fd=-1, family=<AddressFamily.AF_INET: 2>, type=<SocketKind.SOCK_DGRAM: 2>, laddr=addr(ip='0.0.0.0', port=51930), raddr=(), status='NONE'), pconn(fd=-1, family=<AddressFamily.AF_INET: 2>, type=<SocketKind.SOCK_DGRAM: 2>, laddr=addr(ip='0.0.0.0', port=51912), raddr=(), status='NONE'), pconn(fd=-1, family=<AddressFamily.AF_INET: 2>, type=<SocketKind.SOCK_DGRAM: 2>, laddr=addr(ip='0.0.0.0', port=51915), raddr=(), status='NONE'), pconn(fd=-1, family=<AddressFamily.AF_INET: 2>, type=<SocketKind.SOCK_DGRAM: 2>, laddr=addr(ip='0.0.0.0', port=51908), raddr=(), status='NONE'), pconn(fd=-1, family=<AddressFamily.AF_INET: 2>, type=<SocketKind.SOCK_DGRAM: 2>, laddr=addr(ip='0.0.0.0', port=51914), raddr=(), status='NONE'), pconn(fd=-1, family=<AddressFamily.AF_INET: 2>, type=<SocketKind.SOCK_DGRAM: 2>, laddr=addr(ip='0.0.0.0', port=56220), raddr=(), status='NONE'), pconn(fd=-1, family=<AddressFamily.AF_INET: 2>, type=<SocketKind.SOCK_DGRAM: 2>, laddr=addr(ip='0.0.0.0', port=51925), raddr=(), status='NONE'), pconn(fd=-1, family=<AddressFamily.AF_INET: 2>, type=<SocketKind.SOCK_DGRAM: 2>, laddr=addr(ip='0.0.0.0', port=51932), raddr=(), status='NONE'), pconn(fd=-1, family=<AddressFamily.AF_INET: 2>, type=<SocketKind.SOCK_DGRAM: 2>, laddr=addr(ip='0.0.0.0', port=51918), raddr=(), status='NONE'), pconn(fd=-1, family=<AddressFamily.AF_INET: 2>, type=<SocketKind.SOCK_DGRAM: 2>, laddr=addr(ip='0.0.0.0', port=51921), raddr=(), status='NONE'), pconn(fd=-1, family=<AddressFamily.AF_INET: 2>, type=<SocketKind.SOCK_DGRAM: 2>, laddr=addr(ip='0.0.0.0', port=51904), raddr=(), status='NONE'), pconn(fd=-1, family=<AddressFamily.AF_INET: 2>, type=<SocketKind.SOCK_DGRAM: 2>, laddr=addr(ip='0.0.0.0', port=51922), raddr=(), status='NONE'), pconn(fd=-1, family=<AddressFamily.AF_INET: 2>, type=<SocketKind.SOCK_DGRAM: 2>, laddr=addr(ip='0.0.0.0', port=51916), raddr=(), status='NONE'), pconn(fd=-1, family=<AddressFamily.AF_INET: 2>, type=<SocketKind.SOCK_DGRAM: 2>, laddr=addr(ip='0.0.0.0', port=51927), raddr=(), status='NONE'), pconn(fd=-1, family=<AddressFamily.AF_INET: 2>, type=<SocketKind.SOCK_DGRAM: 2>, laddr=addr(ip='0.0.0.0', port=51926), raddr=(), status='NONE'), pconn(fd=-1, family=<AddressFamily.AF_INET: 2>, type=<SocketKind.SOCK_DGRAM: 2>, laddr=addr(ip='0.0.0.0', port=51937), raddr=(), status='NONE'), pconn(fd=-1, family=<AddressFamily.AF_INET: 2>, type=<SocketKind.SOCK_DGRAM: 2>, laddr=addr(ip='0.0.0.0', port=51924), raddr=(), status='NONE'), pconn(fd=-1, family=<AddressFamily.AF_INET: 2>, type=<SocketKind.SOCK_DGRAM: 2>, laddr=addr(ip='0.0.0.0', port=51910), raddr=(), status='NONE'), pconn(fd=-1, family=<AddressFamily.AF_INET: 2>, type=<SocketKind.SOCK_DGRAM: 2>, laddr=addr(ip='0.0.0.0', port=51906), raddr=(), status='NONE'), pconn(fd=-1, family=<AddressFamily.AF_INET: 2>, type=<SocketKind.SOCK_DGRAM: 2>, laddr=addr(ip='0.0.0.0', port=51923), raddr=(), status='NONE')]\n",
      "Найдено 27 соединений для cs2.exe: [{'laddr': '0.0.0.0', 'raddr': '', 'lport': 51928, 'rport': 0, 'type': 'udp'}, {'laddr': '0.0.0.0', 'raddr': '', 'lport': 56218, 'rport': 0, 'type': 'udp'}, {'laddr': '0.0.0.0', 'raddr': '', 'lport': 51907, 'rport': 0, 'type': 'udp'}, {'laddr': '0.0.0.0', 'raddr': '', 'lport': 51929, 'rport': 0, 'type': 'udp'}, {'laddr': '0.0.0.0', 'raddr': '', 'lport': 51933, 'rport': 0, 'type': 'udp'}, {'laddr': '0.0.0.0', 'raddr': '', 'lport': 51920, 'rport': 0, 'type': 'udp'}, {'laddr': '0.0.0.0', 'raddr': '', 'lport': 51931, 'rport': 0, 'type': 'udp'}, {'laddr': '0.0.0.0', 'raddr': '', 'lport': 51930, 'rport': 0, 'type': 'udp'}, {'laddr': '0.0.0.0', 'raddr': '', 'lport': 51912, 'rport': 0, 'type': 'udp'}, {'laddr': '0.0.0.0', 'raddr': '', 'lport': 51915, 'rport': 0, 'type': 'udp'}, {'laddr': '0.0.0.0', 'raddr': '', 'lport': 51908, 'rport': 0, 'type': 'udp'}, {'laddr': '0.0.0.0', 'raddr': '', 'lport': 51914, 'rport': 0, 'type': 'udp'}, {'laddr': '0.0.0.0', 'raddr': '', 'lport': 56220, 'rport': 0, 'type': 'udp'}, {'laddr': '0.0.0.0', 'raddr': '', 'lport': 51925, 'rport': 0, 'type': 'udp'}, {'laddr': '0.0.0.0', 'raddr': '', 'lport': 51932, 'rport': 0, 'type': 'udp'}, {'laddr': '0.0.0.0', 'raddr': '', 'lport': 51918, 'rport': 0, 'type': 'udp'}, {'laddr': '0.0.0.0', 'raddr': '', 'lport': 51921, 'rport': 0, 'type': 'udp'}, {'laddr': '0.0.0.0', 'raddr': '', 'lport': 51904, 'rport': 0, 'type': 'udp'}, {'laddr': '0.0.0.0', 'raddr': '', 'lport': 51922, 'rport': 0, 'type': 'udp'}, {'laddr': '0.0.0.0', 'raddr': '', 'lport': 51916, 'rport': 0, 'type': 'udp'}, {'laddr': '0.0.0.0', 'raddr': '', 'lport': 51927, 'rport': 0, 'type': 'udp'}, {'laddr': '0.0.0.0', 'raddr': '', 'lport': 51926, 'rport': 0, 'type': 'udp'}, {'laddr': '0.0.0.0', 'raddr': '', 'lport': 51937, 'rport': 0, 'type': 'udp'}, {'laddr': '0.0.0.0', 'raddr': '', 'lport': 51924, 'rport': 0, 'type': 'udp'}, {'laddr': '0.0.0.0', 'raddr': '', 'lport': 51910, 'rport': 0, 'type': 'udp'}, {'laddr': '0.0.0.0', 'raddr': '', 'lport': 51906, 'rport': 0, 'type': 'udp'}, {'laddr': '0.0.0.0', 'raddr': '', 'lport': 51923, 'rport': 0, 'type': 'udp'}]\n",
      "Начальный BPF-фильтр: udp port 56218 or udp port 56220 or udp port 51904 or udp port 51906 or udp port 51907 or udp port 51908 or udp port 51910 or udp port 51912 or udp port 51914 or udp port 51915 or udp port 51916 or udp port 51918 or udp port 51920 or udp port 51921 or udp port 51922 or udp port 51923 or udp port 51924 or udp port 51925 or udp port 51926 or udp port 51927 or udp port 51928 or udp port 51929 or udp port 51930 or udp port 51931 or udp port 51932 or udp port 51933 or udp port 51937\n",
      "Начало захвата на интерфейсе Беспроводная сеть для процесса cs2.exe...\n",
      "Захвачен пакет: Ether / IP / UDP 192.168.31.172:51908 > 155.133.252.53:27033 / Raw\n",
      "Захвачен пакет: Ether / IP / UDP 155.133.252.53:27033 > 192.168.31.172:51908 / Raw\n",
      "Захвачен пакет: Ether / IP / UDP 192.168.31.172:51908 > 155.133.252.53:27033 / Raw\n",
      "Захвачен пакет: Ether / IP / UDP 155.133.252.53:27033 > 192.168.31.172:51908 / Raw\n",
      "Захвачен пакет: Ether / IP / UDP 155.133.252.53:27033 > 192.168.31.172:51908 / Raw\n",
      "Захвачен пакет: Ether / IP / UDP 192.168.31.172:51908 > 155.133.252.53:27033 / Raw\n"
     ]
    }
   ],
   "execution_count": null
  },
  {
   "cell_type": "code",
   "execution_count": null,
   "id": "7f359f6dae3330f8",
   "metadata": {},
   "outputs": [],
   "source": []
  }
 ],
 "metadata": {
  "kernelspec": {
   "display_name": "Python 3 (ipykernel)",
   "language": "python",
   "name": "python3"
  },
  "language_info": {
   "codemirror_mode": {
    "name": "ipython",
    "version": 3
   },
   "file_extension": ".py",
   "mimetype": "text/x-python",
   "name": "python",
   "nbconvert_exporter": "python",
   "pygments_lexer": "ipython3",
   "version": "3.12.10"
  }
 },
 "nbformat": 4,
 "nbformat_minor": 5
}
