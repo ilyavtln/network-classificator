{
 "cells": [
  {
   "cell_type": "code",
   "id": "initial_id",
   "metadata": {
    "collapsed": true,
    "ExecuteTime": {
     "end_time": "2025-06-15T18:10:59.099717Z",
     "start_time": "2025-06-15T18:10:56.350737Z"
    }
   },
   "source": [
    "import pandas as pd\n",
    "import numpy as np\n",
    "import torch\n",
    "import torch.nn as nn\n",
    "import torch.nn.functional as F\n",
    "from sklearn.model_selection import train_test_split\n",
    "from sklearn.preprocessing import StandardScaler, LabelEncoder, OneHotEncoder\n",
    "from sklearn.metrics import accuracy_score, precision_recall_fscore_support, roc_curve, auc\n",
    "from sklearn.ensemble import RandomForestClassifier\n",
    "from xgboost import XGBClassifier\n",
    "from torch.utils.data import DataLoader, TensorDataset\n",
    "from tqdm import tqdm\n",
    "import matplotlib.pyplot as plt\n",
    "import seaborn as sns\n",
    "import os\n",
    "import time\n",
    "from pytorch_tabnet.tab_model import TabNetClassifier\n",
    "from sklearn.compose import ColumnTransformer\n",
    "from sklearn.pipeline import Pipeline"
   ],
   "outputs": [],
   "execution_count": 2
  },
  {
   "metadata": {
    "ExecuteTime": {
     "end_time": "2025-06-15T18:10:59.127067Z",
     "start_time": "2025-06-15T18:10:59.122460Z"
    }
   },
   "cell_type": "code",
   "source": [
    "DATA_PATH = './datasets/data/test/adult.csv'\n",
    "PLOTS_DIR = './images'\n",
    "MODEL_PATH = './models'"
   ],
   "id": "2c56a24af5b43175",
   "outputs": [],
   "execution_count": 3
  },
  {
   "metadata": {
    "ExecuteTime": {
     "end_time": "2025-06-15T18:10:59.168630Z",
     "start_time": "2025-06-15T18:10:59.146712Z"
    }
   },
   "cell_type": "code",
   "source": [
    "# Параметры TabNet\n",
    "params = {\n",
    "    'batch_size': 128,\n",
    "    'n_d': 4,\n",
    "    'n_a': 4,\n",
    "    'n_steps': 3,\n",
    "    'gamma': 0.9,\n",
    "    'n_independent': 2,\n",
    "    'n_shared': 1,\n",
    "    'epochs': 10,\n",
    "    'learning_rate': 0.01,\n",
    "}\n",
    "\n",
    "device = torch.device(\"cuda\" if torch.cuda.is_available() else \"cpu\")\n",
    "print(\"Устройство:\", device)"
   ],
   "id": "3a1ec3f6e1e6aa25",
   "outputs": [
    {
     "name": "stdout",
     "output_type": "stream",
     "text": [
      "Устройство: cuda\n"
     ]
    }
   ],
   "execution_count": 4
  },
  {
   "metadata": {
    "ExecuteTime": {
     "end_time": "2025-06-15T18:10:59.315166Z",
     "start_time": "2025-06-15T18:10:59.179234Z"
    }
   },
   "cell_type": "code",
   "source": [
    "data = pd.read_csv(DATA_PATH)\n",
    "data = data.dropna()\n",
    "data = data.fillna(0).replace([np.inf, -np.inf], 0)\n",
    "data.columns = data.columns.str.strip()\n",
    "print(f\"Датасет: {data.shape[0]} строк, {data.shape[1]} столбцов\")"
   ],
   "id": "8e739e20f50495af",
   "outputs": [
    {
     "name": "stdout",
     "output_type": "stream",
     "text": [
      "Датасет: 48842 строк, 15 столбцов\n"
     ]
    }
   ],
   "execution_count": 5
  },
  {
   "metadata": {
    "ExecuteTime": {
     "end_time": "2025-06-15T18:11:45.420338Z",
     "start_time": "2025-06-15T18:11:45.216404Z"
    }
   },
   "cell_type": "code",
   "source": [
    "# Проверка данных\n",
    "data = data.dropna()\n",
    "data = data.replace([np.inf, -np.inf], 0)\n",
    "print(f\"Датасет: {data.shape[0]} строк, {data.shape[1]} столбцов\")\n",
    "\n",
    "# Определение числовых столбцов\n",
    "numerical_cols = ['age', 'fnlwgt', 'educational-num', 'capital-gain', 'capital-loss', 'hours-per-week']\n",
    "target_col = 'income'\n",
    "\n",
    "# Проверка наличия числовых столбцов и целевого столбца\n",
    "all_expected_cols = numerical_cols + [target_col]\n",
    "missing_cols = [col for col in all_expected_cols if col not in data.columns]\n",
    "if missing_cols:\n",
    "    print(f\"Отсутствуют столбцы: {missing_cols}\")\n",
    "    raise ValueError(\"Некоторые ожидаемые столбцы отсутствуют в датасете\")\n",
    "\n",
    "# Проверка типов данных для числовых столбцов\n",
    "print(\"\\nТипы данных для числовых столбцов:\")\n",
    "for col in numerical_cols:\n",
    "    print(f\"{col}: {data[col].dtype}\")\n",
    "    if not np.issubdtype(data[col].dtype, np.number):\n",
    "        print(f\"Внимание: {col} содержит нечисловые данные!\")\n",
    "        raise ValueError(f\"Столбец {col} должен быть числовым\")\n",
    "\n",
    "# Распределение классов\n",
    "print(\"\\nРаспределение классов:\")\n",
    "print(data[target_col].value_counts(normalize=True) * 100)\n",
    "\n",
    "# Подготовка данных\n",
    "X = data[numerical_cols]  # Используем только числовые столбцы\n",
    "y = data[target_col]\n",
    "\n",
    "# Кодирование целевой переменной\n",
    "label_encoder = LabelEncoder()\n",
    "y = label_encoder.fit_transform(y)\n",
    "class_names = label_encoder.classes_\n",
    "print(\"\\nКлассы:\", class_names)\n",
    "\n",
    "# Нормализация числовых признаков\n",
    "scaler = StandardScaler()\n",
    "X = scaler.fit_transform(X)\n",
    "X = pd.DataFrame(X, columns=numerical_cols)\n",
    "\n",
    "# Разделение данных\n",
    "X_train, X_test, y_train, y_test = train_test_split(\n",
    "    X, y, test_size=0.2, stratify=y, random_state=42\n",
    ")\n",
    "print(\"\\nРазмер тренировочного набора:\", X_train.shape)\n",
    "print(\"Размер тестового набора:\", X_test.shape)\n",
    "\n",
    "# Подготовка тензоров для TabNet и MLP\n",
    "X_train_tensor = torch.FloatTensor(X_train.values).to(device)\n",
    "y_train_tensor = torch.LongTensor(y_train).to(device)\n",
    "X_test_tensor = torch.FloatTensor(X_test.values).to(device)\n",
    "y_test_tensor = torch.LongTensor(y_test).to(device)\n",
    "\n",
    "train_dataset = TensorDataset(X_train_tensor, y_train_tensor)\n",
    "test_dataset = TensorDataset(X_test_tensor, y_test_tensor)\n",
    "train_loader = DataLoader(train_dataset, batch_size=params['batch_size'], shuffle=True)\n",
    "test_loader = DataLoader(test_dataset, batch_size=params['batch_size'], shuffle=False)"
   ],
   "id": "fae6b192689646e5",
   "outputs": [
    {
     "name": "stdout",
     "output_type": "stream",
     "text": [
      "Датасет: 48842 строк, 15 столбцов\n",
      "\n",
      "Типы данных для числовых столбцов:\n",
      "age: int64\n",
      "fnlwgt: int64\n",
      "educational-num: int64\n",
      "capital-gain: int64\n",
      "capital-loss: int64\n",
      "hours-per-week: int64\n",
      "\n",
      "Распределение классов:\n",
      "income\n",
      "<=50K    76.071823\n",
      ">50K     23.928177\n",
      "Name: proportion, dtype: float64\n",
      "\n",
      "Классы: ['<=50K' '>50K']\n",
      "\n",
      "Размер тренировочного набора: (39073, 6)\n",
      "Размер тестового набора: (9769, 6)\n"
     ]
    }
   ],
   "execution_count": 7
  },
  {
   "metadata": {
    "ExecuteTime": {
     "end_time": "2025-06-15T18:11:49.164010Z",
     "start_time": "2025-06-15T18:11:49.158967Z"
    }
   },
   "cell_type": "code",
   "source": "results = []",
   "id": "6c684a45298bf311",
   "outputs": [],
   "execution_count": 8
  },
  {
   "metadata": {
    "ExecuteTime": {
     "end_time": "2025-06-15T18:11:49.593671Z",
     "start_time": "2025-06-15T18:11:49.587546Z"
    }
   },
   "cell_type": "code",
   "source": [
    "def evaluate_model(y_true, y_pred, y_scores, model_name, training_time):\n",
    "    accuracy = accuracy_score(y_true, y_pred) * 100\n",
    "    precision, recall, f1, _ = precision_recall_fscore_support(y_true, y_pred, average='binary')\n",
    "    fpr, tpr, _ = roc_curve(y_true, y_scores)\n",
    "    roc_auc = auc(fpr, tpr)\n",
    "    return {\n",
    "        'model': model_name,\n",
    "        'accuracy': accuracy,\n",
    "        'precision': precision,\n",
    "        'recall': recall,\n",
    "        'f1': f1,\n",
    "        'roc_auc': roc_auc,\n",
    "        'fpr': fpr,\n",
    "        'tpr': tpr,\n",
    "        'time': training_time  # Добавляем время обучения\n",
    "    }"
   ],
   "id": "834378a8bb4453a1",
   "outputs": [],
   "execution_count": 9
  },
  {
   "metadata": {
    "ExecuteTime": {
     "end_time": "2025-06-15T18:14:08.149250Z",
     "start_time": "2025-06-15T18:12:55.909050Z"
    }
   },
   "cell_type": "code",
   "source": [
    "print(\"\\nОбучение TabNet...\")\n",
    "start_time = time.time()\n",
    "tabnet_model = TabNetClassifier(\n",
    "    n_d=params['n_d'],\n",
    "    n_a=params['n_a'],\n",
    "    n_steps=params['n_steps'],\n",
    "    gamma=params['gamma'],\n",
    "    n_independent=params['n_independent'],\n",
    "    n_shared=params['n_shared'],\n",
    "    optimizer_fn=torch.optim.Adam,\n",
    "    optimizer_params=dict(lr=params['learning_rate'], weight_decay=1e-4),\n",
    "    scheduler_fn=torch.optim.lr_scheduler.ReduceLROnPlateau,\n",
    "    scheduler_params={'mode': 'min', 'factor': 0.5, 'patience': 2},\n",
    "    verbose=1\n",
    ")\n",
    "tabnet_model.fit(\n",
    "    X_train.values, y_train,  # Используем .values для преобразования в NumPy\n",
    "    eval_set=[(X_test.values, y_test)],  # То же для X_test\n",
    "    eval_metric=['accuracy'],\n",
    "    max_epochs=params['epochs'],\n",
    "    patience=3,\n",
    "    batch_size=params['batch_size']\n",
    ")\n",
    "tabnet_time = time.time() - start_time\n",
    "\n",
    "y_pred_tabnet = tabnet_model.predict(X_test.values)\n",
    "y_scores_tabnet = tabnet_model.predict_proba(X_test.values)[:, 1]\n",
    "results.append(evaluate_model(y_test, y_pred_tabnet, y_scores_tabnet, 'TabNet', tabnet_time))\n",
    "print(f\"TabNet: Время обучения = {tabnet_time:.2f} сек\")"
   ],
   "id": "780dbd473244a73",
   "outputs": [
    {
     "name": "stdout",
     "output_type": "stream",
     "text": [
      "\n",
      "Обучение TabNet...\n"
     ]
    },
    {
     "name": "stderr",
     "output_type": "stream",
     "text": [
      "E:\\JetBrains Projects\\PycharmProjects\\network-classificator\\.venv\\Lib\\site-packages\\pytorch_tabnet\\abstract_model.py:82: UserWarning: Device used : cuda\n",
      "  warnings.warn(f\"Device used : {self.device}\")\n"
     ]
    },
    {
     "name": "stdout",
     "output_type": "stream",
     "text": [
      "epoch 0  | loss: 0.43217 | val_0_accuracy: 0.81237 |  0:00:09s\n",
      "epoch 1  | loss: 0.4054  | val_0_accuracy: 0.81841 |  0:00:16s\n",
      "epoch 2  | loss: 0.40076 | val_0_accuracy: 0.82291 |  0:00:23s\n",
      "epoch 3  | loss: 0.39962 | val_0_accuracy: 0.81861 |  0:00:29s\n",
      "epoch 4  | loss: 0.39494 | val_0_accuracy: 0.82608 |  0:00:35s\n",
      "epoch 5  | loss: 0.39583 | val_0_accuracy: 0.82608 |  0:00:42s\n",
      "epoch 6  | loss: 0.39488 | val_0_accuracy: 0.82793 |  0:00:48s\n",
      "epoch 7  | loss: 0.39153 | val_0_accuracy: 0.82444 |  0:00:54s\n",
      "epoch 8  | loss: 0.39158 | val_0_accuracy: 0.82404 |  0:01:00s\n",
      "epoch 9  | loss: 0.39009 | val_0_accuracy: 0.82086 |  0:01:07s\n",
      "\n",
      "Early stopping occurred at epoch 9 with best_epoch = 6 and best_val_0_accuracy = 0.82793\n"
     ]
    },
    {
     "name": "stderr",
     "output_type": "stream",
     "text": [
      "E:\\JetBrains Projects\\PycharmProjects\\network-classificator\\.venv\\Lib\\site-packages\\pytorch_tabnet\\callbacks.py:172: UserWarning: Best weights from best epoch are automatically used!\n",
      "  warnings.warn(wrn_msg)\n"
     ]
    },
    {
     "name": "stdout",
     "output_type": "stream",
     "text": [
      "TabNet: Время обучения = 71.09 сек\n"
     ]
    }
   ],
   "execution_count": 11
  },
  {
   "metadata": {
    "ExecuteTime": {
     "end_time": "2025-06-15T18:14:21.361314Z",
     "start_time": "2025-06-15T18:14:12.359420Z"
    }
   },
   "cell_type": "code",
   "source": [
    "# Класс MLP (без изменений)\n",
    "class MLP(nn.Module):\n",
    "    def __init__(self, input_dim, hidden_dim=128, output_dim=2):\n",
    "        super(MLP, self).__init__()\n",
    "        self.fc1 = nn.Linear(input_dim, hidden_dim)\n",
    "        self.fc2 = nn.Linear(hidden_dim, hidden_dim)\n",
    "        self.fc3 = nn.Linear(hidden_dim, output_dim)\n",
    "        self.dropout = nn.Dropout(0.3)\n",
    "        self.relu = nn.ReLU()\n",
    "\n",
    "    def forward(self, x):\n",
    "        x = self.relu(self.fc1(x))\n",
    "        x = self.dropout(x)\n",
    "        x = self.relu(self.fc2(x))\n",
    "        x = self.dropout(x)\n",
    "        x = self.fc3(x)\n",
    "        return x\n",
    "\n",
    "# Обучение MLP с выводом в стиле TabNet\n",
    "print(\"\\nОбучение MLP...\")\n",
    "start_time = time.time()\n",
    "mlp_model = MLP(input_dim=X_train.shape[1]).to(device)\n",
    "criterion = nn.CrossEntropyLoss()\n",
    "optimizer = torch.optim.Adam(mlp_model.parameters(), lr=params['learning_rate'], weight_decay=1e-4)\n",
    "scheduler = torch.optim.lr_scheduler.ReduceLROnPlateau(optimizer, mode='min', factor=0.5, patience=2)\n",
    "\n",
    "best_val_loss = float('inf')\n",
    "patience = 3\n",
    "counter = 0\n",
    "epoch_start_time = start_time\n",
    "\n",
    "for epoch in range(params['epochs']):\n",
    "    mlp_model.train()\n",
    "    train_loss = 0\n",
    "    train_batches = 0\n",
    "    for data, target in train_loader:\n",
    "        data, target = data.to(device), target.to(device)\n",
    "        optimizer.zero_grad()\n",
    "        output = mlp_model(data)\n",
    "        loss = criterion(output, target)\n",
    "        loss.backward()\n",
    "        optimizer.step()\n",
    "        train_loss += loss.item()\n",
    "        train_batches += 1\n",
    "\n",
    "    train_loss /= train_batches\n",
    "\n",
    "    mlp_model.eval()\n",
    "    val_loss = 0\n",
    "    val_correct = 0\n",
    "    val_total = 0\n",
    "    y_pred = []\n",
    "    y_true = []\n",
    "    with torch.no_grad():\n",
    "        for data, target in test_loader:\n",
    "            data, target = data.to(device), target.to(device)\n",
    "            output = mlp_model(data)\n",
    "            loss = criterion(output, target)\n",
    "            val_loss += loss.item()\n",
    "            pred = output.argmax(dim=1)\n",
    "            val_correct += pred.eq(target).sum().item()\n",
    "            val_total += target.size(0)\n",
    "            y_pred.extend(pred.cpu().numpy())\n",
    "            y_true.extend(target.cpu().numpy())\n",
    "\n",
    "    val_loss /= len(test_loader)\n",
    "    val_accuracy = val_correct / val_total\n",
    "    scheduler.step(val_loss)\n",
    "\n",
    "    # Вывод в стиле TabNet\n",
    "    epoch_time = time.time() - epoch_start_time\n",
    "    print(f\"epoch {epoch} | loss: {train_loss:.5f} | val_0_accuracy: {val_accuracy:.5f} | {int(epoch_time // 60):02d}:{int(epoch_time % 60):02d}s\")\n",
    "\n",
    "mlp_time = time.time() - start_time\n",
    "\n",
    "# Оценка модели\n",
    "mlp_model.eval()\n",
    "y_pred_mlp = []\n",
    "y_scores_mlp = []\n",
    "with torch.no_grad():\n",
    "    for data, _ in test_loader:\n",
    "        data = data.to(device)\n",
    "        output = mlp_model(data)\n",
    "        scores = torch.softmax(output, dim=1)[:, 1]\n",
    "        y_scores_mlp.extend(scores.cpu().numpy())\n",
    "        y_pred_mlp.extend(output.argmax(dim=1).cpu().numpy())\n",
    "\n",
    "results.append(evaluate_model(y_test, y_pred_mlp, y_scores_mlp, 'MLP', mlp_time))\n",
    "print(f\"MLP: Время обучения = {mlp_time:.2f} сек\")"
   ],
   "id": "9ee349c6fa3a7fb8",
   "outputs": [
    {
     "name": "stdout",
     "output_type": "stream",
     "text": [
      "\n",
      "Обучение MLP...\n",
      "epoch 0 | loss: 0.40821 | val_0_accuracy: 0.82301 | 00:01s\n",
      "epoch 1 | loss: 0.39774 | val_0_accuracy: 0.82772 | 00:01s\n",
      "epoch 2 | loss: 0.39522 | val_0_accuracy: 0.82700 | 00:02s\n",
      "epoch 3 | loss: 0.39580 | val_0_accuracy: 0.82639 | 00:03s\n",
      "epoch 4 | loss: 0.39570 | val_0_accuracy: 0.82250 | 00:04s\n",
      "epoch 5 | loss: 0.39582 | val_0_accuracy: 0.82854 | 00:05s\n",
      "epoch 6 | loss: 0.39017 | val_0_accuracy: 0.83222 | 00:06s\n",
      "epoch 7 | loss: 0.38949 | val_0_accuracy: 0.82741 | 00:07s\n",
      "epoch 8 | loss: 0.38856 | val_0_accuracy: 0.83110 | 00:08s\n",
      "epoch 9 | loss: 0.38912 | val_0_accuracy: 0.83151 | 00:08s\n",
      "MLP: Время обучения = 8.88 сек\n"
     ]
    }
   ],
   "execution_count": 12
  },
  {
   "metadata": {
    "ExecuteTime": {
     "end_time": "2025-06-15T18:14:22.979842Z",
     "start_time": "2025-06-15T18:14:22.916190Z"
    }
   },
   "cell_type": "code",
   "source": [
    "print(\"\\nОбучение XGBoost...\")\n",
    "start_time = time.time()\n",
    "xgb_model = XGBClassifier(\n",
    "    max_depth=6,\n",
    "    learning_rate=params['learning_rate'],\n",
    "    n_estimators=params['epochs'],\n",
    "    random_state=42,\n",
    "    n_jobs=-1\n",
    ")\n",
    "xgb_model.fit(X_train, y_train)\n",
    "xgb_time = time.time() - start_time\n",
    "\n",
    "y_pred_xgb = xgb_model.predict(X_test)\n",
    "y_scores_xgb = xgb_model.predict_proba(X_test)[:, 1]\n",
    "results.append(evaluate_model(y_test, y_pred_xgb, y_scores_xgb, 'XGBoost', xgb_time))\n",
    "print(f\"XGBoost: Время обучения = {xgb_time:.2f} сек\")"
   ],
   "id": "b61d1f9be708cfeb",
   "outputs": [
    {
     "name": "stdout",
     "output_type": "stream",
     "text": [
      "\n",
      "Обучение XGBoost...\n",
      "XGBoost: Время обучения = 0.05 сек\n"
     ]
    },
    {
     "name": "stderr",
     "output_type": "stream",
     "text": [
      "E:\\JetBrains Projects\\PycharmProjects\\network-classificator\\.venv\\Lib\\site-packages\\sklearn\\metrics\\_classification.py:1565: UndefinedMetricWarning: Precision is ill-defined and being set to 0.0 due to no predicted samples. Use `zero_division` parameter to control this behavior.\n",
      "  _warn_prf(average, modifier, f\"{metric.capitalize()} is\", len(result))\n"
     ]
    }
   ],
   "execution_count": 13
  },
  {
   "metadata": {
    "ExecuteTime": {
     "end_time": "2025-06-15T18:14:25.420450Z",
     "start_time": "2025-06-15T18:14:24.997521Z"
    }
   },
   "cell_type": "code",
   "source": [
    "print(\"\\nОбучение Random Forest...\")\n",
    "start_time = time.time()\n",
    "rf_model = RandomForestClassifier(\n",
    "    n_estimators=100,\n",
    "    max_depth=10,\n",
    "    random_state=42,\n",
    "    n_jobs=-1\n",
    ")\n",
    "rf_model.fit(X_train, y_train)\n",
    "rf_time = time.time() - start_time\n",
    "\n",
    "y_pred_rf = rf_model.predict(X_test)\n",
    "y_scores_rf = rf_model.predict_proba(X_test)[:, 1]\n",
    "results.append(evaluate_model(y_test, y_pred_rf, y_scores_rf, 'Random Forest', rf_time))\n",
    "print(f\"Random Forest: Время обучения = {rf_time:.2f} сек\")"
   ],
   "id": "8bc6faf2e33950a6",
   "outputs": [
    {
     "name": "stdout",
     "output_type": "stream",
     "text": [
      "\n",
      "Обучение Random Forest...\n",
      "Random Forest: Время обучения = 0.34 сек\n"
     ]
    }
   ],
   "execution_count": 14
  },
  {
   "metadata": {
    "ExecuteTime": {
     "end_time": "2025-06-15T18:14:26.209937Z",
     "start_time": "2025-06-15T18:14:26.197504Z"
    }
   },
   "cell_type": "code",
   "source": [
    "results_df = pd.DataFrame(results)\n",
    "results_df = results_df[['model', 'accuracy', 'precision', 'recall', 'f1', 'roc_auc', 'time']]  # Добавляем time\n",
    "results_df = results_df.round(4)\n",
    "print(\"\\nСравнение моделей:\")\n",
    "print(results_df)"
   ],
   "id": "a46192f790366212",
   "outputs": [
    {
     "name": "stdout",
     "output_type": "stream",
     "text": [
      "\n",
      "Сравнение моделей:\n",
      "           model  accuracy  precision  recall      f1  roc_auc     time\n",
      "0         TabNet   82.7925     0.7386  0.4350  0.5475   0.8533  71.0943\n",
      "1            MLP   83.1508     0.7420  0.4538  0.5632   0.8546   8.8777\n",
      "2        XGBoost   76.0672     0.0000  0.0000  0.0000   0.8470   0.0473\n",
      "3  Random Forest   84.1232     0.8176  0.4333  0.5664   0.8659   0.3434\n"
     ]
    }
   ],
   "execution_count": 15
  },
  {
   "metadata": {},
   "cell_type": "code",
   "outputs": [],
   "execution_count": null,
   "source": "",
   "id": "e07cf4dc9b3acea1"
  }
 ],
 "metadata": {
  "kernelspec": {
   "display_name": "Python 3",
   "language": "python",
   "name": "python3"
  },
  "language_info": {
   "codemirror_mode": {
    "name": "ipython",
    "version": 2
   },
   "file_extension": ".py",
   "mimetype": "text/x-python",
   "name": "python",
   "nbconvert_exporter": "python",
   "pygments_lexer": "ipython2",
   "version": "2.7.6"
  }
 },
 "nbformat": 4,
 "nbformat_minor": 5
}
