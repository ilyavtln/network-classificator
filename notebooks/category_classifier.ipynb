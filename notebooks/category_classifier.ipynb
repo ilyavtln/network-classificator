{
 "cells": [
  {
   "cell_type": "code",
   "id": "initial_id",
   "metadata": {
    "collapsed": true,
    "ExecuteTime": {
     "end_time": "2025-05-25T22:04:31.545307Z",
     "start_time": "2025-05-25T22:04:31.541038Z"
    }
   },
   "source": [
    "import os\n",
    "import pandas as pd\n",
    "import torch\n",
    "import torch.nn as nn\n",
    "import torch.optim as optim\n",
    "from torch.utils.data import TensorDataset, DataLoader\n",
    "from sklearn.preprocessing import StandardScaler, LabelEncoder\n",
    "from sklearn.model_selection import train_test_split"
   ],
   "outputs": [],
   "execution_count": 92
  },
  {
   "metadata": {
    "ExecuteTime": {
     "end_time": "2025-05-25T22:04:31.714965Z",
     "start_time": "2025-05-25T22:04:31.711306Z"
    }
   },
   "cell_type": "code",
   "source": [
    "DATASET_PATH = '../datasets/data/different_features/'\n",
    "MODEL_PATH = '../models/different_features_model.pth'\n",
    "EPOCHS = 20\n",
    "BATCH_SIZE = 1\n",
    "LEARNING_RATE = 0.00001"
   ],
   "id": "754ed2b7ab4c8373",
   "outputs": [],
   "execution_count": 93
  },
  {
   "metadata": {
    "ExecuteTime": {
     "end_time": "2025-05-25T22:04:31.882909Z",
     "start_time": "2025-05-25T22:04:31.865922Z"
    }
   },
   "cell_type": "code",
   "source": [
    "CATEGORIES = [\n",
    "    'games',\n",
    "    'music',\n",
    "    'social_network',\n",
    "    'video_hosting',\n",
    "    'cloud_service',\n",
    "    'e-mail',\n",
    "    'other'\n",
    "]"
   ],
   "id": "35a77cff907cd64e",
   "outputs": [],
   "execution_count": 94
  },
  {
   "metadata": {
    "ExecuteTime": {
     "end_time": "2025-05-25T22:04:32.045333Z",
     "start_time": "2025-05-25T22:04:32.041688Z"
    }
   },
   "cell_type": "code",
   "source": [
    "device = torch.device('cuda' if torch.cuda.is_available() else 'cpu')\n",
    "print(device)"
   ],
   "id": "632208f848b52547",
   "outputs": [
    {
     "name": "stdout",
     "output_type": "stream",
     "text": [
      "cuda\n"
     ]
    }
   ],
   "execution_count": 95
  },
  {
   "metadata": {
    "ExecuteTime": {
     "end_time": "2025-05-25T22:04:32.191140Z",
     "start_time": "2025-05-25T22:04:32.183552Z"
    }
   },
   "cell_type": "code",
   "source": "data = pd.read_csv(DATASET_PATH + 'traffic_features.csv', delimiter=',')",
   "id": "d87001804eda53b5",
   "outputs": [],
   "execution_count": 96
  },
  {
   "metadata": {
    "ExecuteTime": {
     "end_time": "2025-05-25T22:04:32.369880Z",
     "start_time": "2025-05-25T22:04:32.356903Z"
    }
   },
   "cell_type": "code",
   "source": "data.head()",
   "id": "ed56f1fe8394bd49",
   "outputs": [
    {
     "data": {
      "text/plain": [
       "   Flow Duration  Total Fwd Packets  Total Backward Packets  \\\n",
       "0      57.857927               3896                    3895   \n",
       "1      60.046756               5955                    5954   \n",
       "2      47.894942                 16                    7060   \n",
       "3      56.575700                 12                    4092   \n",
       "4      59.827636                  0                     147   \n",
       "\n",
       "   Total Length of Fwd Packets  Total Length of Bwd Packets  \\\n",
       "0                      2363942                      2369599   \n",
       "1                      5067377                      5047463   \n",
       "2                         1056                      7946200   \n",
       "3                          792                      5314966   \n",
       "4                            0                        64804   \n",
       "\n",
       "   Fwd Packet Length Max  Fwd Packet Length Min  Fwd Packet Length Mean  \\\n",
       "0                   1309                     52              606.761294   \n",
       "1                   1342                     50              850.944920   \n",
       "2                     66                     66               66.000000   \n",
       "3                     66                     66               66.000000   \n",
       "4                      0                      0                0.000000   \n",
       "\n",
       "   Fwd Packet Length Std  Bwd Packet Length Max  ...  min_seg_size_forward  \\\n",
       "0             442.746474                   1331  ...                     0   \n",
       "1             393.229049                   1342  ...                     0   \n",
       "2               0.000000                   3855  ...                    32   \n",
       "3               0.000000                   1506  ...                    32   \n",
       "4               0.000000                  16140  ...                     0   \n",
       "\n",
       "   Active Mean  Active Std  Active Max  Active Min  Idle Mean  Idle Std  \\\n",
       "0     0.000000    0.000000    0.000000    0.000000   0.000000  0.000000   \n",
       "1     0.000000    0.000000    0.000000    0.000000   0.000000  0.000000   \n",
       "2     2.245078    1.220733    4.354972    1.101462   2.245078  1.220733   \n",
       "3     2.437204    1.077658    4.558837    1.028184   2.437204  1.077658   \n",
       "4     2.624479    1.184121    4.886324    1.201119   2.624479  1.184121   \n",
       "\n",
       "   Idle Max  Idle Min  Label  \n",
       "0  0.000000  0.000000  games  \n",
       "1  0.000000  0.000000  games  \n",
       "2  4.354972  1.101462  games  \n",
       "3  4.558837  1.028184  games  \n",
       "4  4.886324  1.201119  games  \n",
       "\n",
       "[5 rows x 78 columns]"
      ],
      "text/html": [
       "<div>\n",
       "<style scoped>\n",
       "    .dataframe tbody tr th:only-of-type {\n",
       "        vertical-align: middle;\n",
       "    }\n",
       "\n",
       "    .dataframe tbody tr th {\n",
       "        vertical-align: top;\n",
       "    }\n",
       "\n",
       "    .dataframe thead th {\n",
       "        text-align: right;\n",
       "    }\n",
       "</style>\n",
       "<table border=\"1\" class=\"dataframe\">\n",
       "  <thead>\n",
       "    <tr style=\"text-align: right;\">\n",
       "      <th></th>\n",
       "      <th>Flow Duration</th>\n",
       "      <th>Total Fwd Packets</th>\n",
       "      <th>Total Backward Packets</th>\n",
       "      <th>Total Length of Fwd Packets</th>\n",
       "      <th>Total Length of Bwd Packets</th>\n",
       "      <th>Fwd Packet Length Max</th>\n",
       "      <th>Fwd Packet Length Min</th>\n",
       "      <th>Fwd Packet Length Mean</th>\n",
       "      <th>Fwd Packet Length Std</th>\n",
       "      <th>Bwd Packet Length Max</th>\n",
       "      <th>...</th>\n",
       "      <th>min_seg_size_forward</th>\n",
       "      <th>Active Mean</th>\n",
       "      <th>Active Std</th>\n",
       "      <th>Active Max</th>\n",
       "      <th>Active Min</th>\n",
       "      <th>Idle Mean</th>\n",
       "      <th>Idle Std</th>\n",
       "      <th>Idle Max</th>\n",
       "      <th>Idle Min</th>\n",
       "      <th>Label</th>\n",
       "    </tr>\n",
       "  </thead>\n",
       "  <tbody>\n",
       "    <tr>\n",
       "      <th>0</th>\n",
       "      <td>57.857927</td>\n",
       "      <td>3896</td>\n",
       "      <td>3895</td>\n",
       "      <td>2363942</td>\n",
       "      <td>2369599</td>\n",
       "      <td>1309</td>\n",
       "      <td>52</td>\n",
       "      <td>606.761294</td>\n",
       "      <td>442.746474</td>\n",
       "      <td>1331</td>\n",
       "      <td>...</td>\n",
       "      <td>0</td>\n",
       "      <td>0.000000</td>\n",
       "      <td>0.000000</td>\n",
       "      <td>0.000000</td>\n",
       "      <td>0.000000</td>\n",
       "      <td>0.000000</td>\n",
       "      <td>0.000000</td>\n",
       "      <td>0.000000</td>\n",
       "      <td>0.000000</td>\n",
       "      <td>games</td>\n",
       "    </tr>\n",
       "    <tr>\n",
       "      <th>1</th>\n",
       "      <td>60.046756</td>\n",
       "      <td>5955</td>\n",
       "      <td>5954</td>\n",
       "      <td>5067377</td>\n",
       "      <td>5047463</td>\n",
       "      <td>1342</td>\n",
       "      <td>50</td>\n",
       "      <td>850.944920</td>\n",
       "      <td>393.229049</td>\n",
       "      <td>1342</td>\n",
       "      <td>...</td>\n",
       "      <td>0</td>\n",
       "      <td>0.000000</td>\n",
       "      <td>0.000000</td>\n",
       "      <td>0.000000</td>\n",
       "      <td>0.000000</td>\n",
       "      <td>0.000000</td>\n",
       "      <td>0.000000</td>\n",
       "      <td>0.000000</td>\n",
       "      <td>0.000000</td>\n",
       "      <td>games</td>\n",
       "    </tr>\n",
       "    <tr>\n",
       "      <th>2</th>\n",
       "      <td>47.894942</td>\n",
       "      <td>16</td>\n",
       "      <td>7060</td>\n",
       "      <td>1056</td>\n",
       "      <td>7946200</td>\n",
       "      <td>66</td>\n",
       "      <td>66</td>\n",
       "      <td>66.000000</td>\n",
       "      <td>0.000000</td>\n",
       "      <td>3855</td>\n",
       "      <td>...</td>\n",
       "      <td>32</td>\n",
       "      <td>2.245078</td>\n",
       "      <td>1.220733</td>\n",
       "      <td>4.354972</td>\n",
       "      <td>1.101462</td>\n",
       "      <td>2.245078</td>\n",
       "      <td>1.220733</td>\n",
       "      <td>4.354972</td>\n",
       "      <td>1.101462</td>\n",
       "      <td>games</td>\n",
       "    </tr>\n",
       "    <tr>\n",
       "      <th>3</th>\n",
       "      <td>56.575700</td>\n",
       "      <td>12</td>\n",
       "      <td>4092</td>\n",
       "      <td>792</td>\n",
       "      <td>5314966</td>\n",
       "      <td>66</td>\n",
       "      <td>66</td>\n",
       "      <td>66.000000</td>\n",
       "      <td>0.000000</td>\n",
       "      <td>1506</td>\n",
       "      <td>...</td>\n",
       "      <td>32</td>\n",
       "      <td>2.437204</td>\n",
       "      <td>1.077658</td>\n",
       "      <td>4.558837</td>\n",
       "      <td>1.028184</td>\n",
       "      <td>2.437204</td>\n",
       "      <td>1.077658</td>\n",
       "      <td>4.558837</td>\n",
       "      <td>1.028184</td>\n",
       "      <td>games</td>\n",
       "    </tr>\n",
       "    <tr>\n",
       "      <th>4</th>\n",
       "      <td>59.827636</td>\n",
       "      <td>0</td>\n",
       "      <td>147</td>\n",
       "      <td>0</td>\n",
       "      <td>64804</td>\n",
       "      <td>0</td>\n",
       "      <td>0</td>\n",
       "      <td>0.000000</td>\n",
       "      <td>0.000000</td>\n",
       "      <td>16140</td>\n",
       "      <td>...</td>\n",
       "      <td>0</td>\n",
       "      <td>2.624479</td>\n",
       "      <td>1.184121</td>\n",
       "      <td>4.886324</td>\n",
       "      <td>1.201119</td>\n",
       "      <td>2.624479</td>\n",
       "      <td>1.184121</td>\n",
       "      <td>4.886324</td>\n",
       "      <td>1.201119</td>\n",
       "      <td>games</td>\n",
       "    </tr>\n",
       "  </tbody>\n",
       "</table>\n",
       "<p>5 rows × 78 columns</p>\n",
       "</div>"
      ]
     },
     "execution_count": 97,
     "metadata": {},
     "output_type": "execute_result"
    }
   ],
   "execution_count": 97
  },
  {
   "metadata": {
    "ExecuteTime": {
     "end_time": "2025-05-25T22:04:32.562799Z",
     "start_time": "2025-05-25T22:04:32.555575Z"
    }
   },
   "cell_type": "code",
   "source": "data['Label'].unique()",
   "id": "e888eff1b9030539",
   "outputs": [
    {
     "data": {
      "text/plain": [
       "array(['games', 'music', 'social_network', 'video_hosting',\n",
       "       'cloud_service', 'e-mail', 'other'], dtype=object)"
      ]
     },
     "execution_count": 98,
     "metadata": {},
     "output_type": "execute_result"
    }
   ],
   "execution_count": 98
  },
  {
   "metadata": {
    "ExecuteTime": {
     "end_time": "2025-05-25T22:04:32.894429Z",
     "start_time": "2025-05-25T22:04:32.886443Z"
    }
   },
   "cell_type": "code",
   "source": [
    "le = LabelEncoder()\n",
    "data['Label'] = le.fit_transform(data['Label'])\n",
    "print(f\"Закодированные метки: {dict(zip(le.classes_, range(len(le.classes_))))}\")"
   ],
   "id": "fcafaa0781546ca6",
   "outputs": [
    {
     "name": "stdout",
     "output_type": "stream",
     "text": [
      "Закодированные метки: {'cloud_service': 0, 'e-mail': 1, 'games': 2, 'music': 3, 'other': 4, 'social_network': 5, 'video_hosting': 6}\n"
     ]
    }
   ],
   "execution_count": 99
  },
  {
   "metadata": {
    "ExecuteTime": {
     "end_time": "2025-05-25T22:04:33.078433Z",
     "start_time": "2025-05-25T22:04:33.065505Z"
    }
   },
   "cell_type": "code",
   "source": [
    "# Разделение признаков и меток\n",
    "X = data.drop('Label', axis=1).values\n",
    "y = data['Label'].values\n",
    "\n",
    "# Нормализация признаков\n",
    "scaler = StandardScaler()\n",
    "X = scaler.fit_transform(X)\n",
    "\n",
    "# Разделение на train и validation\n",
    "X_train, X_val, y_train, y_val = train_test_split(\n",
    "    X, y, test_size=0.2, random_state=13052003, stratify=y\n",
    ")\n",
    "print(f\"Train: {X_train.shape[0]} строк, Validation: {X_val.shape[0]} строк\")\n",
    "\n",
    "# Преобразование в тензоры\n",
    "X_train_tensor = torch.FloatTensor(X_train).to(device)\n",
    "y_train_tensor = torch.LongTensor(y_train).to(device)\n",
    "X_val_tensor = torch.FloatTensor(X_val).to(device)\n",
    "y_val_tensor = torch.LongTensor(y_val).to(device)\n",
    "\n",
    "# Создание DataLoader\n",
    "train_dataset = TensorDataset(X_train_tensor, y_train_tensor)\n",
    "val_dataset = TensorDataset(X_val_tensor, y_val_tensor)\n",
    "train_loader = DataLoader(train_dataset, batch_size=BATCH_SIZE, shuffle=True)\n",
    "val_loader = DataLoader(val_dataset, batch_size=BATCH_SIZE)"
   ],
   "id": "57b8ae8b56661ec2",
   "outputs": [
    {
     "name": "stdout",
     "output_type": "stream",
     "text": [
      "Train: 168 строк, Validation: 42 строк\n"
     ]
    }
   ],
   "execution_count": 100
  },
  {
   "metadata": {
    "ExecuteTime": {
     "end_time": "2025-05-25T22:04:33.193348Z",
     "start_time": "2025-05-25T22:04:33.186841Z"
    }
   },
   "cell_type": "code",
   "source": [
    "class TrafficClassifier(nn.Module):\n",
    "    def __init__(self, input_size, num_classes):\n",
    "        super(TrafficClassifier, self).__init__()\n",
    "        self.model = nn.Sequential(\n",
    "            nn.Linear(input_size, 256),\n",
    "            nn.ReLU(),\n",
    "            nn.BatchNorm1d(256),\n",
    "            nn.Dropout(0.3),\n",
    "            nn.Linear(256, 128),\n",
    "            nn.ReLU(),\n",
    "            nn.BatchNorm1d(128),\n",
    "            nn.Dropout(0.3),\n",
    "            nn.Linear(128, 64),\n",
    "            nn.ReLU(),\n",
    "            nn.BatchNorm1d(64),\n",
    "            nn.Dropout(0.3),\n",
    "            nn.Linear(64, num_classes)\n",
    "        )\n",
    "\n",
    "    def forward(self, x):\n",
    "        return self.model(x)"
   ],
   "id": "ec5471e40bfdd481",
   "outputs": [],
   "execution_count": 101
  },
  {
   "metadata": {
    "ExecuteTime": {
     "end_time": "2025-05-25T22:04:33.737501Z",
     "start_time": "2025-05-25T22:04:33.729164Z"
    }
   },
   "cell_type": "code",
   "source": [
    "input_size = X_train.shape[1]\n",
    "num_classes = len(CATEGORIES)\n",
    "model = TrafficClassifier(input_size, num_classes).to(device)\n",
    "criterion = nn.CrossEntropyLoss()\n",
    "optimizer = optim.Adam(model.parameters(), lr=LEARNING_RATE)"
   ],
   "id": "52c0248eb9c3e691",
   "outputs": [],
   "execution_count": 102
  },
  {
   "metadata": {
    "ExecuteTime": {
     "end_time": "2025-05-25T22:04:42.935646Z",
     "start_time": "2025-05-25T22:04:34.095069Z"
    }
   },
   "cell_type": "code",
   "source": [
    "print(\"\\nОбучение модели...\")\n",
    "for epoch in range(EPOCHS):\n",
    "    model.train()\n",
    "    train_loss = 0\n",
    "    train_correct = 0\n",
    "    train_total = 0\n",
    "\n",
    "    for X_batch, y_batch in train_loader:\n",
    "        optimizer.zero_grad()\n",
    "        outputs = model(X_batch)\n",
    "        loss = criterion(outputs, y_batch)\n",
    "        loss.backward()\n",
    "        optimizer.step()\n",
    "\n",
    "        train_loss += loss.item()\n",
    "        _, predicted = torch.max(outputs.data, 1)\n",
    "        train_total += y_batch.size(0)\n",
    "        train_correct += (predicted == y_batch).sum().item()\n",
    "\n",
    "    train_loss /= len(train_loader)\n",
    "    train_accuracy = 100 * train_correct / train_total\n",
    "\n",
    "    # Валидация\n",
    "    model.eval()\n",
    "    val_loss = 0\n",
    "    val_correct = 0\n",
    "    val_total = 0\n",
    "    with torch.no_grad():\n",
    "        for X_batch, y_batch in val_loader:\n",
    "            outputs = model(X_batch)\n",
    "            loss = criterion(outputs, y_batch)\n",
    "            val_loss += loss.item()\n",
    "            _, predicted = torch.max(outputs.data, 1)\n",
    "            val_total += y_batch.size(0)\n",
    "            val_correct += (predicted == y_batch).sum().item()\n",
    "\n",
    "    val_loss /= len(val_loader)\n",
    "    val_accuracy = 100 * val_correct / val_total\n",
    "\n",
    "    print(f\"Эпоха {epoch+1}/{EPOCHS}: \"\n",
    "          f\"Train Loss: {train_loss:.4f}, Train Accuracy: {train_accuracy:.2f}%, \"\n",
    "          f\"Val Loss: {val_loss:.4f}, Val Accuracy: {val_accuracy:.2f}%\")\n",
    "\n",
    "# Сохранение модели\n",
    "os.makedirs(os.path.dirname(MODEL_PATH), exist_ok=True)\n",
    "torch.save(model.state_dict(), MODEL_PATH)\n",
    "print(f\"\\nМодель сохранена в {MODEL_PATH}\")\n",
    "\n",
    "# Итоговые метки\n",
    "print(f\"\\nСоответствие меток: {dict(zip(range(len(le.classes_)), le.classes_))}\")"
   ],
   "id": "61cbc703ea39f797",
   "outputs": [
    {
     "name": "stdout",
     "output_type": "stream",
     "text": [
      "\n",
      "Обучение модели...\n",
      "Эпоха 1/20: Train Loss: 1.9515, Train Accuracy: 14.29%, Val Loss: 1.9505, Val Accuracy: 14.29%\n",
      "Эпоха 2/20: Train Loss: 1.9542, Train Accuracy: 14.88%, Val Loss: 1.9480, Val Accuracy: 14.29%\n",
      "Эпоха 3/20: Train Loss: 1.9554, Train Accuracy: 14.29%, Val Loss: 1.9454, Val Accuracy: 14.29%\n",
      "Эпоха 4/20: Train Loss: 1.9453, Train Accuracy: 16.67%, Val Loss: 1.9428, Val Accuracy: 14.29%\n",
      "Эпоха 5/20: Train Loss: 1.9430, Train Accuracy: 15.48%, Val Loss: 1.9401, Val Accuracy: 14.29%\n",
      "Эпоха 6/20: Train Loss: 1.9394, Train Accuracy: 16.67%, Val Loss: 1.9375, Val Accuracy: 14.29%\n",
      "Эпоха 7/20: Train Loss: 1.9415, Train Accuracy: 14.29%, Val Loss: 1.9348, Val Accuracy: 14.29%\n",
      "Эпоха 8/20: Train Loss: 1.9388, Train Accuracy: 18.45%, Val Loss: 1.9323, Val Accuracy: 16.67%\n",
      "Эпоха 9/20: Train Loss: 1.9379, Train Accuracy: 16.07%, Val Loss: 1.9298, Val Accuracy: 16.67%\n",
      "Эпоха 10/20: Train Loss: 1.9334, Train Accuracy: 17.86%, Val Loss: 1.9273, Val Accuracy: 16.67%\n",
      "Эпоха 11/20: Train Loss: 1.9317, Train Accuracy: 16.07%, Val Loss: 1.9246, Val Accuracy: 19.05%\n",
      "Эпоха 12/20: Train Loss: 1.9255, Train Accuracy: 17.26%, Val Loss: 1.9218, Val Accuracy: 19.05%\n",
      "Эпоха 13/20: Train Loss: 1.9213, Train Accuracy: 17.26%, Val Loss: 1.9189, Val Accuracy: 19.05%\n",
      "Эпоха 14/20: Train Loss: 1.9231, Train Accuracy: 17.86%, Val Loss: 1.9159, Val Accuracy: 19.05%\n",
      "Эпоха 15/20: Train Loss: 1.9214, Train Accuracy: 18.45%, Val Loss: 1.9129, Val Accuracy: 21.43%\n",
      "Эпоха 16/20: Train Loss: 1.9123, Train Accuracy: 19.05%, Val Loss: 1.9096, Val Accuracy: 21.43%\n",
      "Эпоха 17/20: Train Loss: 1.9102, Train Accuracy: 19.64%, Val Loss: 1.9064, Val Accuracy: 21.43%\n",
      "Эпоха 18/20: Train Loss: 1.9109, Train Accuracy: 20.83%, Val Loss: 1.9035, Val Accuracy: 21.43%\n",
      "Эпоха 19/20: Train Loss: 1.9103, Train Accuracy: 19.64%, Val Loss: 1.9004, Val Accuracy: 21.43%\n",
      "Эпоха 20/20: Train Loss: 1.9035, Train Accuracy: 20.83%, Val Loss: 1.8971, Val Accuracy: 21.43%\n",
      "\n",
      "Модель сохранена в models/different_features_model.pth\n",
      "\n",
      "Соответствие меток: {0: 'cloud_service', 1: 'e-mail', 2: 'games', 3: 'music', 4: 'other', 5: 'social_network', 6: 'video_hosting'}\n"
     ]
    }
   ],
   "execution_count": 103
  },
  {
   "metadata": {},
   "cell_type": "code",
   "outputs": [],
   "execution_count": null,
   "source": "",
   "id": "c9274865edbabcb"
  }
 ],
 "metadata": {
  "kernelspec": {
   "display_name": "Python 3",
   "language": "python",
   "name": "python3"
  },
  "language_info": {
   "codemirror_mode": {
    "name": "ipython",
    "version": 2
   },
   "file_extension": ".py",
   "mimetype": "text/x-python",
   "name": "python",
   "nbconvert_exporter": "python",
   "pygments_lexer": "ipython2",
   "version": "2.7.6"
  }
 },
 "nbformat": 4,
 "nbformat_minor": 5
}
