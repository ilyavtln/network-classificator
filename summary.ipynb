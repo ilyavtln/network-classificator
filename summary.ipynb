{
 "cells": [
  {
   "cell_type": "code",
   "id": "initial_id",
   "metadata": {
    "collapsed": true,
    "ExecuteTime": {
     "end_time": "2025-05-25T22:33:43.420947Z",
     "start_time": "2025-05-25T22:33:43.412986Z"
    }
   },
   "source": [
    "import time\n",
    "import numpy as np\n",
    "import pandas as pd\n",
    "import torch\n",
    "import torch.nn as nn\n",
    "from scapy.all import sniff\n",
    "from scapy.layers.inet import IP, TCP, UDP\n",
    "from sklearn.preprocessing import StandardScaler\n",
    "import pickle\n",
    "import logging\n",
    "from collections import deque\n",
    "from features.extractor import extract_features_from_pcap"
   ],
   "outputs": [],
   "execution_count": 24
  },
  {
   "metadata": {
    "ExecuteTime": {
     "end_time": "2025-05-25T22:33:43.708159Z",
     "start_time": "2025-05-25T22:33:43.700843Z"
    }
   },
   "cell_type": "code",
   "source": [
    "DATASET_PATH = 'datasets/data/different_features/'\n",
    "MODEL_PATH1 = 'models/benign_or_attack_model.pth'\n",
    "MODEL_PATH2 = 'models/different_features_model.pth'\n",
    "WINDOW_SIZE = 1.0  # Размер окна в секундах\n",
    "INTERFACE = \"Беспроводная сеть\"\n",
    "CATEGORIES = ['games', 'music', 'social_network', 'video_hosting', 'cloud_service', 'e-mail', 'other']"
   ],
   "id": "fde734fbcff2b5cf",
   "outputs": [],
   "execution_count": 25
  },
  {
   "metadata": {
    "ExecuteTime": {
     "end_time": "2025-05-25T22:33:44.044045Z",
     "start_time": "2025-05-25T22:33:44.035336Z"
    }
   },
   "cell_type": "code",
   "source": [
    "device = torch.device('cuda' if torch.cuda.is_available() else 'cpu')\n",
    "print(f\"Using device: {device}\")"
   ],
   "id": "6a0bc6a401bfb9da",
   "outputs": [
    {
     "name": "stdout",
     "output_type": "stream",
     "text": [
      "Using device: cuda\n"
     ]
    }
   ],
   "execution_count": 26
  },
  {
   "metadata": {
    "ExecuteTime": {
     "end_time": "2025-05-25T22:33:45.217108Z",
     "start_time": "2025-05-25T22:33:44.475249Z"
    }
   },
   "cell_type": "code",
   "source": [
    "X_train = extract_features_from_pcap(\"aaa.pcap\")\n",
    "X_train.popitem()\n",
    "print(len(X_train))"
   ],
   "id": "b5b9050e03e12aa0",
   "outputs": [
    {
     "name": "stdout",
     "output_type": "stream",
     "text": [
      "Успешно обработан файл aaa.pcap: 2729 пакетов\n",
      "77\n"
     ]
    }
   ],
   "execution_count": 27
  },
  {
   "metadata": {
    "ExecuteTime": {
     "end_time": "2025-05-25T22:33:46.505716Z",
     "start_time": "2025-05-25T22:33:46.498907Z"
    }
   },
   "cell_type": "code",
   "source": [
    "class DDoSDetector(nn.Module):\n",
    "    def __init__(self, input_size):\n",
    "        super(DDoSDetector, self).__init__()\n",
    "        self.model = nn.Sequential(\n",
    "            nn.Linear(input_size, 64),\n",
    "            nn.ReLU(),\n",
    "            nn.Dropout(0.3),\n",
    "            nn.Linear(64, 32),\n",
    "            nn.ReLU(),\n",
    "            nn.Linear(32, 2)\n",
    "        )\n",
    "\n",
    "    def forward(self, x):\n",
    "        return self.model(x)"
   ],
   "id": "3ec513239f7b264d",
   "outputs": [],
   "execution_count": 28
  },
  {
   "metadata": {
    "ExecuteTime": {
     "end_time": "2025-05-25T22:33:47.506343Z",
     "start_time": "2025-05-25T22:33:47.486231Z"
    }
   },
   "cell_type": "code",
   "source": "model = DDoSDetector(input_size=X_train.shape[1]).to(device)",
   "id": "10885ab0f1c4e251",
   "outputs": [
    {
     "ename": "AttributeError",
     "evalue": "'dict' object has no attribute 'shape'",
     "output_type": "error",
     "traceback": [
      "\u001B[31m---------------------------------------------------------------------------\u001B[39m",
      "\u001B[31mAttributeError\u001B[39m                            Traceback (most recent call last)",
      "\u001B[36mCell\u001B[39m\u001B[36m \u001B[39m\u001B[32mIn[29]\u001B[39m\u001B[32m, line 1\u001B[39m\n\u001B[32m----> \u001B[39m\u001B[32m1\u001B[39m model = DDoSDetector(input_size=\u001B[43mX_train\u001B[49m\u001B[43m.\u001B[49m\u001B[43mshape\u001B[49m[\u001B[32m1\u001B[39m]).to(device)\n",
      "\u001B[31mAttributeError\u001B[39m: 'dict' object has no attribute 'shape'"
     ]
    }
   ],
   "execution_count": 29
  },
  {
   "metadata": {},
   "cell_type": "code",
   "outputs": [],
   "execution_count": null,
   "source": "",
   "id": "1c936bd423cdc215"
  }
 ],
 "metadata": {
  "kernelspec": {
   "display_name": "Python 3",
   "language": "python",
   "name": "python3"
  },
  "language_info": {
   "codemirror_mode": {
    "name": "ipython",
    "version": 2
   },
   "file_extension": ".py",
   "mimetype": "text/x-python",
   "name": "python",
   "nbconvert_exporter": "python",
   "pygments_lexer": "ipython2",
   "version": "2.7.6"
  }
 },
 "nbformat": 4,
 "nbformat_minor": 5
}
