{
 "cells": [
  {
   "cell_type": "code",
   "id": "initial_id",
   "metadata": {
    "collapsed": true,
    "ExecuteTime": {
     "end_time": "2025-06-17T11:28:05.026562Z",
     "start_time": "2025-06-17T11:28:05.022688Z"
    }
   },
   "source": [
    "import torch\n",
    "import torch.nn as nn\n",
    "import torch.nn.functional as F\n",
    "from torch.utils.data import DataLoader, TensorDataset\n",
    "from sklearn.preprocessing import StandardScaler, LabelEncoder\n",
    "from sklearn.model_selection import train_test_split\n",
    "from sklearn.metrics import accuracy_score, precision_recall_fscore_support, confusion_matrix\n",
    "import pandas as pd\n",
    "import numpy as np"
   ],
   "outputs": [],
   "execution_count": 35
  },
  {
   "metadata": {
    "ExecuteTime": {
     "end_time": "2025-06-17T11:28:05.276936Z",
     "start_time": "2025-06-17T11:28:05.272997Z"
    }
   },
   "cell_type": "code",
   "source": [
    "device = torch.device(\"cuda\" if torch.cuda.is_available() else \"cpu\")\n",
    "print(device)"
   ],
   "id": "d4218a60347f2e3",
   "outputs": [
    {
     "name": "stdout",
     "output_type": "stream",
     "text": [
      "cuda\n"
     ]
    }
   ],
   "execution_count": 36
  },
  {
   "metadata": {
    "ExecuteTime": {
     "end_time": "2025-06-17T11:28:05.629366Z",
     "start_time": "2025-06-17T11:28:05.625418Z"
    }
   },
   "cell_type": "code",
   "source": "model_path = './models/tabnet_multy_30.pth'",
   "id": "d1aa7536050df8f8",
   "outputs": [],
   "execution_count": 37
  },
  {
   "metadata": {
    "ExecuteTime": {
     "end_time": "2025-06-17T11:28:06.089118Z",
     "start_time": "2025-06-17T11:28:06.013785Z"
    }
   },
   "cell_type": "code",
   "source": [
    "model = torch.load(model_path, map_location=device, weights_only=False)\n",
    "model.eval()\n",
    "model.to(device)"
   ],
   "id": "c0f828b8799d81f4",
   "outputs": [
    {
     "data": {
      "text/plain": [
       "TabNet(\n",
       "  (initial_bn): BatchNorm1d(77, eps=1e-05, momentum=None, affine=True, track_running_stats=True)\n",
       "  (initial_splitter): FeatureTransformer(\n",
       "    (shared): ModuleList(\n",
       "      (0): Sequential(\n",
       "        (0): Linear(in_features=77, out_features=128, bias=True)\n",
       "        (1): BatchNorm1d(128, eps=1e-05, momentum=None, affine=True, track_running_stats=True)\n",
       "        (2): GLU(dim=-1)\n",
       "        (3): Dropout(p=0.1, inplace=False)\n",
       "      )\n",
       "      (1): Sequential(\n",
       "        (0): Linear(in_features=64, out_features=128, bias=True)\n",
       "        (1): BatchNorm1d(128, eps=1e-05, momentum=None, affine=True, track_running_stats=True)\n",
       "        (2): GLU(dim=-1)\n",
       "        (3): Dropout(p=0.1, inplace=False)\n",
       "      )\n",
       "    )\n",
       "    (independent): ModuleList(\n",
       "      (0-1): 2 x Sequential(\n",
       "        (0): Linear(in_features=64, out_features=128, bias=True)\n",
       "        (1): BatchNorm1d(128, eps=1e-05, momentum=None, affine=True, track_running_stats=True)\n",
       "        (2): GLU(dim=-1)\n",
       "        (3): Dropout(p=0.1, inplace=False)\n",
       "      )\n",
       "    )\n",
       "  )\n",
       "  (attentive_transformers): ModuleList(\n",
       "    (0-3): 4 x AttentiveTransformer(\n",
       "      (fc): Linear(in_features=32, out_features=77, bias=True)\n",
       "      (bn): BatchNorm1d(77, eps=1e-05, momentum=None, affine=True, track_running_stats=True)\n",
       "    )\n",
       "  )\n",
       "  (feature_transformers): ModuleList(\n",
       "    (0-3): 4 x FeatureTransformer(\n",
       "      (shared): ModuleList(\n",
       "        (0): Sequential(\n",
       "          (0): Linear(in_features=77, out_features=128, bias=True)\n",
       "          (1): BatchNorm1d(128, eps=1e-05, momentum=None, affine=True, track_running_stats=True)\n",
       "          (2): GLU(dim=-1)\n",
       "          (3): Dropout(p=0.1, inplace=False)\n",
       "        )\n",
       "        (1): Sequential(\n",
       "          (0): Linear(in_features=64, out_features=128, bias=True)\n",
       "          (1): BatchNorm1d(128, eps=1e-05, momentum=None, affine=True, track_running_stats=True)\n",
       "          (2): GLU(dim=-1)\n",
       "          (3): Dropout(p=0.1, inplace=False)\n",
       "        )\n",
       "      )\n",
       "      (independent): ModuleList(\n",
       "        (0-1): 2 x Sequential(\n",
       "          (0): Linear(in_features=64, out_features=128, bias=True)\n",
       "          (1): BatchNorm1d(128, eps=1e-05, momentum=None, affine=True, track_running_stats=True)\n",
       "          (2): GLU(dim=-1)\n",
       "          (3): Dropout(p=0.1, inplace=False)\n",
       "        )\n",
       "      )\n",
       "    )\n",
       "  )\n",
       "  (final_linear): Linear(in_features=32, out_features=7, bias=True)\n",
       ")"
      ]
     },
     "execution_count": 38,
     "metadata": {},
     "output_type": "execute_result"
    }
   ],
   "execution_count": 38
  },
  {
   "metadata": {
    "ExecuteTime": {
     "end_time": "2025-06-17T11:28:06.710423Z",
     "start_time": "2025-06-17T11:28:06.613975Z"
    }
   },
   "cell_type": "code",
   "source": [
    "DATASET_PATH = 'datasets/data/different_features/traffic_features.csv'\n",
    "data = pd.read_csv(DATASET_PATH, delimiter=',')\n",
    "\n",
    "X = data.drop('Label', axis=1)\n",
    "y = LabelEncoder().fit_transform(data['Label'])\n",
    "scaler = StandardScaler()\n",
    "X = scaler.fit_transform(X)\n",
    "\n",
    "# Разделение на тренировочный и тестовый наборы (или используйте существующий test set)\n",
    "X_train, X_test, y_train, y_test = train_test_split(X, y, test_size=0.2, stratify=y, random_state=42)\n",
    "\n",
    "# Преобразование в тензоры\n",
    "X_test_tensor = torch.FloatTensor(X_test)\n",
    "y_test_tensor = torch.LongTensor(y_test)\n",
    "\n",
    "# Создание DataLoader\n",
    "test_dataset = TensorDataset(X_test_tensor, y_test_tensor)\n",
    "test_loader = DataLoader(test_dataset, batch_size=64, shuffle=False)  # Используйте batch_size из params\n",
    "\n",
    "# Оценка точности\n",
    "y_pred = []\n",
    "y_true = []\n",
    "\n",
    "with torch.no_grad():\n",
    "    for data, target in test_loader:\n",
    "        data, target = data.to(device), target.to(device)\n",
    "        output, _, _ = model(data)  # Предполагаем, что forward возвращает (output, M, M_loss)\n",
    "        pred = output.argmax(dim=1)\n",
    "        y_pred.extend(pred.cpu().numpy())\n",
    "        y_true.extend(target.cpu().numpy())\n",
    "\n",
    "# Вычисление метрик\n",
    "accuracy = accuracy_score(y_true, y_pred) * 100\n",
    "precision, recall, f1, _ = precision_recall_fscore_support(y_true, y_pred, average='weighted', zero_division=0)\n",
    "conf_matrix = confusion_matrix(y_true, y_pred)\n",
    "\n",
    "# Вывод результатов\n",
    "print(f\"Точность (Accuracy): {accuracy:.2f}%\")\n",
    "print(f\"Precision: {precision:.2f}\")\n",
    "print(f\"Recall: {recall:.2f}\")\n",
    "print(f\"F1-Score: {f1:.2f}\")\n",
    "print(\"\\nМатрица ошибок:\")\n",
    "print(conf_matrix)"
   ],
   "id": "c12cb42d6c828a7",
   "outputs": [
    {
     "name": "stdout",
     "output_type": "stream",
     "text": [
      "Точность (Accuracy): 89.84%\n",
      "Precision: 0.90\n",
      "Recall: 0.90\n",
      "F1-Score: 0.90\n",
      "\n",
      "Матрица ошибок:\n",
      "[[21  1  1  0  0  0  1]\n",
      " [ 1 23  0  0  0  0  0]\n",
      " [ 1  2 81  3  0  0  0]\n",
      " [ 1  0  0 31  0  0  2]\n",
      " [ 0  1  0  1 24  1  1]\n",
      " [ 0  0  0  0  0 33  1]\n",
      " [ 0  0  2  2  4  0 17]]\n"
     ]
    }
   ],
   "execution_count": 39
  },
  {
   "metadata": {},
   "cell_type": "code",
   "outputs": [],
   "execution_count": null,
   "source": "",
   "id": "da844f85da2bc3d7"
  }
 ],
 "metadata": {
  "kernelspec": {
   "display_name": "Python 3",
   "language": "python",
   "name": "python3"
  },
  "language_info": {
   "codemirror_mode": {
    "name": "ipython",
    "version": 2
   },
   "file_extension": ".py",
   "mimetype": "text/x-python",
   "name": "python",
   "nbconvert_exporter": "python",
   "pygments_lexer": "ipython2",
   "version": "2.7.6"
  }
 },
 "nbformat": 4,
 "nbformat_minor": 5
}
