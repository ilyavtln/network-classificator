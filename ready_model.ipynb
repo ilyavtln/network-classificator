{
 "cells": [
  {
   "cell_type": "code",
   "id": "initial_id",
   "metadata": {
    "collapsed": true,
    "ExecuteTime": {
     "end_time": "2025-06-17T21:14:08.505230Z",
     "start_time": "2025-06-17T21:14:06.561833Z"
    }
   },
   "source": [
    "import torch\n",
    "import pandas as pd\n",
    "from scapy.all import sniff\n",
    "from config.constants import FEATURES, CATEGORIES, BINARY_CATEGORIES\n",
    "from features.pkt_to_features import update_flow_state\n",
    "import time\n",
    "import threading\n",
    "from collections import Counter\n",
    "import numpy as np\n",
    "import sys"
   ],
   "outputs": [],
   "execution_count": 1
  },
  {
   "metadata": {
    "ExecuteTime": {
     "end_time": "2025-06-17T21:14:08.621740Z",
     "start_time": "2025-06-17T21:14:08.617856Z"
    }
   },
   "cell_type": "code",
   "source": [
    "device = torch.device(\"cpu\")\n",
    "print(device)"
   ],
   "id": "d4218a60347f2e3",
   "outputs": [
    {
     "name": "stdout",
     "output_type": "stream",
     "text": [
      "cpu\n"
     ]
    }
   ],
   "execution_count": 2
  },
  {
   "metadata": {
    "ExecuteTime": {
     "end_time": "2025-06-17T21:14:08.647742Z",
     "start_time": "2025-06-17T21:14:08.644961Z"
    }
   },
   "cell_type": "code",
   "source": [
    "multy_model_path = './models/tabnet_multy_100_traced.pt'\n",
    "binary_model_path = './models/tabnet_binary_100_traced.pt'"
   ],
   "id": "d1aa7536050df8f8",
   "outputs": [],
   "execution_count": 3
  },
  {
   "metadata": {
    "ExecuteTime": {
     "end_time": "2025-06-17T21:14:08.793112Z",
     "start_time": "2025-06-17T21:14:08.658555Z"
    }
   },
   "cell_type": "code",
   "source": [
    "multy_model = torch.jit.load(multy_model_path, map_location=device)\n",
    "multy_model.eval()\n",
    "\n",
    "binary_model = torch.jit.load(binary_model_path, map_location=device)\n",
    "binary_model.eval()"
   ],
   "id": "c0f828b8799d81f4",
   "outputs": [
    {
     "data": {
      "text/plain": [
       "RecursiveScriptModule(\n",
       "  original_name=TabNet\n",
       "  (initial_bn): RecursiveScriptModule(original_name=BatchNorm1d)\n",
       "  (initial_splitter): RecursiveScriptModule(\n",
       "    original_name=FeatureTransformer\n",
       "    (shared): RecursiveScriptModule(\n",
       "      original_name=ModuleList\n",
       "      (0): RecursiveScriptModule(\n",
       "        original_name=Sequential\n",
       "        (0): RecursiveScriptModule(original_name=Linear)\n",
       "        (1): RecursiveScriptModule(original_name=BatchNorm1d)\n",
       "        (2): RecursiveScriptModule(original_name=GLU)\n",
       "        (3): RecursiveScriptModule(original_name=Dropout)\n",
       "      )\n",
       "      (1): RecursiveScriptModule(\n",
       "        original_name=Sequential\n",
       "        (0): RecursiveScriptModule(original_name=Linear)\n",
       "        (1): RecursiveScriptModule(original_name=BatchNorm1d)\n",
       "        (2): RecursiveScriptModule(original_name=GLU)\n",
       "        (3): RecursiveScriptModule(original_name=Dropout)\n",
       "      )\n",
       "    )\n",
       "    (independent): RecursiveScriptModule(\n",
       "      original_name=ModuleList\n",
       "      (0): RecursiveScriptModule(\n",
       "        original_name=Sequential\n",
       "        (0): RecursiveScriptModule(original_name=Linear)\n",
       "        (1): RecursiveScriptModule(original_name=BatchNorm1d)\n",
       "        (2): RecursiveScriptModule(original_name=GLU)\n",
       "        (3): RecursiveScriptModule(original_name=Dropout)\n",
       "      )\n",
       "      (1): RecursiveScriptModule(\n",
       "        original_name=Sequential\n",
       "        (0): RecursiveScriptModule(original_name=Linear)\n",
       "        (1): RecursiveScriptModule(original_name=BatchNorm1d)\n",
       "        (2): RecursiveScriptModule(original_name=GLU)\n",
       "        (3): RecursiveScriptModule(original_name=Dropout)\n",
       "      )\n",
       "    )\n",
       "  )\n",
       "  (attentive_transformers): RecursiveScriptModule(\n",
       "    original_name=ModuleList\n",
       "    (0): RecursiveScriptModule(\n",
       "      original_name=AttentiveTransformer\n",
       "      (fc): RecursiveScriptModule(original_name=Linear)\n",
       "      (bn): RecursiveScriptModule(original_name=BatchNorm1d)\n",
       "    )\n",
       "    (1): RecursiveScriptModule(\n",
       "      original_name=AttentiveTransformer\n",
       "      (fc): RecursiveScriptModule(original_name=Linear)\n",
       "      (bn): RecursiveScriptModule(original_name=BatchNorm1d)\n",
       "    )\n",
       "    (2): RecursiveScriptModule(\n",
       "      original_name=AttentiveTransformer\n",
       "      (fc): RecursiveScriptModule(original_name=Linear)\n",
       "      (bn): RecursiveScriptModule(original_name=BatchNorm1d)\n",
       "    )\n",
       "  )\n",
       "  (feature_transformers): RecursiveScriptModule(\n",
       "    original_name=ModuleList\n",
       "    (0): RecursiveScriptModule(\n",
       "      original_name=FeatureTransformer\n",
       "      (shared): RecursiveScriptModule(\n",
       "        original_name=ModuleList\n",
       "        (0): RecursiveScriptModule(\n",
       "          original_name=Sequential\n",
       "          (0): RecursiveScriptModule(original_name=Linear)\n",
       "          (1): RecursiveScriptModule(original_name=BatchNorm1d)\n",
       "          (2): RecursiveScriptModule(original_name=GLU)\n",
       "          (3): RecursiveScriptModule(original_name=Dropout)\n",
       "        )\n",
       "        (1): RecursiveScriptModule(\n",
       "          original_name=Sequential\n",
       "          (0): RecursiveScriptModule(original_name=Linear)\n",
       "          (1): RecursiveScriptModule(original_name=BatchNorm1d)\n",
       "          (2): RecursiveScriptModule(original_name=GLU)\n",
       "          (3): RecursiveScriptModule(original_name=Dropout)\n",
       "        )\n",
       "      )\n",
       "      (independent): RecursiveScriptModule(\n",
       "        original_name=ModuleList\n",
       "        (0): RecursiveScriptModule(\n",
       "          original_name=Sequential\n",
       "          (0): RecursiveScriptModule(original_name=Linear)\n",
       "          (1): RecursiveScriptModule(original_name=BatchNorm1d)\n",
       "          (2): RecursiveScriptModule(original_name=GLU)\n",
       "          (3): RecursiveScriptModule(original_name=Dropout)\n",
       "        )\n",
       "        (1): RecursiveScriptModule(\n",
       "          original_name=Sequential\n",
       "          (0): RecursiveScriptModule(original_name=Linear)\n",
       "          (1): RecursiveScriptModule(original_name=BatchNorm1d)\n",
       "          (2): RecursiveScriptModule(original_name=GLU)\n",
       "          (3): RecursiveScriptModule(original_name=Dropout)\n",
       "        )\n",
       "      )\n",
       "    )\n",
       "    (1): RecursiveScriptModule(\n",
       "      original_name=FeatureTransformer\n",
       "      (shared): RecursiveScriptModule(\n",
       "        original_name=ModuleList\n",
       "        (0): RecursiveScriptModule(\n",
       "          original_name=Sequential\n",
       "          (0): RecursiveScriptModule(original_name=Linear)\n",
       "          (1): RecursiveScriptModule(original_name=BatchNorm1d)\n",
       "          (2): RecursiveScriptModule(original_name=GLU)\n",
       "          (3): RecursiveScriptModule(original_name=Dropout)\n",
       "        )\n",
       "        (1): RecursiveScriptModule(\n",
       "          original_name=Sequential\n",
       "          (0): RecursiveScriptModule(original_name=Linear)\n",
       "          (1): RecursiveScriptModule(original_name=BatchNorm1d)\n",
       "          (2): RecursiveScriptModule(original_name=GLU)\n",
       "          (3): RecursiveScriptModule(original_name=Dropout)\n",
       "        )\n",
       "      )\n",
       "      (independent): RecursiveScriptModule(\n",
       "        original_name=ModuleList\n",
       "        (0): RecursiveScriptModule(\n",
       "          original_name=Sequential\n",
       "          (0): RecursiveScriptModule(original_name=Linear)\n",
       "          (1): RecursiveScriptModule(original_name=BatchNorm1d)\n",
       "          (2): RecursiveScriptModule(original_name=GLU)\n",
       "          (3): RecursiveScriptModule(original_name=Dropout)\n",
       "        )\n",
       "        (1): RecursiveScriptModule(\n",
       "          original_name=Sequential\n",
       "          (0): RecursiveScriptModule(original_name=Linear)\n",
       "          (1): RecursiveScriptModule(original_name=BatchNorm1d)\n",
       "          (2): RecursiveScriptModule(original_name=GLU)\n",
       "          (3): RecursiveScriptModule(original_name=Dropout)\n",
       "        )\n",
       "      )\n",
       "    )\n",
       "    (2): RecursiveScriptModule(\n",
       "      original_name=FeatureTransformer\n",
       "      (shared): RecursiveScriptModule(\n",
       "        original_name=ModuleList\n",
       "        (0): RecursiveScriptModule(\n",
       "          original_name=Sequential\n",
       "          (0): RecursiveScriptModule(original_name=Linear)\n",
       "          (1): RecursiveScriptModule(original_name=BatchNorm1d)\n",
       "          (2): RecursiveScriptModule(original_name=GLU)\n",
       "          (3): RecursiveScriptModule(original_name=Dropout)\n",
       "        )\n",
       "        (1): RecursiveScriptModule(\n",
       "          original_name=Sequential\n",
       "          (0): RecursiveScriptModule(original_name=Linear)\n",
       "          (1): RecursiveScriptModule(original_name=BatchNorm1d)\n",
       "          (2): RecursiveScriptModule(original_name=GLU)\n",
       "          (3): RecursiveScriptModule(original_name=Dropout)\n",
       "        )\n",
       "      )\n",
       "      (independent): RecursiveScriptModule(\n",
       "        original_name=ModuleList\n",
       "        (0): RecursiveScriptModule(\n",
       "          original_name=Sequential\n",
       "          (0): RecursiveScriptModule(original_name=Linear)\n",
       "          (1): RecursiveScriptModule(original_name=BatchNorm1d)\n",
       "          (2): RecursiveScriptModule(original_name=GLU)\n",
       "          (3): RecursiveScriptModule(original_name=Dropout)\n",
       "        )\n",
       "        (1): RecursiveScriptModule(\n",
       "          original_name=Sequential\n",
       "          (0): RecursiveScriptModule(original_name=Linear)\n",
       "          (1): RecursiveScriptModule(original_name=BatchNorm1d)\n",
       "          (2): RecursiveScriptModule(original_name=GLU)\n",
       "          (3): RecursiveScriptModule(original_name=Dropout)\n",
       "        )\n",
       "      )\n",
       "    )\n",
       "  )\n",
       "  (final_linear): RecursiveScriptModule(original_name=Linear)\n",
       ")"
      ]
     },
     "execution_count": 4,
     "metadata": {},
     "output_type": "execute_result"
    }
   ],
   "execution_count": 4
  },
  {
   "metadata": {
    "ExecuteTime": {
     "end_time": "2025-06-17T21:14:08.808821Z",
     "start_time": "2025-06-17T21:14:08.805646Z"
    }
   },
   "cell_type": "code",
   "source": [
    "flow_features_buffer = []\n",
    "last_prediction_time = time.time()\n",
    "PREDICTION_INTERVAL = 5"
   ],
   "id": "e28179b6e2a56247",
   "outputs": [],
   "execution_count": 5
  },
  {
   "metadata": {
    "ExecuteTime": {
     "end_time": "2025-06-17T21:14:08.834622Z",
     "start_time": "2025-06-17T21:14:08.830613Z"
    }
   },
   "cell_type": "code",
   "source": [
    "def prepare_input_for_model(features_list, expected_features):\n",
    "    if not features_list:\n",
    "        return None\n",
    "    print(f\"Длина features_list: {len(features_list)}\")\n",
    "\n",
    "    df = pd.DataFrame(features_list)\n",
    "    print(f\"Созданный DataFrame: {df.shape}\")\n",
    "    for feat in expected_features:\n",
    "        if feat not in df.columns:\n",
    "            df[feat] = 0\n",
    "    df = df[expected_features]\n",
    "    print(f\"DataFrame после заполнения: {df.shape}\")\n",
    "    return torch.FloatTensor(df.values).to(device)"
   ],
   "id": "85bad208a09963ca",
   "outputs": [],
   "execution_count": 6
  },
  {
   "metadata": {
    "ExecuteTime": {
     "end_time": "2025-06-17T21:14:08.855942Z",
     "start_time": "2025-06-17T21:14:08.850404Z"
    }
   },
   "cell_type": "code",
   "source": [
    "def predict_traffic_type():\n",
    "    global last_prediction_time, flow_features_buffer\n",
    "    # Подготовка признаков\n",
    "    input_tensor = prepare_input_for_model(flow_features_buffer, FEATURES)\n",
    "    if input_tensor is None:\n",
    "        print(\"Ошибка подготовки входного тензора\")\n",
    "        return\n",
    "\n",
    "    # Предсказание с бинарной моделью\n",
    "    with torch.no_grad():\n",
    "        binary_output, _, _ = binary_model(input_tensor)\n",
    "        binary_probs = torch.softmax(binary_output, dim=1)  # Вероятности для бинарной классификации\n",
    "        binary_preds = binary_output.argmax(dim=1).cpu().numpy()  # Предсказания для всех строк\n",
    "\n",
    "    # Проверка на наличие атак (индекс 0)\n",
    "    if 0 in binary_preds:\n",
    "        print(f\"[{time.strftime('%H:%M:%S')}] Обнаружена атака! Программа остановлена.\")\n",
    "        return\n",
    "\n",
    "    # Если все предсказания нормальные (индекс 1), продолжаем с многоклассовой моделью\n",
    "    with torch.no_grad():\n",
    "        multy_output, _, _ = multy_model(input_tensor)\n",
    "        multy_probs = torch.softmax(multy_output, dim=1)  # Вероятности для каждого класса\n",
    "        multy_preds = multy_output.argmax(dim=1).cpu().numpy()  # Предсказания для всех строк\n",
    "        max_probs = multy_probs.max(dim=1)[0].cpu().numpy()  # Максимальные вероятности для каждой строки\n",
    "\n",
    "    # Определение доминирующего класса\n",
    "    dominant_class = Counter(multy_preds).most_common(1)[0][0]\n",
    "    avg_max_prob = np.mean(max_probs)  # Средняя максимальная вероятность\n",
    "\n",
    "    # Если средняя вероятность < 0.5, метка \"unknown\"\n",
    "    if avg_max_prob < 0.5:\n",
    "        dominant_label = \"unknown\"\n",
    "    else:\n",
    "        dominant_label = CATEGORIES[dominant_class]\n",
    "\n",
    "    print(f\"[{time.strftime('%H:%M:%S')}] Тип трафика: {dominant_label} (средняя вероятность: {avg_max_prob:.4f})\")\n",
    "\n",
    "    # Очистка буфера\n",
    "    flow_features_buffer = []\n",
    "    last_prediction_time = time.time()"
   ],
   "id": "fcb6d5ed7f696c5b",
   "outputs": [],
   "execution_count": 7
  },
  {
   "metadata": {
    "ExecuteTime": {
     "end_time": "2025-06-17T21:14:08.873973Z",
     "start_time": "2025-06-17T21:14:08.870956Z"
    }
   },
   "cell_type": "code",
   "source": [
    "def schedule_prediction():\n",
    "    global last_prediction_time, flow_features_buffer\n",
    "    current_time = time.time()\n",
    "    elapsed_time = current_time - last_prediction_time\n",
    "\n",
    "    if elapsed_time >= PREDICTION_INTERVAL:\n",
    "        predict_traffic_type()\n",
    "        last_prediction_time = current_time\n",
    "\n",
    "    # Запланировать следующую проверку\n",
    "    threading.Timer(1.0, schedule_prediction).start()"
   ],
   "id": "5a59fb0a2629a48d",
   "outputs": [],
   "execution_count": 8
  },
  {
   "metadata": {
    "ExecuteTime": {
     "end_time": "2025-06-17T21:14:08.889642Z",
     "start_time": "2025-06-17T21:14:08.885539Z"
    }
   },
   "cell_type": "code",
   "source": [
    "def packet_handler(pkt):\n",
    "    \"\"\"\n",
    "    Обработчик пакетов для scapy.\n",
    "    \"\"\"\n",
    "    features = update_flow_state(pkt)\n",
    "    if features:\n",
    "        # Сохраняем признаки в буфер для периодического предсказания\n",
    "        flow_features_buffer.append(features)"
   ],
   "id": "da844f85da2bc3d7",
   "outputs": [],
   "execution_count": 9
  },
  {
   "metadata": {
    "ExecuteTime": {
     "end_time": "2025-06-17T21:14:27.499450Z",
     "start_time": "2025-06-17T21:14:09.146953Z"
    }
   },
   "cell_type": "code",
   "source": [
    "threading.Timer(1.0, schedule_prediction).start()\n",
    "# Запуск перехвата пакетов\n",
    "sniff(prn=packet_handler, store=0)"
   ],
   "id": "79625c84ea19303f",
   "outputs": [
    {
     "name": "stdout",
     "output_type": "stream",
     "text": [
      "Длина features_list: 94\n",
      "Созданный DataFrame: (94, 78)\n",
      "DataFrame после заполнения: (94, 77)\n",
      "[00:14:14] Обнаружена атака! Программа остановлена.\n",
      "Длина features_list: 279\n",
      "Созданный DataFrame: (279, 78)\n",
      "DataFrame после заполнения: (279, 77)\n",
      "[00:14:19] Обнаружена атака! Программа остановлена.\n",
      "Длина features_list: 674\n",
      "Созданный DataFrame: (674, 78)\n",
      "DataFrame после заполнения: (674, 77)\n"
     ]
    },
    {
     "name": "stderr",
     "output_type": "stream",
     "text": [
      "Exception in thread Thread-17:\n",
      "Traceback (most recent call last):\n",
      "  File \"C:\\Program Files\\WindowsApps\\PythonSoftwareFoundation.Python.3.12_3.12.2800.0_x64__qbz5n2kfra8p0\\Lib\\threading.py\", line 1075, in _bootstrap_inner\n",
      "    self.run()\n",
      "  File \"C:\\Program Files\\WindowsApps\\PythonSoftwareFoundation.Python.3.12_3.12.2800.0_x64__qbz5n2kfra8p0\\Lib\\threading.py\", line 1433, in run\n",
      "    self.function(*self.args, **self.kwargs)\n",
      "  File \"C:\\Users\\owtf0\\AppData\\Local\\Temp\\ipykernel_16076\\3313170923.py\", line 7, in schedule_prediction\n",
      "  File \"C:\\Users\\owtf0\\AppData\\Local\\Temp\\ipykernel_16076\\3997884772.py\", line 11, in predict_traffic_type\n",
      "  File \"E:\\JetBrains Projects\\PycharmProjects\\network-classificator\\.venv\\Lib\\site-packages\\torch\\nn\\modules\\module.py\", line 1739, in _wrapped_call_impl\n",
      "    return self._call_impl(*args, **kwargs)\n",
      "           ^^^^^^^^^^^^^^^^^^^^^^^^^^^^^^^^\n",
      "  File \"E:\\JetBrains Projects\\PycharmProjects\\network-classificator\\.venv\\Lib\\site-packages\\torch\\nn\\modules\\module.py\", line 1750, in _call_impl\n",
      "    return forward_call(*args, **kwargs)\n",
      "           ^^^^^^^^^^^^^^^^^^^^^^^^^^^^^\n",
      "RuntimeError: The following operation failed in the TorchScript interpreter.\n",
      "Traceback of TorchScript, serialized code (most recent call last):\n",
      "  File \"code/__torch__/___torch_mangle_360.py\", line 47, in forward\n",
      "    _14 = torch.slice(_11, 0, 0, 9223372036854775807)\n",
      "    input1 = torch.slice(_14, 1, 24, 9223372036854775807)\n",
      "    _15 = (_10).forward(input1, prior1, )\n",
      "           ~~~~~~~~~~~~ <--- HERE\n",
      "    _16 = torch.neg(_15)\n",
      "    _17 = torch.log(torch.add(_15, CONSTANTS.c0))\n",
      "  File \"code/__torch__/___torch_mangle_284.py\", line 18, in forward\n",
      "    cumsum = torch.cumsum(torch.softmax(input0, 1), 1)\n",
      "    rho = torch.sum(torch.le(cumsum, 1), [1], True)\n",
      "    _2 = torch.gather(cumsum, 1, torch.sub(rho, CONSTANTS.c3))\n",
      "         ~~~~~~~~~~~~ <--- HERE\n",
      "    tau = torch.div(torch.sub(_2, CONSTANTS.c3), rho)\n",
      "    input1 = torch.sub(x, tau)\n",
      "\n",
      "Traceback of TorchScript, original code (most recent call last):\n",
      "C:\\Users\\owtf0\\AppData\\Local\\Temp\\ipykernel_20172\\1814787255.py(5): sparsemax\n",
      "C:\\Users\\owtf0\\AppData\\Local\\Temp\\ipykernel_20172\\2436121865.py(11): forward\n",
      "E:\\JetBrains Projects\\PycharmProjects\\network-classificator\\.venv\\Lib\\site-packages\\torch\\nn\\modules\\module.py(1729): _slow_forward\n",
      "E:\\JetBrains Projects\\PycharmProjects\\network-classificator\\.venv\\Lib\\site-packages\\torch\\nn\\modules\\module.py(1750): _call_impl\n",
      "E:\\JetBrains Projects\\PycharmProjects\\network-classificator\\.venv\\Lib\\site-packages\\torch\\nn\\modules\\module.py(1739): _wrapped_call_impl\n",
      "C:\\Users\\owtf0\\AppData\\Local\\Temp\\ipykernel_20172\\2122793237.py(36): forward\n",
      "E:\\JetBrains Projects\\PycharmProjects\\network-classificator\\.venv\\Lib\\site-packages\\torch\\nn\\modules\\module.py(1729): _slow_forward\n",
      "E:\\JetBrains Projects\\PycharmProjects\\network-classificator\\.venv\\Lib\\site-packages\\torch\\nn\\modules\\module.py(1750): _call_impl\n",
      "E:\\JetBrains Projects\\PycharmProjects\\network-classificator\\.venv\\Lib\\site-packages\\torch\\nn\\modules\\module.py(1739): _wrapped_call_impl\n",
      "E:\\JetBrains Projects\\PycharmProjects\\network-classificator\\.venv\\Lib\\site-packages\\torch\\jit\\_trace.py(1276): trace_module\n",
      "E:\\JetBrains Projects\\PycharmProjects\\network-classificator\\.venv\\Lib\\site-packages\\torch\\jit\\_trace.py(696): _trace_impl\n",
      "E:\\JetBrains Projects\\PycharmProjects\\network-classificator\\.venv\\Lib\\site-packages\\torch\\jit\\_trace.py(1000): trace\n",
      "C:\\Users\\owtf0\\AppData\\Local\\Temp\\ipykernel_20172\\4210872146.py(4): <module>\n",
      "E:\\JetBrains Projects\\PycharmProjects\\network-classificator\\.venv\\Lib\\site-packages\\IPython\\core\\interactiveshell.py(3667): run_code\n",
      "E:\\JetBrains Projects\\PycharmProjects\\network-classificator\\.venv\\Lib\\site-packages\\IPython\\core\\interactiveshell.py(3607): run_ast_nodes\n",
      "E:\\JetBrains Projects\\PycharmProjects\\network-classificator\\.venv\\Lib\\site-packages\\IPython\\core\\interactiveshell.py(3362): run_cell_async\n",
      "E:\\JetBrains Projects\\PycharmProjects\\network-classificator\\.venv\\Lib\\site-packages\\IPython\\core\\async_helpers.py(128): _pseudo_sync_runner\n",
      "E:\\JetBrains Projects\\PycharmProjects\\network-classificator\\.venv\\Lib\\site-packages\\IPython\\core\\interactiveshell.py(3153): _run_cell\n",
      "E:\\JetBrains Projects\\PycharmProjects\\network-classificator\\.venv\\Lib\\site-packages\\IPython\\core\\interactiveshell.py(3098): run_cell\n",
      "E:\\JetBrains Projects\\PycharmProjects\\network-classificator\\.venv\\Lib\\site-packages\\ipykernel\\zmqshell.py(549): run_cell\n",
      "E:\\JetBrains Projects\\PycharmProjects\\network-classificator\\.venv\\Lib\\site-packages\\ipykernel\\ipkernel.py(449): do_execute\n",
      "E:\\JetBrains Projects\\PycharmProjects\\network-classificator\\.venv\\Lib\\site-packages\\ipykernel\\kernelbase.py(778): execute_request\n",
      "E:\\JetBrains Projects\\PycharmProjects\\network-classificator\\.venv\\Lib\\site-packages\\ipykernel\\ipkernel.py(362): execute_request\n",
      "E:\\JetBrains Projects\\PycharmProjects\\network-classificator\\.venv\\Lib\\site-packages\\ipykernel\\kernelbase.py(437): dispatch_shell\n",
      "E:\\JetBrains Projects\\PycharmProjects\\network-classificator\\.venv\\Lib\\site-packages\\ipykernel\\kernelbase.py(534): process_one\n",
      "E:\\JetBrains Projects\\PycharmProjects\\network-classificator\\.venv\\Lib\\site-packages\\ipykernel\\kernelbase.py(545): dispatch_queue\n",
      "C:\\Program Files\\WindowsApps\\PythonSoftwareFoundation.Python.3.12_3.12.2800.0_x64__qbz5n2kfra8p0\\Lib\\asyncio\\events.py(88): _run\n",
      "C:\\Program Files\\WindowsApps\\PythonSoftwareFoundation.Python.3.12_3.12.2800.0_x64__qbz5n2kfra8p0\\Lib\\asyncio\\base_events.py(1999): _run_once\n",
      "C:\\Program Files\\WindowsApps\\PythonSoftwareFoundation.Python.3.12_3.12.2800.0_x64__qbz5n2kfra8p0\\Lib\\asyncio\\base_events.py(645): run_forever\n",
      "E:\\JetBrains Projects\\PycharmProjects\\network-classificator\\.venv\\Lib\\site-packages\\tornado\\platform\\asyncio.py(205): start\n",
      "E:\\JetBrains Projects\\PycharmProjects\\network-classificator\\.venv\\Lib\\site-packages\\ipykernel\\kernelapp.py(739): start\n",
      "E:\\JetBrains Projects\\PycharmProjects\\network-classificator\\.venv\\Lib\\site-packages\\traitlets\\config\\application.py(1075): launch_instance\n",
      "E:\\JetBrains Projects\\PycharmProjects\\network-classificator\\.venv\\Lib\\site-packages\\ipykernel_launcher.py(18): <module>\n",
      "<frozen runpy>(88): _run_code\n",
      "<frozen runpy>(198): _run_module_as_main\n",
      "RuntimeError: index -1 is out of bounds for dimension 1 with size 77\n",
      "\n"
     ]
    },
    {
     "data": {
      "text/plain": [
       "<Sniffed: TCP:0 UDP:0 ICMP:0 Other:0>"
      ]
     },
     "execution_count": 10,
     "metadata": {},
     "output_type": "execute_result"
    }
   ],
   "execution_count": 10
  },
  {
   "metadata": {},
   "cell_type": "code",
   "outputs": [],
   "execution_count": null,
   "source": "",
   "id": "ba44f75adfe12e9c"
  }
 ],
 "metadata": {
  "kernelspec": {
   "display_name": "Python 3",
   "language": "python",
   "name": "python3"
  },
  "language_info": {
   "codemirror_mode": {
    "name": "ipython",
    "version": 2
   },
   "file_extension": ".py",
   "mimetype": "text/x-python",
   "name": "python",
   "nbconvert_exporter": "python",
   "pygments_lexer": "ipython2",
   "version": "2.7.6"
  }
 },
 "nbformat": 4,
 "nbformat_minor": 5
}
